{
 "cells": [
  {
   "cell_type": "code",
   "execution_count": 7,
   "metadata": {},
   "outputs": [
    {
     "name": "stderr",
     "output_type": "stream",
     "text": [
      "\n",
      "\n",
      "====== WebDriver manager ======\n",
      "Current google-chrome version is 94.0.4606\n",
      "Get LATEST driver version for 94.0.4606\n",
      "Driver [C:\\Users\\scadacat\\.wdm\\drivers\\chromedriver\\win32\\94.0.4606.61\\chromedriver.exe] found in cache\n"
     ]
    }
   ],
   "source": [
    "# %%\n",
    "from selenium import webdriver\n",
    "from selenium.webdriver import ActionChains\n",
    "from selenium.webdriver.chrome.options import Options\n",
    "import time\n",
    "import pyautogui\n",
    "from selenium.webdriver.common.keys import Keys\n",
    "import datetime as dt\n",
    "import shutil\n",
    "from webdriver_manager.chrome import ChromeDriverManager\n",
    "from selenium.webdriver.common.by import By\n",
    "from selenium.webdriver.chrome.options import Options\n",
    "from selenium.webdriver.support.ui import WebDriverWait\n",
    "from selenium.webdriver.support import expected_conditions as EC\n",
    "from selenium.webdriver.ie.options import Options\n",
    "from selenium import webdriver\n",
    "import smtplib\n",
    "import os.path\n",
    "\n",
    "# %%\n",
    "now=dt.datetime.now().strftime('%Y%m%d')\n",
    "now2=dt.datetime.now().strftime('%Y-%m-%d')\n",
    "today = dt.date.today()\n",
    "hoy=now\n",
    "\n",
    "def condition():\n",
    "    if today.strftime(\"%A\")=='Monday':\n",
    "        return (today - dt.timedelta(days=2)).strftime('%Y-%m-%d')\n",
    "    else:\n",
    "        return (today - dt.timedelta(days=1)).strftime('%Y-%m-%d')\n",
    "yesterday=condition()\n",
    "#-------------Preparar correo-----------------------#\n",
    "sender = \"No Reply <scadacat@emtelco.com.co>\"\n",
    "\n",
    "receivers = ['scadacat@emtelco.com.co']\n",
    "\n",
    "message1 = \"\"\"From: No Reply <scadacat@emtelco.com.co>\n",
    "To: Person <scadacat@emtelco.com.co>\n",
    "Subject: Error Insert Tigo movil\n",
    "\n",
    "No se logra procesar la informacion reportes TIGO del dia %s.\n",
    "\n",
    "\"\"\"% (hoy)\n",
    "\n",
    "sender = \"No Reply <scadacat@emtelco.com.co>\"\n",
    "\n",
    "receivers = ['scadacat@emtelco.com.co']\n",
    "\n",
    "message2 = \"\"\"From: No Reply <scadacat@emtelco.com.co>\n",
    "To: Person <scadacat@emtelco.com.co>\n",
    "Subject:  Correct Insert Tigo movil\n",
    "\n",
    "Se logra procesar la informacion reportes TIGO del dia %s.\n",
    "\n",
    "\n",
    "\"\"\"% (hoy)\n",
    "\n",
    "chrome_options = webdriver.ChromeOptions()\n",
    "chrome_options.add_experimental_option(\"prefs\", {\n",
    "    \"download.default_directory\": r\"\\\\10.1.1.7\\01 Oficina Planeación y Control\\01 Analytics\\Stiven\\Movil\\Cobranzas_movil_(Despliegue)\\Download_folder_Adminfo\",\n",
    "    \"download.prompt_for_download\": False,\n",
    "    \"download.directory_upgrade\": True,\n",
    "    \"safebrowsing.enabled\": True\n",
    "    })\n",
    "\n",
    "driver = webdriver.Chrome(ChromeDriverManager().install(),options=chrome_options)\n",
    "# driver.set_page_load_timeout(600)\n",
    "time.sleep(2)\n",
    "driver.get(\"https://tigo.adminfo.net/vsmart/index.php?rtr=mantenimiento&ctr=autenticacion&acc=\")\n",
    "driver.maximize_window()"
   ]
  },
  {
   "cell_type": "code",
   "execution_count": 8,
   "metadata": {},
   "outputs": [
    {
     "data": {
      "text/plain": [
       "<selenium.webdriver.remote.webelement.WebElement (session=\"feb04dd405908ee8f8eb4fe3f2be24e8\", element=\"4966e24a-8892-447a-893f-110897cf9e44\")>"
      ]
     },
     "execution_count": 8,
     "metadata": {},
     "output_type": "execute_result"
    }
   ],
   "source": [
    "# driver = webdriver.Chrome(ChromeDriverManager().install(),options=chrome_options)\n",
    "# # driver.set_page_load_timeout(600)\n",
    "# time.sleep(2)\n",
    "# driver.get(\"https://tigo.adminfo.net/vsmart/index.php?rtr=mantenimiento&ctr=autenticacion&acc=\")\n",
    "# driver.maximize_window()\n",
    "# chrome_options = webdriver.ChromeOptions()\n",
    "# chrome_options.add_experimental_option(\"prefs\", {\n",
    "#     \"download.default_directory\": r\"\\\\10.1.1.7\\01 Oficina Planeación y Control\\01 Analytics\\Stiven\\Movil\\Cobranzas_movil_(Despliegue)\\Download_folder_Adminfo\",\n",
    "#     \"download.prompt_for_download\": False,\n",
    "#     \"download.directory_upgrade\": True,\n",
    "#     \"safebrowsing.enabled\": True\n",
    "#     })\n",
    "WebDriverWait(driver, 20).until(EC.element_to_be_clickable((By.ID,'usuario'))).send_keys(\"am3377767\")\n",
    "WebDriverWait(driver, 20).until(EC.element_to_be_clickable((By.ID,'clave'))).send_keys(\"1979*Faro\")\n",
    "time.sleep(3)\n",
    "driver.find_element_by_css_selector('#login-content > div.entrar > button').click()\n",
    "WebDriverWait(driver, 20).until(EC.element_to_be_clickable((By.XPATH,'//span[text()=\"Gestión\"]'))).click()\n",
    "WebDriverWait(driver, 20).until(EC.element_to_be_clickable((By.XPATH,'//a[text()=\"Administrador Adminfo\"]'))).click()\n",
    "WebDriverWait(driver, 20).until(EC.element_to_be_clickable((By.XPATH,'//*[@id=\"navigation\"]/li[2]/a/span/p/span'))).click()\n",
    "WebDriverWait(driver, 20).until(EC.element_to_be_clickable((By.XPATH,'//a[text()=\"Resumen Seguimiento\"]'))).click()\n",
    "WebDriverWait(driver, 20).until(EC.element_to_be_clickable((By.XPATH,'//*[@id=\"s2id_agrupador\"]'))).click()\n",
    "WebDriverWait(driver, 20).until(EC.element_to_be_clickable((By.XPATH,'//*[@id=\"select2-drop\"]/div/input'))).send_keys(\"Detalle en pantalla\")\n",
    "WebDriverWait(driver, 20).until(EC.element_to_be_clickable((By.XPATH,'//*[@id=\"select2-drop\"]/ul/li/div/span'))).click()\n",
    "WebDriverWait(driver, 20).until(EC.element_to_be_clickable((By.XPATH,'//*[@id=\"s2id_col\"]/a/span[1]'))).click()\n",
    "WebDriverWait(driver, 20).until(EC.element_to_be_clickable((By.XPATH,'//*[@id=\"select2-drop\"]/div/input'))).send_keys(\"Responsable De Cobro\")\n",
    "WebDriverWait(driver, 20).until(EC.element_to_be_clickable((By.XPATH,'//*[@id=\"select2-drop\"]/ul/li/div/span'))).click()\n",
    "WebDriverWait(driver, 20).until(EC.element_to_be_clickable((By.XPATH,'//*[@id=\"valor\"]'))).send_keys(\"emtelco\")\n",
    "# WebDriverWait(driver, 20).until(EC.element_to_be_clickable((By.XPATH,'//*[@id=\"select2-drop\"]/ul/li/div/span'))).click()\n",
    "# WebDriverWait(driver, 20).until(EC.element_to_be_clickable((By.XPATH,'//*[@id=\"valor\"]'))).click()\n",
    "WebDriverWait(driver, 20).until(EC.element_to_be_clickable((By.XPATH,'//*[@id=\"btnAgregarCriterio\"]/span'))).click()\n",
    "WebDriverWait(driver, 20).until(EC.element_to_be_clickable((By.XPATH,'//*[@id=\"s2id_col\"]/a/span[1]'))).click()\n",
    "WebDriverWait(driver, 20).until(EC.element_to_be_clickable((By.XPATH,'//*[@id=\"select2-drop\"]/div/input'))).send_keys(\"Fecha Gestion\")\n",
    "WebDriverWait(driver, 20).until(EC.element_to_be_clickable((By.XPATH,'//*[@id=\"select2-drop\"]/ul/li/div/span'))).click()\n",
    "WebDriverWait(driver, 20).until(EC.element_to_be_clickable((By.XPATH,'//*[@id=\"s2id_ope\"]/a/span[1]'))).click()\n",
    "WebDriverWait(driver, 20).until(EC.element_to_be_clickable((By.XPATH,'//*[@id=\"select2-drop\"]/div/input'))).send_keys(\"Mayor o Igual Que\")\n",
    "WebDriverWait(driver, 20).until(EC.element_to_be_clickable((By.XPATH,'//*[@id=\"select2-drop\"]/ul/li/div'))).click()\n",
    "WebDriverWait(driver, 20).until(EC.element_to_be_clickable((By.XPATH,'//*[@id=\"valor\"]'))).send_keys(yesterday)\n",
    "WebDriverWait(driver, 20).until(EC.element_to_be_clickable((By.XPATH,'//*[@id=\"btnAgregarCriterio\"]/span'))).click()\n",
    "WebDriverWait(driver, 20).until(EC.element_to_be_clickable((By.XPATH,'//*[@id=\"s2id_col\"]/a/span[1]'))).click()\n",
    "WebDriverWait(driver, 20).until(EC.element_to_be_clickable((By.XPATH,'//*[@id=\"select2-drop\"]/div/input'))).send_keys(\"Clase De Gestión\")\n",
    "WebDriverWait(driver, 20).until(EC.element_to_be_clickable((By.XPATH,'//*[@id=\"select2-drop\"]/div/input'))).send_keys(Keys.ENTER)\n",
    "WebDriverWait(driver, 20).until(EC.element_to_be_clickable((By.XPATH,'//*[@id=\"s2id_ope\"]/a/span[1]'))).click()\n",
    "WebDriverWait(driver, 20).until(EC.element_to_be_clickable((By.XPATH,'//*[@id=\"select2-drop\"]/div/input'))).send_keys(\"Igual Que\")\n",
    "WebDriverWait(driver, 20).until(EC.element_to_be_clickable((By.XPATH,'//*[@id=\"select2-drop\"]/div/input'))).click()\n",
    "WebDriverWait(driver, 20).until(EC.element_to_be_clickable((By.XPATH,'//*[@id=\"select2-drop\"]/ul/li/div'))).click()\n",
    "WebDriverWait(driver, 20).until(EC.element_to_be_clickable((By.XPATH,'//*[@id=\"valor\"]'))).send_keys(\"TEL\")\n",
    "WebDriverWait(driver, 20).until(EC.element_to_be_clickable((By.XPATH,'//*[@id=\"btnAgregarCriterio\"]/span'))).click()\n",
    "WebDriverWait(driver, 20).until(EC.element_to_be_clickable((By.XPATH,'//*[@id=\"add_tab\"]'))).click()\n",
    "# WebDriverWait(driver, 20).until(EC.element_to_be_clickable((By.XPATH,'//*[@id=\"divVentanaModal\"]'))).click()\n",
    "time.sleep(3)\n",
    "try:\n",
    "    d=WebDriverWait(driver, 20).until(EC.element_to_be_clickable((By.XPATH,'//a[@title=\"Cargar Campos\"]')))\n",
    "    actions=ActionChains(driver)\n",
    "    actions.double_click(d).perform()\n",
    "except:\n",
    "    pyautogui.click(45, 445)\n",
    "WebDriverWait(driver, 20).until(EC.element_to_be_clickable((By.XPATH,'//*[@id=\"Pager_lista_detalle_pantalla_campos_center\"]/table/tbody/tr/td[4]/input'))).click()\n",
    "WebDriverWait(driver, 20).until(EC.element_to_be_clickable((By.XPATH,'//*[@id=\"Pager_lista_detalle_pantalla_campos_center\"]/table/tbody/tr/td[4]/input'))).send_keys(Keys.CONTROL, 'a')\n",
    "WebDriverWait(driver, 20).until(EC.element_to_be_clickable((By.XPATH,'//*[@id=\"Pager_lista_detalle_pantalla_campos_center\"]/table/tbody/tr/td[4]/input'))).send_keys('2')\n",
    "WebDriverWait(driver, 20).until(EC.element_to_be_clickable((By.XPATH,'//*[@id=\"Pager_lista_detalle_pantalla_campos_center\"]/table/tbody/tr/td[4]/input'))).click()\n",
    "WebDriverWait(driver, 20).until(EC.element_to_be_clickable((By.XPATH,'//*[@id=\"Pager_lista_detalle_pantalla_campos_center\"]/table/tbody/tr/td[4]/input'))).send_keys(Keys.ENTER)\n",
    "d=driver.find_element_by_xpath('//*[@id=\"6\"]/td[3]')\n",
    "actions=ActionChains(driver)\n",
    "actions.double_click(d).perform()\n",
    "WebDriverWait(driver, 20).until(EC.element_to_be_clickable((By.XPATH,'//a[text()=\"  Agregar Todos            \"]'))).click()\n",
    "WebDriverWait(driver, 20).until(EC.element_to_be_clickable((By.XPATH,'//a[text()=\"  Generar Informe            \"]'))).click()\n",
    "WebDriverWait(driver, 20).until(EC.element_to_be_clickable((By.XPATH,'//a[@title=\"Exportar informe a archivo plano\"]'))).click()\n",
    "WebDriverWait(driver, 20).until(EC.element_to_be_clickable((By.ID,'archivo'))).click()\n",
    "WebDriverWait(driver, 20).until(EC.element_to_be_clickable((By.XPATH,'//*[@id=\"archivo\"]'))).send_keys(Keys.CONTROL, 'a')\n",
    "WebDriverWait(driver, 20).until(EC.element_to_be_clickable((By.ID,'archivo'))).send_keys(Keys.BACKSPACE)\n",
    "WebDriverWait(driver, 20).until(EC.element_to_be_clickable((By.ID,'archivo'))).send_keys(yesterday +'_seg')\n",
    "WebDriverWait(driver, 20).until(EC.element_to_be_clickable((By.CSS_SELECTOR,'[value=\"Exportar\"]'))).click()"
   ]
  },
  {
   "cell_type": "code",
   "execution_count": 19,
   "metadata": {},
   "outputs": [
    {
     "data": {
      "text/plain": [
       "<selenium.webdriver.remote.webelement.WebElement (session=\"d4dd278d76112486b0bbfa067ebeec7c\", element=\"d8a33b95-8a9c-4ef7-ac6d-1b2a05ccff3b\")>"
      ]
     },
     "execution_count": 19,
     "metadata": {},
     "output_type": "execute_result"
    }
   ],
   "source": [
    "# WebDriverWait(driver, 20).until(EC.element_to_be_clickable((By.ID,'archivo'))).send_keys(yesterday +'_seg')\n",
    "WebDriverWait(driver, 20).until(EC.element_to_be_clickable((By.CSS_SELECTOR,'[value=\"Exportar\"]')))"
   ]
  },
  {
   "cell_type": "code",
   "execution_count": 6,
   "metadata": {},
   "outputs": [
    {
     "name": "stdout",
     "output_type": "stream",
     "text": [
      "local variable 'time' referenced before assignment\n",
      "Successfully sent email\n",
      "local variable 'time' referenced before assignment\n",
      "Successfully sent email\n"
     ]
    }
   ],
   "source": [
    "path_comp=r'\\\\10.1.1.7\\\\01 Oficina Planeación y Control\\\\01 Analytics\\Stiven\\Movil\\Cobranzas_movil_(Despliegue)\\Download_folder_Adminfo\\{}_seg.zip'.format(now)\n",
    "\n",
    "def compromisos(): \n",
    "\n",
    "    try:\n",
    "        \n",
    "        chrome_options = webdriver.ChromeOptions()\n",
    "        chrome_options.add_experimental_option(\"prefs\", {\n",
    "            \"download.default_directory\": r\"\\\\10.1.1.7\\01 Oficina Planeación y Control\\01 Analytics\\Stiven\\Movil\\Cobranzas_movil_(Despliegue)\\Download_folder_Adminfo\",\n",
    "            \"download.prompt_for_download\": False,\n",
    "            \"download.directory_upgrade\": True,\n",
    "            \"safebrowsing.enabled\": True\n",
    "            })\n",
    "        WebDriverWait(driver, 20).until(EC.element_to_be_clickable((By.ID,'usuario'))).send_keys(\"am3377767\")\n",
    "        WebDriverWait(driver, 20).until(EC.element_to_be_clickable((By.ID,'clave'))).send_keys(\"1979*Faro\")\n",
    "        time.sleep(3)\n",
    "        driver.find_element_by_css_selector('#login-content > div.entrar > button').click()\n",
    "        WebDriverWait(driver, 20).until(EC.element_to_be_clickable((By.XPATH,'//span[text()=\"Gestión\"]'))).click()\n",
    "        WebDriverWait(driver, 20).until(EC.element_to_be_clickable((By.XPATH,'//a[text()=\"Administrador Adminfo\"]'))).click()\n",
    "        WebDriverWait(driver, 20).until(EC.element_to_be_clickable((By.XPATH,'//*[@id=\"navigation\"]/li[2]/a/span/p/span'))).click()\n",
    "        WebDriverWait(driver, 20).until(EC.element_to_be_clickable((By.XPATH,'//a[text()=\"Resumen Seguimiento\"]'))).click()\n",
    "        WebDriverWait(driver, 20).until(EC.element_to_be_clickable((By.XPATH,'//*[@id=\"s2id_agrupador\"]'))).click()\n",
    "        WebDriverWait(driver, 20).until(EC.element_to_be_clickable((By.XPATH,'//*[@id=\"select2-drop\"]/div/input'))).send_keys(\"Detalle en pantalla\")\n",
    "        WebDriverWait(driver, 20).until(EC.element_to_be_clickable((By.XPATH,'//*[@id=\"select2-drop\"]/ul/li/div/span'))).click()\n",
    "        WebDriverWait(driver, 20).until(EC.element_to_be_clickable((By.XPATH,'//*[@id=\"s2id_col\"]/a/span[1]'))).click()\n",
    "        WebDriverWait(driver, 20).until(EC.element_to_be_clickable((By.XPATH,'//*[@id=\"select2-drop\"]/div/input'))).send_keys(\"Responsable De Cobro\")\n",
    "        WebDriverWait(driver, 20).until(EC.element_to_be_clickable((By.XPATH,'//*[@id=\"select2-drop\"]/ul/li/div/span'))).click()\n",
    "        WebDriverWait(driver, 20).until(EC.element_to_be_clickable((By.XPATH,'//*[@id=\"valor\"]'))).send_keys(\"emtelco\")\n",
    "        # WebDriverWait(driver, 20).until(EC.element_to_be_clickable((By.XPATH,'//*[@id=\"select2-drop\"]/ul/li/div/span'))).click()\n",
    "        # WebDriverWait(driver, 20).until(EC.element_to_be_clickable((By.XPATH,'//*[@id=\"valor\"]'))).click()\n",
    "        WebDriverWait(driver, 20).until(EC.element_to_be_clickable((By.XPATH,'//*[@id=\"btnAgregarCriterio\"]/span'))).click()\n",
    "        WebDriverWait(driver, 20).until(EC.element_to_be_clickable((By.XPATH,'//*[@id=\"s2id_col\"]/a/span[1]'))).click()\n",
    "        WebDriverWait(driver, 20).until(EC.element_to_be_clickable((By.XPATH,'//*[@id=\"select2-drop\"]/div/input'))).send_keys(\"Fecha Gestion\")\n",
    "        WebDriverWait(driver, 20).until(EC.element_to_be_clickable((By.XPATH,'//*[@id=\"select2-drop\"]/ul/li/div/span'))).click()\n",
    "        WebDriverWait(driver, 20).until(EC.element_to_be_clickable((By.XPATH,'//*[@id=\"s2id_ope\"]/a/span[1]'))).click()\n",
    "        WebDriverWait(driver, 20).until(EC.element_to_be_clickable((By.XPATH,'//*[@id=\"select2-drop\"]/div/input'))).send_keys(\"Mayor o Igual Que\")\n",
    "        WebDriverWait(driver, 20).until(EC.element_to_be_clickable((By.XPATH,'//*[@id=\"select2-drop\"]/ul/li/div'))).click()\n",
    "        WebDriverWait(driver, 20).until(EC.element_to_be_clickable((By.XPATH,'//*[@id=\"valor\"]'))).send_keys(yesterday)\n",
    "        WebDriverWait(driver, 20).until(EC.element_to_be_clickable((By.XPATH,'//*[@id=\"btnAgregarCriterio\"]/span'))).click()\n",
    "        WebDriverWait(driver, 20).until(EC.element_to_be_clickable((By.XPATH,'//*[@id=\"s2id_col\"]/a/span[1]'))).click()\n",
    "        WebDriverWait(driver, 20).until(EC.element_to_be_clickable((By.XPATH,'//*[@id=\"select2-drop\"]/div/input'))).send_keys(\"Clase De Gestión\")\n",
    "        WebDriverWait(driver, 20).until(EC.element_to_be_clickable((By.XPATH,'//*[@id=\"select2-drop\"]/div/input'))).send_keys(Keys.ENTER)\n",
    "        WebDriverWait(driver, 20).until(EC.element_to_be_clickable((By.XPATH,'//*[@id=\"s2id_ope\"]/a/span[1]'))).click()\n",
    "        WebDriverWait(driver, 20).until(EC.element_to_be_clickable((By.XPATH,'//*[@id=\"select2-drop\"]/div/input'))).send_keys(\"Igual Que\")\n",
    "        WebDriverWait(driver, 20).until(EC.element_to_be_clickable((By.XPATH,'//*[@id=\"select2-drop\"]/div/input'))).click()\n",
    "        WebDriverWait(driver, 20).until(EC.element_to_be_clickable((By.XPATH,'//*[@id=\"select2-drop\"]/ul/li/div'))).click()\n",
    "        WebDriverWait(driver, 20).until(EC.element_to_be_clickable((By.XPATH,'//*[@id=\"valor\"]'))).send_keys(\"TEL\")\n",
    "        WebDriverWait(driver, 20).until(EC.element_to_be_clickable((By.XPATH,'//*[@id=\"btnAgregarCriterio\"]/span'))).click()\n",
    "        WebDriverWait(driver, 20).until(EC.element_to_be_clickable((By.XPATH,'//*[@id=\"add_tab\"]'))).click()\n",
    "        WebDriverWait(driver, 20).until(EC.element_to_be_clickable((By.XPATH,'//*[@id=\"divVentanaModal\"]'))).click()\n",
    "        ###pytoagi\n",
    "        WebDriverWait(driver, 20).until(EC.element_to_be_clickable((By.XPATH,'//*[@id=\"Pager_lista_detalle_pantalla_campos_center\"]/table/tbody/tr/td[4]/input'))).click()\n",
    "        WebDriverWait(driver, 20).until(EC.element_to_be_clickable((By.XPATH,'//*[@id=\"Pager_lista_detalle_pantalla_campos_center\"]/table/tbody/tr/td[4]/input'))).send_keys(Keys.CONTROL, 'a')\n",
    "        WebDriverWait(driver, 20).until(EC.element_to_be_clickable((By.XPATH,'//*[@id=\"Pager_lista_detalle_pantalla_campos_center\"]/table/tbody/tr/td[4]/input'))).send_keys('2')\n",
    "        WebDriverWait(driver, 20).until(EC.element_to_be_clickable((By.XPATH,'//*[@id=\"Pager_lista_detalle_pantalla_campos_center\"]/table/tbody/tr/td[4]/input'))).click()\n",
    "        WebDriverWait(driver, 20).until(EC.element_to_be_clickable((By.XPATH,'//*[@id=\"Pager_lista_detalle_pantalla_campos_center\"]/table/tbody/tr/td[4]/input'))).send_keys(Keys.ENTER)\n",
    "        d=driver.find_element_by_xpath('//*[@id=\"6\"]/td[3]')\n",
    "        actions=ActionChains(driver)\n",
    "        actions.double_click(d).perform()\n",
    "        WebDriverWait(driver, 20).until(EC.element_to_be_clickable((By.XPATH,'//a[text()=\"  Agregar Todos            \"]'))).click()\n",
    "        WebDriverWait(driver, 20).until(EC.element_to_be_clickable((By.XPATH,'//a[text()=\"  Generar Informe            \"]'))).click()\n",
    "        WebDriverWait(driver, 20).until(EC.element_to_be_clickable((By.XPATH,'//a[@title=\"Exportar informe a archivo plano\"]'))).click()\n",
    "        WebDriverWait(driver, 20).until(EC.element_to_be_clickable((By.ID,'archivo'))).click()\n",
    "        WebDriverWait(driver, 20).until(EC.element_to_be_clickable((By.XPATH,'//*[@id=\"archivo\"]'))).send_keys(Keys.CONTROL, 'a')\n",
    "        WebDriverWait(driver, 20).until(EC.element_to_be_clickable((By.ID,'archivo'))).send_keys(Keys.BACKSPACE)\n",
    "        WebDriverWait(driver, 20).until(EC.element_to_be_clickable((By.CSS_SELECTOR,'[value=\"Exportar\"]'))).send_keys(yesterday +'_seg')\n",
    "        import os.path\n",
    "        import time\n",
    "        time.sleep(20)\n",
    "        while not os.path.exists(path_comp):\n",
    "            time.sleep(10)\n",
    "        if os.path.isfile(path_comp):\n",
    "            driver.quit()\n",
    "        else:\n",
    "            raise ValueError(\"%s isn't a file!\" % path_comp)\n",
    "        time.sleep(20)\n",
    "        driver.quit()\n",
    "        message = message2 + ' SEG!'\n",
    "        smtpObj = smtplib.SMTP('correo.emtelco.com.co')\n",
    "        smtpObj.sendmail(sender, receivers, message)\n",
    "        print('Se ha ejecutado la descarga')\n",
    "    except Exception as e:\n",
    "        print(e)\n",
    "        message = message1 + ' Compromisos '\n",
    "        smtpObj = smtplib.SMTP('correo.emtelco.com.co')\n",
    "        smtpObj.sendmail(sender, receivers, message)         \n",
    "        print(\"Successfully sent email\")\n",
    "\n",
    "compromisos()\n",
    "path_comp=r'\\\\10.1.1.7\\\\01 Oficina Planeación y Control\\\\01 Analytics\\Stiven\\Movil\\Cobranzas_movil_(Despliegue)\\Download_folder_Adminfo\\{}_seg.zip'.format(now)\n",
    "if os.path.isfile(path_comp):\n",
    "    print (\"Files exist\")\n",
    "else:\n",
    "    compromisos()"
   ]
  },
  {
   "cell_type": "code",
   "execution_count": 50,
   "metadata": {},
   "outputs": [
    {
     "ename": "KeyboardInterrupt",
     "evalue": "",
     "output_type": "error",
     "traceback": [
      "\u001b[1;31m---------------------------------------------------------------------------\u001b[0m",
      "\u001b[1;31mKeyboardInterrupt\u001b[0m                         Traceback (most recent call last)",
      "\u001b[1;32m~\\AppData\\Local\\Temp/ipykernel_4788/3172036445.py\u001b[0m in \u001b[0;36m<module>\u001b[1;34m\u001b[0m\n\u001b[0;32m      3\u001b[0m \u001b[0mtime\u001b[0m\u001b[1;33m.\u001b[0m\u001b[0msleep\u001b[0m\u001b[1;33m(\u001b[0m\u001b[1;36m3\u001b[0m\u001b[1;33m)\u001b[0m\u001b[1;33m\u001b[0m\u001b[1;33m\u001b[0m\u001b[0m\n\u001b[0;32m      4\u001b[0m \u001b[0mdriver\u001b[0m\u001b[1;33m.\u001b[0m\u001b[0mfind_element_by_css_selector\u001b[0m\u001b[1;33m(\u001b[0m\u001b[1;34m'#login-content > div.entrar > button'\u001b[0m\u001b[1;33m)\u001b[0m\u001b[1;33m.\u001b[0m\u001b[0mclick\u001b[0m\u001b[1;33m(\u001b[0m\u001b[1;33m)\u001b[0m\u001b[1;33m\u001b[0m\u001b[1;33m\u001b[0m\u001b[0m\n\u001b[1;32m----> 5\u001b[1;33m \u001b[0mWebDriverWait\u001b[0m\u001b[1;33m(\u001b[0m\u001b[0mdriver\u001b[0m\u001b[1;33m,\u001b[0m \u001b[1;36m20\u001b[0m\u001b[1;33m)\u001b[0m\u001b[1;33m.\u001b[0m\u001b[0muntil\u001b[0m\u001b[1;33m(\u001b[0m\u001b[0mEC\u001b[0m\u001b[1;33m.\u001b[0m\u001b[0melement_to_be_clickable\u001b[0m\u001b[1;33m(\u001b[0m\u001b[1;33m(\u001b[0m\u001b[0mBy\u001b[0m\u001b[1;33m.\u001b[0m\u001b[0mXPATH\u001b[0m\u001b[1;33m,\u001b[0m\u001b[1;34m'//span[text()=\"Gestión\"]'\u001b[0m\u001b[1;33m)\u001b[0m\u001b[1;33m)\u001b[0m\u001b[1;33m)\u001b[0m\u001b[1;33m.\u001b[0m\u001b[0mclick\u001b[0m\u001b[1;33m(\u001b[0m\u001b[1;33m)\u001b[0m\u001b[1;33m\u001b[0m\u001b[1;33m\u001b[0m\u001b[0m\n\u001b[0m\u001b[0;32m      6\u001b[0m \u001b[0mWebDriverWait\u001b[0m\u001b[1;33m(\u001b[0m\u001b[0mdriver\u001b[0m\u001b[1;33m,\u001b[0m \u001b[1;36m20\u001b[0m\u001b[1;33m)\u001b[0m\u001b[1;33m.\u001b[0m\u001b[0muntil\u001b[0m\u001b[1;33m(\u001b[0m\u001b[0mEC\u001b[0m\u001b[1;33m.\u001b[0m\u001b[0melement_to_be_clickable\u001b[0m\u001b[1;33m(\u001b[0m\u001b[1;33m(\u001b[0m\u001b[0mBy\u001b[0m\u001b[1;33m.\u001b[0m\u001b[0mXPATH\u001b[0m\u001b[1;33m,\u001b[0m\u001b[1;34m'//a[text()=\"Administrador Adminfo\"]'\u001b[0m\u001b[1;33m)\u001b[0m\u001b[1;33m)\u001b[0m\u001b[1;33m)\u001b[0m\u001b[1;33m.\u001b[0m\u001b[0mclick\u001b[0m\u001b[1;33m(\u001b[0m\u001b[1;33m)\u001b[0m\u001b[1;33m\u001b[0m\u001b[1;33m\u001b[0m\u001b[0m\n\u001b[0;32m      7\u001b[0m \u001b[0mWebDriverWait\u001b[0m\u001b[1;33m(\u001b[0m\u001b[0mdriver\u001b[0m\u001b[1;33m,\u001b[0m \u001b[1;36m20\u001b[0m\u001b[1;33m)\u001b[0m\u001b[1;33m.\u001b[0m\u001b[0muntil\u001b[0m\u001b[1;33m(\u001b[0m\u001b[0mEC\u001b[0m\u001b[1;33m.\u001b[0m\u001b[0melement_to_be_clickable\u001b[0m\u001b[1;33m(\u001b[0m\u001b[1;33m(\u001b[0m\u001b[0mBy\u001b[0m\u001b[1;33m.\u001b[0m\u001b[0mXPATH\u001b[0m\u001b[1;33m,\u001b[0m\u001b[1;34m'//*[@id=\"navigation\"]/li[2]/a/span/p/span'\u001b[0m\u001b[1;33m)\u001b[0m\u001b[1;33m)\u001b[0m\u001b[1;33m)\u001b[0m\u001b[1;33m.\u001b[0m\u001b[0mclick\u001b[0m\u001b[1;33m(\u001b[0m\u001b[1;33m)\u001b[0m\u001b[1;33m\u001b[0m\u001b[1;33m\u001b[0m\u001b[0m\n",
      "\u001b[1;32m~\\.conda\\envs\\cbz\\lib\\site-packages\\selenium\\webdriver\\support\\wait.py\u001b[0m in \u001b[0;36muntil\u001b[1;34m(self, method, message)\u001b[0m\n\u001b[0;32m     69\u001b[0m         \u001b[1;32mwhile\u001b[0m \u001b[1;32mTrue\u001b[0m\u001b[1;33m:\u001b[0m\u001b[1;33m\u001b[0m\u001b[1;33m\u001b[0m\u001b[0m\n\u001b[0;32m     70\u001b[0m             \u001b[1;32mtry\u001b[0m\u001b[1;33m:\u001b[0m\u001b[1;33m\u001b[0m\u001b[1;33m\u001b[0m\u001b[0m\n\u001b[1;32m---> 71\u001b[1;33m                 \u001b[0mvalue\u001b[0m \u001b[1;33m=\u001b[0m \u001b[0mmethod\u001b[0m\u001b[1;33m(\u001b[0m\u001b[0mself\u001b[0m\u001b[1;33m.\u001b[0m\u001b[0m_driver\u001b[0m\u001b[1;33m)\u001b[0m\u001b[1;33m\u001b[0m\u001b[1;33m\u001b[0m\u001b[0m\n\u001b[0m\u001b[0;32m     72\u001b[0m                 \u001b[1;32mif\u001b[0m \u001b[0mvalue\u001b[0m\u001b[1;33m:\u001b[0m\u001b[1;33m\u001b[0m\u001b[1;33m\u001b[0m\u001b[0m\n\u001b[0;32m     73\u001b[0m                     \u001b[1;32mreturn\u001b[0m \u001b[0mvalue\u001b[0m\u001b[1;33m\u001b[0m\u001b[1;33m\u001b[0m\u001b[0m\n",
      "\u001b[1;32m~\\.conda\\envs\\cbz\\lib\\site-packages\\selenium\\webdriver\\support\\expected_conditions.py\u001b[0m in \u001b[0;36m__call__\u001b[1;34m(self, driver)\u001b[0m\n\u001b[0;32m    295\u001b[0m \u001b[1;33m\u001b[0m\u001b[0m\n\u001b[0;32m    296\u001b[0m     \u001b[1;32mdef\u001b[0m \u001b[0m__call__\u001b[0m\u001b[1;33m(\u001b[0m\u001b[0mself\u001b[0m\u001b[1;33m,\u001b[0m \u001b[0mdriver\u001b[0m\u001b[1;33m)\u001b[0m\u001b[1;33m:\u001b[0m\u001b[1;33m\u001b[0m\u001b[1;33m\u001b[0m\u001b[0m\n\u001b[1;32m--> 297\u001b[1;33m         \u001b[0melement\u001b[0m \u001b[1;33m=\u001b[0m \u001b[0mvisibility_of_element_located\u001b[0m\u001b[1;33m(\u001b[0m\u001b[0mself\u001b[0m\u001b[1;33m.\u001b[0m\u001b[0mlocator\u001b[0m\u001b[1;33m)\u001b[0m\u001b[1;33m(\u001b[0m\u001b[0mdriver\u001b[0m\u001b[1;33m)\u001b[0m\u001b[1;33m\u001b[0m\u001b[1;33m\u001b[0m\u001b[0m\n\u001b[0m\u001b[0;32m    298\u001b[0m         \u001b[1;32mif\u001b[0m \u001b[0melement\u001b[0m \u001b[1;32mand\u001b[0m \u001b[0melement\u001b[0m\u001b[1;33m.\u001b[0m\u001b[0mis_enabled\u001b[0m\u001b[1;33m(\u001b[0m\u001b[1;33m)\u001b[0m\u001b[1;33m:\u001b[0m\u001b[1;33m\u001b[0m\u001b[1;33m\u001b[0m\u001b[0m\n\u001b[0;32m    299\u001b[0m             \u001b[1;32mreturn\u001b[0m \u001b[0melement\u001b[0m\u001b[1;33m\u001b[0m\u001b[1;33m\u001b[0m\u001b[0m\n",
      "\u001b[1;32m~\\.conda\\envs\\cbz\\lib\\site-packages\\selenium\\webdriver\\support\\expected_conditions.py\u001b[0m in \u001b[0;36m__call__\u001b[1;34m(self, driver)\u001b[0m\n\u001b[0;32m    126\u001b[0m     \u001b[1;32mdef\u001b[0m \u001b[0m__call__\u001b[0m\u001b[1;33m(\u001b[0m\u001b[0mself\u001b[0m\u001b[1;33m,\u001b[0m \u001b[0mdriver\u001b[0m\u001b[1;33m)\u001b[0m\u001b[1;33m:\u001b[0m\u001b[1;33m\u001b[0m\u001b[1;33m\u001b[0m\u001b[0m\n\u001b[0;32m    127\u001b[0m         \u001b[1;32mtry\u001b[0m\u001b[1;33m:\u001b[0m\u001b[1;33m\u001b[0m\u001b[1;33m\u001b[0m\u001b[0m\n\u001b[1;32m--> 128\u001b[1;33m             \u001b[1;32mreturn\u001b[0m \u001b[0m_element_if_visible\u001b[0m\u001b[1;33m(\u001b[0m\u001b[0m_find_element\u001b[0m\u001b[1;33m(\u001b[0m\u001b[0mdriver\u001b[0m\u001b[1;33m,\u001b[0m \u001b[0mself\u001b[0m\u001b[1;33m.\u001b[0m\u001b[0mlocator\u001b[0m\u001b[1;33m)\u001b[0m\u001b[1;33m)\u001b[0m\u001b[1;33m\u001b[0m\u001b[1;33m\u001b[0m\u001b[0m\n\u001b[0m\u001b[0;32m    129\u001b[0m         \u001b[1;32mexcept\u001b[0m \u001b[0mStaleElementReferenceException\u001b[0m\u001b[1;33m:\u001b[0m\u001b[1;33m\u001b[0m\u001b[1;33m\u001b[0m\u001b[0m\n\u001b[0;32m    130\u001b[0m             \u001b[1;32mreturn\u001b[0m \u001b[1;32mFalse\u001b[0m\u001b[1;33m\u001b[0m\u001b[1;33m\u001b[0m\u001b[0m\n",
      "\u001b[1;32m~\\.conda\\envs\\cbz\\lib\\site-packages\\selenium\\webdriver\\support\\expected_conditions.py\u001b[0m in \u001b[0;36m_find_element\u001b[1;34m(driver, by)\u001b[0m\n\u001b[0;32m    409\u001b[0m     if thrown.\"\"\"\n\u001b[0;32m    410\u001b[0m     \u001b[1;32mtry\u001b[0m\u001b[1;33m:\u001b[0m\u001b[1;33m\u001b[0m\u001b[1;33m\u001b[0m\u001b[0m\n\u001b[1;32m--> 411\u001b[1;33m         \u001b[1;32mreturn\u001b[0m \u001b[0mdriver\u001b[0m\u001b[1;33m.\u001b[0m\u001b[0mfind_element\u001b[0m\u001b[1;33m(\u001b[0m\u001b[1;33m*\u001b[0m\u001b[0mby\u001b[0m\u001b[1;33m)\u001b[0m\u001b[1;33m\u001b[0m\u001b[1;33m\u001b[0m\u001b[0m\n\u001b[0m\u001b[0;32m    412\u001b[0m     \u001b[1;32mexcept\u001b[0m \u001b[0mNoSuchElementException\u001b[0m \u001b[1;32mas\u001b[0m \u001b[0me\u001b[0m\u001b[1;33m:\u001b[0m\u001b[1;33m\u001b[0m\u001b[1;33m\u001b[0m\u001b[0m\n\u001b[0;32m    413\u001b[0m         \u001b[1;32mraise\u001b[0m \u001b[0me\u001b[0m\u001b[1;33m\u001b[0m\u001b[1;33m\u001b[0m\u001b[0m\n",
      "\u001b[1;32m~\\.conda\\envs\\cbz\\lib\\site-packages\\selenium\\webdriver\\remote\\webdriver.py\u001b[0m in \u001b[0;36mfind_element\u001b[1;34m(self, by, value)\u001b[0m\n\u001b[0;32m    974\u001b[0m                 \u001b[0mby\u001b[0m \u001b[1;33m=\u001b[0m \u001b[0mBy\u001b[0m\u001b[1;33m.\u001b[0m\u001b[0mCSS_SELECTOR\u001b[0m\u001b[1;33m\u001b[0m\u001b[1;33m\u001b[0m\u001b[0m\n\u001b[0;32m    975\u001b[0m                 \u001b[0mvalue\u001b[0m \u001b[1;33m=\u001b[0m \u001b[1;34m'[name=\"%s\"]'\u001b[0m \u001b[1;33m%\u001b[0m \u001b[0mvalue\u001b[0m\u001b[1;33m\u001b[0m\u001b[1;33m\u001b[0m\u001b[0m\n\u001b[1;32m--> 976\u001b[1;33m         return self.execute(Command.FIND_ELEMENT, {\n\u001b[0m\u001b[0;32m    977\u001b[0m             \u001b[1;34m'using'\u001b[0m\u001b[1;33m:\u001b[0m \u001b[0mby\u001b[0m\u001b[1;33m,\u001b[0m\u001b[1;33m\u001b[0m\u001b[1;33m\u001b[0m\u001b[0m\n\u001b[0;32m    978\u001b[0m             'value': value})['value']\n",
      "\u001b[1;32m~\\.conda\\envs\\cbz\\lib\\site-packages\\selenium\\webdriver\\remote\\webdriver.py\u001b[0m in \u001b[0;36mexecute\u001b[1;34m(self, driver_command, params)\u001b[0m\n\u001b[0;32m    317\u001b[0m \u001b[1;33m\u001b[0m\u001b[0m\n\u001b[0;32m    318\u001b[0m         \u001b[0mparams\u001b[0m \u001b[1;33m=\u001b[0m \u001b[0mself\u001b[0m\u001b[1;33m.\u001b[0m\u001b[0m_wrap_value\u001b[0m\u001b[1;33m(\u001b[0m\u001b[0mparams\u001b[0m\u001b[1;33m)\u001b[0m\u001b[1;33m\u001b[0m\u001b[1;33m\u001b[0m\u001b[0m\n\u001b[1;32m--> 319\u001b[1;33m         \u001b[0mresponse\u001b[0m \u001b[1;33m=\u001b[0m \u001b[0mself\u001b[0m\u001b[1;33m.\u001b[0m\u001b[0mcommand_executor\u001b[0m\u001b[1;33m.\u001b[0m\u001b[0mexecute\u001b[0m\u001b[1;33m(\u001b[0m\u001b[0mdriver_command\u001b[0m\u001b[1;33m,\u001b[0m \u001b[0mparams\u001b[0m\u001b[1;33m)\u001b[0m\u001b[1;33m\u001b[0m\u001b[1;33m\u001b[0m\u001b[0m\n\u001b[0m\u001b[0;32m    320\u001b[0m         \u001b[1;32mif\u001b[0m \u001b[0mresponse\u001b[0m\u001b[1;33m:\u001b[0m\u001b[1;33m\u001b[0m\u001b[1;33m\u001b[0m\u001b[0m\n\u001b[0;32m    321\u001b[0m             \u001b[0mself\u001b[0m\u001b[1;33m.\u001b[0m\u001b[0merror_handler\u001b[0m\u001b[1;33m.\u001b[0m\u001b[0mcheck_response\u001b[0m\u001b[1;33m(\u001b[0m\u001b[0mresponse\u001b[0m\u001b[1;33m)\u001b[0m\u001b[1;33m\u001b[0m\u001b[1;33m\u001b[0m\u001b[0m\n",
      "\u001b[1;32m~\\.conda\\envs\\cbz\\lib\\site-packages\\selenium\\webdriver\\remote\\remote_connection.py\u001b[0m in \u001b[0;36mexecute\u001b[1;34m(self, command, params)\u001b[0m\n\u001b[0;32m    372\u001b[0m         \u001b[0mdata\u001b[0m \u001b[1;33m=\u001b[0m \u001b[0mutils\u001b[0m\u001b[1;33m.\u001b[0m\u001b[0mdump_json\u001b[0m\u001b[1;33m(\u001b[0m\u001b[0mparams\u001b[0m\u001b[1;33m)\u001b[0m\u001b[1;33m\u001b[0m\u001b[1;33m\u001b[0m\u001b[0m\n\u001b[0;32m    373\u001b[0m         \u001b[0murl\u001b[0m \u001b[1;33m=\u001b[0m \u001b[1;34m'%s%s'\u001b[0m \u001b[1;33m%\u001b[0m \u001b[1;33m(\u001b[0m\u001b[0mself\u001b[0m\u001b[1;33m.\u001b[0m\u001b[0m_url\u001b[0m\u001b[1;33m,\u001b[0m \u001b[0mpath\u001b[0m\u001b[1;33m)\u001b[0m\u001b[1;33m\u001b[0m\u001b[1;33m\u001b[0m\u001b[0m\n\u001b[1;32m--> 374\u001b[1;33m         \u001b[1;32mreturn\u001b[0m \u001b[0mself\u001b[0m\u001b[1;33m.\u001b[0m\u001b[0m_request\u001b[0m\u001b[1;33m(\u001b[0m\u001b[0mcommand_info\u001b[0m\u001b[1;33m[\u001b[0m\u001b[1;36m0\u001b[0m\u001b[1;33m]\u001b[0m\u001b[1;33m,\u001b[0m \u001b[0murl\u001b[0m\u001b[1;33m,\u001b[0m \u001b[0mbody\u001b[0m\u001b[1;33m=\u001b[0m\u001b[0mdata\u001b[0m\u001b[1;33m)\u001b[0m\u001b[1;33m\u001b[0m\u001b[1;33m\u001b[0m\u001b[0m\n\u001b[0m\u001b[0;32m    375\u001b[0m \u001b[1;33m\u001b[0m\u001b[0m\n\u001b[0;32m    376\u001b[0m     \u001b[1;32mdef\u001b[0m \u001b[0m_request\u001b[0m\u001b[1;33m(\u001b[0m\u001b[0mself\u001b[0m\u001b[1;33m,\u001b[0m \u001b[0mmethod\u001b[0m\u001b[1;33m,\u001b[0m \u001b[0murl\u001b[0m\u001b[1;33m,\u001b[0m \u001b[0mbody\u001b[0m\u001b[1;33m=\u001b[0m\u001b[1;32mNone\u001b[0m\u001b[1;33m)\u001b[0m\u001b[1;33m:\u001b[0m\u001b[1;33m\u001b[0m\u001b[1;33m\u001b[0m\u001b[0m\n",
      "\u001b[1;32m~\\.conda\\envs\\cbz\\lib\\site-packages\\selenium\\webdriver\\remote\\remote_connection.py\u001b[0m in \u001b[0;36m_request\u001b[1;34m(self, method, url, body)\u001b[0m\n\u001b[0;32m    395\u001b[0m \u001b[1;33m\u001b[0m\u001b[0m\n\u001b[0;32m    396\u001b[0m         \u001b[1;32mif\u001b[0m \u001b[0mself\u001b[0m\u001b[1;33m.\u001b[0m\u001b[0mkeep_alive\u001b[0m\u001b[1;33m:\u001b[0m\u001b[1;33m\u001b[0m\u001b[1;33m\u001b[0m\u001b[0m\n\u001b[1;32m--> 397\u001b[1;33m             \u001b[0mresp\u001b[0m \u001b[1;33m=\u001b[0m \u001b[0mself\u001b[0m\u001b[1;33m.\u001b[0m\u001b[0m_conn\u001b[0m\u001b[1;33m.\u001b[0m\u001b[0mrequest\u001b[0m\u001b[1;33m(\u001b[0m\u001b[0mmethod\u001b[0m\u001b[1;33m,\u001b[0m \u001b[0murl\u001b[0m\u001b[1;33m,\u001b[0m \u001b[0mbody\u001b[0m\u001b[1;33m=\u001b[0m\u001b[0mbody\u001b[0m\u001b[1;33m,\u001b[0m \u001b[0mheaders\u001b[0m\u001b[1;33m=\u001b[0m\u001b[0mheaders\u001b[0m\u001b[1;33m)\u001b[0m\u001b[1;33m\u001b[0m\u001b[1;33m\u001b[0m\u001b[0m\n\u001b[0m\u001b[0;32m    398\u001b[0m \u001b[1;33m\u001b[0m\u001b[0m\n\u001b[0;32m    399\u001b[0m             \u001b[0mstatuscode\u001b[0m \u001b[1;33m=\u001b[0m \u001b[0mresp\u001b[0m\u001b[1;33m.\u001b[0m\u001b[0mstatus\u001b[0m\u001b[1;33m\u001b[0m\u001b[1;33m\u001b[0m\u001b[0m\n",
      "\u001b[1;32m~\\.conda\\envs\\cbz\\lib\\site-packages\\urllib3\\request.py\u001b[0m in \u001b[0;36mrequest\u001b[1;34m(self, method, url, fields, headers, **urlopen_kw)\u001b[0m\n\u001b[0;32m     76\u001b[0m             )\n\u001b[0;32m     77\u001b[0m         \u001b[1;32melse\u001b[0m\u001b[1;33m:\u001b[0m\u001b[1;33m\u001b[0m\u001b[1;33m\u001b[0m\u001b[0m\n\u001b[1;32m---> 78\u001b[1;33m             return self.request_encode_body(\n\u001b[0m\u001b[0;32m     79\u001b[0m                 \u001b[0mmethod\u001b[0m\u001b[1;33m,\u001b[0m \u001b[0murl\u001b[0m\u001b[1;33m,\u001b[0m \u001b[0mfields\u001b[0m\u001b[1;33m=\u001b[0m\u001b[0mfields\u001b[0m\u001b[1;33m,\u001b[0m \u001b[0mheaders\u001b[0m\u001b[1;33m=\u001b[0m\u001b[0mheaders\u001b[0m\u001b[1;33m,\u001b[0m \u001b[1;33m**\u001b[0m\u001b[0murlopen_kw\u001b[0m\u001b[1;33m\u001b[0m\u001b[1;33m\u001b[0m\u001b[0m\n\u001b[0;32m     80\u001b[0m             )\n",
      "\u001b[1;32m~\\.conda\\envs\\cbz\\lib\\site-packages\\urllib3\\request.py\u001b[0m in \u001b[0;36mrequest_encode_body\u001b[1;34m(self, method, url, fields, headers, encode_multipart, multipart_boundary, **urlopen_kw)\u001b[0m\n\u001b[0;32m    168\u001b[0m         \u001b[0mextra_kw\u001b[0m\u001b[1;33m.\u001b[0m\u001b[0mupdate\u001b[0m\u001b[1;33m(\u001b[0m\u001b[0murlopen_kw\u001b[0m\u001b[1;33m)\u001b[0m\u001b[1;33m\u001b[0m\u001b[1;33m\u001b[0m\u001b[0m\n\u001b[0;32m    169\u001b[0m \u001b[1;33m\u001b[0m\u001b[0m\n\u001b[1;32m--> 170\u001b[1;33m         \u001b[1;32mreturn\u001b[0m \u001b[0mself\u001b[0m\u001b[1;33m.\u001b[0m\u001b[0murlopen\u001b[0m\u001b[1;33m(\u001b[0m\u001b[0mmethod\u001b[0m\u001b[1;33m,\u001b[0m \u001b[0murl\u001b[0m\u001b[1;33m,\u001b[0m \u001b[1;33m**\u001b[0m\u001b[0mextra_kw\u001b[0m\u001b[1;33m)\u001b[0m\u001b[1;33m\u001b[0m\u001b[1;33m\u001b[0m\u001b[0m\n\u001b[0m",
      "\u001b[1;32m~\\.conda\\envs\\cbz\\lib\\site-packages\\urllib3\\poolmanager.py\u001b[0m in \u001b[0;36murlopen\u001b[1;34m(self, method, url, redirect, **kw)\u001b[0m\n\u001b[0;32m    373\u001b[0m             \u001b[0mresponse\u001b[0m \u001b[1;33m=\u001b[0m \u001b[0mconn\u001b[0m\u001b[1;33m.\u001b[0m\u001b[0murlopen\u001b[0m\u001b[1;33m(\u001b[0m\u001b[0mmethod\u001b[0m\u001b[1;33m,\u001b[0m \u001b[0murl\u001b[0m\u001b[1;33m,\u001b[0m \u001b[1;33m**\u001b[0m\u001b[0mkw\u001b[0m\u001b[1;33m)\u001b[0m\u001b[1;33m\u001b[0m\u001b[1;33m\u001b[0m\u001b[0m\n\u001b[0;32m    374\u001b[0m         \u001b[1;32melse\u001b[0m\u001b[1;33m:\u001b[0m\u001b[1;33m\u001b[0m\u001b[1;33m\u001b[0m\u001b[0m\n\u001b[1;32m--> 375\u001b[1;33m             \u001b[0mresponse\u001b[0m \u001b[1;33m=\u001b[0m \u001b[0mconn\u001b[0m\u001b[1;33m.\u001b[0m\u001b[0murlopen\u001b[0m\u001b[1;33m(\u001b[0m\u001b[0mmethod\u001b[0m\u001b[1;33m,\u001b[0m \u001b[0mu\u001b[0m\u001b[1;33m.\u001b[0m\u001b[0mrequest_uri\u001b[0m\u001b[1;33m,\u001b[0m \u001b[1;33m**\u001b[0m\u001b[0mkw\u001b[0m\u001b[1;33m)\u001b[0m\u001b[1;33m\u001b[0m\u001b[1;33m\u001b[0m\u001b[0m\n\u001b[0m\u001b[0;32m    376\u001b[0m \u001b[1;33m\u001b[0m\u001b[0m\n\u001b[0;32m    377\u001b[0m         \u001b[0mredirect_location\u001b[0m \u001b[1;33m=\u001b[0m \u001b[0mredirect\u001b[0m \u001b[1;32mand\u001b[0m \u001b[0mresponse\u001b[0m\u001b[1;33m.\u001b[0m\u001b[0mget_redirect_location\u001b[0m\u001b[1;33m(\u001b[0m\u001b[1;33m)\u001b[0m\u001b[1;33m\u001b[0m\u001b[1;33m\u001b[0m\u001b[0m\n",
      "\u001b[1;32m~\\.conda\\envs\\cbz\\lib\\site-packages\\urllib3\\connectionpool.py\u001b[0m in \u001b[0;36murlopen\u001b[1;34m(self, method, url, body, headers, retries, redirect, assert_same_host, timeout, pool_timeout, release_conn, chunked, body_pos, **response_kw)\u001b[0m\n\u001b[0;32m    697\u001b[0m \u001b[1;33m\u001b[0m\u001b[0m\n\u001b[0;32m    698\u001b[0m             \u001b[1;31m# Make the request on the httplib connection object.\u001b[0m\u001b[1;33m\u001b[0m\u001b[1;33m\u001b[0m\u001b[1;33m\u001b[0m\u001b[0m\n\u001b[1;32m--> 699\u001b[1;33m             httplib_response = self._make_request(\n\u001b[0m\u001b[0;32m    700\u001b[0m                 \u001b[0mconn\u001b[0m\u001b[1;33m,\u001b[0m\u001b[1;33m\u001b[0m\u001b[1;33m\u001b[0m\u001b[0m\n\u001b[0;32m    701\u001b[0m                 \u001b[0mmethod\u001b[0m\u001b[1;33m,\u001b[0m\u001b[1;33m\u001b[0m\u001b[1;33m\u001b[0m\u001b[0m\n",
      "\u001b[1;32m~\\.conda\\envs\\cbz\\lib\\site-packages\\urllib3\\connectionpool.py\u001b[0m in \u001b[0;36m_make_request\u001b[1;34m(self, conn, method, url, timeout, chunked, **httplib_request_kw)\u001b[0m\n\u001b[0;32m    443\u001b[0m                     \u001b[1;31m# Python 3 (including for exceptions like SystemExit).\u001b[0m\u001b[1;33m\u001b[0m\u001b[1;33m\u001b[0m\u001b[1;33m\u001b[0m\u001b[0m\n\u001b[0;32m    444\u001b[0m                     \u001b[1;31m# Otherwise it looks like a bug in the code.\u001b[0m\u001b[1;33m\u001b[0m\u001b[1;33m\u001b[0m\u001b[1;33m\u001b[0m\u001b[0m\n\u001b[1;32m--> 445\u001b[1;33m                     \u001b[0msix\u001b[0m\u001b[1;33m.\u001b[0m\u001b[0mraise_from\u001b[0m\u001b[1;33m(\u001b[0m\u001b[0me\u001b[0m\u001b[1;33m,\u001b[0m \u001b[1;32mNone\u001b[0m\u001b[1;33m)\u001b[0m\u001b[1;33m\u001b[0m\u001b[1;33m\u001b[0m\u001b[0m\n\u001b[0m\u001b[0;32m    446\u001b[0m         \u001b[1;32mexcept\u001b[0m \u001b[1;33m(\u001b[0m\u001b[0mSocketTimeout\u001b[0m\u001b[1;33m,\u001b[0m \u001b[0mBaseSSLError\u001b[0m\u001b[1;33m,\u001b[0m \u001b[0mSocketError\u001b[0m\u001b[1;33m)\u001b[0m \u001b[1;32mas\u001b[0m \u001b[0me\u001b[0m\u001b[1;33m:\u001b[0m\u001b[1;33m\u001b[0m\u001b[1;33m\u001b[0m\u001b[0m\n\u001b[0;32m    447\u001b[0m             \u001b[0mself\u001b[0m\u001b[1;33m.\u001b[0m\u001b[0m_raise_timeout\u001b[0m\u001b[1;33m(\u001b[0m\u001b[0merr\u001b[0m\u001b[1;33m=\u001b[0m\u001b[0me\u001b[0m\u001b[1;33m,\u001b[0m \u001b[0murl\u001b[0m\u001b[1;33m=\u001b[0m\u001b[0murl\u001b[0m\u001b[1;33m,\u001b[0m \u001b[0mtimeout_value\u001b[0m\u001b[1;33m=\u001b[0m\u001b[0mread_timeout\u001b[0m\u001b[1;33m)\u001b[0m\u001b[1;33m\u001b[0m\u001b[1;33m\u001b[0m\u001b[0m\n",
      "\u001b[1;32m~\\.conda\\envs\\cbz\\lib\\site-packages\\urllib3\\packages\\six.py\u001b[0m in \u001b[0;36mraise_from\u001b[1;34m(value, from_value)\u001b[0m\n",
      "\u001b[1;32m~\\.conda\\envs\\cbz\\lib\\site-packages\\urllib3\\connectionpool.py\u001b[0m in \u001b[0;36m_make_request\u001b[1;34m(self, conn, method, url, timeout, chunked, **httplib_request_kw)\u001b[0m\n\u001b[0;32m    438\u001b[0m                 \u001b[1;31m# Python 3\u001b[0m\u001b[1;33m\u001b[0m\u001b[1;33m\u001b[0m\u001b[1;33m\u001b[0m\u001b[0m\n\u001b[0;32m    439\u001b[0m                 \u001b[1;32mtry\u001b[0m\u001b[1;33m:\u001b[0m\u001b[1;33m\u001b[0m\u001b[1;33m\u001b[0m\u001b[0m\n\u001b[1;32m--> 440\u001b[1;33m                     \u001b[0mhttplib_response\u001b[0m \u001b[1;33m=\u001b[0m \u001b[0mconn\u001b[0m\u001b[1;33m.\u001b[0m\u001b[0mgetresponse\u001b[0m\u001b[1;33m(\u001b[0m\u001b[1;33m)\u001b[0m\u001b[1;33m\u001b[0m\u001b[1;33m\u001b[0m\u001b[0m\n\u001b[0m\u001b[0;32m    441\u001b[0m                 \u001b[1;32mexcept\u001b[0m \u001b[0mBaseException\u001b[0m \u001b[1;32mas\u001b[0m \u001b[0me\u001b[0m\u001b[1;33m:\u001b[0m\u001b[1;33m\u001b[0m\u001b[1;33m\u001b[0m\u001b[0m\n\u001b[0;32m    442\u001b[0m                     \u001b[1;31m# Remove the TypeError from the exception chain in\u001b[0m\u001b[1;33m\u001b[0m\u001b[1;33m\u001b[0m\u001b[1;33m\u001b[0m\u001b[0m\n",
      "\u001b[1;32m~\\.conda\\envs\\cbz\\lib\\http\\client.py\u001b[0m in \u001b[0;36mgetresponse\u001b[1;34m(self)\u001b[0m\n\u001b[0;32m   1320\u001b[0m         \u001b[1;32mtry\u001b[0m\u001b[1;33m:\u001b[0m\u001b[1;33m\u001b[0m\u001b[1;33m\u001b[0m\u001b[0m\n\u001b[0;32m   1321\u001b[0m             \u001b[1;32mtry\u001b[0m\u001b[1;33m:\u001b[0m\u001b[1;33m\u001b[0m\u001b[1;33m\u001b[0m\u001b[0m\n\u001b[1;32m-> 1322\u001b[1;33m                 \u001b[0mresponse\u001b[0m\u001b[1;33m.\u001b[0m\u001b[0mbegin\u001b[0m\u001b[1;33m(\u001b[0m\u001b[1;33m)\u001b[0m\u001b[1;33m\u001b[0m\u001b[1;33m\u001b[0m\u001b[0m\n\u001b[0m\u001b[0;32m   1323\u001b[0m             \u001b[1;32mexcept\u001b[0m \u001b[0mConnectionError\u001b[0m\u001b[1;33m:\u001b[0m\u001b[1;33m\u001b[0m\u001b[1;33m\u001b[0m\u001b[0m\n\u001b[0;32m   1324\u001b[0m                 \u001b[0mself\u001b[0m\u001b[1;33m.\u001b[0m\u001b[0mclose\u001b[0m\u001b[1;33m(\u001b[0m\u001b[1;33m)\u001b[0m\u001b[1;33m\u001b[0m\u001b[1;33m\u001b[0m\u001b[0m\n",
      "\u001b[1;32m~\\.conda\\envs\\cbz\\lib\\http\\client.py\u001b[0m in \u001b[0;36mbegin\u001b[1;34m(self)\u001b[0m\n\u001b[0;32m    301\u001b[0m         \u001b[1;31m# read until we get a non-100 response\u001b[0m\u001b[1;33m\u001b[0m\u001b[1;33m\u001b[0m\u001b[1;33m\u001b[0m\u001b[0m\n\u001b[0;32m    302\u001b[0m         \u001b[1;32mwhile\u001b[0m \u001b[1;32mTrue\u001b[0m\u001b[1;33m:\u001b[0m\u001b[1;33m\u001b[0m\u001b[1;33m\u001b[0m\u001b[0m\n\u001b[1;32m--> 303\u001b[1;33m             \u001b[0mversion\u001b[0m\u001b[1;33m,\u001b[0m \u001b[0mstatus\u001b[0m\u001b[1;33m,\u001b[0m \u001b[0mreason\u001b[0m \u001b[1;33m=\u001b[0m \u001b[0mself\u001b[0m\u001b[1;33m.\u001b[0m\u001b[0m_read_status\u001b[0m\u001b[1;33m(\u001b[0m\u001b[1;33m)\u001b[0m\u001b[1;33m\u001b[0m\u001b[1;33m\u001b[0m\u001b[0m\n\u001b[0m\u001b[0;32m    304\u001b[0m             \u001b[1;32mif\u001b[0m \u001b[0mstatus\u001b[0m \u001b[1;33m!=\u001b[0m \u001b[0mCONTINUE\u001b[0m\u001b[1;33m:\u001b[0m\u001b[1;33m\u001b[0m\u001b[1;33m\u001b[0m\u001b[0m\n\u001b[0;32m    305\u001b[0m                 \u001b[1;32mbreak\u001b[0m\u001b[1;33m\u001b[0m\u001b[1;33m\u001b[0m\u001b[0m\n",
      "\u001b[1;32m~\\.conda\\envs\\cbz\\lib\\http\\client.py\u001b[0m in \u001b[0;36m_read_status\u001b[1;34m(self)\u001b[0m\n\u001b[0;32m    262\u001b[0m \u001b[1;33m\u001b[0m\u001b[0m\n\u001b[0;32m    263\u001b[0m     \u001b[1;32mdef\u001b[0m \u001b[0m_read_status\u001b[0m\u001b[1;33m(\u001b[0m\u001b[0mself\u001b[0m\u001b[1;33m)\u001b[0m\u001b[1;33m:\u001b[0m\u001b[1;33m\u001b[0m\u001b[1;33m\u001b[0m\u001b[0m\n\u001b[1;32m--> 264\u001b[1;33m         \u001b[0mline\u001b[0m \u001b[1;33m=\u001b[0m \u001b[0mstr\u001b[0m\u001b[1;33m(\u001b[0m\u001b[0mself\u001b[0m\u001b[1;33m.\u001b[0m\u001b[0mfp\u001b[0m\u001b[1;33m.\u001b[0m\u001b[0mreadline\u001b[0m\u001b[1;33m(\u001b[0m\u001b[0m_MAXLINE\u001b[0m \u001b[1;33m+\u001b[0m \u001b[1;36m1\u001b[0m\u001b[1;33m)\u001b[0m\u001b[1;33m,\u001b[0m \u001b[1;34m\"iso-8859-1\"\u001b[0m\u001b[1;33m)\u001b[0m\u001b[1;33m\u001b[0m\u001b[1;33m\u001b[0m\u001b[0m\n\u001b[0m\u001b[0;32m    265\u001b[0m         \u001b[1;32mif\u001b[0m \u001b[0mlen\u001b[0m\u001b[1;33m(\u001b[0m\u001b[0mline\u001b[0m\u001b[1;33m)\u001b[0m \u001b[1;33m>\u001b[0m \u001b[0m_MAXLINE\u001b[0m\u001b[1;33m:\u001b[0m\u001b[1;33m\u001b[0m\u001b[1;33m\u001b[0m\u001b[0m\n\u001b[0;32m    266\u001b[0m             \u001b[1;32mraise\u001b[0m \u001b[0mLineTooLong\u001b[0m\u001b[1;33m(\u001b[0m\u001b[1;34m\"status line\"\u001b[0m\u001b[1;33m)\u001b[0m\u001b[1;33m\u001b[0m\u001b[1;33m\u001b[0m\u001b[0m\n",
      "\u001b[1;32m~\\.conda\\envs\\cbz\\lib\\socket.py\u001b[0m in \u001b[0;36mreadinto\u001b[1;34m(self, b)\u001b[0m\n\u001b[0;32m    667\u001b[0m         \u001b[1;32mwhile\u001b[0m \u001b[1;32mTrue\u001b[0m\u001b[1;33m:\u001b[0m\u001b[1;33m\u001b[0m\u001b[1;33m\u001b[0m\u001b[0m\n\u001b[0;32m    668\u001b[0m             \u001b[1;32mtry\u001b[0m\u001b[1;33m:\u001b[0m\u001b[1;33m\u001b[0m\u001b[1;33m\u001b[0m\u001b[0m\n\u001b[1;32m--> 669\u001b[1;33m                 \u001b[1;32mreturn\u001b[0m \u001b[0mself\u001b[0m\u001b[1;33m.\u001b[0m\u001b[0m_sock\u001b[0m\u001b[1;33m.\u001b[0m\u001b[0mrecv_into\u001b[0m\u001b[1;33m(\u001b[0m\u001b[0mb\u001b[0m\u001b[1;33m)\u001b[0m\u001b[1;33m\u001b[0m\u001b[1;33m\u001b[0m\u001b[0m\n\u001b[0m\u001b[0;32m    670\u001b[0m             \u001b[1;32mexcept\u001b[0m \u001b[0mtimeout\u001b[0m\u001b[1;33m:\u001b[0m\u001b[1;33m\u001b[0m\u001b[1;33m\u001b[0m\u001b[0m\n\u001b[0;32m    671\u001b[0m                 \u001b[0mself\u001b[0m\u001b[1;33m.\u001b[0m\u001b[0m_timeout_occurred\u001b[0m \u001b[1;33m=\u001b[0m \u001b[1;32mTrue\u001b[0m\u001b[1;33m\u001b[0m\u001b[1;33m\u001b[0m\u001b[0m\n",
      "\u001b[1;31mKeyboardInterrupt\u001b[0m: "
     ]
    }
   ],
   "source": [
    "WebDriverWait(driver, 20).until(EC.element_to_be_clickable((By.ID,'usuario'))).send_keys(\"am3377767\")\n",
    "WebDriverWait(driver, 20).until(EC.element_to_be_clickable((By.ID,'clave'))).send_keys(\"1979*Faro\")\n",
    "time.sleep(3)\n",
    "driver.find_element_by_css_selector('#login-content > div.entrar > button').click()\n",
    "WebDriverWait(driver, 20).until(EC.element_to_be_clickable((By.XPATH,'//span[text()=\"Gestión\"]'))).click()\n",
    "WebDriverWait(driver, 20).until(EC.element_to_be_clickable((By.XPATH,'//a[text()=\"Administrador Adminfo\"]'))).click()\n",
    "WebDriverWait(driver, 20).until(EC.element_to_be_clickable((By.XPATH,'//*[@id=\"navigation\"]/li[2]/a/span/p/span'))).click()\n",
    "WebDriverWait(driver, 20).until(EC.element_to_be_clickable((By.XPATH,'//a[text()=\"Resumen Seguimiento\"]'))).click()\n",
    "WebDriverWait(driver, 20).until(EC.element_to_be_clickable((By.XPATH,'//*[@id=\"s2id_agrupador\"]'))).click()\n",
    "WebDriverWait(driver, 20).until(EC.element_to_be_clickable((By.XPATH,'//*[@id=\"select2-drop\"]/div/input'))).send_keys(\"Detalle en pantalla\")\n",
    "WebDriverWait(driver, 20).until(EC.element_to_be_clickable((By.XPATH,'//*[@id=\"select2-drop\"]/ul/li/div/span'))).click()\n",
    "WebDriverWait(driver, 20).until(EC.element_to_be_clickable((By.XPATH,'//*[@id=\"s2id_col\"]/a/span[1]'))).click()\n",
    "WebDriverWait(driver, 20).until(EC.element_to_be_clickable((By.XPATH,'//*[@id=\"select2-drop\"]/div/input'))).send_keys(\"Responsable De Cobro\")"
   ]
  },
  {
   "cell_type": "code",
   "execution_count": 36,
   "metadata": {},
   "outputs": [],
   "source": []
  },
  {
   "cell_type": "code",
   "execution_count": 37,
   "metadata": {},
   "outputs": [],
   "source": []
  },
  {
   "cell_type": "code",
   "execution_count": 38,
   "metadata": {},
   "outputs": [],
   "source": []
  },
  {
   "cell_type": "code",
   "execution_count": 39,
   "metadata": {},
   "outputs": [],
   "source": [
    "pyautogui.click(45, 445)\n"
   ]
  },
  {
   "cell_type": "code",
   "execution_count": null,
   "metadata": {},
   "outputs": [],
   "source": []
  },
  {
   "cell_type": "code",
   "execution_count": null,
   "metadata": {},
   "outputs": [],
   "source": [
    "WebDriverWait(driver, 20).until(EC.element_to_be_clickable((By.XPATH,'//a[text()=\"  Agregar Todos            \"]'))).click()\n",
    "WebDriverWait(driver, 20).until(EC.element_to_be_clickable((By.XPATH,'//a[text()=\"  Generar Informe            \"]'))).click()\n",
    "WebDriverWait(driver, 20).until(EC.element_to_be_clickable((By.XPATH,'//a[@title=\"Exportar informe a archivo plano\"]'))).click()\n",
    "WebDriverWait(driver, 20).until(EC.element_to_be_clickable((By.ID,'archivo'))).click()\n",
    "WebDriverWait(driver, 20).until(EC.element_to_be_clickable((By.XPATH,'//*[@id=\"archivo\"]'))).send_keys(Keys.CONTROL, 'a')\n",
    "WebDriverWait(driver, 20).until(EC.element_to_be_clickable((By.ID,'archivo'))).send_keys(Keys.BACKSPACE)\n",
    "WebDriverWait(driver, 20).until(EC.element_to_be_clickable((By.CSS_SELECTOR,'[value=\"Exportar\"]'))).send_keys(yesterday +'_seg')"
   ]
  },
  {
   "cell_type": "code",
   "execution_count": null,
   "metadata": {},
   "outputs": [],
   "source": []
  },
  {
   "cell_type": "code",
   "execution_count": 40,
   "metadata": {},
   "outputs": [],
   "source": [
    "# driver.find_element_by_xpath('//*[@id=\"divVentanaModal\"]').click()"
   ]
  },
  {
   "cell_type": "code",
   "execution_count": 41,
   "metadata": {},
   "outputs": [],
   "source": [
    "driver.find_element_by_xpath('//*[@id=\"Pager_lista_detalle_pantalla_campos_center\"]/table/tbody/tr/td[4]/input').click()\n"
   ]
  },
  {
   "cell_type": "code",
   "execution_count": 42,
   "metadata": {},
   "outputs": [],
   "source": [
    "driver.find_element_by_xpath('//*[@id=\"Pager_lista_detalle_pantalla_campos_center\"]/table/tbody/tr/td[4]/input').send_keys(Keys.CONTROL, 'a')"
   ]
  },
  {
   "cell_type": "code",
   "execution_count": 43,
   "metadata": {},
   "outputs": [],
   "source": [
    "driver.find_element_by_xpath('//*[@id=\"Pager_lista_detalle_pantalla_campos_center\"]/table/tbody/tr/td[4]/input').send_keys('2')\n"
   ]
  },
  {
   "cell_type": "code",
   "execution_count": 44,
   "metadata": {},
   "outputs": [],
   "source": [
    "driver.find_element_by_xpath('//*[@id=\"Pager_lista_detalle_pantalla_campos_center\"]/table/tbody/tr/td[4]/input').click()"
   ]
  },
  {
   "cell_type": "code",
   "execution_count": 45,
   "metadata": {},
   "outputs": [],
   "source": [
    "driver.find_element_by_xpath('//*[@id=\"Pager_lista_detalle_pantalla_campos_center\"]/table/tbody/tr/td[4]/input').send_keys(Keys.ENTER)"
   ]
  },
  {
   "cell_type": "code",
   "execution_count": 46,
   "metadata": {},
   "outputs": [],
   "source": [
    "d=driver.find_element_by_xpath('//*[@id=\"6\"]/td[3]')\n",
    "actions=ActionChains(driver)\n",
    "actions.double_click(d).perform()"
   ]
  },
  {
   "cell_type": "code",
   "execution_count": 47,
   "metadata": {},
   "outputs": [],
   "source": [
    "pyautogui.click(85, 585) ## AGREGAR TODOS\n",
    "pyautogui.click(142, 291)\n"
   ]
  },
  {
   "cell_type": "code",
   "execution_count": 48,
   "metadata": {},
   "outputs": [],
   "source": [
    "pyautogui.click(142, 291)\n"
   ]
  },
  {
   "cell_type": "code",
   "execution_count": null,
   "metadata": {},
   "outputs": [],
   "source": [
    "pyautogui.click(45, 445)\n",
    "time.sleep(2)\n",
    "driver.find_element_by_xpath('//*[@id=\"divVentanaModal\"]').click()\n",
    "time.sleep(1)\n",
    "driver.find_element_by_xpath('//*[@id=\"Pager_lista_detalle_pantalla_campos_center\"]/table/tbody/tr/td[4]/input').click()\n",
    "time.sleep(1)\n",
    "driver.find_element_by_xpath('//*[@id=\"Pager_lista_detalle_pantalla_campos_center\"]/table/tbody/tr/td[4]/input').send_keys(Keys.CONTROL, 'a')\n",
    "time.sleep(1)\n",
    "driver.find_element_by_xpath('//*[@id=\"Pager_lista_detalle_pantalla_campos_center\"]/table/tbody/tr/td[4]/input').send_keys('2')\n",
    "driver.find_element_by_xpath('//*[@id=\"Pager_lista_detalle_pantalla_campos_center\"]/table/tbody/tr/td[4]/input').click()\n",
    "time.sleep(1)\n",
    "driver.find_element_by_xpath('//*[@id=\"Pager_lista_detalle_pantalla_campos_center\"]/table/tbody/tr/td[4]/input').send_keys(Keys.ENTER)\n",
    "d=driver.find_element_by_xpath('//*[@id=\"6\"]/td[3]')\n",
    "actions=ActionChains(driver)\n",
    "actions.double_click(d).perform()\n",
    "time.sleep(2)\n",
    "pyautogui.click(85, 585)\n",
    "time.sleep(1.5)\n",
    "# driver.find_element_by_xpath('/html/body/div[2]/div[1]/div/div[3]/div[2]/div[2]/div/div[2]/a[3]').click()\n",
    "pyautogui.click(381, 580)\n",
    "time.sleep(10)\n",
    "pyautogui.click(142, 291)\n",
    "# driver.find_element_by_xpath('//*[@id=\"printerCSV_1236\"]/form/div[3]/input[1]').click()\n",
    "# driver.find_element_by_xpath('/html/body/div[2]/div[1]/div/div[3]/div[2]/div[2]/div/div/span[1]/a[2]').click()# \n",
    "time.sleep(5)\n",
    "driver.find_element_by_xpath('//*[@id=\"archivo\"]').click()\n",
    "driver.find_element_by_xpath('//*[@id=\"archivo\"]').click()\n",
    "driver.find_element_by_id(\"archivo\").send_keys(Keys.CONTROL, 'a')\n",
    "driver.find_element_by_id(\"archivo\").send_keys(Keys.BACKSPACE)\n",
    "driver.find_element_by_xpath('//*[@id=\"archivo\"]').send_keys(yesterday +'_seg')\n",
    "time.sleep(5)\n",
    "pyautogui.click(876, 643)  \n",
    "# driver.find_element_by_xpath('//*[@id=\"printerCSV_5863\"]/form/div[3]/input[1]').click()\n",
    "# driver.find_element_by_css_selector('#printerCSV_6877 > form > div.centrar-botones2 > input.botonAzul').click()\n",
    "# driver.find_element_by_xpath('//*[@id=\"printerCSV_5863\"]/form/div[3]/input[1]').click()\n",
    "pyautogui.click(886, 663) "
   ]
  },
  {
   "cell_type": "code",
   "execution_count": null,
   "metadata": {},
   "outputs": [],
   "source": []
  },
  {
   "cell_type": "code",
   "execution_count": null,
   "metadata": {},
   "outputs": [],
   "source": []
  },
  {
   "cell_type": "code",
   "execution_count": null,
   "metadata": {},
   "outputs": [],
   "source": []
  },
  {
   "cell_type": "code",
   "execution_count": null,
   "metadata": {},
   "outputs": [],
   "source": []
  },
  {
   "cell_type": "code",
   "execution_count": 29,
   "metadata": {},
   "outputs": [],
   "source": [
    "WebDriverWait(driver, 20).until(EC.element_to_be_clickable((By.XPATH,'//*[@id=\"detallePantallaVisor_5550\"]/div[1]/div/a[2]'))).click()"
   ]
  },
  {
   "cell_type": "code",
   "execution_count": 33,
   "metadata": {},
   "outputs": [],
   "source": [
    "d=driver.find_element_by_xpath('//*[@id=\"6\"]/td[3]')\n",
    "actions=ActionChains(driver)\n",
    "actions.double_click(d).perform()"
   ]
  },
  {
   "cell_type": "code",
   "execution_count": 32,
   "metadata": {},
   "outputs": [],
   "source": [
    "WebDriverWait(driver, 20).until(EC.element_to_be_clickable((By.XPATH,'//*[@id=\"divVentanaModal\"]'))).click()\n",
    "WebDriverWait(driver, 20).until(EC.element_to_be_clickable((By.XPATH,'//*[@id=\"divVentanaModal\"]'))).click()"
   ]
  },
  {
   "cell_type": "code",
   "execution_count": 26,
   "metadata": {},
   "outputs": [],
   "source": [
    "\n",
    "time.sleep(2)\n",
    "driver.find_element_by_xpath('//*[@id=\"divVentanaModal\"]').click()"
   ]
  },
  {
   "cell_type": "code",
   "execution_count": 17,
   "metadata": {},
   "outputs": [
    {
     "ename": "TimeoutException",
     "evalue": "Message: \n",
     "output_type": "error",
     "traceback": [
      "\u001b[1;31m---------------------------------------------------------------------------\u001b[0m",
      "\u001b[1;31mTimeoutException\u001b[0m                          Traceback (most recent call last)",
      "\u001b[1;32m~\\AppData\\Local\\Temp/ipykernel_4788/4228436032.py\u001b[0m in \u001b[0;36m<module>\u001b[1;34m\u001b[0m\n\u001b[1;32m----> 1\u001b[1;33m \u001b[0mWebDriverWait\u001b[0m\u001b[1;33m(\u001b[0m\u001b[0mdriver\u001b[0m\u001b[1;33m,\u001b[0m \u001b[1;36m20\u001b[0m\u001b[1;33m)\u001b[0m\u001b[1;33m.\u001b[0m\u001b[0muntil\u001b[0m\u001b[1;33m(\u001b[0m\u001b[0mEC\u001b[0m\u001b[1;33m.\u001b[0m\u001b[0melement_to_be_clickable\u001b[0m\u001b[1;33m(\u001b[0m\u001b[1;33m(\u001b[0m\u001b[0mBy\u001b[0m\u001b[1;33m.\u001b[0m\u001b[0mXPATH\u001b[0m\u001b[1;33m,\u001b[0m\u001b[1;34m'//a[text()=\"  Agregar Todos            \"]'\u001b[0m\u001b[1;33m)\u001b[0m\u001b[1;33m)\u001b[0m\u001b[1;33m)\u001b[0m\u001b[1;33m.\u001b[0m\u001b[0mclick\u001b[0m\u001b[1;33m(\u001b[0m\u001b[1;33m)\u001b[0m\u001b[1;33m\u001b[0m\u001b[1;33m\u001b[0m\u001b[0m\n\u001b[0m\u001b[0;32m      2\u001b[0m \u001b[0mWebDriverWait\u001b[0m\u001b[1;33m(\u001b[0m\u001b[0mdriver\u001b[0m\u001b[1;33m,\u001b[0m \u001b[1;36m20\u001b[0m\u001b[1;33m)\u001b[0m\u001b[1;33m.\u001b[0m\u001b[0muntil\u001b[0m\u001b[1;33m(\u001b[0m\u001b[0mEC\u001b[0m\u001b[1;33m.\u001b[0m\u001b[0melement_to_be_clickable\u001b[0m\u001b[1;33m(\u001b[0m\u001b[1;33m(\u001b[0m\u001b[0mBy\u001b[0m\u001b[1;33m.\u001b[0m\u001b[0mXPATH\u001b[0m\u001b[1;33m,\u001b[0m\u001b[1;34m'//a[text()=\"  Generar Informe            \"]'\u001b[0m\u001b[1;33m)\u001b[0m\u001b[1;33m)\u001b[0m\u001b[1;33m)\u001b[0m\u001b[1;33m.\u001b[0m\u001b[0mclick\u001b[0m\u001b[1;33m(\u001b[0m\u001b[1;33m)\u001b[0m\u001b[1;33m\u001b[0m\u001b[1;33m\u001b[0m\u001b[0m\n",
      "\u001b[1;32m~\\.conda\\envs\\cbz\\lib\\site-packages\\selenium\\webdriver\\support\\wait.py\u001b[0m in \u001b[0;36muntil\u001b[1;34m(self, method, message)\u001b[0m\n\u001b[0;32m     78\u001b[0m             \u001b[1;32mif\u001b[0m \u001b[0mtime\u001b[0m\u001b[1;33m.\u001b[0m\u001b[0mtime\u001b[0m\u001b[1;33m(\u001b[0m\u001b[1;33m)\u001b[0m \u001b[1;33m>\u001b[0m \u001b[0mend_time\u001b[0m\u001b[1;33m:\u001b[0m\u001b[1;33m\u001b[0m\u001b[1;33m\u001b[0m\u001b[0m\n\u001b[0;32m     79\u001b[0m                 \u001b[1;32mbreak\u001b[0m\u001b[1;33m\u001b[0m\u001b[1;33m\u001b[0m\u001b[0m\n\u001b[1;32m---> 80\u001b[1;33m         \u001b[1;32mraise\u001b[0m \u001b[0mTimeoutException\u001b[0m\u001b[1;33m(\u001b[0m\u001b[0mmessage\u001b[0m\u001b[1;33m,\u001b[0m \u001b[0mscreen\u001b[0m\u001b[1;33m,\u001b[0m \u001b[0mstacktrace\u001b[0m\u001b[1;33m)\u001b[0m\u001b[1;33m\u001b[0m\u001b[1;33m\u001b[0m\u001b[0m\n\u001b[0m\u001b[0;32m     81\u001b[0m \u001b[1;33m\u001b[0m\u001b[0m\n\u001b[0;32m     82\u001b[0m     \u001b[1;32mdef\u001b[0m \u001b[0muntil_not\u001b[0m\u001b[1;33m(\u001b[0m\u001b[0mself\u001b[0m\u001b[1;33m,\u001b[0m \u001b[0mmethod\u001b[0m\u001b[1;33m,\u001b[0m \u001b[0mmessage\u001b[0m\u001b[1;33m=\u001b[0m\u001b[1;34m''\u001b[0m\u001b[1;33m)\u001b[0m\u001b[1;33m:\u001b[0m\u001b[1;33m\u001b[0m\u001b[1;33m\u001b[0m\u001b[0m\n",
      "\u001b[1;31mTimeoutException\u001b[0m: Message: \n"
     ]
    }
   ],
   "source": [
    "WebDriverWait(driver, 20).until(EC.element_to_be_clickable((By.XPATH,'//a[text()=\"  Agregar Todos            \"]'))).click()\n",
    "WebDriverWait(driver, 20).until(EC.element_to_be_clickable((By.XPATH,'//a[text()=\"  Generar Informe            \"]'))).click()\n",
    "WebDriverWait(driver, 20).until(EC.element_to_be_clickable((By.XPATH,'//a[@title=\"Exportar informe a archivo plano\"]'))).click()"
   ]
  },
  {
   "cell_type": "code",
   "execution_count": null,
   "metadata": {},
   "outputs": [],
   "source": [
    "WebDriverWait(driver, 20).until(EC.element_to_be_clickable((By.ID,'archivo'))).click()\n",
    "WebDriverWait(driver, 20).until(EC.element_to_be_clickable((By.XPATH,'//*[@id=\"archivo\"]'))).send_keys(Keys.CONTROL, 'a')\n",
    "WebDriverWait(driver, 20).until(EC.element_to_be_clickable((By.ID,'archivo'))).send_keys(Keys.BACKSPACE)\n",
    "\n",
    "WebDriverWait(driver, 20).until(EC.element_to_be_clickable((By.CSS_SELECTOR,'[value=\"Exportar\"]'))).send_keys(yesterday +'_seg')\n",
    "\n"
   ]
  },
  {
   "cell_type": "code",
   "execution_count": 18,
   "metadata": {},
   "outputs": [],
   "source": [
    "# driver.find_element_by_id('archivo').click()\n",
    "time.sleep(2)\n",
    "driver.find_element_by_id(\"archivo\").send_keys(Keys.CONTROL, 'a')\n",
    "time.sleep(2)\n",
    "driver.find_element_by_id(\"archivo\").send_keys(Keys.BACKSPACE)\n",
    "time.sleep(2)\n",
    "time.sleep(2)\n",
    "driver.find_element_by_xpath('//*[@id=\"archivo\"]').send_keys(\"Informe_\"+now+\"_compvig\")\n",
    "time.sleep(2)\n",
    "driver.find_element_by_css_selector('[value=\"Exportar\"]').click()"
   ]
  },
  {
   "cell_type": "code",
   "execution_count": null,
   "metadata": {},
   "outputs": [],
   "source": [
    "driver.find_element_by_xpath('//*[@id=\"select2-drop\"]/ul/li/div').click()\n",
    "driver.find_element_by_xpath('//*[@id=\"valor\"]').send_keys(\"TEL\")\n",
    "driver.find_element_by_xpath('//*[@id=\"btnAgregarCriterio\"]/span').click()\n",
    "\n",
    "driver.find_element_by_xpath('//*[@id=\"add_tab\"]').click()"
   ]
  },
  {
   "cell_type": "code",
   "execution_count": null,
   "metadata": {},
   "outputs": [],
   "source": [
    "driver.find_element_by_xpath('//*[@id=\"s2id_ope\"]/a/span[1]').click()\n",
    "driver.find_element_by_xpath('//*[@id=\"select2-drop\"]/div/input').send_keys(\"Igual Que\")\n",
    "driver.find_element_by_xpath('//*[@id=\"select2-drop\"]/div/input').click()\n",
    "# driver.find_element_by_xpath('//*[@id=\"select2-drop\"]/ul/li[1]/div').send_keys(Keys.ENTER)\n",
    "driver.find_element_by_xpath('//*[@id=\"select2-drop\"]/ul/li/div').click()\n",
    "driver.find_element_by_xpath('//*[@id=\"valor\"]').send_keys(\"TEL\")\n",
    "driver.find_element_by_xpath('//*[@id=\"btnAgregarCriterio\"]/span').click()\n",
    "\n",
    "driver.find_element_by_xpath('//*[@id=\"add_tab\"]').click()"
   ]
  },
  {
   "cell_type": "code",
   "execution_count": 8,
   "metadata": {},
   "outputs": [],
   "source": [
    "WebDriverWait(driver, 20).until(EC.element_to_be_clickable((By.XPATH,'//*[@id=\"valor\"]'))).send_keys(\"emtelco\")\n"
   ]
  },
  {
   "cell_type": "code",
   "execution_count": 6,
   "metadata": {},
   "outputs": [
    {
     "ename": "TimeoutException",
     "evalue": "Message: \n",
     "output_type": "error",
     "traceback": [
      "\u001b[1;31m---------------------------------------------------------------------------\u001b[0m",
      "\u001b[1;31mTimeoutException\u001b[0m                          Traceback (most recent call last)",
      "\u001b[1;32m~\\AppData\\Local\\Temp/ipykernel_4788/1034556502.py\u001b[0m in \u001b[0;36m<module>\u001b[1;34m\u001b[0m\n\u001b[1;32m----> 1\u001b[1;33m \u001b[0mWebDriverWait\u001b[0m\u001b[1;33m(\u001b[0m\u001b[0mdriver\u001b[0m\u001b[1;33m,\u001b[0m \u001b[1;36m20\u001b[0m\u001b[1;33m)\u001b[0m\u001b[1;33m.\u001b[0m\u001b[0muntil\u001b[0m\u001b[1;33m(\u001b[0m\u001b[0mEC\u001b[0m\u001b[1;33m.\u001b[0m\u001b[0melement_to_be_clickable\u001b[0m\u001b[1;33m(\u001b[0m\u001b[1;33m(\u001b[0m\u001b[0mBy\u001b[0m\u001b[1;33m.\u001b[0m\u001b[0mXPATH\u001b[0m\u001b[1;33m,\u001b[0m\u001b[1;34m'//*[@id=\"select2-drop\"]/ul/li/div/span'\u001b[0m\u001b[1;33m)\u001b[0m\u001b[1;33m)\u001b[0m\u001b[1;33m)\u001b[0m\u001b[1;33m.\u001b[0m\u001b[0mclick\u001b[0m\u001b[1;33m(\u001b[0m\u001b[1;33m)\u001b[0m\u001b[1;33m\u001b[0m\u001b[1;33m\u001b[0m\u001b[0m\n\u001b[0m\u001b[0;32m      2\u001b[0m \u001b[0mWebDriverWait\u001b[0m\u001b[1;33m(\u001b[0m\u001b[0mdriver\u001b[0m\u001b[1;33m,\u001b[0m \u001b[1;36m20\u001b[0m\u001b[1;33m)\u001b[0m\u001b[1;33m.\u001b[0m\u001b[0muntil\u001b[0m\u001b[1;33m(\u001b[0m\u001b[0mEC\u001b[0m\u001b[1;33m.\u001b[0m\u001b[0melement_to_be_clickable\u001b[0m\u001b[1;33m(\u001b[0m\u001b[1;33m(\u001b[0m\u001b[0mBy\u001b[0m\u001b[1;33m.\u001b[0m\u001b[0mXPATH\u001b[0m\u001b[1;33m,\u001b[0m\u001b[1;34m'//*[@id=\"valor\"]'\u001b[0m\u001b[1;33m)\u001b[0m\u001b[1;33m)\u001b[0m\u001b[1;33m)\u001b[0m\u001b[1;33m.\u001b[0m\u001b[0msend_keys\u001b[0m\u001b[1;33m(\u001b[0m\u001b[1;34m\"emtelco\"\u001b[0m\u001b[1;33m)\u001b[0m\u001b[1;33m\u001b[0m\u001b[1;33m\u001b[0m\u001b[0m\n\u001b[0;32m      3\u001b[0m \u001b[0mWebDriverWait\u001b[0m\u001b[1;33m(\u001b[0m\u001b[0mdriver\u001b[0m\u001b[1;33m,\u001b[0m \u001b[1;36m20\u001b[0m\u001b[1;33m)\u001b[0m\u001b[1;33m.\u001b[0m\u001b[0muntil\u001b[0m\u001b[1;33m(\u001b[0m\u001b[0mEC\u001b[0m\u001b[1;33m.\u001b[0m\u001b[0melement_to_be_clickable\u001b[0m\u001b[1;33m(\u001b[0m\u001b[1;33m(\u001b[0m\u001b[0mBy\u001b[0m\u001b[1;33m.\u001b[0m\u001b[0mXPATH\u001b[0m\u001b[1;33m,\u001b[0m\u001b[1;34m'//*[@id=\"select2-drop\"]/ul/li/div/span'\u001b[0m\u001b[1;33m)\u001b[0m\u001b[1;33m)\u001b[0m\u001b[1;33m)\u001b[0m\u001b[1;33m.\u001b[0m\u001b[0mclick\u001b[0m\u001b[1;33m(\u001b[0m\u001b[1;33m)\u001b[0m\u001b[1;33m\u001b[0m\u001b[1;33m\u001b[0m\u001b[0m\n\u001b[0;32m      4\u001b[0m \u001b[0mWebDriverWait\u001b[0m\u001b[1;33m(\u001b[0m\u001b[0mdriver\u001b[0m\u001b[1;33m,\u001b[0m \u001b[1;36m20\u001b[0m\u001b[1;33m)\u001b[0m\u001b[1;33m.\u001b[0m\u001b[0muntil\u001b[0m\u001b[1;33m(\u001b[0m\u001b[0mEC\u001b[0m\u001b[1;33m.\u001b[0m\u001b[0melement_to_be_clickable\u001b[0m\u001b[1;33m(\u001b[0m\u001b[1;33m(\u001b[0m\u001b[0mBy\u001b[0m\u001b[1;33m.\u001b[0m\u001b[0mXPATH\u001b[0m\u001b[1;33m,\u001b[0m\u001b[1;34m'//*[@id=\"valor\"]'\u001b[0m\u001b[1;33m)\u001b[0m\u001b[1;33m)\u001b[0m\u001b[1;33m)\u001b[0m\u001b[1;33m.\u001b[0m\u001b[0mclick\u001b[0m\u001b[1;33m(\u001b[0m\u001b[1;33m)\u001b[0m\u001b[1;33m\u001b[0m\u001b[1;33m\u001b[0m\u001b[0m\n\u001b[0;32m      5\u001b[0m \u001b[0mWebDriverWait\u001b[0m\u001b[1;33m(\u001b[0m\u001b[0mdriver\u001b[0m\u001b[1;33m,\u001b[0m \u001b[1;36m20\u001b[0m\u001b[1;33m)\u001b[0m\u001b[1;33m.\u001b[0m\u001b[0muntil\u001b[0m\u001b[1;33m(\u001b[0m\u001b[0mEC\u001b[0m\u001b[1;33m.\u001b[0m\u001b[0melement_to_be_clickable\u001b[0m\u001b[1;33m(\u001b[0m\u001b[1;33m(\u001b[0m\u001b[0mBy\u001b[0m\u001b[1;33m.\u001b[0m\u001b[0mXPATH\u001b[0m\u001b[1;33m,\u001b[0m\u001b[1;34m'//*[@id=\"btnAgregarCriterio\"]/span'\u001b[0m\u001b[1;33m)\u001b[0m\u001b[1;33m)\u001b[0m\u001b[1;33m)\u001b[0m\u001b[1;33m.\u001b[0m\u001b[0mclick\u001b[0m\u001b[1;33m(\u001b[0m\u001b[1;33m)\u001b[0m\u001b[1;33m\u001b[0m\u001b[1;33m\u001b[0m\u001b[0m\n",
      "\u001b[1;32m~\\.conda\\envs\\cbz\\lib\\site-packages\\selenium\\webdriver\\support\\wait.py\u001b[0m in \u001b[0;36muntil\u001b[1;34m(self, method, message)\u001b[0m\n\u001b[0;32m     78\u001b[0m             \u001b[1;32mif\u001b[0m \u001b[0mtime\u001b[0m\u001b[1;33m.\u001b[0m\u001b[0mtime\u001b[0m\u001b[1;33m(\u001b[0m\u001b[1;33m)\u001b[0m \u001b[1;33m>\u001b[0m \u001b[0mend_time\u001b[0m\u001b[1;33m:\u001b[0m\u001b[1;33m\u001b[0m\u001b[1;33m\u001b[0m\u001b[0m\n\u001b[0;32m     79\u001b[0m                 \u001b[1;32mbreak\u001b[0m\u001b[1;33m\u001b[0m\u001b[1;33m\u001b[0m\u001b[0m\n\u001b[1;32m---> 80\u001b[1;33m         \u001b[1;32mraise\u001b[0m \u001b[0mTimeoutException\u001b[0m\u001b[1;33m(\u001b[0m\u001b[0mmessage\u001b[0m\u001b[1;33m,\u001b[0m \u001b[0mscreen\u001b[0m\u001b[1;33m,\u001b[0m \u001b[0mstacktrace\u001b[0m\u001b[1;33m)\u001b[0m\u001b[1;33m\u001b[0m\u001b[1;33m\u001b[0m\u001b[0m\n\u001b[0m\u001b[0;32m     81\u001b[0m \u001b[1;33m\u001b[0m\u001b[0m\n\u001b[0;32m     82\u001b[0m     \u001b[1;32mdef\u001b[0m \u001b[0muntil_not\u001b[0m\u001b[1;33m(\u001b[0m\u001b[0mself\u001b[0m\u001b[1;33m,\u001b[0m \u001b[0mmethod\u001b[0m\u001b[1;33m,\u001b[0m \u001b[0mmessage\u001b[0m\u001b[1;33m=\u001b[0m\u001b[1;34m''\u001b[0m\u001b[1;33m)\u001b[0m\u001b[1;33m:\u001b[0m\u001b[1;33m\u001b[0m\u001b[1;33m\u001b[0m\u001b[0m\n",
      "\u001b[1;31mTimeoutException\u001b[0m: Message: \n"
     ]
    }
   ],
   "source": [
    "\n",
    "\n",
    "\n",
    "\n",
    "\n",
    "# driver.find_element_by_xpath('//*[@id=\"select2-drop\"]/div/input').send_keys(\"Clase De Gestión\")\n"
   ]
  },
  {
   "cell_type": "code",
   "execution_count": null,
   "metadata": {},
   "outputs": [],
   "source": [
    "# driver.find_element_by_xpath('//*[@id=\"s2id_ope\"]/a/span[1]').click()\n",
    "# driver.find_element_by_xpath('//*[@id=\"select2-drop\"]/div/input').send_keys(\"Mayor o Igual Que\")\n",
    "# driver.find_element_by_xpath('//*[@id=\"select2-drop\"]/ul/li/div').click()\n",
    "# driver.find_element_by_xpath('//*[@id=\"valor\"]').send_keys(yesterday)\n",
    "# driver.find_element_by_xpath('//*[@id=\"btnAgregarCriterio\"]/span').click()\n",
    "# time.sleep(1)\n",
    "# driver.find_element_by_xpath('//*[@id=\"s2id_col\"]/a/span[1]').click()\n",
    "# driver.find_element_by_xpath('//*[@id=\"select2-drop\"]/div/input').send_keys(\"Clase De Gestión\")\n",
    "# driver.find_element_by_xpath('//*[@id=\"select2-drop\"]/div/input').send_keys(Keys.ENTER)\n",
    "driver.find_element_by_xpath('//*[@id=\"s2id_ope\"]/a/span[1]').click()\n",
    "driver.find_element_by_xpath('//*[@id=\"select2-drop\"]/div/input').send_keys(\"Igual Que\")\n",
    "driver.find_element_by_xpath('//*[@id=\"select2-drop\"]/div/input').click()\n",
    "# driver.find_element_by_xpath('//*[@id=\"select2-drop\"]/ul/li[1]/div').send_keys(Keys.ENTER)\n",
    "driver.find_element_by_xpath('//*[@id=\"select2-drop\"]/ul/li/div').click()\n",
    "driver.find_element_by_xpath('//*[@id=\"valor\"]').send_keys(\"TEL\")\n",
    "driver.find_element_by_xpath('//*[@id=\"btnAgregarCriterio\"]/span').click()\n"
   ]
  },
  {
   "cell_type": "code",
   "execution_count": null,
   "metadata": {},
   "outputs": [],
   "source": [
    "# driver.find_element_by_xpath('//*[@id=\"valor\"]').send_keys(\"emtelco\")\n",
    "        time.sleep(1)\n",
    "        driver.find_element_by_xpath('//*[@id=\"btnAgregarCriterio\"]/span').click()\n",
    "        driver.find_element_by_xpath('//*[@id=\"s2id_col\"]/a/span[1]').click()\n",
    "        driver.find_element_by_xpath('//*[@id=\"select2-drop\"]/div/input').send_keys(\"Fecha Gestion\")\n",
    "        time.sleep(1)\n",
    "        driver.find_element_by_xpath('//*[@id=\"select2-drop\"]/ul/li/div/span').click()\n",
    "        time.sleep(1)"
   ]
  },
  {
   "cell_type": "code",
   "execution_count": null,
   "metadata": {},
   "outputs": [],
   "source": [
    "driver.find_element_by_xpath('//*[@id=\"select2-drop\"]/ul/li/div/span').click()\n",
    "        time.sleep(1)\n",
    "        driver.find_element_by_xpath('//*[@id=\"valor\"]').send_keys(\"emtelco\")"
   ]
  },
  {
   "cell_type": "code",
   "execution_count": null,
   "metadata": {},
   "outputs": [],
   "source": [
    "driver.find_element_by_xpath('//*[@id=\"select2-drop\"]/div/input').send_keys(\"Detalle en pantalla\")\n",
    "        driver.find_element_by_xpath('//*[@id=\"select2-drop\"]/ul/li/div/span').click()\n",
    "        driver.find_element_by_xpath('//*[@id=\"s2id_col\"]/a/span[1]').click()\n",
    "        driver.find_element_by_xpath('//*[@id=\"select2-drop\"]/div/input').send_keys(\"Responsable De Cobro\")\n",
    "        time.sleep(1)\n",
    "        driver.find_element_by_xpath('//*[@id=\"select2-drop\"]/ul/li/div/span').click()\n",
    "        time.sleep(1)\n",
    "        driver.find_element_by_xpath('//*[@id=\"valor\"]').send_keys(\"emtelco\")\n",
    "        time.sleep(1)\n",
    "        driver.find_element_by_xpath('//*[@id=\"btnAgregarCriterio\"]/span').click()\n",
    "        driver.find_element_by_xpath('//*[@id=\"s2id_col\"]/a/span[1]').click()\n",
    "        driver.find_element_by_xpath('//*[@id=\"select2-drop\"]/div/input').send_keys(\"Fecha Gestion\")\n",
    "        time.sleep(1)\n",
    "        driver.find_element_by_xpath('//*[@id=\"select2-drop\"]/ul/li/div/span').click()\n",
    "        time.sleep(1)"
   ]
  },
  {
   "cell_type": "code",
   "execution_count": null,
   "metadata": {},
   "outputs": [],
   "source": []
  },
  {
   "cell_type": "code",
   "execution_count": null,
   "metadata": {},
   "outputs": [],
   "source": [
    "driver.find_element_by_id(\"usuario\").send_keys(\"am3377767\")\n",
    "driver.find_element_by_id(\"clave\").send_keys(\"1979*Faro\")\n",
    "time.sleep(3)\n",
    "driver.find_element_by_css_selector('#login-content > div.entrar > button').click()\n",
    "time.sleep(3)\n",
    "driver.find_element_by_xpath('//span[text()=\"Gestión\"]').click()\n",
    "time.sleep(3)\n",
    "\n",
    "\n",
    "\n",
    "\n",
    "\n",
    "WebDriverWait(driver, 20).until(EC.element_to_be_clickable((By.XPATH,'//a[text()=\"  Generar Informe            \"]'))).click()"
   ]
  }
 ],
 "metadata": {
  "interpreter": {
   "hash": "2d4f8d63f2389a0022cfb41e901b8c9989bdcffcbe1781a3faa97b2228513d41"
  },
  "kernelspec": {
   "display_name": "Python 3.8.2 64-bit ('cbz': conda)",
   "name": "python3"
  },
  "language_info": {
   "codemirror_mode": {
    "name": "ipython",
    "version": 3
   },
   "file_extension": ".py",
   "mimetype": "text/x-python",
   "name": "python",
   "nbconvert_exporter": "python",
   "pygments_lexer": "ipython3",
   "version": "3.8.2"
  },
  "orig_nbformat": 4
 },
 "nbformat": 4,
 "nbformat_minor": 2
}
