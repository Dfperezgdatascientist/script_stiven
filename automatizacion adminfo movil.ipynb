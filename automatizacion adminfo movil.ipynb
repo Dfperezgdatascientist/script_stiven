{
    "cells": [
        {
            "cell_type": "code",
            "execution_count": 1,
            "source": [
                "from selenium import webdriver\r\n",
                "from selenium.webdriver import ActionChains\r\n",
                "from selenium.webdriver.chrome.options import Options\r\n",
                "import time\r\n",
                "import pyautogui\r\n",
                "from selenium.webdriver.common.keys import Keys\r\n",
                "import datetime as dt"
            ],
            "outputs": [],
            "metadata": {}
        },
        {
            "cell_type": "code",
            "execution_count": 2,
            "source": [
                "now=dt.datetime.now().strftime('%Y%m%d')"
            ],
            "outputs": [],
            "metadata": {}
        },
        {
            "cell_type": "code",
            "execution_count": 3,
            "source": [
                "driver=webdriver.Chrome(executable_path=r\"C:\\Users\\scadacat\\.conda\\envs\\cbz\\chromedriver.exe\")\r\n",
                "driver.get(\"https://tigo.adminfo.net/vsmart/index.php?rtr=mantenimiento&ctr=autenticacion&acc=\")\r\n",
                "driver.maximize_window()\r\n",
                "driver.find_element_by_id(\"usuario\").send_keys(\"am3377767\")\r\n",
                "driver.find_element_by_id(\"clave\").send_keys(\"1979*Faro\")\r\n",
                "time.sleep(3)\r\n",
                "driver.find_element_by_css_selector('#login-content > div.entrar > button').click()\r\n",
                "time.sleep(3)\r\n",
                "# driver.find_element_by_css_selector('botonesModulos > a:nth-child(2)').click()\r\n",
                "# driver.find_element_by_css_selector('primerFocus > td:nth-child(2) > a').click()\r\n",
                "pyautogui.click(1085, 671)\r\n",
                "time.sleep(4)\r\n",
                "pyautogui.click(822, 570)\r\n",
                "time.sleep(2)\r\n",
                "pyautogui.click(234, 134)\r\n",
                "driver.find_element_by_xpath('//*[@id=\"navigation\"]/li[2]/a/span/p/span').click()\r\n",
                "pyautogui.click(247, 171)\r\n",
                "driver.find_element_by_xpath('//*[@id=\"s2id_agrupador\"]/a/span[1]').click()\r\n",
                "driver.find_element_by_xpath('//*[@id=\"select2-drop\"]/div/input').send_keys(\"Detalle en pantalla\")\r\n",
                "driver.find_element_by_xpath('//*[@id=\"select2-drop\"]/ul/li/div').click()\r\n",
                "time.sleep(1)\r\n",
                "driver.find_element_by_xpath('//*[@id=\"s2id_col\"]/a/span[1]').click()\r\n",
                "driver.find_element_by_xpath('//*[@id=\"select2-drop\"]/div/input').send_keys(\"Responsable De Cobro\")\r\n",
                "time.sleep(1)\r\n",
                "driver.find_element_by_xpath('//*[@id=\"select2-drop\"]/ul/li/div').click()\r\n",
                "driver.find_element_by_xpath('//*[@id=\"valor\"]').send_keys(\"emtelco\")\r\n",
                "driver.find_element_by_xpath('//*[@id=\"btnAgregarCriterio\"]/span').click()\r\n",
                "driver.find_element_by_xpath('//*[@id=\"s2id_col\"]/a/span[1]').click()\r\n",
                "driver.find_element_by_xpath('//*[@id=\"select2-drop\"]/div/input').send_keys(\"Número Traslado\")\r\n",
                "driver.find_element_by_xpath('//*[@id=\"select2-drop\"]/ul/li/div/span').click()\r\n",
                "driver.find_element_by_xpath('//*[@id=\"s2id_ope\"]/a/span[2]/b').click()\r\n",
                "driver.find_element_by_xpath('//*[@id=\"select2-drop\"]/div/input').send_keys(\"No Incluya\")\r\n",
                "driver.find_element_by_xpath('//*[@id=\"select2-drop\"]/ul/li/div').click()\r\n",
                "driver.find_element_by_xpath('//*[@id=\"valor\"]').send_keys(\"23211\")\r\n",
                "driver.find_element_by_xpath('//*[@id=\"btnAgregarCriterio\"]/span').click()\r\n",
                "driver.find_element_by_xpath('//*[@id=\"add_tab\"]').click()\r\n",
                "# driver.find_element_by_xpath('/html/body/div[2]/div[1]/div/div[3]/div/div[2]/div[2]/div/div[2]/a[1]').click()\r\n",
                "time.sleep(1)\r\n",
                "pyautogui.click(89, 592)\r\n",
                "time.sleep(1.5)\r\n",
                "pyautogui.click(89, 592)\r\n",
                "time.sleep(10)\r\n",
                "pyautogui.click(372, 592)\r\n",
                "time.sleep(25)\r\n",
                "driver.find_element_by_xpath('//*[@id=\"toolbar\"]/a[3]').click()\r\n",
                "time.sleep(5)\r\n",
                "driver.find_element_by_xpath('//*[@id=\"archivo\"]').click()\r\n",
                "driver.find_element_by_xpath('//*[@id=\"archivo\"]').click()\r\n",
                "driver.find_element_by_id(\"archivo\").send_keys(Keys.CONTROL, 'a')\r\n",
                "driver.find_element_by_id(\"archivo\").send_keys(Keys.BACKSPACE)\r\n",
                "driver.find_element_by_xpath('//*[@id=\"archivo\"]').send_keys(now +'_IGC')\r\n",
                "time.sleep(1)\r\n",
                "# driver.find_element_by_xpath('//*[@id=\"printerCSV_7781\"]/form/div[3]/input[1]').click()\r\n",
                "driver.find_element_by_xpath('/html/body/div[2]/div[1]/div/div[3]/div/div[2]/div[2]/div/div/div[2]/form/div[3]/input[1]').click()\r\n",
                "pyautogui.click(884, 655)\r\n",
                "time.sleep(38)\r\n",
                "driver.close()"
            ],
            "outputs": [],
            "metadata": {}
        },
        {
            "cell_type": "code",
            "execution_count": null,
            "source": [],
            "outputs": [],
            "metadata": {}
        }
    ],
    "metadata": {
        "orig_nbformat": 4,
        "language_info": {
            "name": "python",
            "version": "3.8.2",
            "mimetype": "text/x-python",
            "codemirror_mode": {
                "name": "ipython",
                "version": 3
            },
            "pygments_lexer": "ipython3",
            "nbconvert_exporter": "python",
            "file_extension": ".py"
        },
        "kernelspec": {
            "name": "python3",
            "display_name": "Python 3.8.2 64-bit ('cbz': conda)"
        },
        "interpreter": {
            "hash": "2d4f8d63f2389a0022cfb41e901b8c9989bdcffcbe1781a3faa97b2228513d41"
        }
    },
    "nbformat": 4,
    "nbformat_minor": 2
}