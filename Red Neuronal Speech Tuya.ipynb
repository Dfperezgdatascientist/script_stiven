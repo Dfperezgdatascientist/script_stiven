{
 "cells": [
  {
   "cell_type": "markdown",
   "metadata": {},
   "source": [
    "### Importamos las librerias"
   ]
  },
  {
   "cell_type": "code",
   "execution_count": 1,
   "metadata": {},
   "outputs": [],
   "source": [
    "import re\n",
    "import os\n",
    "import pandas as pd\n",
    "import numpy as np\n",
    "import seaborn as sns\n",
    "import matplotlib.pyplot as plt"
   ]
  },
  {
   "cell_type": "markdown",
   "metadata": {},
   "source": [
    "### Importamos los datos"
   ]
  },
  {
   "cell_type": "code",
   "execution_count": 2,
   "metadata": {},
   "outputs": [],
   "source": [
    "conversacion = pd.read_excel('D:/Proyecto Speech Tuya/Clasificación/Diccionarios Modelo Tuya.xlsx', sheet_name='Conversación')\n",
    "diccionarios = pd.read_excel('D:/Proyecto Speech Tuya/Clasificación/Diccionarios Modelo Tuya.xlsx', sheet_name='Diccionarios')"
   ]
  },
  {
   "cell_type": "code",
   "execution_count": 3,
   "metadata": {},
   "outputs": [
    {
     "data": {
      "text/html": [
       "<div>\n",
       "<style scoped>\n",
       "    .dataframe tbody tr th:only-of-type {\n",
       "        vertical-align: middle;\n",
       "    }\n",
       "\n",
       "    .dataframe tbody tr th {\n",
       "        vertical-align: top;\n",
       "    }\n",
       "\n",
       "    .dataframe thead th {\n",
       "        text-align: right;\n",
       "    }\n",
       "</style>\n",
       "<table border=\"1\" class=\"dataframe\">\n",
       "  <thead>\n",
       "    <tr style=\"text-align: right;\">\n",
       "      <th></th>\n",
       "      <th>No.</th>\n",
       "      <th>CallID</th>\n",
       "      <th>Canal</th>\n",
       "      <th>Conversación</th>\n",
       "      <th>Duración</th>\n",
       "      <th>Conversando</th>\n",
       "      <th>Producto</th>\n",
       "      <th>Marca</th>\n",
       "      <th>Pregunta</th>\n",
       "      <th>Respuesta</th>\n",
       "    </tr>\n",
       "  </thead>\n",
       "  <tbody>\n",
       "    <tr>\n",
       "      <th>0</th>\n",
       "      <td>1</td>\n",
       "      <td>QR355L089D6DF5UMC1N72V3QO40253LD</td>\n",
       "      <td>Asesor</td>\n",
       "      <td>Buenas tardes Don Fernando ya se volvió hablar</td>\n",
       "      <td>133</td>\n",
       "      <td>57.0</td>\n",
       "      <td>tarjeta_alkosto</td>\n",
       "      <td>ALKOSTO</td>\n",
       "      <td>¿Fue resuelta tu consulta o solicitud?</td>\n",
       "      <td>Sí</td>\n",
       "    </tr>\n",
       "    <tr>\n",
       "      <th>1</th>\n",
       "      <td>2</td>\n",
       "      <td>1BDJ5HE3VH49BE2DOONBQ25OJC009NNC</td>\n",
       "      <td>Cliente</td>\n",
       "      <td>Buenas tardes Habla con el pan fácil</td>\n",
       "      <td>133</td>\n",
       "      <td>57.0</td>\n",
       "      <td>tarjeta_alkosto</td>\n",
       "      <td>ALKOSTO</td>\n",
       "      <td>¿Fue resuelta tu consulta o solicitud?</td>\n",
       "      <td>Sí</td>\n",
       "    </tr>\n",
       "    <tr>\n",
       "      <th>2</th>\n",
       "      <td>3</td>\n",
       "      <td>1BDJ5HE3VH49BE2DOONBQ25OJC009NNC</td>\n",
       "      <td>Cliente</td>\n",
       "      <td>bien gracias hágame un favor es que necesito ...</td>\n",
       "      <td>133</td>\n",
       "      <td>57.0</td>\n",
       "      <td>tarjeta_alkosto</td>\n",
       "      <td>ALKOSTO</td>\n",
       "      <td>¿Fue resuelta tu consulta o solicitud?</td>\n",
       "      <td>Sí</td>\n",
       "    </tr>\n",
       "    <tr>\n",
       "      <th>3</th>\n",
       "      <td>4</td>\n",
       "      <td>1BDJ5HE3VH49BE2DOONBQ25OJC009NNC</td>\n",
       "      <td>Cliente</td>\n",
       "      <td>cuánto debo Cancelar este mes</td>\n",
       "      <td>133</td>\n",
       "      <td>57.0</td>\n",
       "      <td>tarjeta_alkosto</td>\n",
       "      <td>ALKOSTO</td>\n",
       "      <td>¿Fue resuelta tu consulta o solicitud?</td>\n",
       "      <td>Sí</td>\n",
       "    </tr>\n",
       "    <tr>\n",
       "      <th>4</th>\n",
       "      <td>5</td>\n",
       "      <td>1BDJ5HE3VH49BE2DOONBQ25OJC009NNC</td>\n",
       "      <td>Asesor</td>\n",
       "      <td>me alegras Cómo le fue a ayudar Permítame un ...</td>\n",
       "      <td>133</td>\n",
       "      <td>57.0</td>\n",
       "      <td>tarjeta_alkosto</td>\n",
       "      <td>ALKOSTO</td>\n",
       "      <td>¿Fue resuelta tu consulta o solicitud?</td>\n",
       "      <td>Sí</td>\n",
       "    </tr>\n",
       "    <tr>\n",
       "      <th>...</th>\n",
       "      <td>...</td>\n",
       "      <td>...</td>\n",
       "      <td>...</td>\n",
       "      <td>...</td>\n",
       "      <td>...</td>\n",
       "      <td>...</td>\n",
       "      <td>...</td>\n",
       "      <td>...</td>\n",
       "      <td>...</td>\n",
       "      <td>...</td>\n",
       "    </tr>\n",
       "    <tr>\n",
       "      <th>39784</th>\n",
       "      <td>39785</td>\n",
       "      <td>QR355L089D6DF5UMC1N72V3QO402CGHM</td>\n",
       "      <td>Asesor</td>\n",
       "      <td>ella debe activar automático Sí señor por eje...</td>\n",
       "      <td>NaN</td>\n",
       "      <td>NaN</td>\n",
       "      <td>NaN</td>\n",
       "      <td>NaN</td>\n",
       "      <td>NaN</td>\n",
       "      <td>NaN</td>\n",
       "    </tr>\n",
       "    <tr>\n",
       "      <th>39785</th>\n",
       "      <td>39786</td>\n",
       "      <td>QR355L089D6DF5UMC1N72V3QO402CGHM</td>\n",
       "      <td>Asesor</td>\n",
       "      <td>sí señor</td>\n",
       "      <td>NaN</td>\n",
       "      <td>NaN</td>\n",
       "      <td>NaN</td>\n",
       "      <td>NaN</td>\n",
       "      <td>NaN</td>\n",
       "      <td>NaN</td>\n",
       "    </tr>\n",
       "    <tr>\n",
       "      <th>39786</th>\n",
       "      <td>39787</td>\n",
       "      <td>QR355L089D6DF5UMC1N72V3QO402CGHM</td>\n",
       "      <td>Asesor</td>\n",
       "      <td>bueno con mucho gusto que tenga un buen día s...</td>\n",
       "      <td>NaN</td>\n",
       "      <td>NaN</td>\n",
       "      <td>NaN</td>\n",
       "      <td>NaN</td>\n",
       "      <td>NaN</td>\n",
       "      <td>NaN</td>\n",
       "    </tr>\n",
       "    <tr>\n",
       "      <th>39787</th>\n",
       "      <td>39788</td>\n",
       "      <td>QR355L089D6DF5UMC1N72V3QO402CGHM</td>\n",
       "      <td>Asesor</td>\n",
       "      <td>gracias</td>\n",
       "      <td>NaN</td>\n",
       "      <td>NaN</td>\n",
       "      <td>NaN</td>\n",
       "      <td>NaN</td>\n",
       "      <td>NaN</td>\n",
       "      <td>NaN</td>\n",
       "    </tr>\n",
       "    <tr>\n",
       "      <th>39788</th>\n",
       "      <td>39789</td>\n",
       "      <td>QR355L089D6DF5UMC1N72V3QO402CGHM</td>\n",
       "      <td>Cliente</td>\n",
       "      <td>A qué viene el táctil automática Bueno muy amable</td>\n",
       "      <td>NaN</td>\n",
       "      <td>NaN</td>\n",
       "      <td>NaN</td>\n",
       "      <td>NaN</td>\n",
       "      <td>NaN</td>\n",
       "      <td>NaN</td>\n",
       "    </tr>\n",
       "  </tbody>\n",
       "</table>\n",
       "<p>39789 rows × 10 columns</p>\n",
       "</div>"
      ],
      "text/plain": [
       "         No.                            CallID    Canal  \\\n",
       "0          1  QR355L089D6DF5UMC1N72V3QO40253LD   Asesor   \n",
       "1          2  1BDJ5HE3VH49BE2DOONBQ25OJC009NNC  Cliente   \n",
       "2          3  1BDJ5HE3VH49BE2DOONBQ25OJC009NNC  Cliente   \n",
       "3          4  1BDJ5HE3VH49BE2DOONBQ25OJC009NNC  Cliente   \n",
       "4          5  1BDJ5HE3VH49BE2DOONBQ25OJC009NNC   Asesor   \n",
       "...      ...                               ...      ...   \n",
       "39784  39785  QR355L089D6DF5UMC1N72V3QO402CGHM   Asesor   \n",
       "39785  39786  QR355L089D6DF5UMC1N72V3QO402CGHM   Asesor   \n",
       "39786  39787  QR355L089D6DF5UMC1N72V3QO402CGHM   Asesor   \n",
       "39787  39788  QR355L089D6DF5UMC1N72V3QO402CGHM   Asesor   \n",
       "39788  39789  QR355L089D6DF5UMC1N72V3QO402CGHM  Cliente   \n",
       "\n",
       "                                            Conversación Duración  \\\n",
       "0         Buenas tardes Don Fernando ya se volvió hablar      133   \n",
       "1                   Buenas tardes Habla con el pan fácil      133   \n",
       "2       bien gracias hágame un favor es que necesito ...      133   \n",
       "3                          cuánto debo Cancelar este mes      133   \n",
       "4       me alegras Cómo le fue a ayudar Permítame un ...      133   \n",
       "...                                                  ...      ...   \n",
       "39784   ella debe activar automático Sí señor por eje...      NaN   \n",
       "39785                                           sí señor      NaN   \n",
       "39786   bueno con mucho gusto que tenga un buen día s...      NaN   \n",
       "39787                                            gracias      NaN   \n",
       "39788  A qué viene el táctil automática Bueno muy amable      NaN   \n",
       "\n",
       "       Conversando         Producto    Marca  \\\n",
       "0             57.0  tarjeta_alkosto  ALKOSTO   \n",
       "1             57.0  tarjeta_alkosto  ALKOSTO   \n",
       "2             57.0  tarjeta_alkosto  ALKOSTO   \n",
       "3             57.0  tarjeta_alkosto  ALKOSTO   \n",
       "4             57.0  tarjeta_alkosto  ALKOSTO   \n",
       "...            ...              ...      ...   \n",
       "39784          NaN              NaN      NaN   \n",
       "39785          NaN              NaN      NaN   \n",
       "39786          NaN              NaN      NaN   \n",
       "39787          NaN              NaN      NaN   \n",
       "39788          NaN              NaN      NaN   \n",
       "\n",
       "                                     Pregunta Respuesta  \n",
       "0      ¿Fue resuelta tu consulta o solicitud?        Sí  \n",
       "1      ¿Fue resuelta tu consulta o solicitud?        Sí  \n",
       "2      ¿Fue resuelta tu consulta o solicitud?        Sí  \n",
       "3      ¿Fue resuelta tu consulta o solicitud?        Sí  \n",
       "4      ¿Fue resuelta tu consulta o solicitud?        Sí  \n",
       "...                                       ...       ...  \n",
       "39784                                     NaN       NaN  \n",
       "39785                                     NaN       NaN  \n",
       "39786                                     NaN       NaN  \n",
       "39787                                     NaN       NaN  \n",
       "39788                                     NaN       NaN  \n",
       "\n",
       "[39789 rows x 10 columns]"
      ]
     },
     "execution_count": 3,
     "metadata": {},
     "output_type": "execute_result"
    }
   ],
   "source": [
    "conversacion"
   ]
  },
  {
   "cell_type": "code",
   "execution_count": 4,
   "metadata": {},
   "outputs": [
    {
     "data": {
      "text/plain": [
       "Index(['No.', 'CallID', 'Canal', 'Conversación', 'Duración', 'Conversando',\n",
       "       'Producto', 'Marca', 'Pregunta', 'Respuesta'],\n",
       "      dtype='object')"
      ]
     },
     "execution_count": 4,
     "metadata": {},
     "output_type": "execute_result"
    }
   ],
   "source": [
    "conversacion.columns"
   ]
  },
  {
   "cell_type": "code",
   "execution_count": 5,
   "metadata": {},
   "outputs": [],
   "source": [
    "df = conversacion[['CallID', 'Canal', 'Conversación']]"
   ]
  },
  {
   "cell_type": "markdown",
   "metadata": {},
   "source": [
    "#### Concatenar"
   ]
  },
  {
   "cell_type": "code",
   "execution_count": 6,
   "metadata": {},
   "outputs": [
    {
     "name": "stdout",
     "output_type": "stream",
     "text": [
      "1272\n"
     ]
    },
    {
     "name": "stderr",
     "output_type": "stream",
     "text": [
      "C:\\Users\\dgarmor\\.conda\\envs\\Environments\\lib\\site-packages\\ipykernel_launcher.py:1: SettingWithCopyWarning: \n",
      "A value is trying to be set on a copy of a slice from a DataFrame\n",
      "\n",
      "See the caveats in the documentation: https://pandas.pydata.org/pandas-docs/stable/user_guide/indexing.html#returning-a-view-versus-a-copy\n",
      "  \"\"\"Entry point for launching an IPython kernel.\n"
     ]
    }
   ],
   "source": [
    "df.dropna(subset=['Conversación'], inplace=True) #eliminar conversaciones vacias\n",
    "\n",
    "print(len(df['CallID'].unique()))"
   ]
  },
  {
   "cell_type": "code",
   "execution_count": 7,
   "metadata": {},
   "outputs": [],
   "source": [
    "df['CallID'].isnull().sum() #validar que no existan nulos en los ids\n",
    "\n",
    "lista  = df['CallID'].unique()\n",
    "\n",
    "concat = pd.DataFrame(columns = ['CallID', 'Asesor', 'Cliente']) # crear el dataframe"
   ]
  },
  {
   "cell_type": "code",
   "execution_count": 8,
   "metadata": {},
   "outputs": [],
   "source": [
    "for id in lista:\n",
    "    callid = df[df['CallID']==id]['CallID'].unique()[0] #guarda el nombre del callid\n",
    "    cliente = ''.join(str(i) for i in df[(df['CallID'] == id) & (df['Canal'] == 'Cliente')]['Conversación'])\n",
    "    asesor = ''.join(str(i) for i in df[(df['CallID'] == id) & (df['Canal'] == 'Asesor')]['Conversación'])\n",
    "    concat=concat.append({'CallID': callid , 'Cliente' : cliente, 'Asesor' : asesor} , ignore_index=True)\n",
    "\n",
    "concat['Asesor'] = (\" \" + concat['Asesor'].str.lower() + \" \")\n",
    "concat['Cliente'] = (\" \" + concat['Cliente'].str.lower() + \" \")\n",
    "concat['Asesor'] = concat['Asesor'].apply(lambda x: re.sub(' +', ' ', x))\n",
    "concat['Cliente'] = concat['Cliente'].apply(lambda x: re.sub(' +', ' ', x))"
   ]
  },
  {
   "cell_type": "code",
   "execution_count": 9,
   "metadata": {},
   "outputs": [
    {
     "data": {
      "text/html": [
       "<div>\n",
       "<style scoped>\n",
       "    .dataframe tbody tr th:only-of-type {\n",
       "        vertical-align: middle;\n",
       "    }\n",
       "\n",
       "    .dataframe tbody tr th {\n",
       "        vertical-align: top;\n",
       "    }\n",
       "\n",
       "    .dataframe thead th {\n",
       "        text-align: right;\n",
       "    }\n",
       "</style>\n",
       "<table border=\"1\" class=\"dataframe\">\n",
       "  <thead>\n",
       "    <tr style=\"text-align: right;\">\n",
       "      <th></th>\n",
       "      <th>CallID</th>\n",
       "      <th>Asesor</th>\n",
       "      <th>Cliente</th>\n",
       "    </tr>\n",
       "  </thead>\n",
       "  <tbody>\n",
       "    <tr>\n",
       "      <th>0</th>\n",
       "      <td>QR355L089D6DF5UMC1N72V3QO40253LD</td>\n",
       "      <td>buenas tardes don fernando ya se volvió habla...</td>\n",
       "      <td>disculpe buenos días mira hazme un favor lo q...</td>\n",
       "    </tr>\n",
       "    <tr>\n",
       "      <th>1</th>\n",
       "      <td>1BDJ5HE3VH49BE2DOONBQ25OJC009NNC</td>\n",
       "      <td>me alegras cómo le fue a ayudar permítame un ...</td>\n",
       "      <td>buenas tardes habla con el pan fácil bien gra...</td>\n",
       "    </tr>\n",
       "    <tr>\n",
       "      <th>2</th>\n",
       "      <td>T8DROH1CEH4Q99TTQQ7ENTI6K400E9RV</td>\n",
       "      <td>muy buenos días habla ni la conoces es obra t...</td>\n",
       "      <td>no de arena quebrado bueno la final yo bien g...</td>\n",
       "    </tr>\n",
       "    <tr>\n",
       "      <th>3</th>\n",
       "      <td>T8DROH1CEH4Q99TTQQ7ENTI6K400N8A8</td>\n",
       "      <td>llamando a tuya la bala viviana jaramillo con...</td>\n",
       "      <td>viviana muy buenas tardes hablas con alejandr...</td>\n",
       "    </tr>\n",
       "    <tr>\n",
       "      <th>4</th>\n",
       "      <td>TIO7733R3T3NHFEIE9KC3OADV800V562</td>\n",
       "      <td>buenas tardes mi nombre es tatiana flores ten...</td>\n",
       "      <td>canción de tatiana sí habla con frankie muy b...</td>\n",
       "    </tr>\n",
       "    <tr>\n",
       "      <th>...</th>\n",
       "      <td>...</td>\n",
       "      <td>...</td>\n",
       "      <td>...</td>\n",
       "    </tr>\n",
       "    <tr>\n",
       "      <th>1267</th>\n",
       "      <td>L1AOU5FFDD5EHCHE5D9QFT12K00496BQ</td>\n",
       "      <td>buenas tardes mi nombre es laura tengo el gus...</td>\n",
       "      <td>siri cómo estás laura en atención compañero q...</td>\n",
       "    </tr>\n",
       "    <tr>\n",
       "      <th>1268</th>\n",
       "      <td>1BDJ5HE3VH49BE2DOONBQ25OJC0025OE</td>\n",
       "      <td>buenas tardes habla melisa cosa tengo el gust...</td>\n",
       "      <td>sí cómo no melisa cómo ha estado bien bien me...</td>\n",
       "    </tr>\n",
       "    <tr>\n",
       "      <th>1269</th>\n",
       "      <td>L1AOU5FFDD5EHCHE5D9QFT12K003DRVS</td>\n",
       "      <td>señor luis cómo está habla con cristian velás...</td>\n",
       "      <td>buenos días sí señor yo no te llame yo no est...</td>\n",
       "    </tr>\n",
       "    <tr>\n",
       "      <th>1270</th>\n",
       "      <td>L1AOU5FFDD5EHCHE5D9QFT12K004M6IB</td>\n",
       "      <td>remenea tuya muy buen día habló con la señora...</td>\n",
       "      <td>sí señor bueno sí pero no sé cuánto sería por...</td>\n",
       "    </tr>\n",
       "    <tr>\n",
       "      <th>1271</th>\n",
       "      <td>QR355L089D6DF5UMC1N72V3QO402CGHM</td>\n",
       "      <td>hola buenos días con lorena barbosa cómo está...</td>\n",
       "      <td>lorena buenos días cómo estás bien lorena ay ...</td>\n",
       "    </tr>\n",
       "  </tbody>\n",
       "</table>\n",
       "<p>1272 rows × 3 columns</p>\n",
       "</div>"
      ],
      "text/plain": [
       "                                CallID  \\\n",
       "0     QR355L089D6DF5UMC1N72V3QO40253LD   \n",
       "1     1BDJ5HE3VH49BE2DOONBQ25OJC009NNC   \n",
       "2     T8DROH1CEH4Q99TTQQ7ENTI6K400E9RV   \n",
       "3     T8DROH1CEH4Q99TTQQ7ENTI6K400N8A8   \n",
       "4     TIO7733R3T3NHFEIE9KC3OADV800V562   \n",
       "...                                ...   \n",
       "1267  L1AOU5FFDD5EHCHE5D9QFT12K00496BQ   \n",
       "1268  1BDJ5HE3VH49BE2DOONBQ25OJC0025OE   \n",
       "1269  L1AOU5FFDD5EHCHE5D9QFT12K003DRVS   \n",
       "1270  L1AOU5FFDD5EHCHE5D9QFT12K004M6IB   \n",
       "1271  QR355L089D6DF5UMC1N72V3QO402CGHM   \n",
       "\n",
       "                                                 Asesor  \\\n",
       "0      buenas tardes don fernando ya se volvió habla...   \n",
       "1      me alegras cómo le fue a ayudar permítame un ...   \n",
       "2      muy buenos días habla ni la conoces es obra t...   \n",
       "3      llamando a tuya la bala viviana jaramillo con...   \n",
       "4      buenas tardes mi nombre es tatiana flores ten...   \n",
       "...                                                 ...   \n",
       "1267   buenas tardes mi nombre es laura tengo el gus...   \n",
       "1268   buenas tardes habla melisa cosa tengo el gust...   \n",
       "1269   señor luis cómo está habla con cristian velás...   \n",
       "1270   remenea tuya muy buen día habló con la señora...   \n",
       "1271   hola buenos días con lorena barbosa cómo está...   \n",
       "\n",
       "                                                Cliente  \n",
       "0      disculpe buenos días mira hazme un favor lo q...  \n",
       "1      buenas tardes habla con el pan fácil bien gra...  \n",
       "2      no de arena quebrado bueno la final yo bien g...  \n",
       "3      viviana muy buenas tardes hablas con alejandr...  \n",
       "4      canción de tatiana sí habla con frankie muy b...  \n",
       "...                                                 ...  \n",
       "1267   siri cómo estás laura en atención compañero q...  \n",
       "1268   sí cómo no melisa cómo ha estado bien bien me...  \n",
       "1269   buenos días sí señor yo no te llame yo no est...  \n",
       "1270   sí señor bueno sí pero no sé cuánto sería por...  \n",
       "1271   lorena buenos días cómo estás bien lorena ay ...  \n",
       "\n",
       "[1272 rows x 3 columns]"
      ]
     },
     "execution_count": 9,
     "metadata": {},
     "output_type": "execute_result"
    }
   ],
   "source": [
    "concat"
   ]
  },
  {
   "cell_type": "markdown",
   "metadata": {},
   "source": [
    "#### Limpiar Texto"
   ]
  },
  {
   "cell_type": "code",
   "execution_count": 10,
   "metadata": {},
   "outputs": [],
   "source": [
    "f = pd.read_excel('D:/Proyecto Speech Tuya/Clasificación/Diccionarios Modelo Tuya.xlsx', sheet_name='Re')\n",
    "f['Antes '] = (\" \" + f['Antes '].str.lower() + \" \")\n",
    "f['Después'] = (\" \" + f['Después'].str.lower() + \" \")\n",
    "f['Antes '] = f['Antes '].apply(lambda x: re.sub(' +', ' ', x))\n",
    "f['Después'] = f['Después'].apply(lambda x: re.sub(' +', ' ', x))\n",
    "\n",
    "dictionary = f.set_index('Antes ')['Después'].to_dict()"
   ]
  },
  {
   "cell_type": "code",
   "execution_count": 11,
   "metadata": {},
   "outputs": [],
   "source": [
    "def cmw (texto):\n",
    "    for word, initial in dictionary.items():\n",
    "        texto = texto.replace(word.lower(), initial)\n",
    "        return texto\n",
    "\n",
    "concat['Asesor_l'] = ''\n",
    "concat['Cliente_l'] = ''\n",
    "\n",
    "for i in range(len(concat)):\n",
    "    concat['Asesor_l'][i] = cmw(concat['Asesor'][i])\n",
    "    concat['Cliente_l'][i] = cmw(concat['Cliente'][i])\n",
    "\n",
    "concat.to_excel('D:/Proyecto Speech Tuya/Clasificación/concat.xlsx')"
   ]
  },
  {
   "cell_type": "code",
   "execution_count": 12,
   "metadata": {},
   "outputs": [
    {
     "data": {
      "text/html": [
       "<div>\n",
       "<style scoped>\n",
       "    .dataframe tbody tr th:only-of-type {\n",
       "        vertical-align: middle;\n",
       "    }\n",
       "\n",
       "    .dataframe tbody tr th {\n",
       "        vertical-align: top;\n",
       "    }\n",
       "\n",
       "    .dataframe thead th {\n",
       "        text-align: right;\n",
       "    }\n",
       "</style>\n",
       "<table border=\"1\" class=\"dataframe\">\n",
       "  <thead>\n",
       "    <tr style=\"text-align: right;\">\n",
       "      <th></th>\n",
       "      <th>CallID</th>\n",
       "      <th>Asesor</th>\n",
       "      <th>Cliente</th>\n",
       "      <th>Asesor_l</th>\n",
       "      <th>Cliente_l</th>\n",
       "    </tr>\n",
       "  </thead>\n",
       "  <tbody>\n",
       "    <tr>\n",
       "      <th>0</th>\n",
       "      <td>QR355L089D6DF5UMC1N72V3QO40253LD</td>\n",
       "      <td>buenas tardes don fernando ya se volvió habla...</td>\n",
       "      <td>disculpe buenos días mira hazme un favor lo q...</td>\n",
       "      <td>buenas tardes don fernando ya se volvió habla...</td>\n",
       "      <td>disculpe buenos días mira hazme un favor lo q...</td>\n",
       "    </tr>\n",
       "    <tr>\n",
       "      <th>1</th>\n",
       "      <td>1BDJ5HE3VH49BE2DOONBQ25OJC009NNC</td>\n",
       "      <td>me alegras cómo le fue a ayudar permítame un ...</td>\n",
       "      <td>buenas tardes habla con el pan fácil bien gra...</td>\n",
       "      <td>me alegras cómo le fue a ayudar permítame un ...</td>\n",
       "      <td>buenas tardes habla con el pan fácil bien gra...</td>\n",
       "    </tr>\n",
       "    <tr>\n",
       "      <th>2</th>\n",
       "      <td>T8DROH1CEH4Q99TTQQ7ENTI6K400E9RV</td>\n",
       "      <td>muy buenos días habla ni la conoces es obra t...</td>\n",
       "      <td>no de arena quebrado bueno la final yo bien g...</td>\n",
       "      <td>muy buenos días habla ni la conoces es obra t...</td>\n",
       "      <td>no de arena quebrado bueno la final yo bien g...</td>\n",
       "    </tr>\n",
       "    <tr>\n",
       "      <th>3</th>\n",
       "      <td>T8DROH1CEH4Q99TTQQ7ENTI6K400N8A8</td>\n",
       "      <td>llamando a tuya la bala viviana jaramillo con...</td>\n",
       "      <td>viviana muy buenas tardes hablas con alejandr...</td>\n",
       "      <td>llamando a tuya la bala viviana jaramillo con...</td>\n",
       "      <td>viviana muy buenas tardes hablas con alejandr...</td>\n",
       "    </tr>\n",
       "    <tr>\n",
       "      <th>4</th>\n",
       "      <td>TIO7733R3T3NHFEIE9KC3OADV800V562</td>\n",
       "      <td>buenas tardes mi nombre es tatiana flores ten...</td>\n",
       "      <td>canción de tatiana sí habla con frankie muy b...</td>\n",
       "      <td>buenas tardes mi nombre es tatiana flores ten...</td>\n",
       "      <td>canción de tatiana sí habla con frankie muy b...</td>\n",
       "    </tr>\n",
       "    <tr>\n",
       "      <th>...</th>\n",
       "      <td>...</td>\n",
       "      <td>...</td>\n",
       "      <td>...</td>\n",
       "      <td>...</td>\n",
       "      <td>...</td>\n",
       "    </tr>\n",
       "    <tr>\n",
       "      <th>1267</th>\n",
       "      <td>L1AOU5FFDD5EHCHE5D9QFT12K00496BQ</td>\n",
       "      <td>buenas tardes mi nombre es laura tengo el gus...</td>\n",
       "      <td>siri cómo estás laura en atención compañero q...</td>\n",
       "      <td>buenas tardes mi nombre es laura tengo el gus...</td>\n",
       "      <td>siri cómo estás laura en atención compañero q...</td>\n",
       "    </tr>\n",
       "    <tr>\n",
       "      <th>1268</th>\n",
       "      <td>1BDJ5HE3VH49BE2DOONBQ25OJC0025OE</td>\n",
       "      <td>buenas tardes habla melisa cosa tengo el gust...</td>\n",
       "      <td>sí cómo no melisa cómo ha estado bien bien me...</td>\n",
       "      <td>buenas tardes habla melisa cosa tengo el gust...</td>\n",
       "      <td>sí cómo no melisa cómo ha estado bien bien me...</td>\n",
       "    </tr>\n",
       "    <tr>\n",
       "      <th>1269</th>\n",
       "      <td>L1AOU5FFDD5EHCHE5D9QFT12K003DRVS</td>\n",
       "      <td>señor luis cómo está habla con cristian velás...</td>\n",
       "      <td>buenos días sí señor yo no te llame yo no est...</td>\n",
       "      <td>señor luis cómo está habla con cristian velás...</td>\n",
       "      <td>buenos días sí señor yo no te llame yo no est...</td>\n",
       "    </tr>\n",
       "    <tr>\n",
       "      <th>1270</th>\n",
       "      <td>L1AOU5FFDD5EHCHE5D9QFT12K004M6IB</td>\n",
       "      <td>remenea tuya muy buen día habló con la señora...</td>\n",
       "      <td>sí señor bueno sí pero no sé cuánto sería por...</td>\n",
       "      <td>remenea tuya muy buen día habló con la señora...</td>\n",
       "      <td>sí señor bueno sí pero no sé cuánto sería por...</td>\n",
       "    </tr>\n",
       "    <tr>\n",
       "      <th>1271</th>\n",
       "      <td>QR355L089D6DF5UMC1N72V3QO402CGHM</td>\n",
       "      <td>hola buenos días con lorena barbosa cómo está...</td>\n",
       "      <td>lorena buenos días cómo estás bien lorena ay ...</td>\n",
       "      <td>hola buenos días con lorena barbosa cómo está...</td>\n",
       "      <td>lorena buenos días cómo estás bien lorena ay ...</td>\n",
       "    </tr>\n",
       "  </tbody>\n",
       "</table>\n",
       "<p>1272 rows × 5 columns</p>\n",
       "</div>"
      ],
      "text/plain": [
       "                                CallID  \\\n",
       "0     QR355L089D6DF5UMC1N72V3QO40253LD   \n",
       "1     1BDJ5HE3VH49BE2DOONBQ25OJC009NNC   \n",
       "2     T8DROH1CEH4Q99TTQQ7ENTI6K400E9RV   \n",
       "3     T8DROH1CEH4Q99TTQQ7ENTI6K400N8A8   \n",
       "4     TIO7733R3T3NHFEIE9KC3OADV800V562   \n",
       "...                                ...   \n",
       "1267  L1AOU5FFDD5EHCHE5D9QFT12K00496BQ   \n",
       "1268  1BDJ5HE3VH49BE2DOONBQ25OJC0025OE   \n",
       "1269  L1AOU5FFDD5EHCHE5D9QFT12K003DRVS   \n",
       "1270  L1AOU5FFDD5EHCHE5D9QFT12K004M6IB   \n",
       "1271  QR355L089D6DF5UMC1N72V3QO402CGHM   \n",
       "\n",
       "                                                 Asesor  \\\n",
       "0      buenas tardes don fernando ya se volvió habla...   \n",
       "1      me alegras cómo le fue a ayudar permítame un ...   \n",
       "2      muy buenos días habla ni la conoces es obra t...   \n",
       "3      llamando a tuya la bala viviana jaramillo con...   \n",
       "4      buenas tardes mi nombre es tatiana flores ten...   \n",
       "...                                                 ...   \n",
       "1267   buenas tardes mi nombre es laura tengo el gus...   \n",
       "1268   buenas tardes habla melisa cosa tengo el gust...   \n",
       "1269   señor luis cómo está habla con cristian velás...   \n",
       "1270   remenea tuya muy buen día habló con la señora...   \n",
       "1271   hola buenos días con lorena barbosa cómo está...   \n",
       "\n",
       "                                                Cliente  \\\n",
       "0      disculpe buenos días mira hazme un favor lo q...   \n",
       "1      buenas tardes habla con el pan fácil bien gra...   \n",
       "2      no de arena quebrado bueno la final yo bien g...   \n",
       "3      viviana muy buenas tardes hablas con alejandr...   \n",
       "4      canción de tatiana sí habla con frankie muy b...   \n",
       "...                                                 ...   \n",
       "1267   siri cómo estás laura en atención compañero q...   \n",
       "1268   sí cómo no melisa cómo ha estado bien bien me...   \n",
       "1269   buenos días sí señor yo no te llame yo no est...   \n",
       "1270   sí señor bueno sí pero no sé cuánto sería por...   \n",
       "1271   lorena buenos días cómo estás bien lorena ay ...   \n",
       "\n",
       "                                               Asesor_l  \\\n",
       "0      buenas tardes don fernando ya se volvió habla...   \n",
       "1      me alegras cómo le fue a ayudar permítame un ...   \n",
       "2      muy buenos días habla ni la conoces es obra t...   \n",
       "3      llamando a tuya la bala viviana jaramillo con...   \n",
       "4      buenas tardes mi nombre es tatiana flores ten...   \n",
       "...                                                 ...   \n",
       "1267   buenas tardes mi nombre es laura tengo el gus...   \n",
       "1268   buenas tardes habla melisa cosa tengo el gust...   \n",
       "1269   señor luis cómo está habla con cristian velás...   \n",
       "1270   remenea tuya muy buen día habló con la señora...   \n",
       "1271   hola buenos días con lorena barbosa cómo está...   \n",
       "\n",
       "                                              Cliente_l  \n",
       "0      disculpe buenos días mira hazme un favor lo q...  \n",
       "1      buenas tardes habla con el pan fácil bien gra...  \n",
       "2      no de arena quebrado bueno la final yo bien g...  \n",
       "3      viviana muy buenas tardes hablas con alejandr...  \n",
       "4      canción de tatiana sí habla con frankie muy b...  \n",
       "...                                                 ...  \n",
       "1267   siri cómo estás laura en atención compañero q...  \n",
       "1268   sí cómo no melisa cómo ha estado bien bien me...  \n",
       "1269   buenos días sí señor yo no te llame yo no est...  \n",
       "1270   sí señor bueno sí pero no sé cuánto sería por...  \n",
       "1271   lorena buenos días cómo estás bien lorena ay ...  \n",
       "\n",
       "[1272 rows x 5 columns]"
      ]
     },
     "execution_count": 12,
     "metadata": {},
     "output_type": "execute_result"
    }
   ],
   "source": [
    "concat"
   ]
  },
  {
   "cell_type": "code",
   "execution_count": 13,
   "metadata": {},
   "outputs": [],
   "source": [
    "data = concat.merge(diccionarios, on='CallID', how='left')"
   ]
  },
  {
   "cell_type": "code",
   "execution_count": 14,
   "metadata": {
    "scrolled": true
   },
   "outputs": [
    {
     "name": "stdout",
     "output_type": "stream",
     "text": [
      "(1278, 21)\n",
      "Index(['CallID', 'Asesor', 'Cliente', 'Asesor_l', 'Cliente_l', 'No.', 'Fecha',\n",
      "       'CodFinalización', 'Productos', 'Problemas con el proceso',\n",
      "       'Problemas con la tecnología', 'Impacto la satisfacción',\n",
      "       'Pérfil Cliente', 'Chismes', 'Observaciones', 'Unnamed: 11',\n",
      "       'Unnamed: 12', 'Unnamed: 13', 'Unnamed: 14', 'Perfil', 'Unnamed: 16'],\n",
      "      dtype='object')\n"
     ]
    }
   ],
   "source": [
    "print(data.shape)\n",
    "print(data.columns)"
   ]
  },
  {
   "cell_type": "code",
   "execution_count": 15,
   "metadata": {},
   "outputs": [],
   "source": [
    "data = data[['CallID', 'Asesor', 'Cliente', 'Asesor_l', 'Cliente_l', 'Fecha', \n",
    "       'CodFinalización', 'Productos', 'Problemas con el proceso',\n",
    "       'Problemas con la tecnología', 'Impacto la satisfacción',\n",
    "       'Pérfil Cliente', 'Chismes', 'Observaciones']]"
   ]
  },
  {
   "cell_type": "code",
   "execution_count": 16,
   "metadata": {},
   "outputs": [],
   "source": [
    "data.to_excel('dict.xlsx')"
   ]
  },
  {
   "cell_type": "code",
   "execution_count": 17,
   "metadata": {},
   "outputs": [],
   "source": [
    "#data = data.dropna(subset=['Fecha'])"
   ]
  },
  {
   "cell_type": "code",
   "execution_count": 18,
   "metadata": {},
   "outputs": [],
   "source": [
    "data.index = range(data.shape[0])"
   ]
  },
  {
   "cell_type": "markdown",
   "metadata": {},
   "source": [
    "### Data Train"
   ]
  },
  {
   "cell_type": "code",
   "execution_count": 19,
   "metadata": {},
   "outputs": [
    {
     "data": {
      "text/html": [
       "<div>\n",
       "<style scoped>\n",
       "    .dataframe tbody tr th:only-of-type {\n",
       "        vertical-align: middle;\n",
       "    }\n",
       "\n",
       "    .dataframe tbody tr th {\n",
       "        vertical-align: top;\n",
       "    }\n",
       "\n",
       "    .dataframe thead th {\n",
       "        text-align: right;\n",
       "    }\n",
       "</style>\n",
       "<table border=\"1\" class=\"dataframe\">\n",
       "  <thead>\n",
       "    <tr style=\"text-align: right;\">\n",
       "      <th></th>\n",
       "      <th>CallID</th>\n",
       "      <th>Asesor</th>\n",
       "      <th>Cliente</th>\n",
       "      <th>Asesor_l</th>\n",
       "      <th>Cliente_l</th>\n",
       "      <th>Fecha</th>\n",
       "      <th>CodFinalización</th>\n",
       "      <th>Productos</th>\n",
       "      <th>Problemas con el proceso</th>\n",
       "      <th>Problemas con la tecnología</th>\n",
       "      <th>Impacto la satisfacción</th>\n",
       "      <th>Pérfil Cliente</th>\n",
       "      <th>Chismes</th>\n",
       "      <th>Observaciones</th>\n",
       "    </tr>\n",
       "  </thead>\n",
       "  <tbody>\n",
       "    <tr>\n",
       "      <th>0</th>\n",
       "      <td>QR355L089D6DF5UMC1N72V3QO40253LD</td>\n",
       "      <td>buenas tardes don fernando ya se volvió habla...</td>\n",
       "      <td>disculpe buenos días mira hazme un favor lo q...</td>\n",
       "      <td>buenas tardes don fernando ya se volvió habla...</td>\n",
       "      <td>disculpe buenos días mira hazme un favor lo q...</td>\n",
       "      <td>2020-10-09</td>\n",
       "      <td>pago mínimo y pago total</td>\n",
       "      <td>Cliente quiere cambiar el estado de su tarjeta...</td>\n",
       "      <td>NaN</td>\n",
       "      <td>NaN</td>\n",
       "      <td>Moderado</td>\n",
       "      <td>NaN</td>\n",
       "      <td>vencimiento tarjeta</td>\n",
       "      <td>quiere actualizar la tarjeta</td>\n",
       "    </tr>\n",
       "    <tr>\n",
       "      <th>1</th>\n",
       "      <td>1BDJ5HE3VH49BE2DOONBQ25OJC009NNC</td>\n",
       "      <td>me alegras cómo le fue a ayudar permítame un ...</td>\n",
       "      <td>buenas tardes habla con el pan fácil bien gra...</td>\n",
       "      <td>me alegras cómo le fue a ayudar permítame un ...</td>\n",
       "      <td>buenas tardes habla con el pan fácil bien gra...</td>\n",
       "      <td>2020-10-09</td>\n",
       "      <td>pago mínimo y pago total</td>\n",
       "      <td>NaN</td>\n",
       "      <td>Consultar saldo del producto</td>\n",
       "      <td>NaN</td>\n",
       "      <td>sin relación</td>\n",
       "      <td>NaN</td>\n",
       "      <td>NaN</td>\n",
       "      <td>NaN</td>\n",
       "    </tr>\n",
       "    <tr>\n",
       "      <th>2</th>\n",
       "      <td>T8DROH1CEH4Q99TTQQ7ENTI6K400E9RV</td>\n",
       "      <td>muy buenos días habla ni la conoces es obra t...</td>\n",
       "      <td>no de arena quebrado bueno la final yo bien g...</td>\n",
       "      <td>muy buenos días habla ni la conoces es obra t...</td>\n",
       "      <td>no de arena quebrado bueno la final yo bien g...</td>\n",
       "      <td>2020-10-27</td>\n",
       "      <td>solicitud de certificados marca privada</td>\n",
       "      <td>NaN</td>\n",
       "      <td>Cliente solicita certificado: No le llega</td>\n",
       "      <td>NaN</td>\n",
       "      <td>Moderado</td>\n",
       "      <td>NaN</td>\n",
       "      <td>Solicita que se envie al correo</td>\n",
       "      <td>No le llega el certificado por correo</td>\n",
       "    </tr>\n",
       "    <tr>\n",
       "      <th>3</th>\n",
       "      <td>T8DROH1CEH4Q99TTQQ7ENTI6K400N8A8</td>\n",
       "      <td>llamando a tuya la bala viviana jaramillo con...</td>\n",
       "      <td>viviana muy buenas tardes hablas con alejandr...</td>\n",
       "      <td>llamando a tuya la bala viviana jaramillo con...</td>\n",
       "      <td>viviana muy buenas tardes hablas con alejandr...</td>\n",
       "      <td>2020-10-29</td>\n",
       "      <td>solicitud de certificados marca privada</td>\n",
       "      <td>NaN</td>\n",
       "      <td>Cliente solicita certificado: No le llega</td>\n",
       "      <td>NaN</td>\n",
       "      <td>Sin relación</td>\n",
       "      <td>NaN</td>\n",
       "      <td>NaN</td>\n",
       "      <td>Cliente no le llega paz y salvo a tiempo y rea...</td>\n",
       "    </tr>\n",
       "    <tr>\n",
       "      <th>4</th>\n",
       "      <td>TIO7733R3T3NHFEIE9KC3OADV800V562</td>\n",
       "      <td>buenas tardes mi nombre es tatiana flores ten...</td>\n",
       "      <td>canción de tatiana sí habla con frankie muy b...</td>\n",
       "      <td>buenas tardes mi nombre es tatiana flores ten...</td>\n",
       "      <td>canción de tatiana sí habla con frankie muy b...</td>\n",
       "      <td>2020-10-17</td>\n",
       "      <td>pago mínimo y pago total</td>\n",
       "      <td>NaN</td>\n",
       "      <td>Consultar saldo del producto</td>\n",
       "      <td>NaN</td>\n",
       "      <td>sin relación</td>\n",
       "      <td>NaN</td>\n",
       "      <td>NaN</td>\n",
       "      <td>NaN</td>\n",
       "    </tr>\n",
       "    <tr>\n",
       "      <th>...</th>\n",
       "      <td>...</td>\n",
       "      <td>...</td>\n",
       "      <td>...</td>\n",
       "      <td>...</td>\n",
       "      <td>...</td>\n",
       "      <td>...</td>\n",
       "      <td>...</td>\n",
       "      <td>...</td>\n",
       "      <td>...</td>\n",
       "      <td>...</td>\n",
       "      <td>...</td>\n",
       "      <td>...</td>\n",
       "      <td>...</td>\n",
       "      <td>...</td>\n",
       "    </tr>\n",
       "    <tr>\n",
       "      <th>1273</th>\n",
       "      <td>L1AOU5FFDD5EHCHE5D9QFT12K00496BQ</td>\n",
       "      <td>buenas tardes mi nombre es laura tengo el gus...</td>\n",
       "      <td>siri cómo estás laura en atención compañero q...</td>\n",
       "      <td>buenas tardes mi nombre es laura tengo el gus...</td>\n",
       "      <td>siri cómo estás laura en atención compañero q...</td>\n",
       "      <td>2020-09-28</td>\n",
       "      <td>explicación de facturación</td>\n",
       "      <td>Cambio de fecha de pago sin autorizar</td>\n",
       "      <td>Aplicación de alternativa de pago sin autoriza...</td>\n",
       "      <td>NaN</td>\n",
       "      <td>Fuerte</td>\n",
       "      <td>Decepcionado</td>\n",
       "      <td>NaN</td>\n",
       "      <td>NaN</td>\n",
       "    </tr>\n",
       "    <tr>\n",
       "      <th>1274</th>\n",
       "      <td>1BDJ5HE3VH49BE2DOONBQ25OJC0025OE</td>\n",
       "      <td>buenas tardes habla melisa cosa tengo el gust...</td>\n",
       "      <td>sí cómo no melisa cómo ha estado bien bien me...</td>\n",
       "      <td>buenas tardes habla melisa cosa tengo el gust...</td>\n",
       "      <td>sí cómo no melisa cómo ha estado bien bien me...</td>\n",
       "      <td>2020-10-07</td>\n",
       "      <td>explicación de facturación</td>\n",
       "      <td>NaN</td>\n",
       "      <td>Inconforme por costos adicionales por mora</td>\n",
       "      <td>NaN</td>\n",
       "      <td>Moderado</td>\n",
       "      <td>Desesperada</td>\n",
       "      <td>Mora recurrente</td>\n",
       "      <td>NaN</td>\n",
       "    </tr>\n",
       "    <tr>\n",
       "      <th>1275</th>\n",
       "      <td>L1AOU5FFDD5EHCHE5D9QFT12K003DRVS</td>\n",
       "      <td>señor luis cómo está habla con cristian velás...</td>\n",
       "      <td>buenos días sí señor yo no te llame yo no est...</td>\n",
       "      <td>señor luis cómo está habla con cristian velás...</td>\n",
       "      <td>buenos días sí señor yo no te llame yo no est...</td>\n",
       "      <td>2020-09-18</td>\n",
       "      <td>0</td>\n",
       "      <td>NaN</td>\n",
       "      <td>Gestión de cobro, cliente ya pagó</td>\n",
       "      <td>NaN</td>\n",
       "      <td>Moderado</td>\n",
       "      <td>Decepcionado</td>\n",
       "      <td>El medio que utilizó para pagar no le sube el ...</td>\n",
       "      <td>NaN</td>\n",
       "    </tr>\n",
       "    <tr>\n",
       "      <th>1276</th>\n",
       "      <td>L1AOU5FFDD5EHCHE5D9QFT12K004M6IB</td>\n",
       "      <td>remenea tuya muy buen día habló con la señora...</td>\n",
       "      <td>sí señor bueno sí pero no sé cuánto sería por...</td>\n",
       "      <td>remenea tuya muy buen día habló con la señora...</td>\n",
       "      <td>sí señor bueno sí pero no sé cuánto sería por...</td>\n",
       "      <td>2020-10-02</td>\n",
       "      <td>0</td>\n",
       "      <td>NaN</td>\n",
       "      <td>Gestión de cobro, cliente ya pagó</td>\n",
       "      <td>NaN</td>\n",
       "      <td>Moderado</td>\n",
       "      <td>NaN</td>\n",
       "      <td>El medio de pago que utilizó no se aplica en l...</td>\n",
       "      <td></td>\n",
       "    </tr>\n",
       "    <tr>\n",
       "      <th>1277</th>\n",
       "      <td>QR355L089D6DF5UMC1N72V3QO402CGHM</td>\n",
       "      <td>hola buenos días con lorena barbosa cómo está...</td>\n",
       "      <td>lorena buenos días cómo estás bien lorena ay ...</td>\n",
       "      <td>hola buenos días con lorena barbosa cómo está...</td>\n",
       "      <td>lorena buenos días cómo estás bien lorena ay ...</td>\n",
       "      <td>2020-11-18</td>\n",
       "      <td>0</td>\n",
       "      <td>NaN</td>\n",
       "      <td>NaN</td>\n",
       "      <td>Fallas en aplicativos: Lentitud por actualizac...</td>\n",
       "      <td>Moderado</td>\n",
       "      <td>NaN</td>\n",
       "      <td>No se brindó oportuna respuesta</td>\n",
       "      <td>NaN</td>\n",
       "    </tr>\n",
       "  </tbody>\n",
       "</table>\n",
       "<p>1278 rows × 14 columns</p>\n",
       "</div>"
      ],
      "text/plain": [
       "                                CallID  \\\n",
       "0     QR355L089D6DF5UMC1N72V3QO40253LD   \n",
       "1     1BDJ5HE3VH49BE2DOONBQ25OJC009NNC   \n",
       "2     T8DROH1CEH4Q99TTQQ7ENTI6K400E9RV   \n",
       "3     T8DROH1CEH4Q99TTQQ7ENTI6K400N8A8   \n",
       "4     TIO7733R3T3NHFEIE9KC3OADV800V562   \n",
       "...                                ...   \n",
       "1273  L1AOU5FFDD5EHCHE5D9QFT12K00496BQ   \n",
       "1274  1BDJ5HE3VH49BE2DOONBQ25OJC0025OE   \n",
       "1275  L1AOU5FFDD5EHCHE5D9QFT12K003DRVS   \n",
       "1276  L1AOU5FFDD5EHCHE5D9QFT12K004M6IB   \n",
       "1277  QR355L089D6DF5UMC1N72V3QO402CGHM   \n",
       "\n",
       "                                                 Asesor  \\\n",
       "0      buenas tardes don fernando ya se volvió habla...   \n",
       "1      me alegras cómo le fue a ayudar permítame un ...   \n",
       "2      muy buenos días habla ni la conoces es obra t...   \n",
       "3      llamando a tuya la bala viviana jaramillo con...   \n",
       "4      buenas tardes mi nombre es tatiana flores ten...   \n",
       "...                                                 ...   \n",
       "1273   buenas tardes mi nombre es laura tengo el gus...   \n",
       "1274   buenas tardes habla melisa cosa tengo el gust...   \n",
       "1275   señor luis cómo está habla con cristian velás...   \n",
       "1276   remenea tuya muy buen día habló con la señora...   \n",
       "1277   hola buenos días con lorena barbosa cómo está...   \n",
       "\n",
       "                                                Cliente  \\\n",
       "0      disculpe buenos días mira hazme un favor lo q...   \n",
       "1      buenas tardes habla con el pan fácil bien gra...   \n",
       "2      no de arena quebrado bueno la final yo bien g...   \n",
       "3      viviana muy buenas tardes hablas con alejandr...   \n",
       "4      canción de tatiana sí habla con frankie muy b...   \n",
       "...                                                 ...   \n",
       "1273   siri cómo estás laura en atención compañero q...   \n",
       "1274   sí cómo no melisa cómo ha estado bien bien me...   \n",
       "1275   buenos días sí señor yo no te llame yo no est...   \n",
       "1276   sí señor bueno sí pero no sé cuánto sería por...   \n",
       "1277   lorena buenos días cómo estás bien lorena ay ...   \n",
       "\n",
       "                                               Asesor_l  \\\n",
       "0      buenas tardes don fernando ya se volvió habla...   \n",
       "1      me alegras cómo le fue a ayudar permítame un ...   \n",
       "2      muy buenos días habla ni la conoces es obra t...   \n",
       "3      llamando a tuya la bala viviana jaramillo con...   \n",
       "4      buenas tardes mi nombre es tatiana flores ten...   \n",
       "...                                                 ...   \n",
       "1273   buenas tardes mi nombre es laura tengo el gus...   \n",
       "1274   buenas tardes habla melisa cosa tengo el gust...   \n",
       "1275   señor luis cómo está habla con cristian velás...   \n",
       "1276   remenea tuya muy buen día habló con la señora...   \n",
       "1277   hola buenos días con lorena barbosa cómo está...   \n",
       "\n",
       "                                              Cliente_l      Fecha  \\\n",
       "0      disculpe buenos días mira hazme un favor lo q... 2020-10-09   \n",
       "1      buenas tardes habla con el pan fácil bien gra... 2020-10-09   \n",
       "2      no de arena quebrado bueno la final yo bien g... 2020-10-27   \n",
       "3      viviana muy buenas tardes hablas con alejandr... 2020-10-29   \n",
       "4      canción de tatiana sí habla con frankie muy b... 2020-10-17   \n",
       "...                                                 ...        ...   \n",
       "1273   siri cómo estás laura en atención compañero q... 2020-09-28   \n",
       "1274   sí cómo no melisa cómo ha estado bien bien me... 2020-10-07   \n",
       "1275   buenos días sí señor yo no te llame yo no est... 2020-09-18   \n",
       "1276   sí señor bueno sí pero no sé cuánto sería por... 2020-10-02   \n",
       "1277   lorena buenos días cómo estás bien lorena ay ... 2020-11-18   \n",
       "\n",
       "                              CodFinalización  \\\n",
       "0                    pago mínimo y pago total   \n",
       "1                    pago mínimo y pago total   \n",
       "2     solicitud de certificados marca privada   \n",
       "3     solicitud de certificados marca privada   \n",
       "4                    pago mínimo y pago total   \n",
       "...                                       ...   \n",
       "1273               explicación de facturación   \n",
       "1274               explicación de facturación   \n",
       "1275                                        0   \n",
       "1276                                        0   \n",
       "1277                                        0   \n",
       "\n",
       "                                              Productos  \\\n",
       "0     Cliente quiere cambiar el estado de su tarjeta...   \n",
       "1                                                   NaN   \n",
       "2                                                   NaN   \n",
       "3                                                   NaN   \n",
       "4                                                   NaN   \n",
       "...                                                 ...   \n",
       "1273              Cambio de fecha de pago sin autorizar   \n",
       "1274                                                NaN   \n",
       "1275                                                NaN   \n",
       "1276                                                NaN   \n",
       "1277                                                NaN   \n",
       "\n",
       "                               Problemas con el proceso  \\\n",
       "0                                                   NaN   \n",
       "1                          Consultar saldo del producto   \n",
       "2             Cliente solicita certificado: No le llega   \n",
       "3             Cliente solicita certificado: No le llega   \n",
       "4                          Consultar saldo del producto   \n",
       "...                                                 ...   \n",
       "1273  Aplicación de alternativa de pago sin autoriza...   \n",
       "1274         Inconforme por costos adicionales por mora   \n",
       "1275                  Gestión de cobro, cliente ya pagó   \n",
       "1276                  Gestión de cobro, cliente ya pagó   \n",
       "1277                                                NaN   \n",
       "\n",
       "                            Problemas con la tecnología  \\\n",
       "0                                                   NaN   \n",
       "1                                                   NaN   \n",
       "2                                                   NaN   \n",
       "3                                                   NaN   \n",
       "4                                                   NaN   \n",
       "...                                                 ...   \n",
       "1273                                                NaN   \n",
       "1274                                                NaN   \n",
       "1275                                                NaN   \n",
       "1276                                                NaN   \n",
       "1277  Fallas en aplicativos: Lentitud por actualizac...   \n",
       "\n",
       "     Impacto la satisfacción Pérfil Cliente  \\\n",
       "0                   Moderado            NaN   \n",
       "1               sin relación            NaN   \n",
       "2                   Moderado            NaN   \n",
       "3               Sin relación            NaN   \n",
       "4               sin relación            NaN   \n",
       "...                      ...            ...   \n",
       "1273                  Fuerte   Decepcionado   \n",
       "1274                Moderado    Desesperada   \n",
       "1275                Moderado   Decepcionado   \n",
       "1276                Moderado            NaN   \n",
       "1277                Moderado            NaN   \n",
       "\n",
       "                                                Chismes  \\\n",
       "0                                   vencimiento tarjeta   \n",
       "1                                                   NaN   \n",
       "2                       Solicita que se envie al correo   \n",
       "3                                                   NaN   \n",
       "4                                                   NaN   \n",
       "...                                                 ...   \n",
       "1273                                                NaN   \n",
       "1274                                    Mora recurrente   \n",
       "1275  El medio que utilizó para pagar no le sube el ...   \n",
       "1276  El medio de pago que utilizó no se aplica en l...   \n",
       "1277                    No se brindó oportuna respuesta   \n",
       "\n",
       "                                          Observaciones  \n",
       "0                         quiere actualizar la tarjeta   \n",
       "1                                                   NaN  \n",
       "2                 No le llega el certificado por correo  \n",
       "3     Cliente no le llega paz y salvo a tiempo y rea...  \n",
       "4                                                   NaN  \n",
       "...                                                 ...  \n",
       "1273                                                NaN  \n",
       "1274                                                NaN  \n",
       "1275                                                NaN  \n",
       "1276                                                     \n",
       "1277                                                NaN  \n",
       "\n",
       "[1278 rows x 14 columns]"
      ]
     },
     "execution_count": 19,
     "metadata": {},
     "output_type": "execute_result"
    }
   ],
   "source": [
    "data"
   ]
  },
  {
   "cell_type": "markdown",
   "metadata": {},
   "source": [
    "### Explicación de Facturación - Problemas con el Proceso"
   ]
  },
  {
   "cell_type": "code",
   "execution_count": 20,
   "metadata": {
    "scrolled": true
   },
   "outputs": [
    {
     "name": "stdout",
     "output_type": "stream",
     "text": [
      "193\n"
     ]
    },
    {
     "name": "stderr",
     "output_type": "stream",
     "text": [
      "C:\\Users\\dgarmor\\.conda\\envs\\Environments\\lib\\site-packages\\ipykernel_launcher.py:3: SettingWithCopyWarning: \n",
      "A value is trying to be set on a copy of a slice from a DataFrame\n",
      "\n",
      "See the caveats in the documentation: https://pandas.pydata.org/pandas-docs/stable/user_guide/indexing.html#returning-a-view-versus-a-copy\n",
      "  This is separate from the ipykernel package so we can avoid doing imports until\n"
     ]
    },
    {
     "data": {
      "text/plain": [
       "Consultar saldo del producto                                                  23\n",
       "Desconocimiento: Fecha de corte y pago                                        17\n",
       "Desconocimiento de la distribución de pagos                                   16\n",
       "Desconocimiento: No entiende como su abonos afectan al saldo en el capital    14\n",
       "Desconocimento: de cobro por interes vencido                                  13\n",
       "Información: disminución de cuota                                             11\n",
       "Confusión: Funcionamiento de la tarjeta y sus caracteristicas                  8\n",
       "No baja la deuda: Alternativas de pago                                         7\n",
       "Desconocimiento: cuota de manejo                                               6\n",
       "Aplicación de alternativa de pago sin autorización                             6\n",
       "Aumento de la deuda: Nuevas Utilizaciones                                      5\n",
       "Desconocimiento: Cancelación de seguro voluntario                              5\n",
       "Aplican seguro sin autorización                                                4\n",
       "Saldo después por pago total                                                   4\n",
       "Cliente solicita certificado: paz y salvo                                      4\n",
       "Inconforme por costos adicionales por mora                                     4\n",
       "Demora: en el envio de la factura                                              3\n",
       "Desconocimiento de la poliza deudores                                          3\n",
       "Información: valor y medios de pago                                            3\n",
       "Desconocimiento: tasa de interes                                               3\n",
       "Demora: en ingresar el pago efecty                                             2\n",
       "Desconocimiento: Cuota residual                                                2\n",
       "Desconocimiento: sobre incrementos de pagos                                    2\n",
       "Consulta solicitud crédito                                                     2\n",
       "La deuda no baja: Cliente Moroso                                               2\n",
       "Desconocimiento: De compras y avances                                          2\n",
       "Inconformidad con alternativa de pago: No libera cupo                          2\n",
       "Inconformidad: Tarjeta bloqueada                                               1\n",
       "Inconformidad en la información de la migración                                1\n",
       "Distribución de pagos: Desea que le expliquen de manera presencial             1\n",
       "Ofrecimiento de disminucion de cuota: Vía MSM                                  1\n",
       "Desconocimiento: olvido de clave                                               1\n",
       "Distribución de pagos: Abono a cada trx                                        1\n",
       "El extracto no se actualiza: No se puede modificar                             1\n",
       "Demora para entrega de tarjeta                                                 1\n",
       "Extracto de pago inmediato                                                     1\n",
       "Desconocimiento: renovación de seguro voluntario                               1\n",
       "Inconvenientes con los pagos: Pago aplicado varias veces                       1\n",
       "Desconocimiento: cupo de tarjeta                                               1\n",
       "Envio de mensaje de texto por interes no causado                               1\n",
       "Víctima de Fraude                                                              1\n",
       "Distribución de pagos: Paga anticipado, evade interés                          1\n",
       "Cliente no autenticado: No se brinda información                               1\n",
       "Tarjeta bloqueada por acuerdo de pago                                          1\n",
       "información: reposición y reexpedición de tarjeta                              1\n",
       "Confusion por envio de mensaje soluciones de pagos                             1\n",
       "Tarjeta bloqueada por mora                                                     1\n",
       "Name: Problemas con el proceso, dtype: int64"
      ]
     },
     "execution_count": 20,
     "metadata": {},
     "output_type": "execute_result"
    }
   ],
   "source": [
    "data = data[data['CodFinalización'] == 'explicación de facturación'] ######## 1 Cambio filtro #Comentarear en caso de hacer tópicos generales\n",
    "clasificacion = 'Problemas con el proceso' ###### 2 Cambio la columna a entrenas #'Expectativa no cubierta' #'Problemas con el producto' #'Usabilidad'\n",
    "data.dropna(subset=[clasificacion], inplace=True)\n",
    "data.reset_index(drop=True, inplace=True)\n",
    "print(len(data))\n",
    "data[clasificacion].value_counts()"
   ]
  },
  {
   "cell_type": "code",
   "execution_count": 21,
   "metadata": {},
   "outputs": [
    {
     "data": {
      "text/plain": [
       "Consultar saldo del producto                                                  23\n",
       "Desconocimiento: Fecha de corte y pago                                        17\n",
       "Desconocimiento de la distribución de pagos                                   16\n",
       "Desconocimiento: No entiende como su abonos afectan al saldo en el capital    14\n",
       "Desconocimento: de cobro por interes vencido                                  13\n",
       "Información: disminución de cuota                                             11\n",
       "Confusión: Funcionamiento de la tarjeta y sus caracteristicas                  8\n",
       "No baja la deuda: Alternativas de pago                                         7\n",
       "Desconocimiento: cuota de manejo                                               6\n",
       "Aplicación de alternativa de pago sin autorización                             6\n",
       "Aumento de la deuda: Nuevas Utilizaciones                                      5\n",
       "Desconocimiento: Cancelación de seguro voluntario                              5\n",
       "Aplican seguro sin autorización                                                4\n",
       "Saldo después por pago total                                                   4\n",
       "Cliente solicita certificado: paz y salvo                                      4\n",
       "Inconforme por costos adicionales por mora                                     4\n",
       "Demora: en el envio de la factura                                              3\n",
       "Desconocimiento de la poliza deudores                                          3\n",
       "Información: valor y medios de pago                                            3\n",
       "Desconocimiento: tasa de interes                                               3\n",
       "Demora: en ingresar el pago efecty                                             2\n",
       "Desconocimiento: Cuota residual                                                2\n",
       "Desconocimiento: sobre incrementos de pagos                                    2\n",
       "Consulta solicitud crédito                                                     2\n",
       "La deuda no baja: Cliente Moroso                                               2\n",
       "Desconocimiento: De compras y avances                                          2\n",
       "Inconformidad con alternativa de pago: No libera cupo                          2\n",
       "Inconformidad: Tarjeta bloqueada                                               1\n",
       "Inconformidad en la información de la migración                                1\n",
       "Distribución de pagos: Desea que le expliquen de manera presencial             1\n",
       "Ofrecimiento de disminucion de cuota: Vía MSM                                  1\n",
       "Desconocimiento: olvido de clave                                               1\n",
       "Distribución de pagos: Abono a cada trx                                        1\n",
       "El extracto no se actualiza: No se puede modificar                             1\n",
       "Demora para entrega de tarjeta                                                 1\n",
       "Extracto de pago inmediato                                                     1\n",
       "Desconocimiento: renovación de seguro voluntario                               1\n",
       "Inconvenientes con los pagos: Pago aplicado varias veces                       1\n",
       "Desconocimiento: cupo de tarjeta                                               1\n",
       "Envio de mensaje de texto por interes no causado                               1\n",
       "Víctima de Fraude                                                              1\n",
       "Distribución de pagos: Paga anticipado, evade interés                          1\n",
       "Cliente no autenticado: No se brinda información                               1\n",
       "Tarjeta bloqueada por acuerdo de pago                                          1\n",
       "información: reposición y reexpedición de tarjeta                              1\n",
       "Confusion por envio de mensaje soluciones de pagos                             1\n",
       "Tarjeta bloqueada por mora                                                     1\n",
       "Name: Problemas con el proceso, dtype: int64"
      ]
     },
     "execution_count": 21,
     "metadata": {},
     "output_type": "execute_result"
    }
   ],
   "source": [
    "df = data.copy()\n",
    "for i in range(1,1): ######### 3 Cambio\n",
    "    df = pd.concat([df,data])\n",
    "\n",
    "df[clasificacion].value_counts()"
   ]
  },
  {
   "cell_type": "code",
   "execution_count": 22,
   "metadata": {},
   "outputs": [
    {
     "data": {
      "text/plain": [
       "(193, 14)"
      ]
     },
     "execution_count": 22,
     "metadata": {},
     "output_type": "execute_result"
    }
   ],
   "source": [
    "df.shape"
   ]
  },
  {
   "cell_type": "markdown",
   "metadata": {},
   "source": [
    "#### Red Neuronal"
   ]
  },
  {
   "cell_type": "code",
   "execution_count": 23,
   "metadata": {},
   "outputs": [],
   "source": [
    "import sklearn\n",
    "from sklearn.model_selection import train_test_split\n",
    "from sklearn.feature_extraction.text import CountVectorizer\n",
    "from sklearn.feature_extraction.text import TfidfTransformer\n",
    "from sklearn.neural_network import MLPClassifier\n",
    "\n",
    "datos = df.Cliente_l\n",
    "tipificaciones=df[clasificacion]\n",
    "\n",
    "X_train, X_test, y_train, y_test = train_test_split(datos, tipificaciones)\n",
    "count_vect = CountVectorizer()\n",
    "X_train_counts = count_vect.fit_transform(X_train)\n",
    "tfidf_transformer = TfidfTransformer()\n",
    "X_train_tfidf = tfidf_transformer.fit_transform(X_train_counts)"
   ]
  },
  {
   "cell_type": "code",
   "execution_count": 24,
   "metadata": {},
   "outputs": [
    {
     "name": "stderr",
     "output_type": "stream",
     "text": [
      "C:\\Users\\dgarmor\\.conda\\envs\\Environments\\lib\\site-packages\\sklearn\\neural_network\\_multilayer_perceptron.py:585: ConvergenceWarning: Stochastic Optimizer: Maximum iterations (512) reached and the optimization hasn't converged yet.\n",
      "  % self.max_iter, ConvergenceWarning)\n"
     ]
    },
    {
     "data": {
      "text/plain": [
       "MLPClassifier(hidden_layer_sizes=5, max_iter=512)"
      ]
     },
     "execution_count": 24,
     "metadata": {},
     "output_type": "execute_result"
    }
   ],
   "source": [
    "red=MLPClassifier(max_iter=512, hidden_layer_sizes=(5)) \n",
    "red.fit(X_train_tfidf, y_train)"
   ]
  },
  {
   "cell_type": "code",
   "execution_count": 25,
   "metadata": {},
   "outputs": [
    {
     "data": {
      "text/plain": [
       "0.7847222222222222"
      ]
     },
     "execution_count": 25,
     "metadata": {},
     "output_type": "execute_result"
    }
   ],
   "source": [
    "red.score(X_train_tfidf, y_train)"
   ]
  },
  {
   "cell_type": "markdown",
   "metadata": {},
   "source": [
    "#### Clasificación"
   ]
  },
  {
   "cell_type": "code",
   "execution_count": 26,
   "metadata": {},
   "outputs": [
    {
     "name": "stdout",
     "output_type": "stream",
     "text": [
      "(157, 7)\n",
      "155\n"
     ]
    }
   ],
   "source": [
    "tipo = pd.read_excel('Tipo1.xlsx', sheet_name='Sheet1')\n",
    "tipo = tipo[tipo['CodFinalización'] == 'explicación de facturación']\n",
    "print(tipo.shape) #Dimensión de la base\n",
    "idtipo = tipo['CallID'].unique()\n",
    "print(len(idtipo)) #Tamaño de los id únicos"
   ]
  },
  {
   "cell_type": "code",
   "execution_count": 27,
   "metadata": {},
   "outputs": [
    {
     "data": {
      "text/plain": [
       "(193, 14)"
      ]
     },
     "execution_count": 27,
     "metadata": {},
     "output_type": "execute_result"
    }
   ],
   "source": [
    "df.shape"
   ]
  },
  {
   "cell_type": "code",
   "execution_count": 28,
   "metadata": {},
   "outputs": [
    {
     "data": {
      "text/plain": [
       "192"
      ]
     },
     "execution_count": 28,
     "metadata": {},
     "output_type": "execute_result"
    }
   ],
   "source": [
    "idclasificados = df['CallID'].unique()\n",
    "len(idclasificados)"
   ]
  },
  {
   "cell_type": "code",
   "execution_count": 29,
   "metadata": {},
   "outputs": [
    {
     "name": "stdout",
     "output_type": "stream",
     "text": [
      "(155, 5)\n",
      "(20, 5)\n"
     ]
    },
    {
     "data": {
      "text/html": [
       "<div>\n",
       "<style scoped>\n",
       "    .dataframe tbody tr th:only-of-type {\n",
       "        vertical-align: middle;\n",
       "    }\n",
       "\n",
       "    .dataframe tbody tr th {\n",
       "        vertical-align: top;\n",
       "    }\n",
       "\n",
       "    .dataframe thead th {\n",
       "        text-align: right;\n",
       "    }\n",
       "</style>\n",
       "<table border=\"1\" class=\"dataframe\">\n",
       "  <thead>\n",
       "    <tr style=\"text-align: right;\">\n",
       "      <th></th>\n",
       "      <th>CallID</th>\n",
       "      <th>Asesor</th>\n",
       "      <th>Cliente</th>\n",
       "      <th>Asesor_l</th>\n",
       "      <th>Cliente_l</th>\n",
       "    </tr>\n",
       "  </thead>\n",
       "  <tbody>\n",
       "    <tr>\n",
       "      <th>0</th>\n",
       "      <td>TIO7733R3T3NHFEIE9KC3OADV800RT4U</td>\n",
       "      <td>muy buenas tardes dime la línea de tuya mi no...</td>\n",
       "      <td>señor cómo está sentado muy bien gracias mira...</td>\n",
       "      <td>muy buenas tardes dime la línea de tuya mi no...</td>\n",
       "      <td>señor cómo está sentado muy bien gracias mira...</td>\n",
       "    </tr>\n",
       "    <tr>\n",
       "      <th>1</th>\n",
       "      <td>L1AOU5FFDD5EHCHE5D9QFT12K00456K2</td>\n",
       "      <td>buenas tardes mi nombre es laura tengo el gus...</td>\n",
       "      <td>pero lo que pasa es que ando un poco mensaje ...</td>\n",
       "      <td>buenas tardes mi nombre es laura tengo el gus...</td>\n",
       "      <td>pero lo que pasa es que ando un poco mensaje ...</td>\n",
       "    </tr>\n",
       "    <tr>\n",
       "      <th>2</th>\n",
       "      <td>L1AOU5FFDD5EHCHE5D9QFT12K0044512</td>\n",
       "      <td>muy buenos días mi nombre es paula día tengo ...</td>\n",
       "      <td>buenos días paula mira yo tengo en la tarjeta...</td>\n",
       "      <td>muy buenos días mi nombre es paula día tengo ...</td>\n",
       "      <td>buenos días paula mira yo tengo en la tarjeta...</td>\n",
       "    </tr>\n",
       "    <tr>\n",
       "      <th>3</th>\n",
       "      <td>1BDJ5HE3VH49BE2DOONBQ25OJC009PJ2</td>\n",
       "      <td>señora vilma muy buena se comunica con estive...</td>\n",
       "      <td>718 en el anular o no me lo dejaron ahí no lo...</td>\n",
       "      <td>señora vilma muy buena se comunica con estive...</td>\n",
       "      <td>718 en el anular o no me lo dejaron ahí no lo...</td>\n",
       "    </tr>\n",
       "    <tr>\n",
       "      <th>4</th>\n",
       "      <td>L1AOU5FFDD5EHCHE5D9QFT12K003L67S</td>\n",
       "      <td>buenas tardes bienvenido a tu yo le hablaba s...</td>\n",
       "      <td>hay una parecida a los congresistas no vengas...</td>\n",
       "      <td>buenas tardes bienvenido a tu yo le hablaba s...</td>\n",
       "      <td>hay una parecida a los congresistas no vengas...</td>\n",
       "    </tr>\n",
       "    <tr>\n",
       "      <th>5</th>\n",
       "      <td>L1AOU5FFDD5EHCHE5D9QFT12K003F06R</td>\n",
       "      <td>buenas tardes habla bien amor y yo hablo con ...</td>\n",
       "      <td>buenas tardes aquí verificando el estrato par...</td>\n",
       "      <td>buenas tardes habla bien amor y yo hablo con ...</td>\n",
       "      <td>buenas tardes aquí verificando el estrato par...</td>\n",
       "    </tr>\n",
       "    <tr>\n",
       "      <th>6</th>\n",
       "      <td>QR355L089D6DF5UMC1N72V3QO4023DSE</td>\n",
       "      <td>buenas tardes mi nombre es laura tengo el gus...</td>\n",
       "      <td>hola juli hola laura sí buenas noches cómo es...</td>\n",
       "      <td>buenas tardes mi nombre es laura tengo el gus...</td>\n",
       "      <td>hola juli hola laura sí buenas noches cómo es...</td>\n",
       "    </tr>\n",
       "    <tr>\n",
       "      <th>7</th>\n",
       "      <td>L1AOU5FFDD5EHCHE5D9QFT12K004MMNS</td>\n",
       "      <td>muy buenas tardes bienvenida la línea suyas m...</td>\n",
       "      <td>tener ganas de aprender maría buenas tardes h...</td>\n",
       "      <td>muy buenas tardes bienvenida la línea suyas m...</td>\n",
       "      <td>tener ganas de aprender maría buenas tardes h...</td>\n",
       "    </tr>\n",
       "    <tr>\n",
       "      <th>8</th>\n",
       "      <td>L1AOU5FFDD5EHCHE5D9QFT12K004PNPS</td>\n",
       "      <td>muy buenas tardes le habla daniel marcelo con...</td>\n",
       "      <td>señor con ella misma buenas tardes bien sí se...</td>\n",
       "      <td>muy buenas tardes le habla daniel marcelo con...</td>\n",
       "      <td>señor con ella misma buenas tardes bien sí se...</td>\n",
       "    </tr>\n",
       "    <tr>\n",
       "      <th>9</th>\n",
       "      <td>L1AOU5FFDD5EHCHE5D9QFT12K003GDG2</td>\n",
       "      <td>buenas tardes mi nombre es buen día mi nombre...</td>\n",
       "      <td>sí vamos a ir a la comercial aquí bien sí señ...</td>\n",
       "      <td>buenas tardes mi nombre es buen día mi nombre...</td>\n",
       "      <td>sí vamos a ir a la comercial aquí bien sí señ...</td>\n",
       "    </tr>\n",
       "    <tr>\n",
       "      <th>10</th>\n",
       "      <td>T8DROH1CEH4Q99TTQQ7ENTI6K400TOSR</td>\n",
       "      <td>muy buenos días mi nombre es ana álvarez ases...</td>\n",
       "      <td>buenos días juana con martha isabel como esta...</td>\n",
       "      <td>muy buenos días mi nombre es ana álvarez ases...</td>\n",
       "      <td>buenos días juana con martha isabel como esta...</td>\n",
       "    </tr>\n",
       "    <tr>\n",
       "      <th>11</th>\n",
       "      <td>L1AOU5FFDD5EHCHE5D9QFT12K003L08H</td>\n",
       "      <td>buenas tardes mi nombre es isabel sepúlveda t...</td>\n",
       "      <td>con ella sí gracias cómo le va bien gracias n...</td>\n",
       "      <td>buenas tardes mi nombre es isabel sepúlveda t...</td>\n",
       "      <td>con ella sí gracias cómo le va bien gracias n...</td>\n",
       "    </tr>\n",
       "    <tr>\n",
       "      <th>12</th>\n",
       "      <td>1BDJ5HE3VH49BE2DOONBQ25OJC017H31</td>\n",
       "      <td>muy buenas tardes laura castrillón señor dani...</td>\n",
       "      <td>anita laura muy bien cómo te encuentras señor...</td>\n",
       "      <td>muy buenas tardes laura castrillón señor dani...</td>\n",
       "      <td>anita laura muy bien cómo te encuentras señor...</td>\n",
       "    </tr>\n",
       "    <tr>\n",
       "      <th>13</th>\n",
       "      <td>1BDJ5HE3VH49BE2DOONBQ25OJC002IRI</td>\n",
       "      <td>hola buenas tardes mi nombre es brian cardona...</td>\n",
       "      <td>brian tomás que habla con germán aguirre y yo...</td>\n",
       "      <td>hola buenas tardes mi nombre es brian cardona...</td>\n",
       "      <td>brian tomás que habla con germán aguirre y yo...</td>\n",
       "    </tr>\n",
       "    <tr>\n",
       "      <th>14</th>\n",
       "      <td>1BDJ5HE3VH49BE2DOONBQ25OJC01B5RG</td>\n",
       "      <td>muy buenas tardes bienvenido le hablan id mar...</td>\n",
       "      <td>nora buenas tardes bien gracias laidy qué pen...</td>\n",
       "      <td>muy buenas tardes bienvenido le hablan id mar...</td>\n",
       "      <td>nora buenas tardes bien gracias laidy qué pen...</td>\n",
       "    </tr>\n",
       "    <tr>\n",
       "      <th>15</th>\n",
       "      <td>QR355L089D6DF5UMC1N72V3QO401NDH8</td>\n",
       "      <td>buenas tardes habla con maría fernanda ramos ...</td>\n",
       "      <td>aló maría fernanda ramos muy buenas tardes ha...</td>\n",
       "      <td>buenas tardes habla con maría fernanda ramos ...</td>\n",
       "      <td>aló maría fernanda ramos muy buenas tardes ha...</td>\n",
       "    </tr>\n",
       "    <tr>\n",
       "      <th>16</th>\n",
       "      <td>T8DROH1CEH4Q99TTQQ7ENTI6K4011PR5</td>\n",
       "      <td>buenas tardes los minions hoy a la hora que q...</td>\n",
       "      <td>zíngara lo que pasa es que es como que no me ...</td>\n",
       "      <td>buenas tardes los minions hoy a la hora que q...</td>\n",
       "      <td>zíngara lo que pasa es que es como que no me ...</td>\n",
       "    </tr>\n",
       "    <tr>\n",
       "      <th>17</th>\n",
       "      <td>1BDJ5HE3VH49BE2DOONBQ25OJC01B15P</td>\n",
       "      <td>buenas tardes le habla diego estrada cómo se ...</td>\n",
       "      <td>una tarjeta con las compras tarjetas comprar ...</td>\n",
       "      <td>buenas tardes le habla diego estrada cómo se ...</td>\n",
       "      <td>una tarjeta con las compras tarjetas comprar ...</td>\n",
       "    </tr>\n",
       "    <tr>\n",
       "      <th>18</th>\n",
       "      <td>L1AOU5FFDD5EHCHE5D9QFT12K003NV1S</td>\n",
       "      <td>buenas tardes mañana tú ya la nelson martínez...</td>\n",
       "      <td>buenas tardes comediantes hágame un favor es ...</td>\n",
       "      <td>buenas tardes mañana tú ya la nelson martínez...</td>\n",
       "      <td>buenas tardes comediantes hágame un favor es ...</td>\n",
       "    </tr>\n",
       "    <tr>\n",
       "      <th>19</th>\n",
       "      <td>L1AOU5FFDD5EHCHE5D9QFT12K003A2RF</td>\n",
       "      <td>buenos días hola estefanía lópez asesora de t...</td>\n",
       "      <td>algún día te voy a hablar con ramiro rivera s...</td>\n",
       "      <td>buenos días hola estefanía lópez asesora de t...</td>\n",
       "      <td>algún día te voy a hablar con ramiro rivera s...</td>\n",
       "    </tr>\n",
       "  </tbody>\n",
       "</table>\n",
       "</div>"
      ],
      "text/plain": [
       "                              CallID  \\\n",
       "0   TIO7733R3T3NHFEIE9KC3OADV800RT4U   \n",
       "1   L1AOU5FFDD5EHCHE5D9QFT12K00456K2   \n",
       "2   L1AOU5FFDD5EHCHE5D9QFT12K0044512   \n",
       "3   1BDJ5HE3VH49BE2DOONBQ25OJC009PJ2   \n",
       "4   L1AOU5FFDD5EHCHE5D9QFT12K003L67S   \n",
       "5   L1AOU5FFDD5EHCHE5D9QFT12K003F06R   \n",
       "6   QR355L089D6DF5UMC1N72V3QO4023DSE   \n",
       "7   L1AOU5FFDD5EHCHE5D9QFT12K004MMNS   \n",
       "8   L1AOU5FFDD5EHCHE5D9QFT12K004PNPS   \n",
       "9   L1AOU5FFDD5EHCHE5D9QFT12K003GDG2   \n",
       "10  T8DROH1CEH4Q99TTQQ7ENTI6K400TOSR   \n",
       "11  L1AOU5FFDD5EHCHE5D9QFT12K003L08H   \n",
       "12  1BDJ5HE3VH49BE2DOONBQ25OJC017H31   \n",
       "13  1BDJ5HE3VH49BE2DOONBQ25OJC002IRI   \n",
       "14  1BDJ5HE3VH49BE2DOONBQ25OJC01B5RG   \n",
       "15  QR355L089D6DF5UMC1N72V3QO401NDH8   \n",
       "16  T8DROH1CEH4Q99TTQQ7ENTI6K4011PR5   \n",
       "17  1BDJ5HE3VH49BE2DOONBQ25OJC01B15P   \n",
       "18  L1AOU5FFDD5EHCHE5D9QFT12K003NV1S   \n",
       "19  L1AOU5FFDD5EHCHE5D9QFT12K003A2RF   \n",
       "\n",
       "                                               Asesor  \\\n",
       "0    muy buenas tardes dime la línea de tuya mi no...   \n",
       "1    buenas tardes mi nombre es laura tengo el gus...   \n",
       "2    muy buenos días mi nombre es paula día tengo ...   \n",
       "3    señora vilma muy buena se comunica con estive...   \n",
       "4    buenas tardes bienvenido a tu yo le hablaba s...   \n",
       "5    buenas tardes habla bien amor y yo hablo con ...   \n",
       "6    buenas tardes mi nombre es laura tengo el gus...   \n",
       "7    muy buenas tardes bienvenida la línea suyas m...   \n",
       "8    muy buenas tardes le habla daniel marcelo con...   \n",
       "9    buenas tardes mi nombre es buen día mi nombre...   \n",
       "10   muy buenos días mi nombre es ana álvarez ases...   \n",
       "11   buenas tardes mi nombre es isabel sepúlveda t...   \n",
       "12   muy buenas tardes laura castrillón señor dani...   \n",
       "13   hola buenas tardes mi nombre es brian cardona...   \n",
       "14   muy buenas tardes bienvenido le hablan id mar...   \n",
       "15   buenas tardes habla con maría fernanda ramos ...   \n",
       "16   buenas tardes los minions hoy a la hora que q...   \n",
       "17   buenas tardes le habla diego estrada cómo se ...   \n",
       "18   buenas tardes mañana tú ya la nelson martínez...   \n",
       "19   buenos días hola estefanía lópez asesora de t...   \n",
       "\n",
       "                                              Cliente  \\\n",
       "0    señor cómo está sentado muy bien gracias mira...   \n",
       "1    pero lo que pasa es que ando un poco mensaje ...   \n",
       "2    buenos días paula mira yo tengo en la tarjeta...   \n",
       "3    718 en el anular o no me lo dejaron ahí no lo...   \n",
       "4    hay una parecida a los congresistas no vengas...   \n",
       "5    buenas tardes aquí verificando el estrato par...   \n",
       "6    hola juli hola laura sí buenas noches cómo es...   \n",
       "7    tener ganas de aprender maría buenas tardes h...   \n",
       "8    señor con ella misma buenas tardes bien sí se...   \n",
       "9    sí vamos a ir a la comercial aquí bien sí señ...   \n",
       "10   buenos días juana con martha isabel como esta...   \n",
       "11   con ella sí gracias cómo le va bien gracias n...   \n",
       "12   anita laura muy bien cómo te encuentras señor...   \n",
       "13   brian tomás que habla con germán aguirre y yo...   \n",
       "14   nora buenas tardes bien gracias laidy qué pen...   \n",
       "15   aló maría fernanda ramos muy buenas tardes ha...   \n",
       "16   zíngara lo que pasa es que es como que no me ...   \n",
       "17   una tarjeta con las compras tarjetas comprar ...   \n",
       "18   buenas tardes comediantes hágame un favor es ...   \n",
       "19   algún día te voy a hablar con ramiro rivera s...   \n",
       "\n",
       "                                             Asesor_l  \\\n",
       "0    muy buenas tardes dime la línea de tuya mi no...   \n",
       "1    buenas tardes mi nombre es laura tengo el gus...   \n",
       "2    muy buenos días mi nombre es paula día tengo ...   \n",
       "3    señora vilma muy buena se comunica con estive...   \n",
       "4    buenas tardes bienvenido a tu yo le hablaba s...   \n",
       "5    buenas tardes habla bien amor y yo hablo con ...   \n",
       "6    buenas tardes mi nombre es laura tengo el gus...   \n",
       "7    muy buenas tardes bienvenida la línea suyas m...   \n",
       "8    muy buenas tardes le habla daniel marcelo con...   \n",
       "9    buenas tardes mi nombre es buen día mi nombre...   \n",
       "10   muy buenos días mi nombre es ana álvarez ases...   \n",
       "11   buenas tardes mi nombre es isabel sepúlveda t...   \n",
       "12   muy buenas tardes laura castrillón señor dani...   \n",
       "13   hola buenas tardes mi nombre es brian cardona...   \n",
       "14   muy buenas tardes bienvenido le hablan id mar...   \n",
       "15   buenas tardes habla con maría fernanda ramos ...   \n",
       "16   buenas tardes los minions hoy a la hora que q...   \n",
       "17   buenas tardes le habla diego estrada cómo se ...   \n",
       "18   buenas tardes mañana tú ya la nelson martínez...   \n",
       "19   buenos días hola estefanía lópez asesora de t...   \n",
       "\n",
       "                                            Cliente_l  \n",
       "0    señor cómo está sentado muy bien gracias mira...  \n",
       "1    pero lo que pasa es que ando un poco mensaje ...  \n",
       "2    buenos días paula mira yo tengo en la tarjeta...  \n",
       "3    718 en el anular o no me lo dejaron ahí no lo...  \n",
       "4    hay una parecida a los congresistas no vengas...  \n",
       "5    buenas tardes aquí verificando el estrato par...  \n",
       "6    hola juli hola laura sí buenas noches cómo es...  \n",
       "7    tener ganas de aprender maría buenas tardes h...  \n",
       "8    señor con ella misma buenas tardes bien sí se...  \n",
       "9    sí vamos a ir a la comercial aquí bien sí señ...  \n",
       "10   buenos días juana con martha isabel como esta...  \n",
       "11   con ella sí gracias cómo le va bien gracias n...  \n",
       "12   anita laura muy bien cómo te encuentras señor...  \n",
       "13   brian tomás que habla con germán aguirre y yo...  \n",
       "14   nora buenas tardes bien gracias laidy qué pen...  \n",
       "15   aló maría fernanda ramos muy buenas tardes ha...  \n",
       "16   zíngara lo que pasa es que es como que no me ...  \n",
       "17   una tarjeta con las compras tarjetas comprar ...  \n",
       "18   buenas tardes comediantes hágame un favor es ...  \n",
       "19   algún día te voy a hablar con ramiro rivera s...  "
      ]
     },
     "execution_count": 29,
     "metadata": {},
     "output_type": "execute_result"
    }
   ],
   "source": [
    "#conversacion = pd.read_excel('perulapropia.xlsx', sheet_name='concat')\n",
    "topicosconsul = concat\n",
    "#topicosconsul = conversacion[conversacion['Canal'] == 'Consultora']\n",
    "topicosconsul = topicosconsul[topicosconsul['CallID'].isin(idtipo)] #### 1 advertencias: primero haber ejectuado la seccion Tipo producto #Comentar en caso de no realizar topicos generales\n",
    "print(topicosconsul.shape)\n",
    "topicosconsul = topicosconsul[topicosconsul['CallID'].isin(idclasificados)== False].reset_index(drop=True) ############\n",
    "print(topicosconsul.shape)\n",
    "topicosconsul"
   ]
  },
  {
   "cell_type": "code",
   "execution_count": 30,
   "metadata": {},
   "outputs": [
    {
     "data": {
      "text/html": [
       "<div>\n",
       "<style scoped>\n",
       "    .dataframe tbody tr th:only-of-type {\n",
       "        vertical-align: middle;\n",
       "    }\n",
       "\n",
       "    .dataframe tbody tr th {\n",
       "        vertical-align: top;\n",
       "    }\n",
       "\n",
       "    .dataframe thead th {\n",
       "        text-align: right;\n",
       "    }\n",
       "</style>\n",
       "<table border=\"1\" class=\"dataframe\">\n",
       "  <thead>\n",
       "    <tr style=\"text-align: right;\">\n",
       "      <th></th>\n",
       "      <th>CallID</th>\n",
       "      <th>Asesor</th>\n",
       "      <th>Cliente</th>\n",
       "      <th>Asesor_l</th>\n",
       "      <th>Cliente_l</th>\n",
       "      <th>Problemas con el proceso</th>\n",
       "    </tr>\n",
       "  </thead>\n",
       "  <tbody>\n",
       "    <tr>\n",
       "      <th>0</th>\n",
       "      <td>TIO7733R3T3NHFEIE9KC3OADV800RT4U</td>\n",
       "      <td>muy buenas tardes dime la línea de tuya mi no...</td>\n",
       "      <td>señor cómo está sentado muy bien gracias mira...</td>\n",
       "      <td>muy buenas tardes dime la línea de tuya mi no...</td>\n",
       "      <td>señor cómo está sentado muy bien gracias mira...</td>\n",
       "      <td>Desconocimiento: No entiende como su abonos af...</td>\n",
       "    </tr>\n",
       "    <tr>\n",
       "      <th>1</th>\n",
       "      <td>L1AOU5FFDD5EHCHE5D9QFT12K00456K2</td>\n",
       "      <td>buenas tardes mi nombre es laura tengo el gus...</td>\n",
       "      <td>pero lo que pasa es que ando un poco mensaje ...</td>\n",
       "      <td>buenas tardes mi nombre es laura tengo el gus...</td>\n",
       "      <td>pero lo que pasa es que ando un poco mensaje ...</td>\n",
       "      <td>Desconocimiento: No entiende como su abonos af...</td>\n",
       "    </tr>\n",
       "    <tr>\n",
       "      <th>2</th>\n",
       "      <td>L1AOU5FFDD5EHCHE5D9QFT12K0044512</td>\n",
       "      <td>muy buenos días mi nombre es paula día tengo ...</td>\n",
       "      <td>buenos días paula mira yo tengo en la tarjeta...</td>\n",
       "      <td>muy buenos días mi nombre es paula día tengo ...</td>\n",
       "      <td>buenos días paula mira yo tengo en la tarjeta...</td>\n",
       "      <td>Desconocimiento: No entiende como su abonos af...</td>\n",
       "    </tr>\n",
       "    <tr>\n",
       "      <th>3</th>\n",
       "      <td>1BDJ5HE3VH49BE2DOONBQ25OJC009PJ2</td>\n",
       "      <td>señora vilma muy buena se comunica con estive...</td>\n",
       "      <td>718 en el anular o no me lo dejaron ahí no lo...</td>\n",
       "      <td>señora vilma muy buena se comunica con estive...</td>\n",
       "      <td>718 en el anular o no me lo dejaron ahí no lo...</td>\n",
       "      <td>Desconocimiento: No entiende como su abonos af...</td>\n",
       "    </tr>\n",
       "    <tr>\n",
       "      <th>4</th>\n",
       "      <td>L1AOU5FFDD5EHCHE5D9QFT12K003L67S</td>\n",
       "      <td>buenas tardes bienvenido a tu yo le hablaba s...</td>\n",
       "      <td>hay una parecida a los congresistas no vengas...</td>\n",
       "      <td>buenas tardes bienvenido a tu yo le hablaba s...</td>\n",
       "      <td>hay una parecida a los congresistas no vengas...</td>\n",
       "      <td>Desconocimiento: No entiende como su abonos af...</td>\n",
       "    </tr>\n",
       "    <tr>\n",
       "      <th>5</th>\n",
       "      <td>L1AOU5FFDD5EHCHE5D9QFT12K003F06R</td>\n",
       "      <td>buenas tardes habla bien amor y yo hablo con ...</td>\n",
       "      <td>buenas tardes aquí verificando el estrato par...</td>\n",
       "      <td>buenas tardes habla bien amor y yo hablo con ...</td>\n",
       "      <td>buenas tardes aquí verificando el estrato par...</td>\n",
       "      <td>Desconocimiento: No entiende como su abonos af...</td>\n",
       "    </tr>\n",
       "    <tr>\n",
       "      <th>6</th>\n",
       "      <td>QR355L089D6DF5UMC1N72V3QO4023DSE</td>\n",
       "      <td>buenas tardes mi nombre es laura tengo el gus...</td>\n",
       "      <td>hola juli hola laura sí buenas noches cómo es...</td>\n",
       "      <td>buenas tardes mi nombre es laura tengo el gus...</td>\n",
       "      <td>hola juli hola laura sí buenas noches cómo es...</td>\n",
       "      <td>Desconocimiento: No entiende como su abonos af...</td>\n",
       "    </tr>\n",
       "    <tr>\n",
       "      <th>7</th>\n",
       "      <td>L1AOU5FFDD5EHCHE5D9QFT12K004MMNS</td>\n",
       "      <td>muy buenas tardes bienvenida la línea suyas m...</td>\n",
       "      <td>tener ganas de aprender maría buenas tardes h...</td>\n",
       "      <td>muy buenas tardes bienvenida la línea suyas m...</td>\n",
       "      <td>tener ganas de aprender maría buenas tardes h...</td>\n",
       "      <td>Desconocimiento: No entiende como su abonos af...</td>\n",
       "    </tr>\n",
       "    <tr>\n",
       "      <th>8</th>\n",
       "      <td>L1AOU5FFDD5EHCHE5D9QFT12K004PNPS</td>\n",
       "      <td>muy buenas tardes le habla daniel marcelo con...</td>\n",
       "      <td>señor con ella misma buenas tardes bien sí se...</td>\n",
       "      <td>muy buenas tardes le habla daniel marcelo con...</td>\n",
       "      <td>señor con ella misma buenas tardes bien sí se...</td>\n",
       "      <td>Desconocimiento: No entiende como su abonos af...</td>\n",
       "    </tr>\n",
       "    <tr>\n",
       "      <th>9</th>\n",
       "      <td>L1AOU5FFDD5EHCHE5D9QFT12K003GDG2</td>\n",
       "      <td>buenas tardes mi nombre es buen día mi nombre...</td>\n",
       "      <td>sí vamos a ir a la comercial aquí bien sí señ...</td>\n",
       "      <td>buenas tardes mi nombre es buen día mi nombre...</td>\n",
       "      <td>sí vamos a ir a la comercial aquí bien sí señ...</td>\n",
       "      <td>Confusión: Funcionamiento de la tarjeta y sus ...</td>\n",
       "    </tr>\n",
       "    <tr>\n",
       "      <th>10</th>\n",
       "      <td>T8DROH1CEH4Q99TTQQ7ENTI6K400TOSR</td>\n",
       "      <td>muy buenos días mi nombre es ana álvarez ases...</td>\n",
       "      <td>buenos días juana con martha isabel como esta...</td>\n",
       "      <td>muy buenos días mi nombre es ana álvarez ases...</td>\n",
       "      <td>buenos días juana con martha isabel como esta...</td>\n",
       "      <td>Confusión: Funcionamiento de la tarjeta y sus ...</td>\n",
       "    </tr>\n",
       "    <tr>\n",
       "      <th>11</th>\n",
       "      <td>L1AOU5FFDD5EHCHE5D9QFT12K003L08H</td>\n",
       "      <td>buenas tardes mi nombre es isabel sepúlveda t...</td>\n",
       "      <td>con ella sí gracias cómo le va bien gracias n...</td>\n",
       "      <td>buenas tardes mi nombre es isabel sepúlveda t...</td>\n",
       "      <td>con ella sí gracias cómo le va bien gracias n...</td>\n",
       "      <td>Confusión: Funcionamiento de la tarjeta y sus ...</td>\n",
       "    </tr>\n",
       "    <tr>\n",
       "      <th>12</th>\n",
       "      <td>1BDJ5HE3VH49BE2DOONBQ25OJC017H31</td>\n",
       "      <td>muy buenas tardes laura castrillón señor dani...</td>\n",
       "      <td>anita laura muy bien cómo te encuentras señor...</td>\n",
       "      <td>muy buenas tardes laura castrillón señor dani...</td>\n",
       "      <td>anita laura muy bien cómo te encuentras señor...</td>\n",
       "      <td>Desconocimiento: No entiende como su abonos af...</td>\n",
       "    </tr>\n",
       "    <tr>\n",
       "      <th>13</th>\n",
       "      <td>1BDJ5HE3VH49BE2DOONBQ25OJC002IRI</td>\n",
       "      <td>hola buenas tardes mi nombre es brian cardona...</td>\n",
       "      <td>brian tomás que habla con germán aguirre y yo...</td>\n",
       "      <td>hola buenas tardes mi nombre es brian cardona...</td>\n",
       "      <td>brian tomás que habla con germán aguirre y yo...</td>\n",
       "      <td>Confusión: Funcionamiento de la tarjeta y sus ...</td>\n",
       "    </tr>\n",
       "    <tr>\n",
       "      <th>14</th>\n",
       "      <td>1BDJ5HE3VH49BE2DOONBQ25OJC01B5RG</td>\n",
       "      <td>muy buenas tardes bienvenido le hablan id mar...</td>\n",
       "      <td>nora buenas tardes bien gracias laidy qué pen...</td>\n",
       "      <td>muy buenas tardes bienvenido le hablan id mar...</td>\n",
       "      <td>nora buenas tardes bien gracias laidy qué pen...</td>\n",
       "      <td>Desconocimiento: No entiende como su abonos af...</td>\n",
       "    </tr>\n",
       "    <tr>\n",
       "      <th>15</th>\n",
       "      <td>QR355L089D6DF5UMC1N72V3QO401NDH8</td>\n",
       "      <td>buenas tardes habla con maría fernanda ramos ...</td>\n",
       "      <td>aló maría fernanda ramos muy buenas tardes ha...</td>\n",
       "      <td>buenas tardes habla con maría fernanda ramos ...</td>\n",
       "      <td>aló maría fernanda ramos muy buenas tardes ha...</td>\n",
       "      <td>Desconocimiento: No entiende como su abonos af...</td>\n",
       "    </tr>\n",
       "    <tr>\n",
       "      <th>16</th>\n",
       "      <td>T8DROH1CEH4Q99TTQQ7ENTI6K4011PR5</td>\n",
       "      <td>buenas tardes los minions hoy a la hora que q...</td>\n",
       "      <td>zíngara lo que pasa es que es como que no me ...</td>\n",
       "      <td>buenas tardes los minions hoy a la hora que q...</td>\n",
       "      <td>zíngara lo que pasa es que es como que no me ...</td>\n",
       "      <td>Desconocimiento: No entiende como su abonos af...</td>\n",
       "    </tr>\n",
       "    <tr>\n",
       "      <th>17</th>\n",
       "      <td>1BDJ5HE3VH49BE2DOONBQ25OJC01B15P</td>\n",
       "      <td>buenas tardes le habla diego estrada cómo se ...</td>\n",
       "      <td>una tarjeta con las compras tarjetas comprar ...</td>\n",
       "      <td>buenas tardes le habla diego estrada cómo se ...</td>\n",
       "      <td>una tarjeta con las compras tarjetas comprar ...</td>\n",
       "      <td>Confusión: Funcionamiento de la tarjeta y sus ...</td>\n",
       "    </tr>\n",
       "    <tr>\n",
       "      <th>18</th>\n",
       "      <td>L1AOU5FFDD5EHCHE5D9QFT12K003NV1S</td>\n",
       "      <td>buenas tardes mañana tú ya la nelson martínez...</td>\n",
       "      <td>buenas tardes comediantes hágame un favor es ...</td>\n",
       "      <td>buenas tardes mañana tú ya la nelson martínez...</td>\n",
       "      <td>buenas tardes comediantes hágame un favor es ...</td>\n",
       "      <td>Desconocimiento: No entiende como su abonos af...</td>\n",
       "    </tr>\n",
       "    <tr>\n",
       "      <th>19</th>\n",
       "      <td>L1AOU5FFDD5EHCHE5D9QFT12K003A2RF</td>\n",
       "      <td>buenos días hola estefanía lópez asesora de t...</td>\n",
       "      <td>algún día te voy a hablar con ramiro rivera s...</td>\n",
       "      <td>buenos días hola estefanía lópez asesora de t...</td>\n",
       "      <td>algún día te voy a hablar con ramiro rivera s...</td>\n",
       "      <td>Desconocimiento: No entiende como su abonos af...</td>\n",
       "    </tr>\n",
       "  </tbody>\n",
       "</table>\n",
       "</div>"
      ],
      "text/plain": [
       "                              CallID  \\\n",
       "0   TIO7733R3T3NHFEIE9KC3OADV800RT4U   \n",
       "1   L1AOU5FFDD5EHCHE5D9QFT12K00456K2   \n",
       "2   L1AOU5FFDD5EHCHE5D9QFT12K0044512   \n",
       "3   1BDJ5HE3VH49BE2DOONBQ25OJC009PJ2   \n",
       "4   L1AOU5FFDD5EHCHE5D9QFT12K003L67S   \n",
       "5   L1AOU5FFDD5EHCHE5D9QFT12K003F06R   \n",
       "6   QR355L089D6DF5UMC1N72V3QO4023DSE   \n",
       "7   L1AOU5FFDD5EHCHE5D9QFT12K004MMNS   \n",
       "8   L1AOU5FFDD5EHCHE5D9QFT12K004PNPS   \n",
       "9   L1AOU5FFDD5EHCHE5D9QFT12K003GDG2   \n",
       "10  T8DROH1CEH4Q99TTQQ7ENTI6K400TOSR   \n",
       "11  L1AOU5FFDD5EHCHE5D9QFT12K003L08H   \n",
       "12  1BDJ5HE3VH49BE2DOONBQ25OJC017H31   \n",
       "13  1BDJ5HE3VH49BE2DOONBQ25OJC002IRI   \n",
       "14  1BDJ5HE3VH49BE2DOONBQ25OJC01B5RG   \n",
       "15  QR355L089D6DF5UMC1N72V3QO401NDH8   \n",
       "16  T8DROH1CEH4Q99TTQQ7ENTI6K4011PR5   \n",
       "17  1BDJ5HE3VH49BE2DOONBQ25OJC01B15P   \n",
       "18  L1AOU5FFDD5EHCHE5D9QFT12K003NV1S   \n",
       "19  L1AOU5FFDD5EHCHE5D9QFT12K003A2RF   \n",
       "\n",
       "                                               Asesor  \\\n",
       "0    muy buenas tardes dime la línea de tuya mi no...   \n",
       "1    buenas tardes mi nombre es laura tengo el gus...   \n",
       "2    muy buenos días mi nombre es paula día tengo ...   \n",
       "3    señora vilma muy buena se comunica con estive...   \n",
       "4    buenas tardes bienvenido a tu yo le hablaba s...   \n",
       "5    buenas tardes habla bien amor y yo hablo con ...   \n",
       "6    buenas tardes mi nombre es laura tengo el gus...   \n",
       "7    muy buenas tardes bienvenida la línea suyas m...   \n",
       "8    muy buenas tardes le habla daniel marcelo con...   \n",
       "9    buenas tardes mi nombre es buen día mi nombre...   \n",
       "10   muy buenos días mi nombre es ana álvarez ases...   \n",
       "11   buenas tardes mi nombre es isabel sepúlveda t...   \n",
       "12   muy buenas tardes laura castrillón señor dani...   \n",
       "13   hola buenas tardes mi nombre es brian cardona...   \n",
       "14   muy buenas tardes bienvenido le hablan id mar...   \n",
       "15   buenas tardes habla con maría fernanda ramos ...   \n",
       "16   buenas tardes los minions hoy a la hora que q...   \n",
       "17   buenas tardes le habla diego estrada cómo se ...   \n",
       "18   buenas tardes mañana tú ya la nelson martínez...   \n",
       "19   buenos días hola estefanía lópez asesora de t...   \n",
       "\n",
       "                                              Cliente  \\\n",
       "0    señor cómo está sentado muy bien gracias mira...   \n",
       "1    pero lo que pasa es que ando un poco mensaje ...   \n",
       "2    buenos días paula mira yo tengo en la tarjeta...   \n",
       "3    718 en el anular o no me lo dejaron ahí no lo...   \n",
       "4    hay una parecida a los congresistas no vengas...   \n",
       "5    buenas tardes aquí verificando el estrato par...   \n",
       "6    hola juli hola laura sí buenas noches cómo es...   \n",
       "7    tener ganas de aprender maría buenas tardes h...   \n",
       "8    señor con ella misma buenas tardes bien sí se...   \n",
       "9    sí vamos a ir a la comercial aquí bien sí señ...   \n",
       "10   buenos días juana con martha isabel como esta...   \n",
       "11   con ella sí gracias cómo le va bien gracias n...   \n",
       "12   anita laura muy bien cómo te encuentras señor...   \n",
       "13   brian tomás que habla con germán aguirre y yo...   \n",
       "14   nora buenas tardes bien gracias laidy qué pen...   \n",
       "15   aló maría fernanda ramos muy buenas tardes ha...   \n",
       "16   zíngara lo que pasa es que es como que no me ...   \n",
       "17   una tarjeta con las compras tarjetas comprar ...   \n",
       "18   buenas tardes comediantes hágame un favor es ...   \n",
       "19   algún día te voy a hablar con ramiro rivera s...   \n",
       "\n",
       "                                             Asesor_l  \\\n",
       "0    muy buenas tardes dime la línea de tuya mi no...   \n",
       "1    buenas tardes mi nombre es laura tengo el gus...   \n",
       "2    muy buenos días mi nombre es paula día tengo ...   \n",
       "3    señora vilma muy buena se comunica con estive...   \n",
       "4    buenas tardes bienvenido a tu yo le hablaba s...   \n",
       "5    buenas tardes habla bien amor y yo hablo con ...   \n",
       "6    buenas tardes mi nombre es laura tengo el gus...   \n",
       "7    muy buenas tardes bienvenida la línea suyas m...   \n",
       "8    muy buenas tardes le habla daniel marcelo con...   \n",
       "9    buenas tardes mi nombre es buen día mi nombre...   \n",
       "10   muy buenos días mi nombre es ana álvarez ases...   \n",
       "11   buenas tardes mi nombre es isabel sepúlveda t...   \n",
       "12   muy buenas tardes laura castrillón señor dani...   \n",
       "13   hola buenas tardes mi nombre es brian cardona...   \n",
       "14   muy buenas tardes bienvenido le hablan id mar...   \n",
       "15   buenas tardes habla con maría fernanda ramos ...   \n",
       "16   buenas tardes los minions hoy a la hora que q...   \n",
       "17   buenas tardes le habla diego estrada cómo se ...   \n",
       "18   buenas tardes mañana tú ya la nelson martínez...   \n",
       "19   buenos días hola estefanía lópez asesora de t...   \n",
       "\n",
       "                                            Cliente_l  \\\n",
       "0    señor cómo está sentado muy bien gracias mira...   \n",
       "1    pero lo que pasa es que ando un poco mensaje ...   \n",
       "2    buenos días paula mira yo tengo en la tarjeta...   \n",
       "3    718 en el anular o no me lo dejaron ahí no lo...   \n",
       "4    hay una parecida a los congresistas no vengas...   \n",
       "5    buenas tardes aquí verificando el estrato par...   \n",
       "6    hola juli hola laura sí buenas noches cómo es...   \n",
       "7    tener ganas de aprender maría buenas tardes h...   \n",
       "8    señor con ella misma buenas tardes bien sí se...   \n",
       "9    sí vamos a ir a la comercial aquí bien sí señ...   \n",
       "10   buenos días juana con martha isabel como esta...   \n",
       "11   con ella sí gracias cómo le va bien gracias n...   \n",
       "12   anita laura muy bien cómo te encuentras señor...   \n",
       "13   brian tomás que habla con germán aguirre y yo...   \n",
       "14   nora buenas tardes bien gracias laidy qué pen...   \n",
       "15   aló maría fernanda ramos muy buenas tardes ha...   \n",
       "16   zíngara lo que pasa es que es como que no me ...   \n",
       "17   una tarjeta con las compras tarjetas comprar ...   \n",
       "18   buenas tardes comediantes hágame un favor es ...   \n",
       "19   algún día te voy a hablar con ramiro rivera s...   \n",
       "\n",
       "                             Problemas con el proceso  \n",
       "0   Desconocimiento: No entiende como su abonos af...  \n",
       "1   Desconocimiento: No entiende como su abonos af...  \n",
       "2   Desconocimiento: No entiende como su abonos af...  \n",
       "3   Desconocimiento: No entiende como su abonos af...  \n",
       "4   Desconocimiento: No entiende como su abonos af...  \n",
       "5   Desconocimiento: No entiende como su abonos af...  \n",
       "6   Desconocimiento: No entiende como su abonos af...  \n",
       "7   Desconocimiento: No entiende como su abonos af...  \n",
       "8   Desconocimiento: No entiende como su abonos af...  \n",
       "9   Confusión: Funcionamiento de la tarjeta y sus ...  \n",
       "10  Confusión: Funcionamiento de la tarjeta y sus ...  \n",
       "11  Confusión: Funcionamiento de la tarjeta y sus ...  \n",
       "12  Desconocimiento: No entiende como su abonos af...  \n",
       "13  Confusión: Funcionamiento de la tarjeta y sus ...  \n",
       "14  Desconocimiento: No entiende como su abonos af...  \n",
       "15  Desconocimiento: No entiende como su abonos af...  \n",
       "16  Desconocimiento: No entiende como su abonos af...  \n",
       "17  Confusión: Funcionamiento de la tarjeta y sus ...  \n",
       "18  Desconocimiento: No entiende como su abonos af...  \n",
       "19  Desconocimiento: No entiende como su abonos af...  "
      ]
     },
     "execution_count": 30,
     "metadata": {},
     "output_type": "execute_result"
    }
   ],
   "source": [
    "datos = topicosconsul[\"Cliente_l\"].values\n",
    "topicosconsul[clasificacion] = red.predict(count_vect.transform(datos))\n",
    "topicosconsul"
   ]
  },
  {
   "cell_type": "markdown",
   "metadata": {},
   "source": [
    "#### Concatenar Bases"
   ]
  },
  {
   "cell_type": "code",
   "execution_count": 31,
   "metadata": {},
   "outputs": [
    {
     "data": {
      "text/plain": [
       "192"
      ]
     },
     "execution_count": 31,
     "metadata": {},
     "output_type": "execute_result"
    }
   ],
   "source": [
    "clasificada = concat[concat['CallID'].isin(idclasificados)].reset_index(drop=True)\n",
    "len(clasificada)"
   ]
  },
  {
   "cell_type": "code",
   "execution_count": 32,
   "metadata": {},
   "outputs": [
    {
     "data": {
      "text/plain": [
       "193"
      ]
     },
     "execution_count": 32,
     "metadata": {},
     "output_type": "execute_result"
    }
   ],
   "source": [
    "pivot = data[['CallID', clasificacion]]\n",
    "clasdic = clasificada.merge(pivot, on='CallID', how='left')\n",
    "len(clasdic)"
   ]
  },
  {
   "cell_type": "code",
   "execution_count": 33,
   "metadata": {},
   "outputs": [
    {
     "data": {
      "text/plain": [
       "0"
      ]
     },
     "execution_count": 33,
     "metadata": {},
     "output_type": "execute_result"
    }
   ],
   "source": [
    "clasdic[clasificacion].isnull().sum()"
   ]
  },
  {
   "cell_type": "code",
   "execution_count": 34,
   "metadata": {},
   "outputs": [],
   "source": [
    "dffinal = pd.concat([clasdic, topicosconsul]).reset_index(drop=True)"
   ]
  },
  {
   "cell_type": "markdown",
   "metadata": {},
   "source": [
    "#### Validación"
   ]
  },
  {
   "cell_type": "code",
   "execution_count": 35,
   "metadata": {},
   "outputs": [
    {
     "name": "stdout",
     "output_type": "stream",
     "text": [
      "Desconocimiento: No entiende como su abonos afectan al saldo en el capital    0.136150\n",
      "Consultar saldo del producto                                                  0.107981\n",
      "Desconocimiento: Fecha de corte y pago                                        0.079812\n",
      "Desconocimiento de la distribución de pagos                                   0.075117\n",
      "Confusión: Funcionamiento de la tarjeta y sus caracteristicas                 0.061033\n",
      "Desconocimento: de cobro por interes vencido                                  0.061033\n",
      "Información: disminución de cuota                                             0.051643\n",
      "No baja la deuda: Alternativas de pago                                        0.032864\n",
      "Desconocimiento: cuota de manejo                                              0.028169\n",
      "Aplicación de alternativa de pago sin autorización                            0.028169\n",
      "Aumento de la deuda: Nuevas Utilizaciones                                     0.023474\n",
      "Desconocimiento: Cancelación de seguro voluntario                             0.023474\n",
      "Aplican seguro sin autorización                                               0.018779\n",
      "Saldo después por pago total                                                  0.018779\n",
      "Cliente solicita certificado: paz y salvo                                     0.018779\n",
      "Inconforme por costos adicionales por mora                                    0.018779\n",
      "Demora: en el envio de la factura                                             0.014085\n",
      "Desconocimiento de la poliza deudores                                         0.014085\n",
      "Información: valor y medios de pago                                           0.014085\n",
      "Desconocimiento: tasa de interes                                              0.014085\n",
      "Demora: en ingresar el pago efecty                                            0.009390\n",
      "Desconocimiento: Cuota residual                                               0.009390\n",
      "Desconocimiento: sobre incrementos de pagos                                   0.009390\n",
      "Consulta solicitud crédito                                                    0.009390\n",
      "La deuda no baja: Cliente Moroso                                              0.009390\n",
      "Desconocimiento: De compras y avances                                         0.009390\n",
      "Inconformidad con alternativa de pago: No libera cupo                         0.009390\n",
      "Inconformidad: Tarjeta bloqueada                                              0.004695\n",
      "Inconformidad en la información de la migración                               0.004695\n",
      "Distribución de pagos: Desea que le expliquen de manera presencial            0.004695\n",
      "Ofrecimiento de disminucion de cuota: Vía MSM                                 0.004695\n",
      "Desconocimiento: olvido de clave                                              0.004695\n",
      "Distribución de pagos: Abono a cada trx                                       0.004695\n",
      "El extracto no se actualiza: No se puede modificar                            0.004695\n",
      "Demora para entrega de tarjeta                                                0.004695\n",
      "Extracto de pago inmediato                                                    0.004695\n",
      "Desconocimiento: renovación de seguro voluntario                              0.004695\n",
      "Inconvenientes con los pagos: Pago aplicado varias veces                      0.004695\n",
      "Desconocimiento: cupo de tarjeta                                              0.004695\n",
      "Envio de mensaje de texto por interes no causado                              0.004695\n",
      "Víctima de Fraude                                                             0.004695\n",
      "Distribución de pagos: Paga anticipado, evade interés                         0.004695\n",
      "Cliente no autenticado: No se brinda información                              0.004695\n",
      "Tarjeta bloqueada por acuerdo de pago                                         0.004695\n",
      "información: reposición y reexpedición de tarjeta                             0.004695\n",
      "Confusion por envio de mensaje soluciones de pagos                            0.004695\n",
      "Tarjeta bloqueada por mora                                                    0.004695\n",
      "Name: Problemas con el proceso, dtype: float64\n"
     ]
    }
   ],
   "source": [
    "print(dffinal[clasificacion].value_counts(normalize=True)) #### Población"
   ]
  },
  {
   "cell_type": "code",
   "execution_count": 36,
   "metadata": {},
   "outputs": [
    {
     "name": "stdout",
     "output_type": "stream",
     "text": [
      "Consultar saldo del producto                                                  0.119171\n",
      "Desconocimiento: Fecha de corte y pago                                        0.088083\n",
      "Desconocimiento de la distribución de pagos                                   0.082902\n",
      "Desconocimiento: No entiende como su abonos afectan al saldo en el capital    0.072539\n",
      "Desconocimento: de cobro por interes vencido                                  0.067358\n",
      "Información: disminución de cuota                                             0.056995\n",
      "Confusión: Funcionamiento de la tarjeta y sus caracteristicas                 0.041451\n",
      "No baja la deuda: Alternativas de pago                                        0.036269\n",
      "Desconocimiento: cuota de manejo                                              0.031088\n",
      "Aplicación de alternativa de pago sin autorización                            0.031088\n",
      "Aumento de la deuda: Nuevas Utilizaciones                                     0.025907\n",
      "Desconocimiento: Cancelación de seguro voluntario                             0.025907\n",
      "Aplican seguro sin autorización                                               0.020725\n",
      "Saldo después por pago total                                                  0.020725\n",
      "Cliente solicita certificado: paz y salvo                                     0.020725\n",
      "Inconforme por costos adicionales por mora                                    0.020725\n",
      "Demora: en el envio de la factura                                             0.015544\n",
      "Desconocimiento de la poliza deudores                                         0.015544\n",
      "Información: valor y medios de pago                                           0.015544\n",
      "Desconocimiento: tasa de interes                                              0.015544\n",
      "Demora: en ingresar el pago efecty                                            0.010363\n",
      "Desconocimiento: Cuota residual                                               0.010363\n",
      "Desconocimiento: sobre incrementos de pagos                                   0.010363\n",
      "Consulta solicitud crédito                                                    0.010363\n",
      "La deuda no baja: Cliente Moroso                                              0.010363\n",
      "Desconocimiento: De compras y avances                                         0.010363\n",
      "Inconformidad con alternativa de pago: No libera cupo                         0.010363\n",
      "Inconformidad: Tarjeta bloqueada                                              0.005181\n",
      "Inconformidad en la información de la migración                               0.005181\n",
      "Distribución de pagos: Desea que le expliquen de manera presencial            0.005181\n",
      "Ofrecimiento de disminucion de cuota: Vía MSM                                 0.005181\n",
      "Desconocimiento: olvido de clave                                              0.005181\n",
      "Distribución de pagos: Abono a cada trx                                       0.005181\n",
      "El extracto no se actualiza: No se puede modificar                            0.005181\n",
      "Demora para entrega de tarjeta                                                0.005181\n",
      "Extracto de pago inmediato                                                    0.005181\n",
      "Desconocimiento: renovación de seguro voluntario                              0.005181\n",
      "Inconvenientes con los pagos: Pago aplicado varias veces                      0.005181\n",
      "Desconocimiento: cupo de tarjeta                                              0.005181\n",
      "Envio de mensaje de texto por interes no causado                              0.005181\n",
      "Víctima de Fraude                                                             0.005181\n",
      "Distribución de pagos: Paga anticipado, evade interés                         0.005181\n",
      "Cliente no autenticado: No se brinda información                              0.005181\n",
      "Tarjeta bloqueada por acuerdo de pago                                         0.005181\n",
      "información: reposición y reexpedición de tarjeta                             0.005181\n",
      "Confusion por envio de mensaje soluciones de pagos                            0.005181\n",
      "Tarjeta bloqueada por mora                                                    0.005181\n",
      "Name: Problemas con el proceso, dtype: float64\n"
     ]
    }
   ],
   "source": [
    "print(data[clasificacion].value_counts(normalize=True))  #### Muestra"
   ]
  },
  {
   "cell_type": "code",
   "execution_count": 37,
   "metadata": {},
   "outputs": [],
   "source": [
    "dffinal.to_excel('D:/Proyecto Speech Tuya/Clasificación/explicación factura - procesos.xlsx') ## exportar archivo"
   ]
  },
  {
   "cell_type": "markdown",
   "metadata": {},
   "source": [
    "### Explicación de Facturación - Problemas con los Productos"
   ]
  },
  {
   "cell_type": "code",
   "execution_count": 299,
   "metadata": {},
   "outputs": [],
   "source": [
    "data = concat.merge(diccionarios, on='CallID', how='left')"
   ]
  },
  {
   "cell_type": "code",
   "execution_count": 284,
   "metadata": {},
   "outputs": [],
   "source": [
    "data = data[['CallID', 'Asesor', 'Cliente', 'Asesor_l', 'Cliente_l', 'Fecha', \n",
    "       'CodFinalización', 'Productos', 'Problemas con el proceso',\n",
    "       'Problemas con la tecnología', 'Impacto la satisfacción',\n",
    "       'Pérfil Cliente', 'Chismes', 'Observaciones']]\n",
    "\n",
    "data.index = range(data.shape[0])"
   ]
  },
  {
   "cell_type": "code",
   "execution_count": 285,
   "metadata": {},
   "outputs": [
    {
     "name": "stdout",
     "output_type": "stream",
     "text": [
      "34\n"
     ]
    },
    {
     "data": {
      "text/plain": [
       "El extracto no se actualiza: No se puede modificar                         8\n",
       "Ajuste de transacciones reverso de compra                                  8\n",
       "No puede hacer pagos dirigidos                                             7\n",
       "Consulta estado del producto                                               2\n",
       "No puede realizar primera compra por internet                              2\n",
       "Aplicaron disminución de cuota sin autorización                            1\n",
       "Cambio de fecha: Cliente no apto                                           1\n",
       "Inconforme por alternativa aplicada: Disminución de cuota                  1\n",
       "Cambio de fecha de pago sin autorizar                                      1\n",
       "Cliente quiere cambiar el estado de su tarjeta (bloquear y desbloquear)    1\n",
       "Cancelar seguro por mala venta                                             1\n",
       "no se pueden diferir cuando son compras internacionales                    1\n",
       "Name: Productos, dtype: int64"
      ]
     },
     "execution_count": 285,
     "metadata": {},
     "output_type": "execute_result"
    }
   ],
   "source": [
    "data = data[data['CodFinalización'] == 'explicación de facturación'] ######## 1 Cambio filtro #Comentarear en caso de hacer tópicos generales\n",
    "clasificacion = 'Productos' ###### 2 Cambio la columna a entrenas #'Expectativa no cubierta' #'Problemas con el producto' #'Usabilidad'\n",
    "data.dropna(subset=[clasificacion], inplace=True)\n",
    "data.reset_index(drop=True, inplace=True)\n",
    "print(len(data))\n",
    "data[clasificacion].value_counts()"
   ]
  },
  {
   "cell_type": "code",
   "execution_count": 286,
   "metadata": {},
   "outputs": [],
   "source": [
    "df = data.copy()\n",
    "for i in range(1,1): ######### 3 Cambio\n",
    "    df = pd.concat([df,data])"
   ]
  },
  {
   "cell_type": "markdown",
   "metadata": {},
   "source": [
    "#### Red Neuronal"
   ]
  },
  {
   "cell_type": "code",
   "execution_count": 287,
   "metadata": {},
   "outputs": [],
   "source": [
    "import sklearn\n",
    "from sklearn.model_selection import train_test_split\n",
    "from sklearn.feature_extraction.text import CountVectorizer\n",
    "from sklearn.feature_extraction.text import TfidfTransformer\n",
    "from sklearn.neural_network import MLPClassifier\n",
    "\n",
    "datos = df.Cliente_l\n",
    "tipificaciones=df[clasificacion]\n",
    "\n",
    "X_train, X_test, y_train, y_test = train_test_split(datos, tipificaciones)\n",
    "count_vect = CountVectorizer()\n",
    "X_train_counts = count_vect.fit_transform(X_train)\n",
    "tfidf_transformer = TfidfTransformer()\n",
    "X_train_tfidf = tfidf_transformer.fit_transform(X_train_counts)"
   ]
  },
  {
   "cell_type": "code",
   "execution_count": 288,
   "metadata": {},
   "outputs": [
    {
     "name": "stderr",
     "output_type": "stream",
     "text": [
      "C:\\Users\\dgarmor\\.conda\\envs\\Environments\\lib\\site-packages\\sklearn\\neural_network\\_multilayer_perceptron.py:585: ConvergenceWarning: Stochastic Optimizer: Maximum iterations (512) reached and the optimization hasn't converged yet.\n",
      "  % self.max_iter, ConvergenceWarning)\n"
     ]
    },
    {
     "data": {
      "text/plain": [
       "MLPClassifier(hidden_layer_sizes=5, max_iter=512)"
      ]
     },
     "execution_count": 288,
     "metadata": {},
     "output_type": "execute_result"
    }
   ],
   "source": [
    "red=MLPClassifier(max_iter=512, hidden_layer_sizes=(5)) \n",
    "red.fit(X_train_tfidf, y_train)"
   ]
  },
  {
   "cell_type": "code",
   "execution_count": 289,
   "metadata": {},
   "outputs": [
    {
     "data": {
      "text/plain": [
       "0.96"
      ]
     },
     "execution_count": 289,
     "metadata": {},
     "output_type": "execute_result"
    }
   ],
   "source": [
    "red.score(X_train_tfidf, y_train)"
   ]
  },
  {
   "cell_type": "markdown",
   "metadata": {},
   "source": [
    "#### Clasificación"
   ]
  },
  {
   "cell_type": "code",
   "execution_count": 290,
   "metadata": {},
   "outputs": [
    {
     "data": {
      "text/plain": [
       "34"
      ]
     },
     "execution_count": 290,
     "metadata": {},
     "output_type": "execute_result"
    }
   ],
   "source": [
    "idclasificados = df['CallID'].unique()\n",
    "len(idclasificados)"
   ]
  },
  {
   "cell_type": "code",
   "execution_count": 291,
   "metadata": {},
   "outputs": [
    {
     "name": "stdout",
     "output_type": "stream",
     "text": [
      "(155, 5)\n",
      "(130, 5)\n"
     ]
    },
    {
     "data": {
      "text/html": [
       "<div>\n",
       "<style scoped>\n",
       "    .dataframe tbody tr th:only-of-type {\n",
       "        vertical-align: middle;\n",
       "    }\n",
       "\n",
       "    .dataframe tbody tr th {\n",
       "        vertical-align: top;\n",
       "    }\n",
       "\n",
       "    .dataframe thead th {\n",
       "        text-align: right;\n",
       "    }\n",
       "</style>\n",
       "<table border=\"1\" class=\"dataframe\">\n",
       "  <thead>\n",
       "    <tr style=\"text-align: right;\">\n",
       "      <th></th>\n",
       "      <th>CallID</th>\n",
       "      <th>Asesor</th>\n",
       "      <th>Cliente</th>\n",
       "      <th>Asesor_l</th>\n",
       "      <th>Cliente_l</th>\n",
       "    </tr>\n",
       "  </thead>\n",
       "  <tbody>\n",
       "    <tr>\n",
       "      <th>0</th>\n",
       "      <td>L1AOU5FFDD5EHCHE5D9QFT12K003QEHN</td>\n",
       "      <td>buenos días mi nombre es julián ospina al señ...</td>\n",
       "      <td>hola señorita muy bien gracias a dios la preg...</td>\n",
       "      <td>buenos días mi nombre es julián ospina al señ...</td>\n",
       "      <td>hola señorita muy bien gracias a dios la preg...</td>\n",
       "    </tr>\n",
       "    <tr>\n",
       "      <th>1</th>\n",
       "      <td>T8DROH1CEH4Q99TTQQ7ENTI6K4013K84</td>\n",
       "      <td>buenos días habla con jessica tengo luz solar...</td>\n",
       "      <td>es muy rara van a llegar no entiendas y tengo...</td>\n",
       "      <td>buenos días habla con jessica tengo luz solar...</td>\n",
       "      <td>es muy rara van a llegar no entiendas y tengo...</td>\n",
       "    </tr>\n",
       "    <tr>\n",
       "      <th>2</th>\n",
       "      <td>L1AOU5FFDD5EHCHE5D9QFT12K00456K2</td>\n",
       "      <td>buenas tardes mi nombre es laura tengo el gus...</td>\n",
       "      <td>pero lo que pasa es que ando un poco mensaje ...</td>\n",
       "      <td>buenas tardes mi nombre es laura tengo el gus...</td>\n",
       "      <td>pero lo que pasa es que ando un poco mensaje ...</td>\n",
       "    </tr>\n",
       "    <tr>\n",
       "      <th>3</th>\n",
       "      <td>80I4890E4544H1VFVKDLFNILGC04VGUE</td>\n",
       "      <td>hola feliz tarde mi nombre es juan hacedor tu...</td>\n",
       "      <td>buenas tardes mira lo que pasa es que en el c...</td>\n",
       "      <td>hola feliz tarde mi nombre es juan hacedor tu...</td>\n",
       "      <td>buenas tardes mira lo que pasa es que en el c...</td>\n",
       "    </tr>\n",
       "    <tr>\n",
       "      <th>4</th>\n",
       "      <td>T8DROH1CEH4Q99TTQQ7ENTI6K4008GDT</td>\n",
       "      <td>muy buenas tardes mire la hora castella señor...</td>\n",
       "      <td>buenas tardes por favor me puede decir sí cla...</td>\n",
       "      <td>muy buenas tardes mire la hora castella señor...</td>\n",
       "      <td>buenas tardes por favor me puede decir sí cla...</td>\n",
       "    </tr>\n",
       "    <tr>\n",
       "      <th>...</th>\n",
       "      <td>...</td>\n",
       "      <td>...</td>\n",
       "      <td>...</td>\n",
       "      <td>...</td>\n",
       "      <td>...</td>\n",
       "    </tr>\n",
       "    <tr>\n",
       "      <th>125</th>\n",
       "      <td>L1AOU5FFDD5EHCHE5D9QFT12K004ORH3</td>\n",
       "      <td>muy buenos días habla con alejandro hernández...</td>\n",
       "      <td>buenos días habla con rafael verde señores es...</td>\n",
       "      <td>muy buenos días habla con alejandro hernández...</td>\n",
       "      <td>buenos días habla con rafael verde señores es...</td>\n",
       "    </tr>\n",
       "    <tr>\n",
       "      <th>126</th>\n",
       "      <td>L1AOU5FFDD5EHCHE5D9QFT12K004MRN7</td>\n",
       "      <td>buenas tardes habla con jessica con quien ten...</td>\n",
       "      <td>buenas tardes compañera te hablan acá no en l...</td>\n",
       "      <td>buenas tardes habla con jessica con quien ten...</td>\n",
       "      <td>buenas tardes compañera te hablan acá no en l...</td>\n",
       "    </tr>\n",
       "    <tr>\n",
       "      <th>127</th>\n",
       "      <td>L1AOU5FFDD5EHCHE5D9QFT12K003VS5U</td>\n",
       "      <td>muy buenas tardes habla con esa peña césar de...</td>\n",
       "      <td>amanda rodríguez muy bien gracias a dios buen...</td>\n",
       "      <td>muy buenas tardes habla con esa peña césar de...</td>\n",
       "      <td>amanda rodríguez muy bien gracias a dios buen...</td>\n",
       "    </tr>\n",
       "    <tr>\n",
       "      <th>128</th>\n",
       "      <td>T8DROH1CEH4Q99TTQQ7ENTI6K4016Q9Q</td>\n",
       "      <td>muy buenas tardes le habla maría fernanda mar...</td>\n",
       "      <td>para que llegue patológico ir a maría fernand...</td>\n",
       "      <td>muy buenas tardes le habla maría fernanda mar...</td>\n",
       "      <td>para que llegue patológico ir a maría fernand...</td>\n",
       "    </tr>\n",
       "    <tr>\n",
       "      <th>129</th>\n",
       "      <td>1BDJ5HE3VH49BE2DOONBQ25OJC0025OE</td>\n",
       "      <td>buenas tardes habla melisa cosa tengo el gust...</td>\n",
       "      <td>sí cómo no melisa cómo ha estado bien bien me...</td>\n",
       "      <td>buenas tardes habla melisa cosa tengo el gust...</td>\n",
       "      <td>sí cómo no melisa cómo ha estado bien bien me...</td>\n",
       "    </tr>\n",
       "  </tbody>\n",
       "</table>\n",
       "<p>130 rows × 5 columns</p>\n",
       "</div>"
      ],
      "text/plain": [
       "                               CallID  \\\n",
       "0    L1AOU5FFDD5EHCHE5D9QFT12K003QEHN   \n",
       "1    T8DROH1CEH4Q99TTQQ7ENTI6K4013K84   \n",
       "2    L1AOU5FFDD5EHCHE5D9QFT12K00456K2   \n",
       "3    80I4890E4544H1VFVKDLFNILGC04VGUE   \n",
       "4    T8DROH1CEH4Q99TTQQ7ENTI6K4008GDT   \n",
       "..                                ...   \n",
       "125  L1AOU5FFDD5EHCHE5D9QFT12K004ORH3   \n",
       "126  L1AOU5FFDD5EHCHE5D9QFT12K004MRN7   \n",
       "127  L1AOU5FFDD5EHCHE5D9QFT12K003VS5U   \n",
       "128  T8DROH1CEH4Q99TTQQ7ENTI6K4016Q9Q   \n",
       "129  1BDJ5HE3VH49BE2DOONBQ25OJC0025OE   \n",
       "\n",
       "                                                Asesor  \\\n",
       "0     buenos días mi nombre es julián ospina al señ...   \n",
       "1     buenos días habla con jessica tengo luz solar...   \n",
       "2     buenas tardes mi nombre es laura tengo el gus...   \n",
       "3     hola feliz tarde mi nombre es juan hacedor tu...   \n",
       "4     muy buenas tardes mire la hora castella señor...   \n",
       "..                                                 ...   \n",
       "125   muy buenos días habla con alejandro hernández...   \n",
       "126   buenas tardes habla con jessica con quien ten...   \n",
       "127   muy buenas tardes habla con esa peña césar de...   \n",
       "128   muy buenas tardes le habla maría fernanda mar...   \n",
       "129   buenas tardes habla melisa cosa tengo el gust...   \n",
       "\n",
       "                                               Cliente  \\\n",
       "0     hola señorita muy bien gracias a dios la preg...   \n",
       "1     es muy rara van a llegar no entiendas y tengo...   \n",
       "2     pero lo que pasa es que ando un poco mensaje ...   \n",
       "3     buenas tardes mira lo que pasa es que en el c...   \n",
       "4     buenas tardes por favor me puede decir sí cla...   \n",
       "..                                                 ...   \n",
       "125   buenos días habla con rafael verde señores es...   \n",
       "126   buenas tardes compañera te hablan acá no en l...   \n",
       "127   amanda rodríguez muy bien gracias a dios buen...   \n",
       "128   para que llegue patológico ir a maría fernand...   \n",
       "129   sí cómo no melisa cómo ha estado bien bien me...   \n",
       "\n",
       "                                              Asesor_l  \\\n",
       "0     buenos días mi nombre es julián ospina al señ...   \n",
       "1     buenos días habla con jessica tengo luz solar...   \n",
       "2     buenas tardes mi nombre es laura tengo el gus...   \n",
       "3     hola feliz tarde mi nombre es juan hacedor tu...   \n",
       "4     muy buenas tardes mire la hora castella señor...   \n",
       "..                                                 ...   \n",
       "125   muy buenos días habla con alejandro hernández...   \n",
       "126   buenas tardes habla con jessica con quien ten...   \n",
       "127   muy buenas tardes habla con esa peña césar de...   \n",
       "128   muy buenas tardes le habla maría fernanda mar...   \n",
       "129   buenas tardes habla melisa cosa tengo el gust...   \n",
       "\n",
       "                                             Cliente_l  \n",
       "0     hola señorita muy bien gracias a dios la preg...  \n",
       "1     es muy rara van a llegar no entiendas y tengo...  \n",
       "2     pero lo que pasa es que ando un poco mensaje ...  \n",
       "3     buenas tardes mira lo que pasa es que en el c...  \n",
       "4     buenas tardes por favor me puede decir sí cla...  \n",
       "..                                                 ...  \n",
       "125   buenos días habla con rafael verde señores es...  \n",
       "126   buenas tardes compañera te hablan acá no en l...  \n",
       "127   amanda rodríguez muy bien gracias a dios buen...  \n",
       "128   para que llegue patológico ir a maría fernand...  \n",
       "129   sí cómo no melisa cómo ha estado bien bien me...  \n",
       "\n",
       "[130 rows x 5 columns]"
      ]
     },
     "execution_count": 291,
     "metadata": {},
     "output_type": "execute_result"
    }
   ],
   "source": [
    "#conversacion = pd.read_excel('perulapropia.xlsx', sheet_name='concat')\n",
    "topicosconsul = concat\n",
    "#topicosconsul = conversacion[conversacion['Canal'] == 'Consultora']\n",
    "topicosconsul = topicosconsul[topicosconsul['CallID'].isin(idtipo)] #### 1 advertencias: primero haber ejectuado la seccion Tipo producto #Comentar en caso de no realizar topicos generales\n",
    "print(topicosconsul.shape)\n",
    "topicosconsul = topicosconsul[topicosconsul['CallID'].isin(idclasificados)== False].reset_index(drop=True) ############\n",
    "print(topicosconsul.shape)\n",
    "topicosconsul"
   ]
  },
  {
   "cell_type": "code",
   "execution_count": 292,
   "metadata": {},
   "outputs": [
    {
     "data": {
      "text/html": [
       "<div>\n",
       "<style scoped>\n",
       "    .dataframe tbody tr th:only-of-type {\n",
       "        vertical-align: middle;\n",
       "    }\n",
       "\n",
       "    .dataframe tbody tr th {\n",
       "        vertical-align: top;\n",
       "    }\n",
       "\n",
       "    .dataframe thead th {\n",
       "        text-align: right;\n",
       "    }\n",
       "</style>\n",
       "<table border=\"1\" class=\"dataframe\">\n",
       "  <thead>\n",
       "    <tr style=\"text-align: right;\">\n",
       "      <th></th>\n",
       "      <th>CallID</th>\n",
       "      <th>Asesor</th>\n",
       "      <th>Cliente</th>\n",
       "      <th>Asesor_l</th>\n",
       "      <th>Cliente_l</th>\n",
       "      <th>Productos</th>\n",
       "    </tr>\n",
       "  </thead>\n",
       "  <tbody>\n",
       "    <tr>\n",
       "      <th>0</th>\n",
       "      <td>L1AOU5FFDD5EHCHE5D9QFT12K003QEHN</td>\n",
       "      <td>buenos días mi nombre es julián ospina al señ...</td>\n",
       "      <td>hola señorita muy bien gracias a dios la preg...</td>\n",
       "      <td>buenos días mi nombre es julián ospina al señ...</td>\n",
       "      <td>hola señorita muy bien gracias a dios la preg...</td>\n",
       "      <td>Ajuste de transacciones reverso de compra</td>\n",
       "    </tr>\n",
       "    <tr>\n",
       "      <th>1</th>\n",
       "      <td>T8DROH1CEH4Q99TTQQ7ENTI6K4013K84</td>\n",
       "      <td>buenos días habla con jessica tengo luz solar...</td>\n",
       "      <td>es muy rara van a llegar no entiendas y tengo...</td>\n",
       "      <td>buenos días habla con jessica tengo luz solar...</td>\n",
       "      <td>es muy rara van a llegar no entiendas y tengo...</td>\n",
       "      <td>Ajuste de transacciones reverso de compra</td>\n",
       "    </tr>\n",
       "    <tr>\n",
       "      <th>2</th>\n",
       "      <td>L1AOU5FFDD5EHCHE5D9QFT12K00456K2</td>\n",
       "      <td>buenas tardes mi nombre es laura tengo el gus...</td>\n",
       "      <td>pero lo que pasa es que ando un poco mensaje ...</td>\n",
       "      <td>buenas tardes mi nombre es laura tengo el gus...</td>\n",
       "      <td>pero lo que pasa es que ando un poco mensaje ...</td>\n",
       "      <td>Ajuste de transacciones reverso de compra</td>\n",
       "    </tr>\n",
       "    <tr>\n",
       "      <th>3</th>\n",
       "      <td>80I4890E4544H1VFVKDLFNILGC04VGUE</td>\n",
       "      <td>hola feliz tarde mi nombre es juan hacedor tu...</td>\n",
       "      <td>buenas tardes mira lo que pasa es que en el c...</td>\n",
       "      <td>hola feliz tarde mi nombre es juan hacedor tu...</td>\n",
       "      <td>buenas tardes mira lo que pasa es que en el c...</td>\n",
       "      <td>Ajuste de transacciones reverso de compra</td>\n",
       "    </tr>\n",
       "    <tr>\n",
       "      <th>4</th>\n",
       "      <td>T8DROH1CEH4Q99TTQQ7ENTI6K4008GDT</td>\n",
       "      <td>muy buenas tardes mire la hora castella señor...</td>\n",
       "      <td>buenas tardes por favor me puede decir sí cla...</td>\n",
       "      <td>muy buenas tardes mire la hora castella señor...</td>\n",
       "      <td>buenas tardes por favor me puede decir sí cla...</td>\n",
       "      <td>El extracto no se actualiza: No se puede modif...</td>\n",
       "    </tr>\n",
       "    <tr>\n",
       "      <th>...</th>\n",
       "      <td>...</td>\n",
       "      <td>...</td>\n",
       "      <td>...</td>\n",
       "      <td>...</td>\n",
       "      <td>...</td>\n",
       "      <td>...</td>\n",
       "    </tr>\n",
       "    <tr>\n",
       "      <th>125</th>\n",
       "      <td>L1AOU5FFDD5EHCHE5D9QFT12K004ORH3</td>\n",
       "      <td>muy buenos días habla con alejandro hernández...</td>\n",
       "      <td>buenos días habla con rafael verde señores es...</td>\n",
       "      <td>muy buenos días habla con alejandro hernández...</td>\n",
       "      <td>buenos días habla con rafael verde señores es...</td>\n",
       "      <td>Ajuste de transacciones reverso de compra</td>\n",
       "    </tr>\n",
       "    <tr>\n",
       "      <th>126</th>\n",
       "      <td>L1AOU5FFDD5EHCHE5D9QFT12K004MRN7</td>\n",
       "      <td>buenas tardes habla con jessica con quien ten...</td>\n",
       "      <td>buenas tardes compañera te hablan acá no en l...</td>\n",
       "      <td>buenas tardes habla con jessica con quien ten...</td>\n",
       "      <td>buenas tardes compañera te hablan acá no en l...</td>\n",
       "      <td>Ajuste de transacciones reverso de compra</td>\n",
       "    </tr>\n",
       "    <tr>\n",
       "      <th>127</th>\n",
       "      <td>L1AOU5FFDD5EHCHE5D9QFT12K003VS5U</td>\n",
       "      <td>muy buenas tardes habla con esa peña césar de...</td>\n",
       "      <td>amanda rodríguez muy bien gracias a dios buen...</td>\n",
       "      <td>muy buenas tardes habla con esa peña césar de...</td>\n",
       "      <td>amanda rodríguez muy bien gracias a dios buen...</td>\n",
       "      <td>El extracto no se actualiza: No se puede modif...</td>\n",
       "    </tr>\n",
       "    <tr>\n",
       "      <th>128</th>\n",
       "      <td>T8DROH1CEH4Q99TTQQ7ENTI6K4016Q9Q</td>\n",
       "      <td>muy buenas tardes le habla maría fernanda mar...</td>\n",
       "      <td>para que llegue patológico ir a maría fernand...</td>\n",
       "      <td>muy buenas tardes le habla maría fernanda mar...</td>\n",
       "      <td>para que llegue patológico ir a maría fernand...</td>\n",
       "      <td>Ajuste de transacciones reverso de compra</td>\n",
       "    </tr>\n",
       "    <tr>\n",
       "      <th>129</th>\n",
       "      <td>1BDJ5HE3VH49BE2DOONBQ25OJC0025OE</td>\n",
       "      <td>buenas tardes habla melisa cosa tengo el gust...</td>\n",
       "      <td>sí cómo no melisa cómo ha estado bien bien me...</td>\n",
       "      <td>buenas tardes habla melisa cosa tengo el gust...</td>\n",
       "      <td>sí cómo no melisa cómo ha estado bien bien me...</td>\n",
       "      <td>Ajuste de transacciones reverso de compra</td>\n",
       "    </tr>\n",
       "  </tbody>\n",
       "</table>\n",
       "<p>130 rows × 6 columns</p>\n",
       "</div>"
      ],
      "text/plain": [
       "                               CallID  \\\n",
       "0    L1AOU5FFDD5EHCHE5D9QFT12K003QEHN   \n",
       "1    T8DROH1CEH4Q99TTQQ7ENTI6K4013K84   \n",
       "2    L1AOU5FFDD5EHCHE5D9QFT12K00456K2   \n",
       "3    80I4890E4544H1VFVKDLFNILGC04VGUE   \n",
       "4    T8DROH1CEH4Q99TTQQ7ENTI6K4008GDT   \n",
       "..                                ...   \n",
       "125  L1AOU5FFDD5EHCHE5D9QFT12K004ORH3   \n",
       "126  L1AOU5FFDD5EHCHE5D9QFT12K004MRN7   \n",
       "127  L1AOU5FFDD5EHCHE5D9QFT12K003VS5U   \n",
       "128  T8DROH1CEH4Q99TTQQ7ENTI6K4016Q9Q   \n",
       "129  1BDJ5HE3VH49BE2DOONBQ25OJC0025OE   \n",
       "\n",
       "                                                Asesor  \\\n",
       "0     buenos días mi nombre es julián ospina al señ...   \n",
       "1     buenos días habla con jessica tengo luz solar...   \n",
       "2     buenas tardes mi nombre es laura tengo el gus...   \n",
       "3     hola feliz tarde mi nombre es juan hacedor tu...   \n",
       "4     muy buenas tardes mire la hora castella señor...   \n",
       "..                                                 ...   \n",
       "125   muy buenos días habla con alejandro hernández...   \n",
       "126   buenas tardes habla con jessica con quien ten...   \n",
       "127   muy buenas tardes habla con esa peña césar de...   \n",
       "128   muy buenas tardes le habla maría fernanda mar...   \n",
       "129   buenas tardes habla melisa cosa tengo el gust...   \n",
       "\n",
       "                                               Cliente  \\\n",
       "0     hola señorita muy bien gracias a dios la preg...   \n",
       "1     es muy rara van a llegar no entiendas y tengo...   \n",
       "2     pero lo que pasa es que ando un poco mensaje ...   \n",
       "3     buenas tardes mira lo que pasa es que en el c...   \n",
       "4     buenas tardes por favor me puede decir sí cla...   \n",
       "..                                                 ...   \n",
       "125   buenos días habla con rafael verde señores es...   \n",
       "126   buenas tardes compañera te hablan acá no en l...   \n",
       "127   amanda rodríguez muy bien gracias a dios buen...   \n",
       "128   para que llegue patológico ir a maría fernand...   \n",
       "129   sí cómo no melisa cómo ha estado bien bien me...   \n",
       "\n",
       "                                              Asesor_l  \\\n",
       "0     buenos días mi nombre es julián ospina al señ...   \n",
       "1     buenos días habla con jessica tengo luz solar...   \n",
       "2     buenas tardes mi nombre es laura tengo el gus...   \n",
       "3     hola feliz tarde mi nombre es juan hacedor tu...   \n",
       "4     muy buenas tardes mire la hora castella señor...   \n",
       "..                                                 ...   \n",
       "125   muy buenos días habla con alejandro hernández...   \n",
       "126   buenas tardes habla con jessica con quien ten...   \n",
       "127   muy buenas tardes habla con esa peña césar de...   \n",
       "128   muy buenas tardes le habla maría fernanda mar...   \n",
       "129   buenas tardes habla melisa cosa tengo el gust...   \n",
       "\n",
       "                                             Cliente_l  \\\n",
       "0     hola señorita muy bien gracias a dios la preg...   \n",
       "1     es muy rara van a llegar no entiendas y tengo...   \n",
       "2     pero lo que pasa es que ando un poco mensaje ...   \n",
       "3     buenas tardes mira lo que pasa es que en el c...   \n",
       "4     buenas tardes por favor me puede decir sí cla...   \n",
       "..                                                 ...   \n",
       "125   buenos días habla con rafael verde señores es...   \n",
       "126   buenas tardes compañera te hablan acá no en l...   \n",
       "127   amanda rodríguez muy bien gracias a dios buen...   \n",
       "128   para que llegue patológico ir a maría fernand...   \n",
       "129   sí cómo no melisa cómo ha estado bien bien me...   \n",
       "\n",
       "                                             Productos  \n",
       "0            Ajuste de transacciones reverso de compra  \n",
       "1            Ajuste de transacciones reverso de compra  \n",
       "2            Ajuste de transacciones reverso de compra  \n",
       "3            Ajuste de transacciones reverso de compra  \n",
       "4    El extracto no se actualiza: No se puede modif...  \n",
       "..                                                 ...  \n",
       "125          Ajuste de transacciones reverso de compra  \n",
       "126          Ajuste de transacciones reverso de compra  \n",
       "127  El extracto no se actualiza: No se puede modif...  \n",
       "128          Ajuste de transacciones reverso de compra  \n",
       "129          Ajuste de transacciones reverso de compra  \n",
       "\n",
       "[130 rows x 6 columns]"
      ]
     },
     "execution_count": 292,
     "metadata": {},
     "output_type": "execute_result"
    }
   ],
   "source": [
    "datos = topicosconsul[\"Cliente_l\"].values\n",
    "topicosconsul[clasificacion] = red.predict(count_vect.transform(datos))\n",
    "topicosconsul"
   ]
  },
  {
   "cell_type": "markdown",
   "metadata": {},
   "source": [
    "#### Concatenar Bases"
   ]
  },
  {
   "cell_type": "code",
   "execution_count": 293,
   "metadata": {},
   "outputs": [
    {
     "data": {
      "text/plain": [
       "34"
      ]
     },
     "execution_count": 293,
     "metadata": {},
     "output_type": "execute_result"
    }
   ],
   "source": [
    "clasificada = concat[concat['CallID'].isin(idclasificados)].reset_index(drop=True)\n",
    "len(clasificada)"
   ]
  },
  {
   "cell_type": "code",
   "execution_count": 294,
   "metadata": {},
   "outputs": [
    {
     "data": {
      "text/plain": [
       "34"
      ]
     },
     "execution_count": 294,
     "metadata": {},
     "output_type": "execute_result"
    }
   ],
   "source": [
    "pivot = data[['CallID', clasificacion]]\n",
    "clasdic = clasificada.merge(pivot, on='CallID', how='left')\n",
    "len(clasdic)"
   ]
  },
  {
   "cell_type": "code",
   "execution_count": 295,
   "metadata": {},
   "outputs": [
    {
     "data": {
      "text/plain": [
       "0"
      ]
     },
     "execution_count": 295,
     "metadata": {},
     "output_type": "execute_result"
    }
   ],
   "source": [
    "clasdic[clasificacion].isnull().sum()"
   ]
  },
  {
   "cell_type": "code",
   "execution_count": 296,
   "metadata": {},
   "outputs": [],
   "source": [
    "dffinal = pd.concat([clasdic, topicosconsul]).reset_index(drop=True)"
   ]
  },
  {
   "cell_type": "markdown",
   "metadata": {},
   "source": [
    "#### Validación"
   ]
  },
  {
   "cell_type": "code",
   "execution_count": 52,
   "metadata": {},
   "outputs": [
    {
     "name": "stdout",
     "output_type": "stream",
     "text": [
      "Ajuste de transacciones reverso de compra                                  0.640244\n",
      "No puede hacer pagos dirigidos                                             0.243902\n",
      "El extracto no se actualiza: No se puede modificar                         0.048780\n",
      "Consulta estado del producto                                               0.012195\n",
      "No puede realizar primera compra por internet                              0.012195\n",
      "Aplicaron disminución de cuota sin autorización                            0.006098\n",
      "Cambio de fecha: Cliente no apto                                           0.006098\n",
      "Inconforme por alternativa aplicada: Disminución de cuota                  0.006098\n",
      "Cambio de fecha de pago sin autorizar                                      0.006098\n",
      "Cliente quiere cambiar el estado de su tarjeta (bloquear y desbloquear)    0.006098\n",
      "no se pueden diferir cuando son compras internacionales                    0.006098\n",
      "Cancelar seguro por mala venta                                             0.006098\n",
      "Name: Productos, dtype: float64\n"
     ]
    }
   ],
   "source": [
    "print(dffinal[clasificacion].value_counts(normalize=True)) #### Población"
   ]
  },
  {
   "cell_type": "code",
   "execution_count": 53,
   "metadata": {},
   "outputs": [
    {
     "name": "stdout",
     "output_type": "stream",
     "text": [
      "El extracto no se actualiza: No se puede modificar                         0.235294\n",
      "Ajuste de transacciones reverso de compra                                  0.235294\n",
      "No puede hacer pagos dirigidos                                             0.205882\n",
      "Consulta estado del producto                                               0.058824\n",
      "No puede realizar primera compra por internet                              0.058824\n",
      "Aplicaron disminución de cuota sin autorización                            0.029412\n",
      "Cambio de fecha: Cliente no apto                                           0.029412\n",
      "Inconforme por alternativa aplicada: Disminución de cuota                  0.029412\n",
      "Cambio de fecha de pago sin autorizar                                      0.029412\n",
      "Cliente quiere cambiar el estado de su tarjeta (bloquear y desbloquear)    0.029412\n",
      "Cancelar seguro por mala venta                                             0.029412\n",
      "no se pueden diferir cuando son compras internacionales                    0.029412\n",
      "Name: Productos, dtype: float64\n"
     ]
    }
   ],
   "source": [
    "print(data[clasificacion].value_counts(normalize=True)) #### Muestra"
   ]
  },
  {
   "cell_type": "code",
   "execution_count": 54,
   "metadata": {},
   "outputs": [],
   "source": [
    "dffinal.to_excel('D:/Proyecto Speech Tuya/Clasificación/explicación factura - productos.xlsx') ## exportar archivo"
   ]
  },
  {
   "cell_type": "code",
   "execution_count": 301,
   "metadata": {},
   "outputs": [
    {
     "name": "stdout",
     "output_type": "stream",
     "text": [
      "['Ajuste de transacciones reverso de compra']\n"
     ]
    }
   ],
   "source": [
    "print(red.predict(count_vect.transform([\"Amazon en dolares y no me deja refinanciar\"])))"
   ]
  },
  {
   "cell_type": "code",
   "execution_count": 298,
   "metadata": {},
   "outputs": [
    {
     "data": {
      "text/plain": [
       "Consultar saldo del producto                          5\n",
       "Desconocimiento de la distribución de pagos           3\n",
       "Información: disminución de cuota                     1\n",
       "Inconforme por costos adicionales por mora            1\n",
       "Saldo después por pago total                          1\n",
       "Aplicación de alternativa de pago sin autorización    1\n",
       "Demora: en el envio de la factura                     1\n",
       "Tarjeta bloqueada por acuerdo de pago                 1\n",
       "Name: Problemas con el proceso, dtype: int64"
      ]
     },
     "execution_count": 298,
     "metadata": {},
     "output_type": "execute_result"
    }
   ],
   "source": [
    "data[\"Problemas con el proceso\"].value_counts()"
   ]
  },
  {
   "cell_type": "markdown",
   "metadata": {},
   "source": [
    "### Explicación de Facturación - Problemas con la Tecnología"
   ]
  },
  {
   "cell_type": "code",
   "execution_count": 55,
   "metadata": {},
   "outputs": [],
   "source": [
    "data = concat.merge(diccionarios, on='CallID', how='left')"
   ]
  },
  {
   "cell_type": "code",
   "execution_count": 56,
   "metadata": {},
   "outputs": [],
   "source": [
    "data = data[['CallID', 'Asesor', 'Cliente', 'Asesor_l', 'Cliente_l', 'Fecha', \n",
    "       'CodFinalización', 'Productos', 'Problemas con el proceso',\n",
    "       'Problemas con la tecnología', 'Impacto la satisfacción',\n",
    "       'Pérfil Cliente', 'Chismes', 'Observaciones']]\n",
    "\n",
    "data.index = range(data.shape[0])"
   ]
  },
  {
   "cell_type": "code",
   "execution_count": 57,
   "metadata": {},
   "outputs": [
    {
     "name": "stdout",
     "output_type": "stream",
     "text": [
      "12\n"
     ]
    },
    {
     "data": {
      "text/plain": [
       "actualización del sistema de pagos              4\n",
       "No registra valor a pagar de forma virtual      2\n",
       "Calidad del audio en llamada                    2\n",
       "No aparece factura al validar en la app         1\n",
       "compra no se ve reflejada en el sistema         1\n",
       "No recibe extractos físicos                     1\n",
       "No puede realizar pago de tarjeta por la app    1\n",
       "Name: Problemas con la tecnología, dtype: int64"
      ]
     },
     "execution_count": 57,
     "metadata": {},
     "output_type": "execute_result"
    }
   ],
   "source": [
    "data = data[data['CodFinalización'] == 'explicación de facturación'] ######## 1 Cambio filtro #Comentarear en caso de hacer tópicos generales\n",
    "clasificacion = 'Problemas con la tecnología' ###### 2 Cambio la columna a entrenas #'Expectativa no cubierta' #'Problemas con el producto' #'Usabilidad'\n",
    "data.dropna(subset=[clasificacion], inplace=True)\n",
    "data.reset_index(drop=True, inplace=True)\n",
    "print(len(data))\n",
    "data[clasificacion].value_counts()"
   ]
  },
  {
   "cell_type": "code",
   "execution_count": 58,
   "metadata": {},
   "outputs": [],
   "source": [
    "df = data.copy()\n",
    "for i in range(1,1): ######### 3 Cambio\n",
    "    df = pd.concat([df,data])"
   ]
  },
  {
   "cell_type": "markdown",
   "metadata": {},
   "source": [
    "#### Red Neuronal"
   ]
  },
  {
   "cell_type": "code",
   "execution_count": 59,
   "metadata": {},
   "outputs": [],
   "source": [
    "import sklearn\n",
    "from sklearn.model_selection import train_test_split\n",
    "from sklearn.feature_extraction.text import CountVectorizer\n",
    "from sklearn.feature_extraction.text import TfidfTransformer\n",
    "from sklearn.neural_network import MLPClassifier\n",
    "\n",
    "datos = df.Cliente_l\n",
    "tipificaciones=df[clasificacion]\n",
    "\n",
    "X_train, X_test, y_train, y_test = train_test_split(datos, tipificaciones)\n",
    "count_vect = CountVectorizer()\n",
    "X_train_counts = count_vect.fit_transform(X_train)\n",
    "tfidf_transformer = TfidfTransformer()\n",
    "X_train_tfidf = tfidf_transformer.fit_transform(X_train_counts)"
   ]
  },
  {
   "cell_type": "code",
   "execution_count": 60,
   "metadata": {},
   "outputs": [
    {
     "name": "stderr",
     "output_type": "stream",
     "text": [
      "C:\\Users\\dgarmor\\.conda\\envs\\Environments\\lib\\site-packages\\sklearn\\neural_network\\_multilayer_perceptron.py:585: ConvergenceWarning: Stochastic Optimizer: Maximum iterations (512) reached and the optimization hasn't converged yet.\n",
      "  % self.max_iter, ConvergenceWarning)\n"
     ]
    },
    {
     "data": {
      "text/plain": [
       "MLPClassifier(hidden_layer_sizes=5, max_iter=512)"
      ]
     },
     "execution_count": 60,
     "metadata": {},
     "output_type": "execute_result"
    }
   ],
   "source": [
    "red=MLPClassifier(max_iter=512, hidden_layer_sizes=(5)) \n",
    "red.fit(X_train_tfidf, y_train)"
   ]
  },
  {
   "cell_type": "code",
   "execution_count": 61,
   "metadata": {},
   "outputs": [
    {
     "data": {
      "text/plain": [
       "1.0"
      ]
     },
     "execution_count": 61,
     "metadata": {},
     "output_type": "execute_result"
    }
   ],
   "source": [
    "red.score(X_train_tfidf, y_train)"
   ]
  },
  {
   "cell_type": "code",
   "execution_count": 62,
   "metadata": {},
   "outputs": [
    {
     "data": {
      "text/plain": [
       "12"
      ]
     },
     "execution_count": 62,
     "metadata": {},
     "output_type": "execute_result"
    }
   ],
   "source": [
    "idclasificados = df['CallID'].unique()\n",
    "len(idclasificados)"
   ]
  },
  {
   "cell_type": "code",
   "execution_count": 63,
   "metadata": {},
   "outputs": [
    {
     "name": "stdout",
     "output_type": "stream",
     "text": [
      "(155, 5)\n",
      "(145, 5)\n"
     ]
    },
    {
     "data": {
      "text/html": [
       "<div>\n",
       "<style scoped>\n",
       "    .dataframe tbody tr th:only-of-type {\n",
       "        vertical-align: middle;\n",
       "    }\n",
       "\n",
       "    .dataframe tbody tr th {\n",
       "        vertical-align: top;\n",
       "    }\n",
       "\n",
       "    .dataframe thead th {\n",
       "        text-align: right;\n",
       "    }\n",
       "</style>\n",
       "<table border=\"1\" class=\"dataframe\">\n",
       "  <thead>\n",
       "    <tr style=\"text-align: right;\">\n",
       "      <th></th>\n",
       "      <th>CallID</th>\n",
       "      <th>Asesor</th>\n",
       "      <th>Cliente</th>\n",
       "      <th>Asesor_l</th>\n",
       "      <th>Cliente_l</th>\n",
       "    </tr>\n",
       "  </thead>\n",
       "  <tbody>\n",
       "    <tr>\n",
       "      <th>0</th>\n",
       "      <td>L1AOU5FFDD5EHCHE5D9QFT12K003QEHN</td>\n",
       "      <td>buenos días mi nombre es julián ospina al señ...</td>\n",
       "      <td>hola señorita muy bien gracias a dios la preg...</td>\n",
       "      <td>buenos días mi nombre es julián ospina al señ...</td>\n",
       "      <td>hola señorita muy bien gracias a dios la preg...</td>\n",
       "    </tr>\n",
       "    <tr>\n",
       "      <th>1</th>\n",
       "      <td>T8DROH1CEH4Q99TTQQ7ENTI6K4013K84</td>\n",
       "      <td>buenos días habla con jessica tengo luz solar...</td>\n",
       "      <td>es muy rara van a llegar no entiendas y tengo...</td>\n",
       "      <td>buenos días habla con jessica tengo luz solar...</td>\n",
       "      <td>es muy rara van a llegar no entiendas y tengo...</td>\n",
       "    </tr>\n",
       "    <tr>\n",
       "      <th>2</th>\n",
       "      <td>TIO7733R3T3NHFEIE9KC3OADV800RT4U</td>\n",
       "      <td>muy buenas tardes dime la línea de tuya mi no...</td>\n",
       "      <td>señor cómo está sentado muy bien gracias mira...</td>\n",
       "      <td>muy buenas tardes dime la línea de tuya mi no...</td>\n",
       "      <td>señor cómo está sentado muy bien gracias mira...</td>\n",
       "    </tr>\n",
       "    <tr>\n",
       "      <th>3</th>\n",
       "      <td>T8DROH1CEH4Q99TTQQ7ENTI6K4008GDT</td>\n",
       "      <td>muy buenas tardes mire la hora castella señor...</td>\n",
       "      <td>buenas tardes por favor me puede decir sí cla...</td>\n",
       "      <td>muy buenas tardes mire la hora castella señor...</td>\n",
       "      <td>buenas tardes por favor me puede decir sí cla...</td>\n",
       "    </tr>\n",
       "    <tr>\n",
       "      <th>4</th>\n",
       "      <td>L1AOU5FFDD5EHCHE5D9QFT12K0044512</td>\n",
       "      <td>muy buenos días mi nombre es paula día tengo ...</td>\n",
       "      <td>buenos días paula mira yo tengo en la tarjeta...</td>\n",
       "      <td>muy buenos días mi nombre es paula día tengo ...</td>\n",
       "      <td>buenos días paula mira yo tengo en la tarjeta...</td>\n",
       "    </tr>\n",
       "    <tr>\n",
       "      <th>...</th>\n",
       "      <td>...</td>\n",
       "      <td>...</td>\n",
       "      <td>...</td>\n",
       "      <td>...</td>\n",
       "      <td>...</td>\n",
       "    </tr>\n",
       "    <tr>\n",
       "      <th>140</th>\n",
       "      <td>L1AOU5FFDD5EHCHE5D9QFT12K004MRN7</td>\n",
       "      <td>buenas tardes habla con jessica con quien ten...</td>\n",
       "      <td>buenas tardes compañera te hablan acá no en l...</td>\n",
       "      <td>buenas tardes habla con jessica con quien ten...</td>\n",
       "      <td>buenas tardes compañera te hablan acá no en l...</td>\n",
       "    </tr>\n",
       "    <tr>\n",
       "      <th>141</th>\n",
       "      <td>L1AOU5FFDD5EHCHE5D9QFT12K003VS5U</td>\n",
       "      <td>muy buenas tardes habla con esa peña césar de...</td>\n",
       "      <td>amanda rodríguez muy bien gracias a dios buen...</td>\n",
       "      <td>muy buenas tardes habla con esa peña césar de...</td>\n",
       "      <td>amanda rodríguez muy bien gracias a dios buen...</td>\n",
       "    </tr>\n",
       "    <tr>\n",
       "      <th>142</th>\n",
       "      <td>T8DROH1CEH4Q99TTQQ7ENTI6K4016Q9Q</td>\n",
       "      <td>muy buenas tardes le habla maría fernanda mar...</td>\n",
       "      <td>para que llegue patológico ir a maría fernand...</td>\n",
       "      <td>muy buenas tardes le habla maría fernanda mar...</td>\n",
       "      <td>para que llegue patológico ir a maría fernand...</td>\n",
       "    </tr>\n",
       "    <tr>\n",
       "      <th>143</th>\n",
       "      <td>L1AOU5FFDD5EHCHE5D9QFT12K00496BQ</td>\n",
       "      <td>buenas tardes mi nombre es laura tengo el gus...</td>\n",
       "      <td>siri cómo estás laura en atención compañero q...</td>\n",
       "      <td>buenas tardes mi nombre es laura tengo el gus...</td>\n",
       "      <td>siri cómo estás laura en atención compañero q...</td>\n",
       "    </tr>\n",
       "    <tr>\n",
       "      <th>144</th>\n",
       "      <td>1BDJ5HE3VH49BE2DOONBQ25OJC0025OE</td>\n",
       "      <td>buenas tardes habla melisa cosa tengo el gust...</td>\n",
       "      <td>sí cómo no melisa cómo ha estado bien bien me...</td>\n",
       "      <td>buenas tardes habla melisa cosa tengo el gust...</td>\n",
       "      <td>sí cómo no melisa cómo ha estado bien bien me...</td>\n",
       "    </tr>\n",
       "  </tbody>\n",
       "</table>\n",
       "<p>145 rows × 5 columns</p>\n",
       "</div>"
      ],
      "text/plain": [
       "                               CallID  \\\n",
       "0    L1AOU5FFDD5EHCHE5D9QFT12K003QEHN   \n",
       "1    T8DROH1CEH4Q99TTQQ7ENTI6K4013K84   \n",
       "2    TIO7733R3T3NHFEIE9KC3OADV800RT4U   \n",
       "3    T8DROH1CEH4Q99TTQQ7ENTI6K4008GDT   \n",
       "4    L1AOU5FFDD5EHCHE5D9QFT12K0044512   \n",
       "..                                ...   \n",
       "140  L1AOU5FFDD5EHCHE5D9QFT12K004MRN7   \n",
       "141  L1AOU5FFDD5EHCHE5D9QFT12K003VS5U   \n",
       "142  T8DROH1CEH4Q99TTQQ7ENTI6K4016Q9Q   \n",
       "143  L1AOU5FFDD5EHCHE5D9QFT12K00496BQ   \n",
       "144  1BDJ5HE3VH49BE2DOONBQ25OJC0025OE   \n",
       "\n",
       "                                                Asesor  \\\n",
       "0     buenos días mi nombre es julián ospina al señ...   \n",
       "1     buenos días habla con jessica tengo luz solar...   \n",
       "2     muy buenas tardes dime la línea de tuya mi no...   \n",
       "3     muy buenas tardes mire la hora castella señor...   \n",
       "4     muy buenos días mi nombre es paula día tengo ...   \n",
       "..                                                 ...   \n",
       "140   buenas tardes habla con jessica con quien ten...   \n",
       "141   muy buenas tardes habla con esa peña césar de...   \n",
       "142   muy buenas tardes le habla maría fernanda mar...   \n",
       "143   buenas tardes mi nombre es laura tengo el gus...   \n",
       "144   buenas tardes habla melisa cosa tengo el gust...   \n",
       "\n",
       "                                               Cliente  \\\n",
       "0     hola señorita muy bien gracias a dios la preg...   \n",
       "1     es muy rara van a llegar no entiendas y tengo...   \n",
       "2     señor cómo está sentado muy bien gracias mira...   \n",
       "3     buenas tardes por favor me puede decir sí cla...   \n",
       "4     buenos días paula mira yo tengo en la tarjeta...   \n",
       "..                                                 ...   \n",
       "140   buenas tardes compañera te hablan acá no en l...   \n",
       "141   amanda rodríguez muy bien gracias a dios buen...   \n",
       "142   para que llegue patológico ir a maría fernand...   \n",
       "143   siri cómo estás laura en atención compañero q...   \n",
       "144   sí cómo no melisa cómo ha estado bien bien me...   \n",
       "\n",
       "                                              Asesor_l  \\\n",
       "0     buenos días mi nombre es julián ospina al señ...   \n",
       "1     buenos días habla con jessica tengo luz solar...   \n",
       "2     muy buenas tardes dime la línea de tuya mi no...   \n",
       "3     muy buenas tardes mire la hora castella señor...   \n",
       "4     muy buenos días mi nombre es paula día tengo ...   \n",
       "..                                                 ...   \n",
       "140   buenas tardes habla con jessica con quien ten...   \n",
       "141   muy buenas tardes habla con esa peña césar de...   \n",
       "142   muy buenas tardes le habla maría fernanda mar...   \n",
       "143   buenas tardes mi nombre es laura tengo el gus...   \n",
       "144   buenas tardes habla melisa cosa tengo el gust...   \n",
       "\n",
       "                                             Cliente_l  \n",
       "0     hola señorita muy bien gracias a dios la preg...  \n",
       "1     es muy rara van a llegar no entiendas y tengo...  \n",
       "2     señor cómo está sentado muy bien gracias mira...  \n",
       "3     buenas tardes por favor me puede decir sí cla...  \n",
       "4     buenos días paula mira yo tengo en la tarjeta...  \n",
       "..                                                 ...  \n",
       "140   buenas tardes compañera te hablan acá no en l...  \n",
       "141   amanda rodríguez muy bien gracias a dios buen...  \n",
       "142   para que llegue patológico ir a maría fernand...  \n",
       "143   siri cómo estás laura en atención compañero q...  \n",
       "144   sí cómo no melisa cómo ha estado bien bien me...  \n",
       "\n",
       "[145 rows x 5 columns]"
      ]
     },
     "execution_count": 63,
     "metadata": {},
     "output_type": "execute_result"
    }
   ],
   "source": [
    "#conversacion = pd.read_excel('perulapropia.xlsx', sheet_name='concat')\n",
    "topicosconsul = concat\n",
    "#topicosconsul = conversacion[conversacion['Canal'] == 'Consultora']\n",
    "topicosconsul = topicosconsul[topicosconsul['CallID'].isin(idtipo)] #### 1 advertencias: primero haber ejectuado la seccion Tipo producto #Comentar en caso de no realizar topicos generales\n",
    "print(topicosconsul.shape)\n",
    "topicosconsul = topicosconsul[topicosconsul['CallID'].isin(idclasificados)== False].reset_index(drop=True) ############\n",
    "print(topicosconsul.shape)\n",
    "topicosconsul"
   ]
  },
  {
   "cell_type": "code",
   "execution_count": 270,
   "metadata": {},
   "outputs": [
    {
     "data": {
      "text/html": [
       "<div>\n",
       "<style scoped>\n",
       "    .dataframe tbody tr th:only-of-type {\n",
       "        vertical-align: middle;\n",
       "    }\n",
       "\n",
       "    .dataframe tbody tr th {\n",
       "        vertical-align: top;\n",
       "    }\n",
       "\n",
       "    .dataframe thead th {\n",
       "        text-align: right;\n",
       "    }\n",
       "</style>\n",
       "<table border=\"1\" class=\"dataframe\">\n",
       "  <thead>\n",
       "    <tr style=\"text-align: right;\">\n",
       "      <th></th>\n",
       "      <th>CallID</th>\n",
       "      <th>Asesor</th>\n",
       "      <th>Cliente</th>\n",
       "      <th>Asesor_l</th>\n",
       "      <th>Cliente_l</th>\n",
       "      <th>Productos</th>\n",
       "      <th>Problemas con la tecnología</th>\n",
       "    </tr>\n",
       "  </thead>\n",
       "  <tbody>\n",
       "    <tr>\n",
       "      <th>0</th>\n",
       "      <td>L1AOU5FFDD5EHCHE5D9QFT12K003QEHN</td>\n",
       "      <td>buenos días mi nombre es julián ospina al señ...</td>\n",
       "      <td>hola señorita muy bien gracias a dios la preg...</td>\n",
       "      <td>buenos días mi nombre es julián ospina al señ...</td>\n",
       "      <td>hola señorita muy bien gracias a dios la preg...</td>\n",
       "      <td>Consulta estado del producto</td>\n",
       "      <td>Consulta estado del producto</td>\n",
       "    </tr>\n",
       "    <tr>\n",
       "      <th>1</th>\n",
       "      <td>T8DROH1CEH4Q99TTQQ7ENTI6K4013K84</td>\n",
       "      <td>buenos días habla con jessica tengo luz solar...</td>\n",
       "      <td>es muy rara van a llegar no entiendas y tengo...</td>\n",
       "      <td>buenos días habla con jessica tengo luz solar...</td>\n",
       "      <td>es muy rara van a llegar no entiendas y tengo...</td>\n",
       "      <td>Distribución de pagos: Paga anticipado, evade ...</td>\n",
       "      <td>Distribución de pagos: Paga anticipado, evade ...</td>\n",
       "    </tr>\n",
       "    <tr>\n",
       "      <th>2</th>\n",
       "      <td>TIO7733R3T3NHFEIE9KC3OADV800RT4U</td>\n",
       "      <td>muy buenas tardes dime la línea de tuya mi no...</td>\n",
       "      <td>señor cómo está sentado muy bien gracias mira...</td>\n",
       "      <td>muy buenas tardes dime la línea de tuya mi no...</td>\n",
       "      <td>señor cómo está sentado muy bien gracias mira...</td>\n",
       "      <td>Consulta estado del producto</td>\n",
       "      <td>Consulta estado del producto</td>\n",
       "    </tr>\n",
       "    <tr>\n",
       "      <th>3</th>\n",
       "      <td>L1AOU5FFDD5EHCHE5D9QFT12K00456K2</td>\n",
       "      <td>buenas tardes mi nombre es laura tengo el gus...</td>\n",
       "      <td>pero lo que pasa es que ando un poco mensaje ...</td>\n",
       "      <td>buenas tardes mi nombre es laura tengo el gus...</td>\n",
       "      <td>pero lo que pasa es que ando un poco mensaje ...</td>\n",
       "      <td>Distribución de pagos: Paga anticipado, evade ...</td>\n",
       "      <td>Distribución de pagos: Paga anticipado, evade ...</td>\n",
       "    </tr>\n",
       "    <tr>\n",
       "      <th>4</th>\n",
       "      <td>80I4890E4544H1VFVKDLFNILGC04VGUE</td>\n",
       "      <td>hola feliz tarde mi nombre es juan hacedor tu...</td>\n",
       "      <td>buenas tardes mira lo que pasa es que en el c...</td>\n",
       "      <td>hola feliz tarde mi nombre es juan hacedor tu...</td>\n",
       "      <td>buenas tardes mira lo que pasa es que en el c...</td>\n",
       "      <td>Distribución de pagos: Paga anticipado, evade ...</td>\n",
       "      <td>Distribución de pagos: Paga anticipado, evade ...</td>\n",
       "    </tr>\n",
       "    <tr>\n",
       "      <th>...</th>\n",
       "      <td>...</td>\n",
       "      <td>...</td>\n",
       "      <td>...</td>\n",
       "      <td>...</td>\n",
       "      <td>...</td>\n",
       "      <td>...</td>\n",
       "      <td>...</td>\n",
       "    </tr>\n",
       "    <tr>\n",
       "      <th>150</th>\n",
       "      <td>L1AOU5FFDD5EHCHE5D9QFT12K004MRN7</td>\n",
       "      <td>buenas tardes habla con jessica con quien ten...</td>\n",
       "      <td>buenas tardes compañera te hablan acá no en l...</td>\n",
       "      <td>buenas tardes habla con jessica con quien ten...</td>\n",
       "      <td>buenas tardes compañera te hablan acá no en l...</td>\n",
       "      <td>Consulta estado del producto</td>\n",
       "      <td>Consulta estado del producto</td>\n",
       "    </tr>\n",
       "    <tr>\n",
       "      <th>151</th>\n",
       "      <td>L1AOU5FFDD5EHCHE5D9QFT12K003VS5U</td>\n",
       "      <td>muy buenas tardes habla con esa peña césar de...</td>\n",
       "      <td>amanda rodríguez muy bien gracias a dios buen...</td>\n",
       "      <td>muy buenas tardes habla con esa peña césar de...</td>\n",
       "      <td>amanda rodríguez muy bien gracias a dios buen...</td>\n",
       "      <td>Consulta estado del producto</td>\n",
       "      <td>Consulta estado del producto</td>\n",
       "    </tr>\n",
       "    <tr>\n",
       "      <th>152</th>\n",
       "      <td>T8DROH1CEH4Q99TTQQ7ENTI6K4016Q9Q</td>\n",
       "      <td>muy buenas tardes le habla maría fernanda mar...</td>\n",
       "      <td>para que llegue patológico ir a maría fernand...</td>\n",
       "      <td>muy buenas tardes le habla maría fernanda mar...</td>\n",
       "      <td>para que llegue patológico ir a maría fernand...</td>\n",
       "      <td>Consulta estado del producto</td>\n",
       "      <td>Consulta estado del producto</td>\n",
       "    </tr>\n",
       "    <tr>\n",
       "      <th>153</th>\n",
       "      <td>L1AOU5FFDD5EHCHE5D9QFT12K00496BQ</td>\n",
       "      <td>buenas tardes mi nombre es laura tengo el gus...</td>\n",
       "      <td>siri cómo estás laura en atención compañero q...</td>\n",
       "      <td>buenas tardes mi nombre es laura tengo el gus...</td>\n",
       "      <td>siri cómo estás laura en atención compañero q...</td>\n",
       "      <td>Consulta estado del producto</td>\n",
       "      <td>Consulta estado del producto</td>\n",
       "    </tr>\n",
       "    <tr>\n",
       "      <th>154</th>\n",
       "      <td>1BDJ5HE3VH49BE2DOONBQ25OJC0025OE</td>\n",
       "      <td>buenas tardes habla melisa cosa tengo el gust...</td>\n",
       "      <td>sí cómo no melisa cómo ha estado bien bien me...</td>\n",
       "      <td>buenas tardes habla melisa cosa tengo el gust...</td>\n",
       "      <td>sí cómo no melisa cómo ha estado bien bien me...</td>\n",
       "      <td>Consulta estado del producto</td>\n",
       "      <td>Consulta estado del producto</td>\n",
       "    </tr>\n",
       "  </tbody>\n",
       "</table>\n",
       "<p>155 rows × 7 columns</p>\n",
       "</div>"
      ],
      "text/plain": [
       "                               CallID  \\\n",
       "0    L1AOU5FFDD5EHCHE5D9QFT12K003QEHN   \n",
       "1    T8DROH1CEH4Q99TTQQ7ENTI6K4013K84   \n",
       "2    TIO7733R3T3NHFEIE9KC3OADV800RT4U   \n",
       "3    L1AOU5FFDD5EHCHE5D9QFT12K00456K2   \n",
       "4    80I4890E4544H1VFVKDLFNILGC04VGUE   \n",
       "..                                ...   \n",
       "150  L1AOU5FFDD5EHCHE5D9QFT12K004MRN7   \n",
       "151  L1AOU5FFDD5EHCHE5D9QFT12K003VS5U   \n",
       "152  T8DROH1CEH4Q99TTQQ7ENTI6K4016Q9Q   \n",
       "153  L1AOU5FFDD5EHCHE5D9QFT12K00496BQ   \n",
       "154  1BDJ5HE3VH49BE2DOONBQ25OJC0025OE   \n",
       "\n",
       "                                                Asesor  \\\n",
       "0     buenos días mi nombre es julián ospina al señ...   \n",
       "1     buenos días habla con jessica tengo luz solar...   \n",
       "2     muy buenas tardes dime la línea de tuya mi no...   \n",
       "3     buenas tardes mi nombre es laura tengo el gus...   \n",
       "4     hola feliz tarde mi nombre es juan hacedor tu...   \n",
       "..                                                 ...   \n",
       "150   buenas tardes habla con jessica con quien ten...   \n",
       "151   muy buenas tardes habla con esa peña césar de...   \n",
       "152   muy buenas tardes le habla maría fernanda mar...   \n",
       "153   buenas tardes mi nombre es laura tengo el gus...   \n",
       "154   buenas tardes habla melisa cosa tengo el gust...   \n",
       "\n",
       "                                               Cliente  \\\n",
       "0     hola señorita muy bien gracias a dios la preg...   \n",
       "1     es muy rara van a llegar no entiendas y tengo...   \n",
       "2     señor cómo está sentado muy bien gracias mira...   \n",
       "3     pero lo que pasa es que ando un poco mensaje ...   \n",
       "4     buenas tardes mira lo que pasa es que en el c...   \n",
       "..                                                 ...   \n",
       "150   buenas tardes compañera te hablan acá no en l...   \n",
       "151   amanda rodríguez muy bien gracias a dios buen...   \n",
       "152   para que llegue patológico ir a maría fernand...   \n",
       "153   siri cómo estás laura en atención compañero q...   \n",
       "154   sí cómo no melisa cómo ha estado bien bien me...   \n",
       "\n",
       "                                              Asesor_l  \\\n",
       "0     buenos días mi nombre es julián ospina al señ...   \n",
       "1     buenos días habla con jessica tengo luz solar...   \n",
       "2     muy buenas tardes dime la línea de tuya mi no...   \n",
       "3     buenas tardes mi nombre es laura tengo el gus...   \n",
       "4     hola feliz tarde mi nombre es juan hacedor tu...   \n",
       "..                                                 ...   \n",
       "150   buenas tardes habla con jessica con quien ten...   \n",
       "151   muy buenas tardes habla con esa peña césar de...   \n",
       "152   muy buenas tardes le habla maría fernanda mar...   \n",
       "153   buenas tardes mi nombre es laura tengo el gus...   \n",
       "154   buenas tardes habla melisa cosa tengo el gust...   \n",
       "\n",
       "                                             Cliente_l  \\\n",
       "0     hola señorita muy bien gracias a dios la preg...   \n",
       "1     es muy rara van a llegar no entiendas y tengo...   \n",
       "2     señor cómo está sentado muy bien gracias mira...   \n",
       "3     pero lo que pasa es que ando un poco mensaje ...   \n",
       "4     buenas tardes mira lo que pasa es que en el c...   \n",
       "..                                                 ...   \n",
       "150   buenas tardes compañera te hablan acá no en l...   \n",
       "151   amanda rodríguez muy bien gracias a dios buen...   \n",
       "152   para que llegue patológico ir a maría fernand...   \n",
       "153   siri cómo estás laura en atención compañero q...   \n",
       "154   sí cómo no melisa cómo ha estado bien bien me...   \n",
       "\n",
       "                                             Productos  \\\n",
       "0                         Consulta estado del producto   \n",
       "1    Distribución de pagos: Paga anticipado, evade ...   \n",
       "2                         Consulta estado del producto   \n",
       "3    Distribución de pagos: Paga anticipado, evade ...   \n",
       "4    Distribución de pagos: Paga anticipado, evade ...   \n",
       "..                                                 ...   \n",
       "150                       Consulta estado del producto   \n",
       "151                       Consulta estado del producto   \n",
       "152                       Consulta estado del producto   \n",
       "153                       Consulta estado del producto   \n",
       "154                       Consulta estado del producto   \n",
       "\n",
       "                           Problemas con la tecnología  \n",
       "0                         Consulta estado del producto  \n",
       "1    Distribución de pagos: Paga anticipado, evade ...  \n",
       "2                         Consulta estado del producto  \n",
       "3    Distribución de pagos: Paga anticipado, evade ...  \n",
       "4    Distribución de pagos: Paga anticipado, evade ...  \n",
       "..                                                 ...  \n",
       "150                       Consulta estado del producto  \n",
       "151                       Consulta estado del producto  \n",
       "152                       Consulta estado del producto  \n",
       "153                       Consulta estado del producto  \n",
       "154                       Consulta estado del producto  \n",
       "\n",
       "[155 rows x 7 columns]"
      ]
     },
     "execution_count": 270,
     "metadata": {},
     "output_type": "execute_result"
    }
   ],
   "source": [
    "datos = topicosconsul[\"Cliente_l\"].values\n",
    "topicosconsul[clasificacion] = red.predict(count_vect.transform(datos))\n",
    "topicosconsul"
   ]
  },
  {
   "cell_type": "code",
   "execution_count": 274,
   "metadata": {},
   "outputs": [
    {
     "data": {
      "text/plain": [
       "array([' hola señorita muy bien gracias a dios la pregunta mía es que pues como yo hice una relación una financiación entonces necesito saber para cuando me quedaron las cosas y de cuálesah bueno señorita muy amable con usted estaba preocupado que de pronto me tocará pagar ahorita no sé entonces me voy a darbueno señorita no le hablé pues taluego '],\n",
       "      dtype=object)"
      ]
     },
     "execution_count": 274,
     "metadata": {},
     "output_type": "execute_result"
    }
   ],
   "source": [
    "datos[:1]"
   ]
  },
  {
   "cell_type": "code",
   "execution_count": 275,
   "metadata": {},
   "outputs": [
    {
     "data": {
      "text/plain": [
       "array(['Consulta estado del producto'], dtype='<U53')"
      ]
     },
     "execution_count": 275,
     "metadata": {},
     "output_type": "execute_result"
    }
   ],
   "source": [
    " red.predict(count_vect.transform(datos[:1]))"
   ]
  },
  {
   "cell_type": "markdown",
   "metadata": {},
   "source": [
    "#### Concatenar Bases"
   ]
  },
  {
   "cell_type": "code",
   "execution_count": 65,
   "metadata": {},
   "outputs": [
    {
     "data": {
      "text/plain": [
       "12"
      ]
     },
     "execution_count": 65,
     "metadata": {},
     "output_type": "execute_result"
    }
   ],
   "source": [
    "clasificada = concat[concat['CallID'].isin(idclasificados)].reset_index(drop=True)\n",
    "len(clasificada)"
   ]
  },
  {
   "cell_type": "code",
   "execution_count": 66,
   "metadata": {},
   "outputs": [
    {
     "data": {
      "text/plain": [
       "12"
      ]
     },
     "execution_count": 66,
     "metadata": {},
     "output_type": "execute_result"
    }
   ],
   "source": [
    "pivot = data[['CallID', clasificacion]]\n",
    "clasdic = clasificada.merge(pivot, on='CallID', how='left')\n",
    "len(clasdic)"
   ]
  },
  {
   "cell_type": "code",
   "execution_count": 67,
   "metadata": {},
   "outputs": [
    {
     "data": {
      "text/plain": [
       "0"
      ]
     },
     "execution_count": 67,
     "metadata": {},
     "output_type": "execute_result"
    }
   ],
   "source": [
    "clasdic[clasificacion].isnull().sum()"
   ]
  },
  {
   "cell_type": "code",
   "execution_count": 68,
   "metadata": {},
   "outputs": [],
   "source": [
    "dffinal = pd.concat([clasdic, topicosconsul]).reset_index(drop=True)"
   ]
  },
  {
   "cell_type": "markdown",
   "metadata": {},
   "source": [
    "#### Validación"
   ]
  },
  {
   "cell_type": "code",
   "execution_count": 69,
   "metadata": {},
   "outputs": [
    {
     "name": "stdout",
     "output_type": "stream",
     "text": [
      "Calidad del audio en llamada                    0.643312\n",
      "No puede realizar pago de tarjeta por la app    0.242038\n",
      "compra no se ve reflejada en el sistema         0.050955\n",
      "actualización del sistema de pagos              0.025478\n",
      "No aparece factura al validar en la app         0.019108\n",
      "No registra valor a pagar de forma virtual      0.012739\n",
      "No recibe extractos físicos                     0.006369\n",
      "Name: Problemas con la tecnología, dtype: float64\n"
     ]
    }
   ],
   "source": [
    "print(dffinal[clasificacion].value_counts(normalize=True)) "
   ]
  },
  {
   "cell_type": "code",
   "execution_count": 70,
   "metadata": {},
   "outputs": [
    {
     "name": "stdout",
     "output_type": "stream",
     "text": [
      "actualización del sistema de pagos              0.333333\n",
      "No registra valor a pagar de forma virtual      0.166667\n",
      "Calidad del audio en llamada                    0.166667\n",
      "No aparece factura al validar en la app         0.083333\n",
      "compra no se ve reflejada en el sistema         0.083333\n",
      "No recibe extractos físicos                     0.083333\n",
      "No puede realizar pago de tarjeta por la app    0.083333\n",
      "Name: Problemas con la tecnología, dtype: float64\n"
     ]
    }
   ],
   "source": [
    "print(data[clasificacion].value_counts(normalize=True))  "
   ]
  },
  {
   "cell_type": "code",
   "execution_count": 71,
   "metadata": {},
   "outputs": [],
   "source": [
    "dffinal.to_excel('D:/Proyecto Speech Tuya/Clasificación/explicación factura - tecnologia.xlsx') ## exportar archivo"
   ]
  },
  {
   "cell_type": "markdown",
   "metadata": {},
   "source": [
    "### Pago mínimo y pago total - Problemas con el Proceso"
   ]
  },
  {
   "cell_type": "code",
   "execution_count": 72,
   "metadata": {},
   "outputs": [],
   "source": [
    "data = concat.merge(diccionarios, on='CallID', how='left')"
   ]
  },
  {
   "cell_type": "code",
   "execution_count": 73,
   "metadata": {},
   "outputs": [],
   "source": [
    "data = data[['CallID', 'Asesor', 'Cliente', 'Asesor_l', 'Cliente_l', 'Fecha', \n",
    "       'CodFinalización', 'Productos', 'Problemas con el proceso',\n",
    "       'Problemas con la tecnología', 'Impacto la satisfacción',\n",
    "       'Pérfil Cliente', 'Chismes', 'Observaciones']]\n",
    "\n",
    "data.index = range(data.shape[0])"
   ]
  },
  {
   "cell_type": "code",
   "execution_count": 74,
   "metadata": {},
   "outputs": [
    {
     "name": "stdout",
     "output_type": "stream",
     "text": [
      "136\n"
     ]
    },
    {
     "data": {
      "text/plain": [
       "Consultar saldo del producto                                                  66\n",
       "Información: valor y medios de pago                                           10\n",
       "Desconocimiento: Fecha de corte y pago                                        10\n",
       "Desconocimiento de la distribución de pagos                                    7\n",
       "Información: disminución de cuota                                              5\n",
       "Desconocimiento: tiempo de aplicación de pago                                  2\n",
       "Desconocimiento: Cancelación de seguro voluntario                              2\n",
       "Tarjeta bloqueada por acuerdo de pago                                          2\n",
       "Desconocimiento: cupo de tarjeta                                               2\n",
       "Desconocimiento: No entiende como su abonos afectan al saldo en el capital     2\n",
       "Cliente no autenticado: No se brinda información                               2\n",
       "Desconocimiento: sobre incrementos de pagos                                    2\n",
       "Aumento de la deuda: Nuevas Utilizaciones                                      2\n",
       "Cancelación de tarjeta voluntaria                                              2\n",
       "Desconocimento: de cobro por interes vencido                                   2\n",
       "Inconforme por costos adicionales por mora                                     2\n",
       "información: reposición y reexpedición de tarjeta                              2\n",
       "Aplican seguro sin autorización                                                1\n",
       "Reporte en centrales de riesgo                                                 1\n",
       "Desconocimiento de la poliza deudores                                          1\n",
       "Cobro de interés mes vencido                                                   1\n",
       "Desconocimiento: Saldo a favor                                                 1\n",
       "Saldo después por pago total                                                   1\n",
       "No se brinda información: Cliente sin autenticar                               1\n",
       "Inconformidad con alternativa de pago: No libera cupo                          1\n",
       "Cliente solicita certificado: No le llega                                      1\n",
       "Desconocimiento: cuota de manejo                                               1\n",
       "La deuda no baja: Cliente Moroso                                               1\n",
       "Desconocimiento: renovación de seguro voluntario                               1\n",
       "Desconocimiento: tasa de interes                                               1\n",
       "Cliente solicita certificado: paz y salvo                                      1\n",
       "Name: Problemas con el proceso, dtype: int64"
      ]
     },
     "execution_count": 74,
     "metadata": {},
     "output_type": "execute_result"
    }
   ],
   "source": [
    "data = data[data['CodFinalización'] == 'pago mínimo y pago total'] ######## 1 Cambio filtro #Comentarear en caso de hacer tópicos generales\n",
    "clasificacion = 'Problemas con el proceso' ###### 2 Cambio la columna a entrenas #'Expectativa no cubierta' #'Problemas con el producto' #'Usabilidad'\n",
    "data.dropna(subset=[clasificacion], inplace=True)\n",
    "data.reset_index(drop=True, inplace=True)\n",
    "print(len(data))\n",
    "data[clasificacion].value_counts()"
   ]
  },
  {
   "cell_type": "code",
   "execution_count": 75,
   "metadata": {},
   "outputs": [],
   "source": [
    "df = data.copy()\n",
    "for i in range(1,1): ######### 3 Cambio\n",
    "    df = pd.concat([df,data])"
   ]
  },
  {
   "cell_type": "markdown",
   "metadata": {},
   "source": [
    "#### Red Neuronal"
   ]
  },
  {
   "cell_type": "code",
   "execution_count": 76,
   "metadata": {},
   "outputs": [],
   "source": [
    "datos = df.Cliente_l\n",
    "tipificaciones=df[clasificacion]\n",
    "\n",
    "X_train, X_test, y_train, y_test = train_test_split(datos, tipificaciones)\n",
    "count_vect = CountVectorizer()\n",
    "X_train_counts = count_vect.fit_transform(X_train)\n",
    "tfidf_transformer = TfidfTransformer()\n",
    "X_train_tfidf = tfidf_transformer.fit_transform(X_train_counts)"
   ]
  },
  {
   "cell_type": "code",
   "execution_count": 77,
   "metadata": {},
   "outputs": [
    {
     "name": "stderr",
     "output_type": "stream",
     "text": [
      "C:\\Users\\dgarmor\\.conda\\envs\\Environments\\lib\\site-packages\\sklearn\\neural_network\\_multilayer_perceptron.py:585: ConvergenceWarning: Stochastic Optimizer: Maximum iterations (512) reached and the optimization hasn't converged yet.\n",
      "  % self.max_iter, ConvergenceWarning)\n"
     ]
    },
    {
     "data": {
      "text/plain": [
       "MLPClassifier(hidden_layer_sizes=5, max_iter=512)"
      ]
     },
     "execution_count": 77,
     "metadata": {},
     "output_type": "execute_result"
    }
   ],
   "source": [
    "red=MLPClassifier(max_iter=512, hidden_layer_sizes=(5)) \n",
    "red.fit(X_train_tfidf, y_train)"
   ]
  },
  {
   "cell_type": "code",
   "execution_count": 78,
   "metadata": {},
   "outputs": [
    {
     "data": {
      "text/plain": [
       "0.8627450980392157"
      ]
     },
     "execution_count": 78,
     "metadata": {},
     "output_type": "execute_result"
    }
   ],
   "source": [
    "red.score(X_train_tfidf, y_train)"
   ]
  },
  {
   "cell_type": "code",
   "execution_count": 79,
   "metadata": {},
   "outputs": [
    {
     "data": {
      "text/plain": [
       "133"
      ]
     },
     "execution_count": 79,
     "metadata": {},
     "output_type": "execute_result"
    }
   ],
   "source": [
    "idclasificados = df['CallID'].unique()\n",
    "len(idclasificados)"
   ]
  },
  {
   "cell_type": "code",
   "execution_count": 80,
   "metadata": {},
   "outputs": [
    {
     "name": "stdout",
     "output_type": "stream",
     "text": [
      "(155, 5)\n",
      "(155, 5)\n"
     ]
    },
    {
     "data": {
      "text/html": [
       "<div>\n",
       "<style scoped>\n",
       "    .dataframe tbody tr th:only-of-type {\n",
       "        vertical-align: middle;\n",
       "    }\n",
       "\n",
       "    .dataframe tbody tr th {\n",
       "        vertical-align: top;\n",
       "    }\n",
       "\n",
       "    .dataframe thead th {\n",
       "        text-align: right;\n",
       "    }\n",
       "</style>\n",
       "<table border=\"1\" class=\"dataframe\">\n",
       "  <thead>\n",
       "    <tr style=\"text-align: right;\">\n",
       "      <th></th>\n",
       "      <th>CallID</th>\n",
       "      <th>Asesor</th>\n",
       "      <th>Cliente</th>\n",
       "      <th>Asesor_l</th>\n",
       "      <th>Cliente_l</th>\n",
       "    </tr>\n",
       "  </thead>\n",
       "  <tbody>\n",
       "    <tr>\n",
       "      <th>0</th>\n",
       "      <td>L1AOU5FFDD5EHCHE5D9QFT12K003QEHN</td>\n",
       "      <td>buenos días mi nombre es julián ospina al señ...</td>\n",
       "      <td>hola señorita muy bien gracias a dios la preg...</td>\n",
       "      <td>buenos días mi nombre es julián ospina al señ...</td>\n",
       "      <td>hola señorita muy bien gracias a dios la preg...</td>\n",
       "    </tr>\n",
       "    <tr>\n",
       "      <th>1</th>\n",
       "      <td>T8DROH1CEH4Q99TTQQ7ENTI6K4013K84</td>\n",
       "      <td>buenos días habla con jessica tengo luz solar...</td>\n",
       "      <td>es muy rara van a llegar no entiendas y tengo...</td>\n",
       "      <td>buenos días habla con jessica tengo luz solar...</td>\n",
       "      <td>es muy rara van a llegar no entiendas y tengo...</td>\n",
       "    </tr>\n",
       "    <tr>\n",
       "      <th>2</th>\n",
       "      <td>TIO7733R3T3NHFEIE9KC3OADV800RT4U</td>\n",
       "      <td>muy buenas tardes dime la línea de tuya mi no...</td>\n",
       "      <td>señor cómo está sentado muy bien gracias mira...</td>\n",
       "      <td>muy buenas tardes dime la línea de tuya mi no...</td>\n",
       "      <td>señor cómo está sentado muy bien gracias mira...</td>\n",
       "    </tr>\n",
       "    <tr>\n",
       "      <th>3</th>\n",
       "      <td>L1AOU5FFDD5EHCHE5D9QFT12K00456K2</td>\n",
       "      <td>buenas tardes mi nombre es laura tengo el gus...</td>\n",
       "      <td>pero lo que pasa es que ando un poco mensaje ...</td>\n",
       "      <td>buenas tardes mi nombre es laura tengo el gus...</td>\n",
       "      <td>pero lo que pasa es que ando un poco mensaje ...</td>\n",
       "    </tr>\n",
       "    <tr>\n",
       "      <th>4</th>\n",
       "      <td>80I4890E4544H1VFVKDLFNILGC04VGUE</td>\n",
       "      <td>hola feliz tarde mi nombre es juan hacedor tu...</td>\n",
       "      <td>buenas tardes mira lo que pasa es que en el c...</td>\n",
       "      <td>hola feliz tarde mi nombre es juan hacedor tu...</td>\n",
       "      <td>buenas tardes mira lo que pasa es que en el c...</td>\n",
       "    </tr>\n",
       "    <tr>\n",
       "      <th>...</th>\n",
       "      <td>...</td>\n",
       "      <td>...</td>\n",
       "      <td>...</td>\n",
       "      <td>...</td>\n",
       "      <td>...</td>\n",
       "    </tr>\n",
       "    <tr>\n",
       "      <th>150</th>\n",
       "      <td>L1AOU5FFDD5EHCHE5D9QFT12K004MRN7</td>\n",
       "      <td>buenas tardes habla con jessica con quien ten...</td>\n",
       "      <td>buenas tardes compañera te hablan acá no en l...</td>\n",
       "      <td>buenas tardes habla con jessica con quien ten...</td>\n",
       "      <td>buenas tardes compañera te hablan acá no en l...</td>\n",
       "    </tr>\n",
       "    <tr>\n",
       "      <th>151</th>\n",
       "      <td>L1AOU5FFDD5EHCHE5D9QFT12K003VS5U</td>\n",
       "      <td>muy buenas tardes habla con esa peña césar de...</td>\n",
       "      <td>amanda rodríguez muy bien gracias a dios buen...</td>\n",
       "      <td>muy buenas tardes habla con esa peña césar de...</td>\n",
       "      <td>amanda rodríguez muy bien gracias a dios buen...</td>\n",
       "    </tr>\n",
       "    <tr>\n",
       "      <th>152</th>\n",
       "      <td>T8DROH1CEH4Q99TTQQ7ENTI6K4016Q9Q</td>\n",
       "      <td>muy buenas tardes le habla maría fernanda mar...</td>\n",
       "      <td>para que llegue patológico ir a maría fernand...</td>\n",
       "      <td>muy buenas tardes le habla maría fernanda mar...</td>\n",
       "      <td>para que llegue patológico ir a maría fernand...</td>\n",
       "    </tr>\n",
       "    <tr>\n",
       "      <th>153</th>\n",
       "      <td>L1AOU5FFDD5EHCHE5D9QFT12K00496BQ</td>\n",
       "      <td>buenas tardes mi nombre es laura tengo el gus...</td>\n",
       "      <td>siri cómo estás laura en atención compañero q...</td>\n",
       "      <td>buenas tardes mi nombre es laura tengo el gus...</td>\n",
       "      <td>siri cómo estás laura en atención compañero q...</td>\n",
       "    </tr>\n",
       "    <tr>\n",
       "      <th>154</th>\n",
       "      <td>1BDJ5HE3VH49BE2DOONBQ25OJC0025OE</td>\n",
       "      <td>buenas tardes habla melisa cosa tengo el gust...</td>\n",
       "      <td>sí cómo no melisa cómo ha estado bien bien me...</td>\n",
       "      <td>buenas tardes habla melisa cosa tengo el gust...</td>\n",
       "      <td>sí cómo no melisa cómo ha estado bien bien me...</td>\n",
       "    </tr>\n",
       "  </tbody>\n",
       "</table>\n",
       "<p>155 rows × 5 columns</p>\n",
       "</div>"
      ],
      "text/plain": [
       "                               CallID  \\\n",
       "0    L1AOU5FFDD5EHCHE5D9QFT12K003QEHN   \n",
       "1    T8DROH1CEH4Q99TTQQ7ENTI6K4013K84   \n",
       "2    TIO7733R3T3NHFEIE9KC3OADV800RT4U   \n",
       "3    L1AOU5FFDD5EHCHE5D9QFT12K00456K2   \n",
       "4    80I4890E4544H1VFVKDLFNILGC04VGUE   \n",
       "..                                ...   \n",
       "150  L1AOU5FFDD5EHCHE5D9QFT12K004MRN7   \n",
       "151  L1AOU5FFDD5EHCHE5D9QFT12K003VS5U   \n",
       "152  T8DROH1CEH4Q99TTQQ7ENTI6K4016Q9Q   \n",
       "153  L1AOU5FFDD5EHCHE5D9QFT12K00496BQ   \n",
       "154  1BDJ5HE3VH49BE2DOONBQ25OJC0025OE   \n",
       "\n",
       "                                                Asesor  \\\n",
       "0     buenos días mi nombre es julián ospina al señ...   \n",
       "1     buenos días habla con jessica tengo luz solar...   \n",
       "2     muy buenas tardes dime la línea de tuya mi no...   \n",
       "3     buenas tardes mi nombre es laura tengo el gus...   \n",
       "4     hola feliz tarde mi nombre es juan hacedor tu...   \n",
       "..                                                 ...   \n",
       "150   buenas tardes habla con jessica con quien ten...   \n",
       "151   muy buenas tardes habla con esa peña césar de...   \n",
       "152   muy buenas tardes le habla maría fernanda mar...   \n",
       "153   buenas tardes mi nombre es laura tengo el gus...   \n",
       "154   buenas tardes habla melisa cosa tengo el gust...   \n",
       "\n",
       "                                               Cliente  \\\n",
       "0     hola señorita muy bien gracias a dios la preg...   \n",
       "1     es muy rara van a llegar no entiendas y tengo...   \n",
       "2     señor cómo está sentado muy bien gracias mira...   \n",
       "3     pero lo que pasa es que ando un poco mensaje ...   \n",
       "4     buenas tardes mira lo que pasa es que en el c...   \n",
       "..                                                 ...   \n",
       "150   buenas tardes compañera te hablan acá no en l...   \n",
       "151   amanda rodríguez muy bien gracias a dios buen...   \n",
       "152   para que llegue patológico ir a maría fernand...   \n",
       "153   siri cómo estás laura en atención compañero q...   \n",
       "154   sí cómo no melisa cómo ha estado bien bien me...   \n",
       "\n",
       "                                              Asesor_l  \\\n",
       "0     buenos días mi nombre es julián ospina al señ...   \n",
       "1     buenos días habla con jessica tengo luz solar...   \n",
       "2     muy buenas tardes dime la línea de tuya mi no...   \n",
       "3     buenas tardes mi nombre es laura tengo el gus...   \n",
       "4     hola feliz tarde mi nombre es juan hacedor tu...   \n",
       "..                                                 ...   \n",
       "150   buenas tardes habla con jessica con quien ten...   \n",
       "151   muy buenas tardes habla con esa peña césar de...   \n",
       "152   muy buenas tardes le habla maría fernanda mar...   \n",
       "153   buenas tardes mi nombre es laura tengo el gus...   \n",
       "154   buenas tardes habla melisa cosa tengo el gust...   \n",
       "\n",
       "                                             Cliente_l  \n",
       "0     hola señorita muy bien gracias a dios la preg...  \n",
       "1     es muy rara van a llegar no entiendas y tengo...  \n",
       "2     señor cómo está sentado muy bien gracias mira...  \n",
       "3     pero lo que pasa es que ando un poco mensaje ...  \n",
       "4     buenas tardes mira lo que pasa es que en el c...  \n",
       "..                                                 ...  \n",
       "150   buenas tardes compañera te hablan acá no en l...  \n",
       "151   amanda rodríguez muy bien gracias a dios buen...  \n",
       "152   para que llegue patológico ir a maría fernand...  \n",
       "153   siri cómo estás laura en atención compañero q...  \n",
       "154   sí cómo no melisa cómo ha estado bien bien me...  \n",
       "\n",
       "[155 rows x 5 columns]"
      ]
     },
     "execution_count": 80,
     "metadata": {},
     "output_type": "execute_result"
    }
   ],
   "source": [
    "#conversacion = pd.read_excel('perulapropia.xlsx', sheet_name='concat')\n",
    "topicosconsul = concat\n",
    "#topicosconsul = conversacion[conversacion['Canal'] == 'Consultora']\n",
    "topicosconsul = topicosconsul[topicosconsul['CallID'].isin(idtipo)] #### 1 advertencias: primero haber ejectuado la seccion Tipo producto #Comentar en caso de no realizar topicos generales\n",
    "print(topicosconsul.shape)\n",
    "topicosconsul = topicosconsul[topicosconsul['CallID'].isin(idclasificados)== False].reset_index(drop=True) ############\n",
    "print(topicosconsul.shape)\n",
    "topicosconsul"
   ]
  },
  {
   "cell_type": "code",
   "execution_count": 81,
   "metadata": {},
   "outputs": [
    {
     "data": {
      "text/html": [
       "<div>\n",
       "<style scoped>\n",
       "    .dataframe tbody tr th:only-of-type {\n",
       "        vertical-align: middle;\n",
       "    }\n",
       "\n",
       "    .dataframe tbody tr th {\n",
       "        vertical-align: top;\n",
       "    }\n",
       "\n",
       "    .dataframe thead th {\n",
       "        text-align: right;\n",
       "    }\n",
       "</style>\n",
       "<table border=\"1\" class=\"dataframe\">\n",
       "  <thead>\n",
       "    <tr style=\"text-align: right;\">\n",
       "      <th></th>\n",
       "      <th>CallID</th>\n",
       "      <th>Asesor</th>\n",
       "      <th>Cliente</th>\n",
       "      <th>Asesor_l</th>\n",
       "      <th>Cliente_l</th>\n",
       "      <th>Problemas con el proceso</th>\n",
       "    </tr>\n",
       "  </thead>\n",
       "  <tbody>\n",
       "    <tr>\n",
       "      <th>0</th>\n",
       "      <td>L1AOU5FFDD5EHCHE5D9QFT12K003QEHN</td>\n",
       "      <td>buenos días mi nombre es julián ospina al señ...</td>\n",
       "      <td>hola señorita muy bien gracias a dios la preg...</td>\n",
       "      <td>buenos días mi nombre es julián ospina al señ...</td>\n",
       "      <td>hola señorita muy bien gracias a dios la preg...</td>\n",
       "      <td>Consultar saldo del producto</td>\n",
       "    </tr>\n",
       "    <tr>\n",
       "      <th>1</th>\n",
       "      <td>T8DROH1CEH4Q99TTQQ7ENTI6K4013K84</td>\n",
       "      <td>buenos días habla con jessica tengo luz solar...</td>\n",
       "      <td>es muy rara van a llegar no entiendas y tengo...</td>\n",
       "      <td>buenos días habla con jessica tengo luz solar...</td>\n",
       "      <td>es muy rara van a llegar no entiendas y tengo...</td>\n",
       "      <td>Desconocimiento de la distribución de pagos</td>\n",
       "    </tr>\n",
       "    <tr>\n",
       "      <th>2</th>\n",
       "      <td>TIO7733R3T3NHFEIE9KC3OADV800RT4U</td>\n",
       "      <td>muy buenas tardes dime la línea de tuya mi no...</td>\n",
       "      <td>señor cómo está sentado muy bien gracias mira...</td>\n",
       "      <td>muy buenas tardes dime la línea de tuya mi no...</td>\n",
       "      <td>señor cómo está sentado muy bien gracias mira...</td>\n",
       "      <td>Información: disminución de cuota</td>\n",
       "    </tr>\n",
       "    <tr>\n",
       "      <th>3</th>\n",
       "      <td>L1AOU5FFDD5EHCHE5D9QFT12K00456K2</td>\n",
       "      <td>buenas tardes mi nombre es laura tengo el gus...</td>\n",
       "      <td>pero lo que pasa es que ando un poco mensaje ...</td>\n",
       "      <td>buenas tardes mi nombre es laura tengo el gus...</td>\n",
       "      <td>pero lo que pasa es que ando un poco mensaje ...</td>\n",
       "      <td>Desconocimiento: Fecha de corte y pago</td>\n",
       "    </tr>\n",
       "    <tr>\n",
       "      <th>4</th>\n",
       "      <td>80I4890E4544H1VFVKDLFNILGC04VGUE</td>\n",
       "      <td>hola feliz tarde mi nombre es juan hacedor tu...</td>\n",
       "      <td>buenas tardes mira lo que pasa es que en el c...</td>\n",
       "      <td>hola feliz tarde mi nombre es juan hacedor tu...</td>\n",
       "      <td>buenas tardes mira lo que pasa es que en el c...</td>\n",
       "      <td>Consultar saldo del producto</td>\n",
       "    </tr>\n",
       "    <tr>\n",
       "      <th>...</th>\n",
       "      <td>...</td>\n",
       "      <td>...</td>\n",
       "      <td>...</td>\n",
       "      <td>...</td>\n",
       "      <td>...</td>\n",
       "      <td>...</td>\n",
       "    </tr>\n",
       "    <tr>\n",
       "      <th>150</th>\n",
       "      <td>L1AOU5FFDD5EHCHE5D9QFT12K004MRN7</td>\n",
       "      <td>buenas tardes habla con jessica con quien ten...</td>\n",
       "      <td>buenas tardes compañera te hablan acá no en l...</td>\n",
       "      <td>buenas tardes habla con jessica con quien ten...</td>\n",
       "      <td>buenas tardes compañera te hablan acá no en l...</td>\n",
       "      <td>Información: disminución de cuota</td>\n",
       "    </tr>\n",
       "    <tr>\n",
       "      <th>151</th>\n",
       "      <td>L1AOU5FFDD5EHCHE5D9QFT12K003VS5U</td>\n",
       "      <td>muy buenas tardes habla con esa peña césar de...</td>\n",
       "      <td>amanda rodríguez muy bien gracias a dios buen...</td>\n",
       "      <td>muy buenas tardes habla con esa peña césar de...</td>\n",
       "      <td>amanda rodríguez muy bien gracias a dios buen...</td>\n",
       "      <td>Información: disminución de cuota</td>\n",
       "    </tr>\n",
       "    <tr>\n",
       "      <th>152</th>\n",
       "      <td>T8DROH1CEH4Q99TTQQ7ENTI6K4016Q9Q</td>\n",
       "      <td>muy buenas tardes le habla maría fernanda mar...</td>\n",
       "      <td>para que llegue patológico ir a maría fernand...</td>\n",
       "      <td>muy buenas tardes le habla maría fernanda mar...</td>\n",
       "      <td>para que llegue patológico ir a maría fernand...</td>\n",
       "      <td>Información: disminución de cuota</td>\n",
       "    </tr>\n",
       "    <tr>\n",
       "      <th>153</th>\n",
       "      <td>L1AOU5FFDD5EHCHE5D9QFT12K00496BQ</td>\n",
       "      <td>buenas tardes mi nombre es laura tengo el gus...</td>\n",
       "      <td>siri cómo estás laura en atención compañero q...</td>\n",
       "      <td>buenas tardes mi nombre es laura tengo el gus...</td>\n",
       "      <td>siri cómo estás laura en atención compañero q...</td>\n",
       "      <td>Información: disminución de cuota</td>\n",
       "    </tr>\n",
       "    <tr>\n",
       "      <th>154</th>\n",
       "      <td>1BDJ5HE3VH49BE2DOONBQ25OJC0025OE</td>\n",
       "      <td>buenas tardes habla melisa cosa tengo el gust...</td>\n",
       "      <td>sí cómo no melisa cómo ha estado bien bien me...</td>\n",
       "      <td>buenas tardes habla melisa cosa tengo el gust...</td>\n",
       "      <td>sí cómo no melisa cómo ha estado bien bien me...</td>\n",
       "      <td>Información: disminución de cuota</td>\n",
       "    </tr>\n",
       "  </tbody>\n",
       "</table>\n",
       "<p>155 rows × 6 columns</p>\n",
       "</div>"
      ],
      "text/plain": [
       "                               CallID  \\\n",
       "0    L1AOU5FFDD5EHCHE5D9QFT12K003QEHN   \n",
       "1    T8DROH1CEH4Q99TTQQ7ENTI6K4013K84   \n",
       "2    TIO7733R3T3NHFEIE9KC3OADV800RT4U   \n",
       "3    L1AOU5FFDD5EHCHE5D9QFT12K00456K2   \n",
       "4    80I4890E4544H1VFVKDLFNILGC04VGUE   \n",
       "..                                ...   \n",
       "150  L1AOU5FFDD5EHCHE5D9QFT12K004MRN7   \n",
       "151  L1AOU5FFDD5EHCHE5D9QFT12K003VS5U   \n",
       "152  T8DROH1CEH4Q99TTQQ7ENTI6K4016Q9Q   \n",
       "153  L1AOU5FFDD5EHCHE5D9QFT12K00496BQ   \n",
       "154  1BDJ5HE3VH49BE2DOONBQ25OJC0025OE   \n",
       "\n",
       "                                                Asesor  \\\n",
       "0     buenos días mi nombre es julián ospina al señ...   \n",
       "1     buenos días habla con jessica tengo luz solar...   \n",
       "2     muy buenas tardes dime la línea de tuya mi no...   \n",
       "3     buenas tardes mi nombre es laura tengo el gus...   \n",
       "4     hola feliz tarde mi nombre es juan hacedor tu...   \n",
       "..                                                 ...   \n",
       "150   buenas tardes habla con jessica con quien ten...   \n",
       "151   muy buenas tardes habla con esa peña césar de...   \n",
       "152   muy buenas tardes le habla maría fernanda mar...   \n",
       "153   buenas tardes mi nombre es laura tengo el gus...   \n",
       "154   buenas tardes habla melisa cosa tengo el gust...   \n",
       "\n",
       "                                               Cliente  \\\n",
       "0     hola señorita muy bien gracias a dios la preg...   \n",
       "1     es muy rara van a llegar no entiendas y tengo...   \n",
       "2     señor cómo está sentado muy bien gracias mira...   \n",
       "3     pero lo que pasa es que ando un poco mensaje ...   \n",
       "4     buenas tardes mira lo que pasa es que en el c...   \n",
       "..                                                 ...   \n",
       "150   buenas tardes compañera te hablan acá no en l...   \n",
       "151   amanda rodríguez muy bien gracias a dios buen...   \n",
       "152   para que llegue patológico ir a maría fernand...   \n",
       "153   siri cómo estás laura en atención compañero q...   \n",
       "154   sí cómo no melisa cómo ha estado bien bien me...   \n",
       "\n",
       "                                              Asesor_l  \\\n",
       "0     buenos días mi nombre es julián ospina al señ...   \n",
       "1     buenos días habla con jessica tengo luz solar...   \n",
       "2     muy buenas tardes dime la línea de tuya mi no...   \n",
       "3     buenas tardes mi nombre es laura tengo el gus...   \n",
       "4     hola feliz tarde mi nombre es juan hacedor tu...   \n",
       "..                                                 ...   \n",
       "150   buenas tardes habla con jessica con quien ten...   \n",
       "151   muy buenas tardes habla con esa peña césar de...   \n",
       "152   muy buenas tardes le habla maría fernanda mar...   \n",
       "153   buenas tardes mi nombre es laura tengo el gus...   \n",
       "154   buenas tardes habla melisa cosa tengo el gust...   \n",
       "\n",
       "                                             Cliente_l  \\\n",
       "0     hola señorita muy bien gracias a dios la preg...   \n",
       "1     es muy rara van a llegar no entiendas y tengo...   \n",
       "2     señor cómo está sentado muy bien gracias mira...   \n",
       "3     pero lo que pasa es que ando un poco mensaje ...   \n",
       "4     buenas tardes mira lo que pasa es que en el c...   \n",
       "..                                                 ...   \n",
       "150   buenas tardes compañera te hablan acá no en l...   \n",
       "151   amanda rodríguez muy bien gracias a dios buen...   \n",
       "152   para que llegue patológico ir a maría fernand...   \n",
       "153   siri cómo estás laura en atención compañero q...   \n",
       "154   sí cómo no melisa cómo ha estado bien bien me...   \n",
       "\n",
       "                        Problemas con el proceso  \n",
       "0                   Consultar saldo del producto  \n",
       "1    Desconocimiento de la distribución de pagos  \n",
       "2              Información: disminución de cuota  \n",
       "3         Desconocimiento: Fecha de corte y pago  \n",
       "4                   Consultar saldo del producto  \n",
       "..                                           ...  \n",
       "150            Información: disminución de cuota  \n",
       "151            Información: disminución de cuota  \n",
       "152            Información: disminución de cuota  \n",
       "153            Información: disminución de cuota  \n",
       "154            Información: disminución de cuota  \n",
       "\n",
       "[155 rows x 6 columns]"
      ]
     },
     "execution_count": 81,
     "metadata": {},
     "output_type": "execute_result"
    }
   ],
   "source": [
    "datos = topicosconsul[\"Cliente_l\"].values\n",
    "topicosconsul[clasificacion] = red.predict(count_vect.transform(datos))\n",
    "topicosconsul"
   ]
  },
  {
   "cell_type": "markdown",
   "metadata": {},
   "source": [
    "#### Concatenar Bases"
   ]
  },
  {
   "cell_type": "code",
   "execution_count": 83,
   "metadata": {},
   "outputs": [
    {
     "data": {
      "text/plain": [
       "133"
      ]
     },
     "execution_count": 83,
     "metadata": {},
     "output_type": "execute_result"
    }
   ],
   "source": [
    "clasificada = concat[concat['CallID'].isin(idclasificados)].reset_index(drop=True)\n",
    "len(clasificada)"
   ]
  },
  {
   "cell_type": "code",
   "execution_count": 84,
   "metadata": {},
   "outputs": [
    {
     "data": {
      "text/plain": [
       "136"
      ]
     },
     "execution_count": 84,
     "metadata": {},
     "output_type": "execute_result"
    }
   ],
   "source": [
    "pivot = data[['CallID', clasificacion]]\n",
    "clasdic = clasificada.merge(pivot, on='CallID', how='left')\n",
    "len(clasdic)"
   ]
  },
  {
   "cell_type": "code",
   "execution_count": 85,
   "metadata": {},
   "outputs": [
    {
     "data": {
      "text/plain": [
       "0"
      ]
     },
     "execution_count": 85,
     "metadata": {},
     "output_type": "execute_result"
    }
   ],
   "source": [
    "clasdic[clasificacion].isnull().sum()"
   ]
  },
  {
   "cell_type": "code",
   "execution_count": 86,
   "metadata": {},
   "outputs": [],
   "source": [
    "dffinal = pd.concat([clasdic, topicosconsul]).reset_index(drop=True)"
   ]
  },
  {
   "cell_type": "markdown",
   "metadata": {},
   "source": [
    "#### Validación"
   ]
  },
  {
   "cell_type": "code",
   "execution_count": 87,
   "metadata": {},
   "outputs": [
    {
     "name": "stdout",
     "output_type": "stream",
     "text": [
      "Consultar saldo del producto                                                  0.522337\n",
      "Información: disminución de cuota                                             0.233677\n",
      "Desconocimiento: Fecha de corte y pago                                        0.044674\n",
      "Información: valor y medios de pago                                           0.034364\n",
      "Desconocimiento de la distribución de pagos                                   0.034364\n",
      "Desconocimiento: tiempo de aplicación de pago                                 0.006873\n",
      "Desconocimiento: Cancelación de seguro voluntario                             0.006873\n",
      "Tarjeta bloqueada por acuerdo de pago                                         0.006873\n",
      "Desconocimiento: cupo de tarjeta                                              0.006873\n",
      "Desconocimiento: No entiende como su abonos afectan al saldo en el capital    0.006873\n",
      "Cliente no autenticado: No se brinda información                              0.006873\n",
      "Desconocimiento: sobre incrementos de pagos                                   0.006873\n",
      "Aumento de la deuda: Nuevas Utilizaciones                                     0.006873\n",
      "Cancelación de tarjeta voluntaria                                             0.006873\n",
      "Desconocimento: de cobro por interes vencido                                  0.006873\n",
      "Inconforme por costos adicionales por mora                                    0.006873\n",
      "información: reposición y reexpedición de tarjeta                             0.006873\n",
      "Aplican seguro sin autorización                                               0.003436\n",
      "Desconocimiento de la poliza deudores                                         0.003436\n",
      "Reporte en centrales de riesgo                                                0.003436\n",
      "Cobro de interés mes vencido                                                  0.003436\n",
      "Desconocimiento: Saldo a favor                                                0.003436\n",
      "Saldo después por pago total                                                  0.003436\n",
      "No se brinda información: Cliente sin autenticar                              0.003436\n",
      "Inconformidad con alternativa de pago: No libera cupo                         0.003436\n",
      "Cliente solicita certificado: No le llega                                     0.003436\n",
      "Desconocimiento: cuota de manejo                                              0.003436\n",
      "La deuda no baja: Cliente Moroso                                              0.003436\n",
      "Desconocimiento: renovación de seguro voluntario                              0.003436\n",
      "Desconocimiento: tasa de interes                                              0.003436\n",
      "Cliente solicita certificado: paz y salvo                                     0.003436\n",
      "Name: Problemas con el proceso, dtype: float64\n"
     ]
    }
   ],
   "source": [
    "print(dffinal[clasificacion].value_counts(normalize=True)) "
   ]
  },
  {
   "cell_type": "code",
   "execution_count": 88,
   "metadata": {},
   "outputs": [
    {
     "name": "stdout",
     "output_type": "stream",
     "text": [
      "Consultar saldo del producto                                                  0.485294\n",
      "Información: valor y medios de pago                                           0.073529\n",
      "Desconocimiento: Fecha de corte y pago                                        0.073529\n",
      "Desconocimiento de la distribución de pagos                                   0.051471\n",
      "Información: disminución de cuota                                             0.036765\n",
      "Desconocimiento: tiempo de aplicación de pago                                 0.014706\n",
      "Desconocimiento: Cancelación de seguro voluntario                             0.014706\n",
      "Tarjeta bloqueada por acuerdo de pago                                         0.014706\n",
      "Desconocimiento: cupo de tarjeta                                              0.014706\n",
      "Desconocimiento: No entiende como su abonos afectan al saldo en el capital    0.014706\n",
      "Cliente no autenticado: No se brinda información                              0.014706\n",
      "Desconocimiento: sobre incrementos de pagos                                   0.014706\n",
      "Aumento de la deuda: Nuevas Utilizaciones                                     0.014706\n",
      "Cancelación de tarjeta voluntaria                                             0.014706\n",
      "Desconocimento: de cobro por interes vencido                                  0.014706\n",
      "Inconforme por costos adicionales por mora                                    0.014706\n",
      "información: reposición y reexpedición de tarjeta                             0.014706\n",
      "Aplican seguro sin autorización                                               0.007353\n",
      "Reporte en centrales de riesgo                                                0.007353\n",
      "Desconocimiento de la poliza deudores                                         0.007353\n",
      "Cobro de interés mes vencido                                                  0.007353\n",
      "Desconocimiento: Saldo a favor                                                0.007353\n",
      "Saldo después por pago total                                                  0.007353\n",
      "No se brinda información: Cliente sin autenticar                              0.007353\n",
      "Inconformidad con alternativa de pago: No libera cupo                         0.007353\n",
      "Cliente solicita certificado: No le llega                                     0.007353\n",
      "Desconocimiento: cuota de manejo                                              0.007353\n",
      "La deuda no baja: Cliente Moroso                                              0.007353\n",
      "Desconocimiento: renovación de seguro voluntario                              0.007353\n",
      "Desconocimiento: tasa de interes                                              0.007353\n",
      "Cliente solicita certificado: paz y salvo                                     0.007353\n",
      "Name: Problemas con el proceso, dtype: float64\n"
     ]
    }
   ],
   "source": [
    "print(data[clasificacion].value_counts(normalize=True))"
   ]
  },
  {
   "cell_type": "code",
   "execution_count": 89,
   "metadata": {},
   "outputs": [],
   "source": [
    "dffinal.to_excel('D:/Proyecto Speech Tuya/Clasificación/Pago minimo y pago total - procesos.xlsx') ## exportar archivo"
   ]
  },
  {
   "cell_type": "markdown",
   "metadata": {},
   "source": [
    "### Pago mínimo y pago total - Problemas con el Producto"
   ]
  },
  {
   "cell_type": "code",
   "execution_count": 90,
   "metadata": {},
   "outputs": [],
   "source": [
    "data = concat.merge(diccionarios, on='CallID', how='left')"
   ]
  },
  {
   "cell_type": "code",
   "execution_count": 91,
   "metadata": {},
   "outputs": [],
   "source": [
    "data = data[['CallID', 'Asesor', 'Cliente', 'Asesor_l', 'Cliente_l', 'Fecha', \n",
    "       'CodFinalización', 'Productos', 'Problemas con el proceso',\n",
    "       'Problemas con la tecnología', 'Impacto la satisfacción',\n",
    "       'Pérfil Cliente', 'Chismes', 'Observaciones']]\n",
    "\n",
    "data.index = range(data.shape[0])"
   ]
  },
  {
   "cell_type": "code",
   "execution_count": 92,
   "metadata": {},
   "outputs": [
    {
     "name": "stdout",
     "output_type": "stream",
     "text": [
      "10\n"
     ]
    },
    {
     "data": {
      "text/plain": [
       "Cliente quiere cambiar el estado de su tarjeta (bloquear y desbloquear)    4\n",
       "Consulta estado del producto                                               4\n",
       "Distribución de pagos: Paga anticipado, evade interés                      1\n",
       "El extracto no se actualiza: No se puede modificar                         1\n",
       "Name: Productos, dtype: int64"
      ]
     },
     "execution_count": 92,
     "metadata": {},
     "output_type": "execute_result"
    }
   ],
   "source": [
    "data = data[data['CodFinalización'] == 'pago mínimo y pago total'] ######## 1 Cambio filtro #Comentarear en caso de hacer tópicos generales\n",
    "clasificacion = 'Productos' ###### 2 Cambio la columna a entrenas #'Expectativa no cubierta' #'Problemas con el producto' #'Usabilidad'\n",
    "data.dropna(subset=[clasificacion], inplace=True)\n",
    "data.reset_index(drop=True, inplace=True)\n",
    "print(len(data))\n",
    "data[clasificacion].value_counts()"
   ]
  },
  {
   "cell_type": "code",
   "execution_count": 93,
   "metadata": {},
   "outputs": [],
   "source": [
    "df = data.copy()\n",
    "for i in range(1,1): ######### 3 Cambio\n",
    "    df = pd.concat([df,data])"
   ]
  },
  {
   "cell_type": "markdown",
   "metadata": {},
   "source": [
    "#### Red Neuronal"
   ]
  },
  {
   "cell_type": "code",
   "execution_count": 94,
   "metadata": {},
   "outputs": [],
   "source": [
    "datos = df.Cliente_l\n",
    "tipificaciones=df[clasificacion]\n",
    "\n",
    "X_train, X_test, y_train, y_test = train_test_split(datos, tipificaciones)\n",
    "count_vect = CountVectorizer()\n",
    "X_train_counts = count_vect.fit_transform(X_train)\n",
    "tfidf_transformer = TfidfTransformer()\n",
    "X_train_tfidf = tfidf_transformer.fit_transform(X_train_counts)"
   ]
  },
  {
   "cell_type": "code",
   "execution_count": 95,
   "metadata": {},
   "outputs": [
    {
     "data": {
      "text/plain": [
       "MLPClassifier(hidden_layer_sizes=5, max_iter=512)"
      ]
     },
     "execution_count": 95,
     "metadata": {},
     "output_type": "execute_result"
    }
   ],
   "source": [
    "red=MLPClassifier(max_iter=512, hidden_layer_sizes=(5)) \n",
    "red.fit(X_train_tfidf, y_train)"
   ]
  },
  {
   "cell_type": "code",
   "execution_count": 96,
   "metadata": {},
   "outputs": [
    {
     "data": {
      "text/plain": [
       "1.0"
      ]
     },
     "execution_count": 96,
     "metadata": {},
     "output_type": "execute_result"
    }
   ],
   "source": [
    "red.score(X_train_tfidf, y_train)"
   ]
  },
  {
   "cell_type": "code",
   "execution_count": 97,
   "metadata": {},
   "outputs": [
    {
     "data": {
      "text/plain": [
       "10"
      ]
     },
     "execution_count": 97,
     "metadata": {},
     "output_type": "execute_result"
    }
   ],
   "source": [
    "idclasificados = df['CallID'].unique()\n",
    "len(idclasificados)"
   ]
  },
  {
   "cell_type": "code",
   "execution_count": 98,
   "metadata": {},
   "outputs": [
    {
     "name": "stdout",
     "output_type": "stream",
     "text": [
      "(155, 5)\n",
      "(155, 5)\n"
     ]
    },
    {
     "data": {
      "text/html": [
       "<div>\n",
       "<style scoped>\n",
       "    .dataframe tbody tr th:only-of-type {\n",
       "        vertical-align: middle;\n",
       "    }\n",
       "\n",
       "    .dataframe tbody tr th {\n",
       "        vertical-align: top;\n",
       "    }\n",
       "\n",
       "    .dataframe thead th {\n",
       "        text-align: right;\n",
       "    }\n",
       "</style>\n",
       "<table border=\"1\" class=\"dataframe\">\n",
       "  <thead>\n",
       "    <tr style=\"text-align: right;\">\n",
       "      <th></th>\n",
       "      <th>CallID</th>\n",
       "      <th>Asesor</th>\n",
       "      <th>Cliente</th>\n",
       "      <th>Asesor_l</th>\n",
       "      <th>Cliente_l</th>\n",
       "    </tr>\n",
       "  </thead>\n",
       "  <tbody>\n",
       "    <tr>\n",
       "      <th>0</th>\n",
       "      <td>L1AOU5FFDD5EHCHE5D9QFT12K003QEHN</td>\n",
       "      <td>buenos días mi nombre es julián ospina al señ...</td>\n",
       "      <td>hola señorita muy bien gracias a dios la preg...</td>\n",
       "      <td>buenos días mi nombre es julián ospina al señ...</td>\n",
       "      <td>hola señorita muy bien gracias a dios la preg...</td>\n",
       "    </tr>\n",
       "    <tr>\n",
       "      <th>1</th>\n",
       "      <td>T8DROH1CEH4Q99TTQQ7ENTI6K4013K84</td>\n",
       "      <td>buenos días habla con jessica tengo luz solar...</td>\n",
       "      <td>es muy rara van a llegar no entiendas y tengo...</td>\n",
       "      <td>buenos días habla con jessica tengo luz solar...</td>\n",
       "      <td>es muy rara van a llegar no entiendas y tengo...</td>\n",
       "    </tr>\n",
       "    <tr>\n",
       "      <th>2</th>\n",
       "      <td>TIO7733R3T3NHFEIE9KC3OADV800RT4U</td>\n",
       "      <td>muy buenas tardes dime la línea de tuya mi no...</td>\n",
       "      <td>señor cómo está sentado muy bien gracias mira...</td>\n",
       "      <td>muy buenas tardes dime la línea de tuya mi no...</td>\n",
       "      <td>señor cómo está sentado muy bien gracias mira...</td>\n",
       "    </tr>\n",
       "    <tr>\n",
       "      <th>3</th>\n",
       "      <td>L1AOU5FFDD5EHCHE5D9QFT12K00456K2</td>\n",
       "      <td>buenas tardes mi nombre es laura tengo el gus...</td>\n",
       "      <td>pero lo que pasa es que ando un poco mensaje ...</td>\n",
       "      <td>buenas tardes mi nombre es laura tengo el gus...</td>\n",
       "      <td>pero lo que pasa es que ando un poco mensaje ...</td>\n",
       "    </tr>\n",
       "    <tr>\n",
       "      <th>4</th>\n",
       "      <td>80I4890E4544H1VFVKDLFNILGC04VGUE</td>\n",
       "      <td>hola feliz tarde mi nombre es juan hacedor tu...</td>\n",
       "      <td>buenas tardes mira lo que pasa es que en el c...</td>\n",
       "      <td>hola feliz tarde mi nombre es juan hacedor tu...</td>\n",
       "      <td>buenas tardes mira lo que pasa es que en el c...</td>\n",
       "    </tr>\n",
       "    <tr>\n",
       "      <th>...</th>\n",
       "      <td>...</td>\n",
       "      <td>...</td>\n",
       "      <td>...</td>\n",
       "      <td>...</td>\n",
       "      <td>...</td>\n",
       "    </tr>\n",
       "    <tr>\n",
       "      <th>150</th>\n",
       "      <td>L1AOU5FFDD5EHCHE5D9QFT12K004MRN7</td>\n",
       "      <td>buenas tardes habla con jessica con quien ten...</td>\n",
       "      <td>buenas tardes compañera te hablan acá no en l...</td>\n",
       "      <td>buenas tardes habla con jessica con quien ten...</td>\n",
       "      <td>buenas tardes compañera te hablan acá no en l...</td>\n",
       "    </tr>\n",
       "    <tr>\n",
       "      <th>151</th>\n",
       "      <td>L1AOU5FFDD5EHCHE5D9QFT12K003VS5U</td>\n",
       "      <td>muy buenas tardes habla con esa peña césar de...</td>\n",
       "      <td>amanda rodríguez muy bien gracias a dios buen...</td>\n",
       "      <td>muy buenas tardes habla con esa peña césar de...</td>\n",
       "      <td>amanda rodríguez muy bien gracias a dios buen...</td>\n",
       "    </tr>\n",
       "    <tr>\n",
       "      <th>152</th>\n",
       "      <td>T8DROH1CEH4Q99TTQQ7ENTI6K4016Q9Q</td>\n",
       "      <td>muy buenas tardes le habla maría fernanda mar...</td>\n",
       "      <td>para que llegue patológico ir a maría fernand...</td>\n",
       "      <td>muy buenas tardes le habla maría fernanda mar...</td>\n",
       "      <td>para que llegue patológico ir a maría fernand...</td>\n",
       "    </tr>\n",
       "    <tr>\n",
       "      <th>153</th>\n",
       "      <td>L1AOU5FFDD5EHCHE5D9QFT12K00496BQ</td>\n",
       "      <td>buenas tardes mi nombre es laura tengo el gus...</td>\n",
       "      <td>siri cómo estás laura en atención compañero q...</td>\n",
       "      <td>buenas tardes mi nombre es laura tengo el gus...</td>\n",
       "      <td>siri cómo estás laura en atención compañero q...</td>\n",
       "    </tr>\n",
       "    <tr>\n",
       "      <th>154</th>\n",
       "      <td>1BDJ5HE3VH49BE2DOONBQ25OJC0025OE</td>\n",
       "      <td>buenas tardes habla melisa cosa tengo el gust...</td>\n",
       "      <td>sí cómo no melisa cómo ha estado bien bien me...</td>\n",
       "      <td>buenas tardes habla melisa cosa tengo el gust...</td>\n",
       "      <td>sí cómo no melisa cómo ha estado bien bien me...</td>\n",
       "    </tr>\n",
       "  </tbody>\n",
       "</table>\n",
       "<p>155 rows × 5 columns</p>\n",
       "</div>"
      ],
      "text/plain": [
       "                               CallID  \\\n",
       "0    L1AOU5FFDD5EHCHE5D9QFT12K003QEHN   \n",
       "1    T8DROH1CEH4Q99TTQQ7ENTI6K4013K84   \n",
       "2    TIO7733R3T3NHFEIE9KC3OADV800RT4U   \n",
       "3    L1AOU5FFDD5EHCHE5D9QFT12K00456K2   \n",
       "4    80I4890E4544H1VFVKDLFNILGC04VGUE   \n",
       "..                                ...   \n",
       "150  L1AOU5FFDD5EHCHE5D9QFT12K004MRN7   \n",
       "151  L1AOU5FFDD5EHCHE5D9QFT12K003VS5U   \n",
       "152  T8DROH1CEH4Q99TTQQ7ENTI6K4016Q9Q   \n",
       "153  L1AOU5FFDD5EHCHE5D9QFT12K00496BQ   \n",
       "154  1BDJ5HE3VH49BE2DOONBQ25OJC0025OE   \n",
       "\n",
       "                                                Asesor  \\\n",
       "0     buenos días mi nombre es julián ospina al señ...   \n",
       "1     buenos días habla con jessica tengo luz solar...   \n",
       "2     muy buenas tardes dime la línea de tuya mi no...   \n",
       "3     buenas tardes mi nombre es laura tengo el gus...   \n",
       "4     hola feliz tarde mi nombre es juan hacedor tu...   \n",
       "..                                                 ...   \n",
       "150   buenas tardes habla con jessica con quien ten...   \n",
       "151   muy buenas tardes habla con esa peña césar de...   \n",
       "152   muy buenas tardes le habla maría fernanda mar...   \n",
       "153   buenas tardes mi nombre es laura tengo el gus...   \n",
       "154   buenas tardes habla melisa cosa tengo el gust...   \n",
       "\n",
       "                                               Cliente  \\\n",
       "0     hola señorita muy bien gracias a dios la preg...   \n",
       "1     es muy rara van a llegar no entiendas y tengo...   \n",
       "2     señor cómo está sentado muy bien gracias mira...   \n",
       "3     pero lo que pasa es que ando un poco mensaje ...   \n",
       "4     buenas tardes mira lo que pasa es que en el c...   \n",
       "..                                                 ...   \n",
       "150   buenas tardes compañera te hablan acá no en l...   \n",
       "151   amanda rodríguez muy bien gracias a dios buen...   \n",
       "152   para que llegue patológico ir a maría fernand...   \n",
       "153   siri cómo estás laura en atención compañero q...   \n",
       "154   sí cómo no melisa cómo ha estado bien bien me...   \n",
       "\n",
       "                                              Asesor_l  \\\n",
       "0     buenos días mi nombre es julián ospina al señ...   \n",
       "1     buenos días habla con jessica tengo luz solar...   \n",
       "2     muy buenas tardes dime la línea de tuya mi no...   \n",
       "3     buenas tardes mi nombre es laura tengo el gus...   \n",
       "4     hola feliz tarde mi nombre es juan hacedor tu...   \n",
       "..                                                 ...   \n",
       "150   buenas tardes habla con jessica con quien ten...   \n",
       "151   muy buenas tardes habla con esa peña césar de...   \n",
       "152   muy buenas tardes le habla maría fernanda mar...   \n",
       "153   buenas tardes mi nombre es laura tengo el gus...   \n",
       "154   buenas tardes habla melisa cosa tengo el gust...   \n",
       "\n",
       "                                             Cliente_l  \n",
       "0     hola señorita muy bien gracias a dios la preg...  \n",
       "1     es muy rara van a llegar no entiendas y tengo...  \n",
       "2     señor cómo está sentado muy bien gracias mira...  \n",
       "3     pero lo que pasa es que ando un poco mensaje ...  \n",
       "4     buenas tardes mira lo que pasa es que en el c...  \n",
       "..                                                 ...  \n",
       "150   buenas tardes compañera te hablan acá no en l...  \n",
       "151   amanda rodríguez muy bien gracias a dios buen...  \n",
       "152   para que llegue patológico ir a maría fernand...  \n",
       "153   siri cómo estás laura en atención compañero q...  \n",
       "154   sí cómo no melisa cómo ha estado bien bien me...  \n",
       "\n",
       "[155 rows x 5 columns]"
      ]
     },
     "execution_count": 98,
     "metadata": {},
     "output_type": "execute_result"
    }
   ],
   "source": [
    "#conversacion = pd.read_excel('perulapropia.xlsx', sheet_name='concat')\n",
    "topicosconsul = concat\n",
    "#topicosconsul = conversacion[conversacion['Canal'] == 'Consultora']\n",
    "topicosconsul = topicosconsul[topicosconsul['CallID'].isin(idtipo)] #### 1 advertencias: primero haber ejectuado la seccion Tipo producto #Comentar en caso de no realizar topicos generales\n",
    "print(topicosconsul.shape)\n",
    "topicosconsul = topicosconsul[topicosconsul['CallID'].isin(idclasificados)== False].reset_index(drop=True) ############\n",
    "print(topicosconsul.shape)\n",
    "topicosconsul"
   ]
  },
  {
   "cell_type": "code",
   "execution_count": 99,
   "metadata": {},
   "outputs": [
    {
     "data": {
      "text/html": [
       "<div>\n",
       "<style scoped>\n",
       "    .dataframe tbody tr th:only-of-type {\n",
       "        vertical-align: middle;\n",
       "    }\n",
       "\n",
       "    .dataframe tbody tr th {\n",
       "        vertical-align: top;\n",
       "    }\n",
       "\n",
       "    .dataframe thead th {\n",
       "        text-align: right;\n",
       "    }\n",
       "</style>\n",
       "<table border=\"1\" class=\"dataframe\">\n",
       "  <thead>\n",
       "    <tr style=\"text-align: right;\">\n",
       "      <th></th>\n",
       "      <th>CallID</th>\n",
       "      <th>Asesor</th>\n",
       "      <th>Cliente</th>\n",
       "      <th>Asesor_l</th>\n",
       "      <th>Cliente_l</th>\n",
       "      <th>Productos</th>\n",
       "    </tr>\n",
       "  </thead>\n",
       "  <tbody>\n",
       "    <tr>\n",
       "      <th>0</th>\n",
       "      <td>L1AOU5FFDD5EHCHE5D9QFT12K003QEHN</td>\n",
       "      <td>buenos días mi nombre es julián ospina al señ...</td>\n",
       "      <td>hola señorita muy bien gracias a dios la preg...</td>\n",
       "      <td>buenos días mi nombre es julián ospina al señ...</td>\n",
       "      <td>hola señorita muy bien gracias a dios la preg...</td>\n",
       "      <td>Cliente quiere cambiar el estado de su tarjeta...</td>\n",
       "    </tr>\n",
       "    <tr>\n",
       "      <th>1</th>\n",
       "      <td>T8DROH1CEH4Q99TTQQ7ENTI6K4013K84</td>\n",
       "      <td>buenos días habla con jessica tengo luz solar...</td>\n",
       "      <td>es muy rara van a llegar no entiendas y tengo...</td>\n",
       "      <td>buenos días habla con jessica tengo luz solar...</td>\n",
       "      <td>es muy rara van a llegar no entiendas y tengo...</td>\n",
       "      <td>Consulta estado del producto</td>\n",
       "    </tr>\n",
       "    <tr>\n",
       "      <th>2</th>\n",
       "      <td>TIO7733R3T3NHFEIE9KC3OADV800RT4U</td>\n",
       "      <td>muy buenas tardes dime la línea de tuya mi no...</td>\n",
       "      <td>señor cómo está sentado muy bien gracias mira...</td>\n",
       "      <td>muy buenas tardes dime la línea de tuya mi no...</td>\n",
       "      <td>señor cómo está sentado muy bien gracias mira...</td>\n",
       "      <td>Cliente quiere cambiar el estado de su tarjeta...</td>\n",
       "    </tr>\n",
       "    <tr>\n",
       "      <th>3</th>\n",
       "      <td>L1AOU5FFDD5EHCHE5D9QFT12K00456K2</td>\n",
       "      <td>buenas tardes mi nombre es laura tengo el gus...</td>\n",
       "      <td>pero lo que pasa es que ando un poco mensaje ...</td>\n",
       "      <td>buenas tardes mi nombre es laura tengo el gus...</td>\n",
       "      <td>pero lo que pasa es que ando un poco mensaje ...</td>\n",
       "      <td>Cliente quiere cambiar el estado de su tarjeta...</td>\n",
       "    </tr>\n",
       "    <tr>\n",
       "      <th>4</th>\n",
       "      <td>80I4890E4544H1VFVKDLFNILGC04VGUE</td>\n",
       "      <td>hola feliz tarde mi nombre es juan hacedor tu...</td>\n",
       "      <td>buenas tardes mira lo que pasa es que en el c...</td>\n",
       "      <td>hola feliz tarde mi nombre es juan hacedor tu...</td>\n",
       "      <td>buenas tardes mira lo que pasa es que en el c...</td>\n",
       "      <td>Cliente quiere cambiar el estado de su tarjeta...</td>\n",
       "    </tr>\n",
       "    <tr>\n",
       "      <th>...</th>\n",
       "      <td>...</td>\n",
       "      <td>...</td>\n",
       "      <td>...</td>\n",
       "      <td>...</td>\n",
       "      <td>...</td>\n",
       "      <td>...</td>\n",
       "    </tr>\n",
       "    <tr>\n",
       "      <th>150</th>\n",
       "      <td>L1AOU5FFDD5EHCHE5D9QFT12K004MRN7</td>\n",
       "      <td>buenas tardes habla con jessica con quien ten...</td>\n",
       "      <td>buenas tardes compañera te hablan acá no en l...</td>\n",
       "      <td>buenas tardes habla con jessica con quien ten...</td>\n",
       "      <td>buenas tardes compañera te hablan acá no en l...</td>\n",
       "      <td>Consulta estado del producto</td>\n",
       "    </tr>\n",
       "    <tr>\n",
       "      <th>151</th>\n",
       "      <td>L1AOU5FFDD5EHCHE5D9QFT12K003VS5U</td>\n",
       "      <td>muy buenas tardes habla con esa peña césar de...</td>\n",
       "      <td>amanda rodríguez muy bien gracias a dios buen...</td>\n",
       "      <td>muy buenas tardes habla con esa peña césar de...</td>\n",
       "      <td>amanda rodríguez muy bien gracias a dios buen...</td>\n",
       "      <td>Consulta estado del producto</td>\n",
       "    </tr>\n",
       "    <tr>\n",
       "      <th>152</th>\n",
       "      <td>T8DROH1CEH4Q99TTQQ7ENTI6K4016Q9Q</td>\n",
       "      <td>muy buenas tardes le habla maría fernanda mar...</td>\n",
       "      <td>para que llegue patológico ir a maría fernand...</td>\n",
       "      <td>muy buenas tardes le habla maría fernanda mar...</td>\n",
       "      <td>para que llegue patológico ir a maría fernand...</td>\n",
       "      <td>Consulta estado del producto</td>\n",
       "    </tr>\n",
       "    <tr>\n",
       "      <th>153</th>\n",
       "      <td>L1AOU5FFDD5EHCHE5D9QFT12K00496BQ</td>\n",
       "      <td>buenas tardes mi nombre es laura tengo el gus...</td>\n",
       "      <td>siri cómo estás laura en atención compañero q...</td>\n",
       "      <td>buenas tardes mi nombre es laura tengo el gus...</td>\n",
       "      <td>siri cómo estás laura en atención compañero q...</td>\n",
       "      <td>Cliente quiere cambiar el estado de su tarjeta...</td>\n",
       "    </tr>\n",
       "    <tr>\n",
       "      <th>154</th>\n",
       "      <td>1BDJ5HE3VH49BE2DOONBQ25OJC0025OE</td>\n",
       "      <td>buenas tardes habla melisa cosa tengo el gust...</td>\n",
       "      <td>sí cómo no melisa cómo ha estado bien bien me...</td>\n",
       "      <td>buenas tardes habla melisa cosa tengo el gust...</td>\n",
       "      <td>sí cómo no melisa cómo ha estado bien bien me...</td>\n",
       "      <td>Consulta estado del producto</td>\n",
       "    </tr>\n",
       "  </tbody>\n",
       "</table>\n",
       "<p>155 rows × 6 columns</p>\n",
       "</div>"
      ],
      "text/plain": [
       "                               CallID  \\\n",
       "0    L1AOU5FFDD5EHCHE5D9QFT12K003QEHN   \n",
       "1    T8DROH1CEH4Q99TTQQ7ENTI6K4013K84   \n",
       "2    TIO7733R3T3NHFEIE9KC3OADV800RT4U   \n",
       "3    L1AOU5FFDD5EHCHE5D9QFT12K00456K2   \n",
       "4    80I4890E4544H1VFVKDLFNILGC04VGUE   \n",
       "..                                ...   \n",
       "150  L1AOU5FFDD5EHCHE5D9QFT12K004MRN7   \n",
       "151  L1AOU5FFDD5EHCHE5D9QFT12K003VS5U   \n",
       "152  T8DROH1CEH4Q99TTQQ7ENTI6K4016Q9Q   \n",
       "153  L1AOU5FFDD5EHCHE5D9QFT12K00496BQ   \n",
       "154  1BDJ5HE3VH49BE2DOONBQ25OJC0025OE   \n",
       "\n",
       "                                                Asesor  \\\n",
       "0     buenos días mi nombre es julián ospina al señ...   \n",
       "1     buenos días habla con jessica tengo luz solar...   \n",
       "2     muy buenas tardes dime la línea de tuya mi no...   \n",
       "3     buenas tardes mi nombre es laura tengo el gus...   \n",
       "4     hola feliz tarde mi nombre es juan hacedor tu...   \n",
       "..                                                 ...   \n",
       "150   buenas tardes habla con jessica con quien ten...   \n",
       "151   muy buenas tardes habla con esa peña césar de...   \n",
       "152   muy buenas tardes le habla maría fernanda mar...   \n",
       "153   buenas tardes mi nombre es laura tengo el gus...   \n",
       "154   buenas tardes habla melisa cosa tengo el gust...   \n",
       "\n",
       "                                               Cliente  \\\n",
       "0     hola señorita muy bien gracias a dios la preg...   \n",
       "1     es muy rara van a llegar no entiendas y tengo...   \n",
       "2     señor cómo está sentado muy bien gracias mira...   \n",
       "3     pero lo que pasa es que ando un poco mensaje ...   \n",
       "4     buenas tardes mira lo que pasa es que en el c...   \n",
       "..                                                 ...   \n",
       "150   buenas tardes compañera te hablan acá no en l...   \n",
       "151   amanda rodríguez muy bien gracias a dios buen...   \n",
       "152   para que llegue patológico ir a maría fernand...   \n",
       "153   siri cómo estás laura en atención compañero q...   \n",
       "154   sí cómo no melisa cómo ha estado bien bien me...   \n",
       "\n",
       "                                              Asesor_l  \\\n",
       "0     buenos días mi nombre es julián ospina al señ...   \n",
       "1     buenos días habla con jessica tengo luz solar...   \n",
       "2     muy buenas tardes dime la línea de tuya mi no...   \n",
       "3     buenas tardes mi nombre es laura tengo el gus...   \n",
       "4     hola feliz tarde mi nombre es juan hacedor tu...   \n",
       "..                                                 ...   \n",
       "150   buenas tardes habla con jessica con quien ten...   \n",
       "151   muy buenas tardes habla con esa peña césar de...   \n",
       "152   muy buenas tardes le habla maría fernanda mar...   \n",
       "153   buenas tardes mi nombre es laura tengo el gus...   \n",
       "154   buenas tardes habla melisa cosa tengo el gust...   \n",
       "\n",
       "                                             Cliente_l  \\\n",
       "0     hola señorita muy bien gracias a dios la preg...   \n",
       "1     es muy rara van a llegar no entiendas y tengo...   \n",
       "2     señor cómo está sentado muy bien gracias mira...   \n",
       "3     pero lo que pasa es que ando un poco mensaje ...   \n",
       "4     buenas tardes mira lo que pasa es que en el c...   \n",
       "..                                                 ...   \n",
       "150   buenas tardes compañera te hablan acá no en l...   \n",
       "151   amanda rodríguez muy bien gracias a dios buen...   \n",
       "152   para que llegue patológico ir a maría fernand...   \n",
       "153   siri cómo estás laura en atención compañero q...   \n",
       "154   sí cómo no melisa cómo ha estado bien bien me...   \n",
       "\n",
       "                                             Productos  \n",
       "0    Cliente quiere cambiar el estado de su tarjeta...  \n",
       "1                         Consulta estado del producto  \n",
       "2    Cliente quiere cambiar el estado de su tarjeta...  \n",
       "3    Cliente quiere cambiar el estado de su tarjeta...  \n",
       "4    Cliente quiere cambiar el estado de su tarjeta...  \n",
       "..                                                 ...  \n",
       "150                       Consulta estado del producto  \n",
       "151                       Consulta estado del producto  \n",
       "152                       Consulta estado del producto  \n",
       "153  Cliente quiere cambiar el estado de su tarjeta...  \n",
       "154                       Consulta estado del producto  \n",
       "\n",
       "[155 rows x 6 columns]"
      ]
     },
     "execution_count": 99,
     "metadata": {},
     "output_type": "execute_result"
    }
   ],
   "source": [
    "datos = topicosconsul[\"Cliente_l\"].values\n",
    "topicosconsul[clasificacion] = red.predict(count_vect.transform(datos))\n",
    "topicosconsul"
   ]
  },
  {
   "cell_type": "markdown",
   "metadata": {},
   "source": [
    "#### Concatenar Bases"
   ]
  },
  {
   "cell_type": "code",
   "execution_count": 100,
   "metadata": {},
   "outputs": [
    {
     "data": {
      "text/plain": [
       "10"
      ]
     },
     "execution_count": 100,
     "metadata": {},
     "output_type": "execute_result"
    }
   ],
   "source": [
    "clasificada = concat[concat['CallID'].isin(idclasificados)].reset_index(drop=True)\n",
    "len(clasificada)"
   ]
  },
  {
   "cell_type": "code",
   "execution_count": 101,
   "metadata": {},
   "outputs": [
    {
     "data": {
      "text/plain": [
       "10"
      ]
     },
     "execution_count": 101,
     "metadata": {},
     "output_type": "execute_result"
    }
   ],
   "source": [
    "pivot = data[['CallID', clasificacion]]\n",
    "clasdic = clasificada.merge(pivot, on='CallID', how='left')\n",
    "len(clasdic)"
   ]
  },
  {
   "cell_type": "code",
   "execution_count": 102,
   "metadata": {},
   "outputs": [
    {
     "data": {
      "text/plain": [
       "0"
      ]
     },
     "execution_count": 102,
     "metadata": {},
     "output_type": "execute_result"
    }
   ],
   "source": [
    "clasdic[clasificacion].isnull().sum()"
   ]
  },
  {
   "cell_type": "code",
   "execution_count": 103,
   "metadata": {},
   "outputs": [],
   "source": [
    "dffinal = pd.concat([clasdic, topicosconsul]).reset_index(drop=True)"
   ]
  },
  {
   "cell_type": "markdown",
   "metadata": {},
   "source": [
    "#### Validación"
   ]
  },
  {
   "cell_type": "code",
   "execution_count": 104,
   "metadata": {},
   "outputs": [
    {
     "name": "stdout",
     "output_type": "stream",
     "text": [
      "Consulta estado del producto                                               0.618182\n",
      "Cliente quiere cambiar el estado de su tarjeta (bloquear y desbloquear)    0.369697\n",
      "Distribución de pagos: Paga anticipado, evade interés                      0.006061\n",
      "El extracto no se actualiza: No se puede modificar                         0.006061\n",
      "Name: Productos, dtype: float64\n"
     ]
    }
   ],
   "source": [
    "print(dffinal[clasificacion].value_counts(normalize=True)) "
   ]
  },
  {
   "cell_type": "code",
   "execution_count": 105,
   "metadata": {},
   "outputs": [
    {
     "name": "stdout",
     "output_type": "stream",
     "text": [
      "Cliente quiere cambiar el estado de su tarjeta (bloquear y desbloquear)    0.4\n",
      "Consulta estado del producto                                               0.4\n",
      "Distribución de pagos: Paga anticipado, evade interés                      0.1\n",
      "El extracto no se actualiza: No se puede modificar                         0.1\n",
      "Name: Productos, dtype: float64\n"
     ]
    }
   ],
   "source": [
    "print(data[clasificacion].value_counts(normalize=True))"
   ]
  },
  {
   "cell_type": "code",
   "execution_count": 106,
   "metadata": {},
   "outputs": [],
   "source": [
    "dffinal.to_excel('D:/Proyecto Speech Tuya/Clasificación/Pago minimo y pago total - productos.xlsx') ## exportar archivo"
   ]
  },
  {
   "cell_type": "markdown",
   "metadata": {},
   "source": [
    "### Pago mínimo y pago total - Problemas con la Tecnologia"
   ]
  },
  {
   "cell_type": "code",
   "execution_count": 107,
   "metadata": {},
   "outputs": [],
   "source": [
    "data = concat.merge(diccionarios, on='CallID', how='left')"
   ]
  },
  {
   "cell_type": "code",
   "execution_count": 108,
   "metadata": {},
   "outputs": [],
   "source": [
    "data = data[['CallID', 'Asesor', 'Cliente', 'Asesor_l', 'Cliente_l', 'Fecha', \n",
    "       'CodFinalización', 'Productos', 'Problemas con el proceso',\n",
    "       'Problemas con la tecnología', 'Impacto la satisfacción',\n",
    "       'Pérfil Cliente', 'Chismes', 'Observaciones']]\n",
    "\n",
    "data.index = range(data.shape[0])"
   ]
  },
  {
   "cell_type": "code",
   "execution_count": 109,
   "metadata": {},
   "outputs": [
    {
     "name": "stdout",
     "output_type": "stream",
     "text": [
      "6\n"
     ]
    },
    {
     "data": {
      "text/plain": [
       "No registra valor a pagar de forma virtual                       2\n",
       "Fallas en aplicativos: Lentitud por actualización de sistema     2\n",
       "Calidad del audio en llamada                                     1\n",
       "No le llega el MSM de clave monitoreo OTP: Demora para llegar    1\n",
       "Name: Problemas con la tecnología, dtype: int64"
      ]
     },
     "execution_count": 109,
     "metadata": {},
     "output_type": "execute_result"
    }
   ],
   "source": [
    "data = data[data['CodFinalización'] == 'pago mínimo y pago total'] ######## 1 Cambio filtro #Comentarear en caso de hacer tópicos generales\n",
    "clasificacion = 'Problemas con la tecnología' ###### 2 Cambio la columna a entrenas #'Expectativa no cubierta' #'Problemas con el producto' #'Usabilidad'\n",
    "data.dropna(subset=[clasificacion], inplace=True)\n",
    "data.reset_index(drop=True, inplace=True)\n",
    "print(len(data))\n",
    "data[clasificacion].value_counts()"
   ]
  },
  {
   "cell_type": "code",
   "execution_count": 110,
   "metadata": {},
   "outputs": [],
   "source": [
    "df = data.copy()\n",
    "for i in range(1,1): ######### 3 Cambio\n",
    "    df = pd.concat([df,data])"
   ]
  },
  {
   "cell_type": "markdown",
   "metadata": {},
   "source": [
    "#### Red Neuronal"
   ]
  },
  {
   "cell_type": "code",
   "execution_count": 111,
   "metadata": {},
   "outputs": [],
   "source": [
    "datos = df.Cliente_l\n",
    "tipificaciones=df[clasificacion]\n",
    "\n",
    "X_train, X_test, y_train, y_test = train_test_split(datos, tipificaciones)\n",
    "count_vect = CountVectorizer()\n",
    "X_train_counts = count_vect.fit_transform(X_train)\n",
    "tfidf_transformer = TfidfTransformer()\n",
    "X_train_tfidf = tfidf_transformer.fit_transform(X_train_counts)"
   ]
  },
  {
   "cell_type": "code",
   "execution_count": 112,
   "metadata": {},
   "outputs": [
    {
     "name": "stderr",
     "output_type": "stream",
     "text": [
      "C:\\Users\\dgarmor\\.conda\\envs\\Environments\\lib\\site-packages\\sklearn\\neural_network\\_multilayer_perceptron.py:585: ConvergenceWarning: Stochastic Optimizer: Maximum iterations (512) reached and the optimization hasn't converged yet.\n",
      "  % self.max_iter, ConvergenceWarning)\n"
     ]
    },
    {
     "data": {
      "text/plain": [
       "MLPClassifier(hidden_layer_sizes=5, max_iter=512)"
      ]
     },
     "execution_count": 112,
     "metadata": {},
     "output_type": "execute_result"
    }
   ],
   "source": [
    "red=MLPClassifier(max_iter=512, hidden_layer_sizes=(5)) \n",
    "red.fit(X_train_tfidf, y_train)"
   ]
  },
  {
   "cell_type": "code",
   "execution_count": 113,
   "metadata": {},
   "outputs": [
    {
     "data": {
      "text/plain": [
       "1.0"
      ]
     },
     "execution_count": 113,
     "metadata": {},
     "output_type": "execute_result"
    }
   ],
   "source": [
    "red.score(X_train_tfidf, y_train)"
   ]
  },
  {
   "cell_type": "code",
   "execution_count": 114,
   "metadata": {},
   "outputs": [
    {
     "data": {
      "text/plain": [
       "6"
      ]
     },
     "execution_count": 114,
     "metadata": {},
     "output_type": "execute_result"
    }
   ],
   "source": [
    "idclasificados = df['CallID'].unique()\n",
    "len(idclasificados)"
   ]
  },
  {
   "cell_type": "code",
   "execution_count": 115,
   "metadata": {},
   "outputs": [
    {
     "name": "stdout",
     "output_type": "stream",
     "text": [
      "(155, 5)\n",
      "(155, 5)\n"
     ]
    },
    {
     "data": {
      "text/html": [
       "<div>\n",
       "<style scoped>\n",
       "    .dataframe tbody tr th:only-of-type {\n",
       "        vertical-align: middle;\n",
       "    }\n",
       "\n",
       "    .dataframe tbody tr th {\n",
       "        vertical-align: top;\n",
       "    }\n",
       "\n",
       "    .dataframe thead th {\n",
       "        text-align: right;\n",
       "    }\n",
       "</style>\n",
       "<table border=\"1\" class=\"dataframe\">\n",
       "  <thead>\n",
       "    <tr style=\"text-align: right;\">\n",
       "      <th></th>\n",
       "      <th>CallID</th>\n",
       "      <th>Asesor</th>\n",
       "      <th>Cliente</th>\n",
       "      <th>Asesor_l</th>\n",
       "      <th>Cliente_l</th>\n",
       "    </tr>\n",
       "  </thead>\n",
       "  <tbody>\n",
       "    <tr>\n",
       "      <th>0</th>\n",
       "      <td>L1AOU5FFDD5EHCHE5D9QFT12K003QEHN</td>\n",
       "      <td>buenos días mi nombre es julián ospina al señ...</td>\n",
       "      <td>hola señorita muy bien gracias a dios la preg...</td>\n",
       "      <td>buenos días mi nombre es julián ospina al señ...</td>\n",
       "      <td>hola señorita muy bien gracias a dios la preg...</td>\n",
       "    </tr>\n",
       "    <tr>\n",
       "      <th>1</th>\n",
       "      <td>T8DROH1CEH4Q99TTQQ7ENTI6K4013K84</td>\n",
       "      <td>buenos días habla con jessica tengo luz solar...</td>\n",
       "      <td>es muy rara van a llegar no entiendas y tengo...</td>\n",
       "      <td>buenos días habla con jessica tengo luz solar...</td>\n",
       "      <td>es muy rara van a llegar no entiendas y tengo...</td>\n",
       "    </tr>\n",
       "    <tr>\n",
       "      <th>2</th>\n",
       "      <td>TIO7733R3T3NHFEIE9KC3OADV800RT4U</td>\n",
       "      <td>muy buenas tardes dime la línea de tuya mi no...</td>\n",
       "      <td>señor cómo está sentado muy bien gracias mira...</td>\n",
       "      <td>muy buenas tardes dime la línea de tuya mi no...</td>\n",
       "      <td>señor cómo está sentado muy bien gracias mira...</td>\n",
       "    </tr>\n",
       "    <tr>\n",
       "      <th>3</th>\n",
       "      <td>L1AOU5FFDD5EHCHE5D9QFT12K00456K2</td>\n",
       "      <td>buenas tardes mi nombre es laura tengo el gus...</td>\n",
       "      <td>pero lo que pasa es que ando un poco mensaje ...</td>\n",
       "      <td>buenas tardes mi nombre es laura tengo el gus...</td>\n",
       "      <td>pero lo que pasa es que ando un poco mensaje ...</td>\n",
       "    </tr>\n",
       "    <tr>\n",
       "      <th>4</th>\n",
       "      <td>80I4890E4544H1VFVKDLFNILGC04VGUE</td>\n",
       "      <td>hola feliz tarde mi nombre es juan hacedor tu...</td>\n",
       "      <td>buenas tardes mira lo que pasa es que en el c...</td>\n",
       "      <td>hola feliz tarde mi nombre es juan hacedor tu...</td>\n",
       "      <td>buenas tardes mira lo que pasa es que en el c...</td>\n",
       "    </tr>\n",
       "    <tr>\n",
       "      <th>...</th>\n",
       "      <td>...</td>\n",
       "      <td>...</td>\n",
       "      <td>...</td>\n",
       "      <td>...</td>\n",
       "      <td>...</td>\n",
       "    </tr>\n",
       "    <tr>\n",
       "      <th>150</th>\n",
       "      <td>L1AOU5FFDD5EHCHE5D9QFT12K004MRN7</td>\n",
       "      <td>buenas tardes habla con jessica con quien ten...</td>\n",
       "      <td>buenas tardes compañera te hablan acá no en l...</td>\n",
       "      <td>buenas tardes habla con jessica con quien ten...</td>\n",
       "      <td>buenas tardes compañera te hablan acá no en l...</td>\n",
       "    </tr>\n",
       "    <tr>\n",
       "      <th>151</th>\n",
       "      <td>L1AOU5FFDD5EHCHE5D9QFT12K003VS5U</td>\n",
       "      <td>muy buenas tardes habla con esa peña césar de...</td>\n",
       "      <td>amanda rodríguez muy bien gracias a dios buen...</td>\n",
       "      <td>muy buenas tardes habla con esa peña césar de...</td>\n",
       "      <td>amanda rodríguez muy bien gracias a dios buen...</td>\n",
       "    </tr>\n",
       "    <tr>\n",
       "      <th>152</th>\n",
       "      <td>T8DROH1CEH4Q99TTQQ7ENTI6K4016Q9Q</td>\n",
       "      <td>muy buenas tardes le habla maría fernanda mar...</td>\n",
       "      <td>para que llegue patológico ir a maría fernand...</td>\n",
       "      <td>muy buenas tardes le habla maría fernanda mar...</td>\n",
       "      <td>para que llegue patológico ir a maría fernand...</td>\n",
       "    </tr>\n",
       "    <tr>\n",
       "      <th>153</th>\n",
       "      <td>L1AOU5FFDD5EHCHE5D9QFT12K00496BQ</td>\n",
       "      <td>buenas tardes mi nombre es laura tengo el gus...</td>\n",
       "      <td>siri cómo estás laura en atención compañero q...</td>\n",
       "      <td>buenas tardes mi nombre es laura tengo el gus...</td>\n",
       "      <td>siri cómo estás laura en atención compañero q...</td>\n",
       "    </tr>\n",
       "    <tr>\n",
       "      <th>154</th>\n",
       "      <td>1BDJ5HE3VH49BE2DOONBQ25OJC0025OE</td>\n",
       "      <td>buenas tardes habla melisa cosa tengo el gust...</td>\n",
       "      <td>sí cómo no melisa cómo ha estado bien bien me...</td>\n",
       "      <td>buenas tardes habla melisa cosa tengo el gust...</td>\n",
       "      <td>sí cómo no melisa cómo ha estado bien bien me...</td>\n",
       "    </tr>\n",
       "  </tbody>\n",
       "</table>\n",
       "<p>155 rows × 5 columns</p>\n",
       "</div>"
      ],
      "text/plain": [
       "                               CallID  \\\n",
       "0    L1AOU5FFDD5EHCHE5D9QFT12K003QEHN   \n",
       "1    T8DROH1CEH4Q99TTQQ7ENTI6K4013K84   \n",
       "2    TIO7733R3T3NHFEIE9KC3OADV800RT4U   \n",
       "3    L1AOU5FFDD5EHCHE5D9QFT12K00456K2   \n",
       "4    80I4890E4544H1VFVKDLFNILGC04VGUE   \n",
       "..                                ...   \n",
       "150  L1AOU5FFDD5EHCHE5D9QFT12K004MRN7   \n",
       "151  L1AOU5FFDD5EHCHE5D9QFT12K003VS5U   \n",
       "152  T8DROH1CEH4Q99TTQQ7ENTI6K4016Q9Q   \n",
       "153  L1AOU5FFDD5EHCHE5D9QFT12K00496BQ   \n",
       "154  1BDJ5HE3VH49BE2DOONBQ25OJC0025OE   \n",
       "\n",
       "                                                Asesor  \\\n",
       "0     buenos días mi nombre es julián ospina al señ...   \n",
       "1     buenos días habla con jessica tengo luz solar...   \n",
       "2     muy buenas tardes dime la línea de tuya mi no...   \n",
       "3     buenas tardes mi nombre es laura tengo el gus...   \n",
       "4     hola feliz tarde mi nombre es juan hacedor tu...   \n",
       "..                                                 ...   \n",
       "150   buenas tardes habla con jessica con quien ten...   \n",
       "151   muy buenas tardes habla con esa peña césar de...   \n",
       "152   muy buenas tardes le habla maría fernanda mar...   \n",
       "153   buenas tardes mi nombre es laura tengo el gus...   \n",
       "154   buenas tardes habla melisa cosa tengo el gust...   \n",
       "\n",
       "                                               Cliente  \\\n",
       "0     hola señorita muy bien gracias a dios la preg...   \n",
       "1     es muy rara van a llegar no entiendas y tengo...   \n",
       "2     señor cómo está sentado muy bien gracias mira...   \n",
       "3     pero lo que pasa es que ando un poco mensaje ...   \n",
       "4     buenas tardes mira lo que pasa es que en el c...   \n",
       "..                                                 ...   \n",
       "150   buenas tardes compañera te hablan acá no en l...   \n",
       "151   amanda rodríguez muy bien gracias a dios buen...   \n",
       "152   para que llegue patológico ir a maría fernand...   \n",
       "153   siri cómo estás laura en atención compañero q...   \n",
       "154   sí cómo no melisa cómo ha estado bien bien me...   \n",
       "\n",
       "                                              Asesor_l  \\\n",
       "0     buenos días mi nombre es julián ospina al señ...   \n",
       "1     buenos días habla con jessica tengo luz solar...   \n",
       "2     muy buenas tardes dime la línea de tuya mi no...   \n",
       "3     buenas tardes mi nombre es laura tengo el gus...   \n",
       "4     hola feliz tarde mi nombre es juan hacedor tu...   \n",
       "..                                                 ...   \n",
       "150   buenas tardes habla con jessica con quien ten...   \n",
       "151   muy buenas tardes habla con esa peña césar de...   \n",
       "152   muy buenas tardes le habla maría fernanda mar...   \n",
       "153   buenas tardes mi nombre es laura tengo el gus...   \n",
       "154   buenas tardes habla melisa cosa tengo el gust...   \n",
       "\n",
       "                                             Cliente_l  \n",
       "0     hola señorita muy bien gracias a dios la preg...  \n",
       "1     es muy rara van a llegar no entiendas y tengo...  \n",
       "2     señor cómo está sentado muy bien gracias mira...  \n",
       "3     pero lo que pasa es que ando un poco mensaje ...  \n",
       "4     buenas tardes mira lo que pasa es que en el c...  \n",
       "..                                                 ...  \n",
       "150   buenas tardes compañera te hablan acá no en l...  \n",
       "151   amanda rodríguez muy bien gracias a dios buen...  \n",
       "152   para que llegue patológico ir a maría fernand...  \n",
       "153   siri cómo estás laura en atención compañero q...  \n",
       "154   sí cómo no melisa cómo ha estado bien bien me...  \n",
       "\n",
       "[155 rows x 5 columns]"
      ]
     },
     "execution_count": 115,
     "metadata": {},
     "output_type": "execute_result"
    }
   ],
   "source": [
    "#conversacion = pd.read_excel('perulapropia.xlsx', sheet_name='concat')\n",
    "topicosconsul = concat\n",
    "#topicosconsul = conversacion[conversacion['Canal'] == 'Consultora']\n",
    "topicosconsul = topicosconsul[topicosconsul['CallID'].isin(idtipo)] #### 1 advertencias: primero haber ejectuado la seccion Tipo producto #Comentar en caso de no realizar topicos generales\n",
    "print(topicosconsul.shape)\n",
    "topicosconsul = topicosconsul[topicosconsul['CallID'].isin(idclasificados)== False].reset_index(drop=True) ############\n",
    "print(topicosconsul.shape)\n",
    "topicosconsul"
   ]
  },
  {
   "cell_type": "code",
   "execution_count": 116,
   "metadata": {},
   "outputs": [
    {
     "data": {
      "text/html": [
       "<div>\n",
       "<style scoped>\n",
       "    .dataframe tbody tr th:only-of-type {\n",
       "        vertical-align: middle;\n",
       "    }\n",
       "\n",
       "    .dataframe tbody tr th {\n",
       "        vertical-align: top;\n",
       "    }\n",
       "\n",
       "    .dataframe thead th {\n",
       "        text-align: right;\n",
       "    }\n",
       "</style>\n",
       "<table border=\"1\" class=\"dataframe\">\n",
       "  <thead>\n",
       "    <tr style=\"text-align: right;\">\n",
       "      <th></th>\n",
       "      <th>CallID</th>\n",
       "      <th>Asesor</th>\n",
       "      <th>Cliente</th>\n",
       "      <th>Asesor_l</th>\n",
       "      <th>Cliente_l</th>\n",
       "      <th>Problemas con la tecnología</th>\n",
       "    </tr>\n",
       "  </thead>\n",
       "  <tbody>\n",
       "    <tr>\n",
       "      <th>0</th>\n",
       "      <td>L1AOU5FFDD5EHCHE5D9QFT12K003QEHN</td>\n",
       "      <td>buenos días mi nombre es julián ospina al señ...</td>\n",
       "      <td>hola señorita muy bien gracias a dios la preg...</td>\n",
       "      <td>buenos días mi nombre es julián ospina al señ...</td>\n",
       "      <td>hola señorita muy bien gracias a dios la preg...</td>\n",
       "      <td>No registra valor a pagar de forma virtual</td>\n",
       "    </tr>\n",
       "    <tr>\n",
       "      <th>1</th>\n",
       "      <td>T8DROH1CEH4Q99TTQQ7ENTI6K4013K84</td>\n",
       "      <td>buenos días habla con jessica tengo luz solar...</td>\n",
       "      <td>es muy rara van a llegar no entiendas y tengo...</td>\n",
       "      <td>buenos días habla con jessica tengo luz solar...</td>\n",
       "      <td>es muy rara van a llegar no entiendas y tengo...</td>\n",
       "      <td>No registra valor a pagar de forma virtual</td>\n",
       "    </tr>\n",
       "    <tr>\n",
       "      <th>2</th>\n",
       "      <td>TIO7733R3T3NHFEIE9KC3OADV800RT4U</td>\n",
       "      <td>muy buenas tardes dime la línea de tuya mi no...</td>\n",
       "      <td>señor cómo está sentado muy bien gracias mira...</td>\n",
       "      <td>muy buenas tardes dime la línea de tuya mi no...</td>\n",
       "      <td>señor cómo está sentado muy bien gracias mira...</td>\n",
       "      <td>No registra valor a pagar de forma virtual</td>\n",
       "    </tr>\n",
       "    <tr>\n",
       "      <th>3</th>\n",
       "      <td>L1AOU5FFDD5EHCHE5D9QFT12K00456K2</td>\n",
       "      <td>buenas tardes mi nombre es laura tengo el gus...</td>\n",
       "      <td>pero lo que pasa es que ando un poco mensaje ...</td>\n",
       "      <td>buenas tardes mi nombre es laura tengo el gus...</td>\n",
       "      <td>pero lo que pasa es que ando un poco mensaje ...</td>\n",
       "      <td>No registra valor a pagar de forma virtual</td>\n",
       "    </tr>\n",
       "    <tr>\n",
       "      <th>4</th>\n",
       "      <td>80I4890E4544H1VFVKDLFNILGC04VGUE</td>\n",
       "      <td>hola feliz tarde mi nombre es juan hacedor tu...</td>\n",
       "      <td>buenas tardes mira lo que pasa es que en el c...</td>\n",
       "      <td>hola feliz tarde mi nombre es juan hacedor tu...</td>\n",
       "      <td>buenas tardes mira lo que pasa es que en el c...</td>\n",
       "      <td>No registra valor a pagar de forma virtual</td>\n",
       "    </tr>\n",
       "    <tr>\n",
       "      <th>...</th>\n",
       "      <td>...</td>\n",
       "      <td>...</td>\n",
       "      <td>...</td>\n",
       "      <td>...</td>\n",
       "      <td>...</td>\n",
       "      <td>...</td>\n",
       "    </tr>\n",
       "    <tr>\n",
       "      <th>150</th>\n",
       "      <td>L1AOU5FFDD5EHCHE5D9QFT12K004MRN7</td>\n",
       "      <td>buenas tardes habla con jessica con quien ten...</td>\n",
       "      <td>buenas tardes compañera te hablan acá no en l...</td>\n",
       "      <td>buenas tardes habla con jessica con quien ten...</td>\n",
       "      <td>buenas tardes compañera te hablan acá no en l...</td>\n",
       "      <td>No registra valor a pagar de forma virtual</td>\n",
       "    </tr>\n",
       "    <tr>\n",
       "      <th>151</th>\n",
       "      <td>L1AOU5FFDD5EHCHE5D9QFT12K003VS5U</td>\n",
       "      <td>muy buenas tardes habla con esa peña césar de...</td>\n",
       "      <td>amanda rodríguez muy bien gracias a dios buen...</td>\n",
       "      <td>muy buenas tardes habla con esa peña césar de...</td>\n",
       "      <td>amanda rodríguez muy bien gracias a dios buen...</td>\n",
       "      <td>No registra valor a pagar de forma virtual</td>\n",
       "    </tr>\n",
       "    <tr>\n",
       "      <th>152</th>\n",
       "      <td>T8DROH1CEH4Q99TTQQ7ENTI6K4016Q9Q</td>\n",
       "      <td>muy buenas tardes le habla maría fernanda mar...</td>\n",
       "      <td>para que llegue patológico ir a maría fernand...</td>\n",
       "      <td>muy buenas tardes le habla maría fernanda mar...</td>\n",
       "      <td>para que llegue patológico ir a maría fernand...</td>\n",
       "      <td>No registra valor a pagar de forma virtual</td>\n",
       "    </tr>\n",
       "    <tr>\n",
       "      <th>153</th>\n",
       "      <td>L1AOU5FFDD5EHCHE5D9QFT12K00496BQ</td>\n",
       "      <td>buenas tardes mi nombre es laura tengo el gus...</td>\n",
       "      <td>siri cómo estás laura en atención compañero q...</td>\n",
       "      <td>buenas tardes mi nombre es laura tengo el gus...</td>\n",
       "      <td>siri cómo estás laura en atención compañero q...</td>\n",
       "      <td>No registra valor a pagar de forma virtual</td>\n",
       "    </tr>\n",
       "    <tr>\n",
       "      <th>154</th>\n",
       "      <td>1BDJ5HE3VH49BE2DOONBQ25OJC0025OE</td>\n",
       "      <td>buenas tardes habla melisa cosa tengo el gust...</td>\n",
       "      <td>sí cómo no melisa cómo ha estado bien bien me...</td>\n",
       "      <td>buenas tardes habla melisa cosa tengo el gust...</td>\n",
       "      <td>sí cómo no melisa cómo ha estado bien bien me...</td>\n",
       "      <td>No registra valor a pagar de forma virtual</td>\n",
       "    </tr>\n",
       "  </tbody>\n",
       "</table>\n",
       "<p>155 rows × 6 columns</p>\n",
       "</div>"
      ],
      "text/plain": [
       "                               CallID  \\\n",
       "0    L1AOU5FFDD5EHCHE5D9QFT12K003QEHN   \n",
       "1    T8DROH1CEH4Q99TTQQ7ENTI6K4013K84   \n",
       "2    TIO7733R3T3NHFEIE9KC3OADV800RT4U   \n",
       "3    L1AOU5FFDD5EHCHE5D9QFT12K00456K2   \n",
       "4    80I4890E4544H1VFVKDLFNILGC04VGUE   \n",
       "..                                ...   \n",
       "150  L1AOU5FFDD5EHCHE5D9QFT12K004MRN7   \n",
       "151  L1AOU5FFDD5EHCHE5D9QFT12K003VS5U   \n",
       "152  T8DROH1CEH4Q99TTQQ7ENTI6K4016Q9Q   \n",
       "153  L1AOU5FFDD5EHCHE5D9QFT12K00496BQ   \n",
       "154  1BDJ5HE3VH49BE2DOONBQ25OJC0025OE   \n",
       "\n",
       "                                                Asesor  \\\n",
       "0     buenos días mi nombre es julián ospina al señ...   \n",
       "1     buenos días habla con jessica tengo luz solar...   \n",
       "2     muy buenas tardes dime la línea de tuya mi no...   \n",
       "3     buenas tardes mi nombre es laura tengo el gus...   \n",
       "4     hola feliz tarde mi nombre es juan hacedor tu...   \n",
       "..                                                 ...   \n",
       "150   buenas tardes habla con jessica con quien ten...   \n",
       "151   muy buenas tardes habla con esa peña césar de...   \n",
       "152   muy buenas tardes le habla maría fernanda mar...   \n",
       "153   buenas tardes mi nombre es laura tengo el gus...   \n",
       "154   buenas tardes habla melisa cosa tengo el gust...   \n",
       "\n",
       "                                               Cliente  \\\n",
       "0     hola señorita muy bien gracias a dios la preg...   \n",
       "1     es muy rara van a llegar no entiendas y tengo...   \n",
       "2     señor cómo está sentado muy bien gracias mira...   \n",
       "3     pero lo que pasa es que ando un poco mensaje ...   \n",
       "4     buenas tardes mira lo que pasa es que en el c...   \n",
       "..                                                 ...   \n",
       "150   buenas tardes compañera te hablan acá no en l...   \n",
       "151   amanda rodríguez muy bien gracias a dios buen...   \n",
       "152   para que llegue patológico ir a maría fernand...   \n",
       "153   siri cómo estás laura en atención compañero q...   \n",
       "154   sí cómo no melisa cómo ha estado bien bien me...   \n",
       "\n",
       "                                              Asesor_l  \\\n",
       "0     buenos días mi nombre es julián ospina al señ...   \n",
       "1     buenos días habla con jessica tengo luz solar...   \n",
       "2     muy buenas tardes dime la línea de tuya mi no...   \n",
       "3     buenas tardes mi nombre es laura tengo el gus...   \n",
       "4     hola feliz tarde mi nombre es juan hacedor tu...   \n",
       "..                                                 ...   \n",
       "150   buenas tardes habla con jessica con quien ten...   \n",
       "151   muy buenas tardes habla con esa peña césar de...   \n",
       "152   muy buenas tardes le habla maría fernanda mar...   \n",
       "153   buenas tardes mi nombre es laura tengo el gus...   \n",
       "154   buenas tardes habla melisa cosa tengo el gust...   \n",
       "\n",
       "                                             Cliente_l  \\\n",
       "0     hola señorita muy bien gracias a dios la preg...   \n",
       "1     es muy rara van a llegar no entiendas y tengo...   \n",
       "2     señor cómo está sentado muy bien gracias mira...   \n",
       "3     pero lo que pasa es que ando un poco mensaje ...   \n",
       "4     buenas tardes mira lo que pasa es que en el c...   \n",
       "..                                                 ...   \n",
       "150   buenas tardes compañera te hablan acá no en l...   \n",
       "151   amanda rodríguez muy bien gracias a dios buen...   \n",
       "152   para que llegue patológico ir a maría fernand...   \n",
       "153   siri cómo estás laura en atención compañero q...   \n",
       "154   sí cómo no melisa cómo ha estado bien bien me...   \n",
       "\n",
       "                    Problemas con la tecnología  \n",
       "0    No registra valor a pagar de forma virtual  \n",
       "1    No registra valor a pagar de forma virtual  \n",
       "2    No registra valor a pagar de forma virtual  \n",
       "3    No registra valor a pagar de forma virtual  \n",
       "4    No registra valor a pagar de forma virtual  \n",
       "..                                          ...  \n",
       "150  No registra valor a pagar de forma virtual  \n",
       "151  No registra valor a pagar de forma virtual  \n",
       "152  No registra valor a pagar de forma virtual  \n",
       "153  No registra valor a pagar de forma virtual  \n",
       "154  No registra valor a pagar de forma virtual  \n",
       "\n",
       "[155 rows x 6 columns]"
      ]
     },
     "execution_count": 116,
     "metadata": {},
     "output_type": "execute_result"
    }
   ],
   "source": [
    "datos = topicosconsul[\"Cliente_l\"].values\n",
    "topicosconsul[clasificacion] = red.predict(count_vect.transform(datos))\n",
    "topicosconsul"
   ]
  },
  {
   "cell_type": "markdown",
   "metadata": {},
   "source": [
    "#### Concatenar Bases"
   ]
  },
  {
   "cell_type": "code",
   "execution_count": 117,
   "metadata": {},
   "outputs": [
    {
     "data": {
      "text/plain": [
       "6"
      ]
     },
     "execution_count": 117,
     "metadata": {},
     "output_type": "execute_result"
    }
   ],
   "source": [
    "clasificada = concat[concat['CallID'].isin(idclasificados)].reset_index(drop=True)\n",
    "len(clasificada)"
   ]
  },
  {
   "cell_type": "code",
   "execution_count": 118,
   "metadata": {},
   "outputs": [
    {
     "data": {
      "text/plain": [
       "6"
      ]
     },
     "execution_count": 118,
     "metadata": {},
     "output_type": "execute_result"
    }
   ],
   "source": [
    "pivot = data[['CallID', clasificacion]]\n",
    "clasdic = clasificada.merge(pivot, on='CallID', how='left')\n",
    "len(clasdic)"
   ]
  },
  {
   "cell_type": "code",
   "execution_count": 119,
   "metadata": {},
   "outputs": [
    {
     "data": {
      "text/plain": [
       "0"
      ]
     },
     "execution_count": 119,
     "metadata": {},
     "output_type": "execute_result"
    }
   ],
   "source": [
    "clasdic[clasificacion].isnull().sum()"
   ]
  },
  {
   "cell_type": "code",
   "execution_count": 120,
   "metadata": {},
   "outputs": [],
   "source": [
    "dffinal = pd.concat([clasdic, topicosconsul]).reset_index(drop=True)"
   ]
  },
  {
   "cell_type": "markdown",
   "metadata": {},
   "source": [
    "#### Validación"
   ]
  },
  {
   "cell_type": "code",
   "execution_count": 121,
   "metadata": {},
   "outputs": [
    {
     "name": "stdout",
     "output_type": "stream",
     "text": [
      "No registra valor a pagar de forma virtual                       0.782609\n",
      "No le llega el MSM de clave monitoreo OTP: Demora para llegar    0.186335\n",
      "Fallas en aplicativos: Lentitud por actualización de sistema     0.024845\n",
      "Calidad del audio en llamada                                     0.006211\n",
      "Name: Problemas con la tecnología, dtype: float64\n"
     ]
    }
   ],
   "source": [
    "print(dffinal[clasificacion].value_counts(normalize=True)) "
   ]
  },
  {
   "cell_type": "code",
   "execution_count": 122,
   "metadata": {},
   "outputs": [
    {
     "name": "stdout",
     "output_type": "stream",
     "text": [
      "No registra valor a pagar de forma virtual                       0.333333\n",
      "Fallas en aplicativos: Lentitud por actualización de sistema     0.333333\n",
      "Calidad del audio en llamada                                     0.166667\n",
      "No le llega el MSM de clave monitoreo OTP: Demora para llegar    0.166667\n",
      "Name: Problemas con la tecnología, dtype: float64\n"
     ]
    }
   ],
   "source": [
    "print(data[clasificacion].value_counts(normalize=True))"
   ]
  },
  {
   "cell_type": "code",
   "execution_count": 123,
   "metadata": {},
   "outputs": [],
   "source": [
    "dffinal.to_excel('D:/Proyecto Speech Tuya/Clasificación/Pago minimo y pago total - tecnología.xlsx') ## exportar archivo"
   ]
  },
  {
   "cell_type": "markdown",
   "metadata": {},
   "source": [
    "### Solicitud de certificados marca privada - Problemas con el Proceso"
   ]
  },
  {
   "cell_type": "code",
   "execution_count": 124,
   "metadata": {},
   "outputs": [],
   "source": [
    "data = concat.merge(diccionarios, on='CallID', how='left')"
   ]
  },
  {
   "cell_type": "code",
   "execution_count": 125,
   "metadata": {},
   "outputs": [],
   "source": [
    "data = data[['CallID', 'Asesor', 'Cliente', 'Asesor_l', 'Cliente_l', 'Fecha', \n",
    "       'CodFinalización', 'Productos', 'Problemas con el proceso',\n",
    "       'Problemas con la tecnología', 'Impacto la satisfacción',\n",
    "       'Pérfil Cliente', 'Chismes', 'Observaciones']]\n",
    "\n",
    "data.index = range(data.shape[0])"
   ]
  },
  {
   "cell_type": "code",
   "execution_count": 126,
   "metadata": {},
   "outputs": [
    {
     "name": "stdout",
     "output_type": "stream",
     "text": [
      "169\n"
     ]
    }
   ],
   "source": [
    "data = data[data['CodFinalización'] == 'solicitud de certificados marca privada'] ######## 1 Cambio filtro #Comentarear en caso de hacer tópicos generales\n",
    "clasificacion = 'Problemas con el proceso' ###### 2 Cambio la columna a entrenas #'Expectativa no cubierta' #'Problemas con el producto' #'Usabilidad'\n",
    "data.dropna(subset=[clasificacion], inplace=True)\n",
    "data.reset_index(drop=True, inplace=True)\n",
    "print(len(data))\n",
    "#data[clasificacion].value_counts()"
   ]
  },
  {
   "cell_type": "code",
   "execution_count": 127,
   "metadata": {},
   "outputs": [],
   "source": [
    "df = data.copy()\n",
    "for i in range(1,1): ######### 3 Cambio\n",
    "    df = pd.concat([df,data])"
   ]
  },
  {
   "cell_type": "markdown",
   "metadata": {},
   "source": [
    "#### Red Neuronal"
   ]
  },
  {
   "cell_type": "code",
   "execution_count": 129,
   "metadata": {},
   "outputs": [],
   "source": [
    "datos = df.Cliente_l\n",
    "tipificaciones=df[clasificacion]\n",
    "\n",
    "X_train, X_test, y_train, y_test = train_test_split(datos, tipificaciones)\n",
    "count_vect = CountVectorizer()\n",
    "X_train_counts = count_vect.fit_transform(X_train)\n",
    "tfidf_transformer = TfidfTransformer()\n",
    "X_train_tfidf = tfidf_transformer.fit_transform(X_train_counts)"
   ]
  },
  {
   "cell_type": "code",
   "execution_count": 130,
   "metadata": {},
   "outputs": [
    {
     "name": "stderr",
     "output_type": "stream",
     "text": [
      "C:\\Users\\dgarmor\\.conda\\envs\\Environments\\lib\\site-packages\\sklearn\\neural_network\\_multilayer_perceptron.py:585: ConvergenceWarning: Stochastic Optimizer: Maximum iterations (512) reached and the optimization hasn't converged yet.\n",
      "  % self.max_iter, ConvergenceWarning)\n"
     ]
    },
    {
     "data": {
      "text/plain": [
       "MLPClassifier(hidden_layer_sizes=5, max_iter=512)"
      ]
     },
     "execution_count": 130,
     "metadata": {},
     "output_type": "execute_result"
    }
   ],
   "source": [
    "red=MLPClassifier(max_iter=512, hidden_layer_sizes=(5)) \n",
    "red.fit(X_train_tfidf, y_train)"
   ]
  },
  {
   "cell_type": "code",
   "execution_count": 131,
   "metadata": {},
   "outputs": [
    {
     "data": {
      "text/plain": [
       "0.9365079365079365"
      ]
     },
     "execution_count": 131,
     "metadata": {},
     "output_type": "execute_result"
    }
   ],
   "source": [
    "red.score(X_train_tfidf, y_train)"
   ]
  },
  {
   "cell_type": "code",
   "execution_count": 132,
   "metadata": {},
   "outputs": [
    {
     "data": {
      "text/plain": [
       "168"
      ]
     },
     "execution_count": 132,
     "metadata": {},
     "output_type": "execute_result"
    }
   ],
   "source": [
    "idclasificados = df['CallID'].unique()\n",
    "len(idclasificados)"
   ]
  },
  {
   "cell_type": "code",
   "execution_count": 133,
   "metadata": {},
   "outputs": [
    {
     "name": "stdout",
     "output_type": "stream",
     "text": [
      "(155, 5)\n",
      "(155, 5)\n"
     ]
    }
   ],
   "source": [
    "#conversacion = pd.read_excel('perulapropia.xlsx', sheet_name='concat')\n",
    "topicosconsul = concat\n",
    "#topicosconsul = conversacion[conversacion['Canal'] == 'Consultora']\n",
    "topicosconsul = topicosconsul[topicosconsul['CallID'].isin(idtipo)] #### 1 advertencias: primero haber ejectuado la seccion Tipo producto #Comentar en caso de no realizar topicos generales\n",
    "print(topicosconsul.shape)\n",
    "topicosconsul = topicosconsul[topicosconsul['CallID'].isin(idclasificados)== False].reset_index(drop=True) ############\n",
    "print(topicosconsul.shape)"
   ]
  },
  {
   "cell_type": "code",
   "execution_count": 134,
   "metadata": {},
   "outputs": [
    {
     "data": {
      "text/html": [
       "<div>\n",
       "<style scoped>\n",
       "    .dataframe tbody tr th:only-of-type {\n",
       "        vertical-align: middle;\n",
       "    }\n",
       "\n",
       "    .dataframe tbody tr th {\n",
       "        vertical-align: top;\n",
       "    }\n",
       "\n",
       "    .dataframe thead th {\n",
       "        text-align: right;\n",
       "    }\n",
       "</style>\n",
       "<table border=\"1\" class=\"dataframe\">\n",
       "  <thead>\n",
       "    <tr style=\"text-align: right;\">\n",
       "      <th></th>\n",
       "      <th>CallID</th>\n",
       "      <th>Asesor</th>\n",
       "      <th>Cliente</th>\n",
       "      <th>Asesor_l</th>\n",
       "      <th>Cliente_l</th>\n",
       "      <th>Problemas con el proceso</th>\n",
       "    </tr>\n",
       "  </thead>\n",
       "  <tbody>\n",
       "    <tr>\n",
       "      <th>0</th>\n",
       "      <td>L1AOU5FFDD5EHCHE5D9QFT12K003QEHN</td>\n",
       "      <td>buenos días mi nombre es julián ospina al señ...</td>\n",
       "      <td>hola señorita muy bien gracias a dios la preg...</td>\n",
       "      <td>buenos días mi nombre es julián ospina al señ...</td>\n",
       "      <td>hola señorita muy bien gracias a dios la preg...</td>\n",
       "      <td>Cliente solicita certificado: paz y salvo</td>\n",
       "    </tr>\n",
       "    <tr>\n",
       "      <th>1</th>\n",
       "      <td>T8DROH1CEH4Q99TTQQ7ENTI6K4013K84</td>\n",
       "      <td>buenos días habla con jessica tengo luz solar...</td>\n",
       "      <td>es muy rara van a llegar no entiendas y tengo...</td>\n",
       "      <td>buenos días habla con jessica tengo luz solar...</td>\n",
       "      <td>es muy rara van a llegar no entiendas y tengo...</td>\n",
       "      <td>Cliente solicita certificado: paz y salvo</td>\n",
       "    </tr>\n",
       "    <tr>\n",
       "      <th>2</th>\n",
       "      <td>TIO7733R3T3NHFEIE9KC3OADV800RT4U</td>\n",
       "      <td>muy buenas tardes dime la línea de tuya mi no...</td>\n",
       "      <td>señor cómo está sentado muy bien gracias mira...</td>\n",
       "      <td>muy buenas tardes dime la línea de tuya mi no...</td>\n",
       "      <td>señor cómo está sentado muy bien gracias mira...</td>\n",
       "      <td>Cliente solicita certificado: paz y salvo</td>\n",
       "    </tr>\n",
       "    <tr>\n",
       "      <th>3</th>\n",
       "      <td>L1AOU5FFDD5EHCHE5D9QFT12K00456K2</td>\n",
       "      <td>buenas tardes mi nombre es laura tengo el gus...</td>\n",
       "      <td>pero lo que pasa es que ando un poco mensaje ...</td>\n",
       "      <td>buenas tardes mi nombre es laura tengo el gus...</td>\n",
       "      <td>pero lo que pasa es que ando un poco mensaje ...</td>\n",
       "      <td>Cliente solicita certificado: paz y salvo</td>\n",
       "    </tr>\n",
       "    <tr>\n",
       "      <th>4</th>\n",
       "      <td>80I4890E4544H1VFVKDLFNILGC04VGUE</td>\n",
       "      <td>hola feliz tarde mi nombre es juan hacedor tu...</td>\n",
       "      <td>buenas tardes mira lo que pasa es que en el c...</td>\n",
       "      <td>hola feliz tarde mi nombre es juan hacedor tu...</td>\n",
       "      <td>buenas tardes mira lo que pasa es que en el c...</td>\n",
       "      <td>Cliente solicita certificado: paz y salvo</td>\n",
       "    </tr>\n",
       "    <tr>\n",
       "      <th>...</th>\n",
       "      <td>...</td>\n",
       "      <td>...</td>\n",
       "      <td>...</td>\n",
       "      <td>...</td>\n",
       "      <td>...</td>\n",
       "      <td>...</td>\n",
       "    </tr>\n",
       "    <tr>\n",
       "      <th>150</th>\n",
       "      <td>L1AOU5FFDD5EHCHE5D9QFT12K004MRN7</td>\n",
       "      <td>buenas tardes habla con jessica con quien ten...</td>\n",
       "      <td>buenas tardes compañera te hablan acá no en l...</td>\n",
       "      <td>buenas tardes habla con jessica con quien ten...</td>\n",
       "      <td>buenas tardes compañera te hablan acá no en l...</td>\n",
       "      <td>Cliente solicita certificado: paz y salvo</td>\n",
       "    </tr>\n",
       "    <tr>\n",
       "      <th>151</th>\n",
       "      <td>L1AOU5FFDD5EHCHE5D9QFT12K003VS5U</td>\n",
       "      <td>muy buenas tardes habla con esa peña césar de...</td>\n",
       "      <td>amanda rodríguez muy bien gracias a dios buen...</td>\n",
       "      <td>muy buenas tardes habla con esa peña césar de...</td>\n",
       "      <td>amanda rodríguez muy bien gracias a dios buen...</td>\n",
       "      <td>Cliente solicita certificado: paz y salvo</td>\n",
       "    </tr>\n",
       "    <tr>\n",
       "      <th>152</th>\n",
       "      <td>T8DROH1CEH4Q99TTQQ7ENTI6K4016Q9Q</td>\n",
       "      <td>muy buenas tardes le habla maría fernanda mar...</td>\n",
       "      <td>para que llegue patológico ir a maría fernand...</td>\n",
       "      <td>muy buenas tardes le habla maría fernanda mar...</td>\n",
       "      <td>para que llegue patológico ir a maría fernand...</td>\n",
       "      <td>Cliente solicita certificado: paz y salvo</td>\n",
       "    </tr>\n",
       "    <tr>\n",
       "      <th>153</th>\n",
       "      <td>L1AOU5FFDD5EHCHE5D9QFT12K00496BQ</td>\n",
       "      <td>buenas tardes mi nombre es laura tengo el gus...</td>\n",
       "      <td>siri cómo estás laura en atención compañero q...</td>\n",
       "      <td>buenas tardes mi nombre es laura tengo el gus...</td>\n",
       "      <td>siri cómo estás laura en atención compañero q...</td>\n",
       "      <td>Cliente solicita certificado: paz y salvo</td>\n",
       "    </tr>\n",
       "    <tr>\n",
       "      <th>154</th>\n",
       "      <td>1BDJ5HE3VH49BE2DOONBQ25OJC0025OE</td>\n",
       "      <td>buenas tardes habla melisa cosa tengo el gust...</td>\n",
       "      <td>sí cómo no melisa cómo ha estado bien bien me...</td>\n",
       "      <td>buenas tardes habla melisa cosa tengo el gust...</td>\n",
       "      <td>sí cómo no melisa cómo ha estado bien bien me...</td>\n",
       "      <td>Cliente solicita certificado: paz y salvo</td>\n",
       "    </tr>\n",
       "  </tbody>\n",
       "</table>\n",
       "<p>155 rows × 6 columns</p>\n",
       "</div>"
      ],
      "text/plain": [
       "                               CallID  \\\n",
       "0    L1AOU5FFDD5EHCHE5D9QFT12K003QEHN   \n",
       "1    T8DROH1CEH4Q99TTQQ7ENTI6K4013K84   \n",
       "2    TIO7733R3T3NHFEIE9KC3OADV800RT4U   \n",
       "3    L1AOU5FFDD5EHCHE5D9QFT12K00456K2   \n",
       "4    80I4890E4544H1VFVKDLFNILGC04VGUE   \n",
       "..                                ...   \n",
       "150  L1AOU5FFDD5EHCHE5D9QFT12K004MRN7   \n",
       "151  L1AOU5FFDD5EHCHE5D9QFT12K003VS5U   \n",
       "152  T8DROH1CEH4Q99TTQQ7ENTI6K4016Q9Q   \n",
       "153  L1AOU5FFDD5EHCHE5D9QFT12K00496BQ   \n",
       "154  1BDJ5HE3VH49BE2DOONBQ25OJC0025OE   \n",
       "\n",
       "                                                Asesor  \\\n",
       "0     buenos días mi nombre es julián ospina al señ...   \n",
       "1     buenos días habla con jessica tengo luz solar...   \n",
       "2     muy buenas tardes dime la línea de tuya mi no...   \n",
       "3     buenas tardes mi nombre es laura tengo el gus...   \n",
       "4     hola feliz tarde mi nombre es juan hacedor tu...   \n",
       "..                                                 ...   \n",
       "150   buenas tardes habla con jessica con quien ten...   \n",
       "151   muy buenas tardes habla con esa peña césar de...   \n",
       "152   muy buenas tardes le habla maría fernanda mar...   \n",
       "153   buenas tardes mi nombre es laura tengo el gus...   \n",
       "154   buenas tardes habla melisa cosa tengo el gust...   \n",
       "\n",
       "                                               Cliente  \\\n",
       "0     hola señorita muy bien gracias a dios la preg...   \n",
       "1     es muy rara van a llegar no entiendas y tengo...   \n",
       "2     señor cómo está sentado muy bien gracias mira...   \n",
       "3     pero lo que pasa es que ando un poco mensaje ...   \n",
       "4     buenas tardes mira lo que pasa es que en el c...   \n",
       "..                                                 ...   \n",
       "150   buenas tardes compañera te hablan acá no en l...   \n",
       "151   amanda rodríguez muy bien gracias a dios buen...   \n",
       "152   para que llegue patológico ir a maría fernand...   \n",
       "153   siri cómo estás laura en atención compañero q...   \n",
       "154   sí cómo no melisa cómo ha estado bien bien me...   \n",
       "\n",
       "                                              Asesor_l  \\\n",
       "0     buenos días mi nombre es julián ospina al señ...   \n",
       "1     buenos días habla con jessica tengo luz solar...   \n",
       "2     muy buenas tardes dime la línea de tuya mi no...   \n",
       "3     buenas tardes mi nombre es laura tengo el gus...   \n",
       "4     hola feliz tarde mi nombre es juan hacedor tu...   \n",
       "..                                                 ...   \n",
       "150   buenas tardes habla con jessica con quien ten...   \n",
       "151   muy buenas tardes habla con esa peña césar de...   \n",
       "152   muy buenas tardes le habla maría fernanda mar...   \n",
       "153   buenas tardes mi nombre es laura tengo el gus...   \n",
       "154   buenas tardes habla melisa cosa tengo el gust...   \n",
       "\n",
       "                                             Cliente_l  \\\n",
       "0     hola señorita muy bien gracias a dios la preg...   \n",
       "1     es muy rara van a llegar no entiendas y tengo...   \n",
       "2     señor cómo está sentado muy bien gracias mira...   \n",
       "3     pero lo que pasa es que ando un poco mensaje ...   \n",
       "4     buenas tardes mira lo que pasa es que en el c...   \n",
       "..                                                 ...   \n",
       "150   buenas tardes compañera te hablan acá no en l...   \n",
       "151   amanda rodríguez muy bien gracias a dios buen...   \n",
       "152   para que llegue patológico ir a maría fernand...   \n",
       "153   siri cómo estás laura en atención compañero q...   \n",
       "154   sí cómo no melisa cómo ha estado bien bien me...   \n",
       "\n",
       "                      Problemas con el proceso  \n",
       "0    Cliente solicita certificado: paz y salvo  \n",
       "1    Cliente solicita certificado: paz y salvo  \n",
       "2    Cliente solicita certificado: paz y salvo  \n",
       "3    Cliente solicita certificado: paz y salvo  \n",
       "4    Cliente solicita certificado: paz y salvo  \n",
       "..                                         ...  \n",
       "150  Cliente solicita certificado: paz y salvo  \n",
       "151  Cliente solicita certificado: paz y salvo  \n",
       "152  Cliente solicita certificado: paz y salvo  \n",
       "153  Cliente solicita certificado: paz y salvo  \n",
       "154  Cliente solicita certificado: paz y salvo  \n",
       "\n",
       "[155 rows x 6 columns]"
      ]
     },
     "execution_count": 134,
     "metadata": {},
     "output_type": "execute_result"
    }
   ],
   "source": [
    "datos = topicosconsul[\"Cliente_l\"].values\n",
    "topicosconsul[clasificacion] = red.predict(count_vect.transform(datos))\n",
    "topicosconsul"
   ]
  },
  {
   "cell_type": "markdown",
   "metadata": {},
   "source": [
    "#### Concatenar Bases"
   ]
  },
  {
   "cell_type": "code",
   "execution_count": 135,
   "metadata": {},
   "outputs": [
    {
     "data": {
      "text/plain": [
       "168"
      ]
     },
     "execution_count": 135,
     "metadata": {},
     "output_type": "execute_result"
    }
   ],
   "source": [
    "clasificada = concat[concat['CallID'].isin(idclasificados)].reset_index(drop=True)\n",
    "len(clasificada)"
   ]
  },
  {
   "cell_type": "code",
   "execution_count": 136,
   "metadata": {},
   "outputs": [
    {
     "data": {
      "text/plain": [
       "169"
      ]
     },
     "execution_count": 136,
     "metadata": {},
     "output_type": "execute_result"
    }
   ],
   "source": [
    "pivot = data[['CallID', clasificacion]]\n",
    "clasdic = clasificada.merge(pivot, on='CallID', how='left')\n",
    "len(clasdic)"
   ]
  },
  {
   "cell_type": "code",
   "execution_count": 137,
   "metadata": {},
   "outputs": [
    {
     "data": {
      "text/plain": [
       "0"
      ]
     },
     "execution_count": 137,
     "metadata": {},
     "output_type": "execute_result"
    }
   ],
   "source": [
    "clasdic[clasificacion].isnull().sum()"
   ]
  },
  {
   "cell_type": "code",
   "execution_count": 138,
   "metadata": {},
   "outputs": [],
   "source": [
    "dffinal = pd.concat([clasdic, topicosconsul]).reset_index(drop=True)"
   ]
  },
  {
   "cell_type": "markdown",
   "metadata": {},
   "source": [
    "#### Validación"
   ]
  },
  {
   "cell_type": "code",
   "execution_count": 139,
   "metadata": {},
   "outputs": [
    {
     "name": "stdout",
     "output_type": "stream",
     "text": [
      "Cliente solicita certificado: paz y salvo                                     0.861111\n",
      "Cliente solicita certificado: tributario                                      0.046296\n",
      "Cliente solicita certificado: No le llega                                     0.033951\n",
      "No llega certificado - extracto al correo: Datos desactualizados              0.009259\n",
      "Reporte en centrales de riesgo                                                0.009259\n",
      "Cancelación de tarjeta voluntaria                                             0.009259\n",
      "Consultar saldo del producto                                                  0.006173\n",
      "Cliente solicita certificado                                                  0.006173\n",
      "Inconforme por costos adicionales por mora                                    0.003086\n",
      "Inconformidad: Tarjeta bloqueada                                              0.003086\n",
      "Desconocimiento: No entiende como su abonos afectan al saldo en el capital    0.003086\n",
      "Distribución de pagos: Paga anticipado, evade interés                         0.003086\n",
      "Desconocimiento: olvido de clave                                              0.003086\n",
      "Inconvenientes solicitud de levantamiento de prenda                           0.003086\n",
      "Name: Problemas con el proceso, dtype: float64\n"
     ]
    }
   ],
   "source": [
    "print(dffinal[clasificacion].value_counts(normalize=True)) "
   ]
  },
  {
   "cell_type": "code",
   "execution_count": 140,
   "metadata": {},
   "outputs": [
    {
     "name": "stdout",
     "output_type": "stream",
     "text": [
      "Cliente solicita certificado: paz y salvo                                     0.733728\n",
      "Cliente solicita certificado: tributario                                      0.088757\n",
      "Cliente solicita certificado: No le llega                                     0.065089\n",
      "No llega certificado - extracto al correo: Datos desactualizados              0.017751\n",
      "Reporte en centrales de riesgo                                                0.017751\n",
      "Cancelación de tarjeta voluntaria                                             0.017751\n",
      "Consultar saldo del producto                                                  0.011834\n",
      "Cliente solicita certificado                                                  0.011834\n",
      "Inconforme por costos adicionales por mora                                    0.005917\n",
      "Desconocimiento: No entiende como su abonos afectan al saldo en el capital    0.005917\n",
      "Distribución de pagos: Paga anticipado, evade interés                         0.005917\n",
      "Inconformidad: Tarjeta bloqueada                                              0.005917\n",
      "Desconocimiento: olvido de clave                                              0.005917\n",
      "Inconvenientes solicitud de levantamiento de prenda                           0.005917\n",
      "Name: Problemas con el proceso, dtype: float64\n"
     ]
    }
   ],
   "source": [
    "print(data[clasificacion].value_counts(normalize=True))"
   ]
  },
  {
   "cell_type": "code",
   "execution_count": 141,
   "metadata": {},
   "outputs": [],
   "source": [
    "dffinal.to_excel('D:/Proyecto Speech Tuya/Clasificación/solicitud de certificados marca privada - Procesos.xlsx') ## exportar archivo"
   ]
  },
  {
   "cell_type": "markdown",
   "metadata": {},
   "source": [
    "### Solicitud de certificados marca privada - Problemas con el Producto"
   ]
  },
  {
   "cell_type": "code",
   "execution_count": 142,
   "metadata": {},
   "outputs": [],
   "source": [
    "data = concat.merge(diccionarios, on='CallID', how='left')"
   ]
  },
  {
   "cell_type": "code",
   "execution_count": 143,
   "metadata": {},
   "outputs": [],
   "source": [
    "data = data[['CallID', 'Asesor', 'Cliente', 'Asesor_l', 'Cliente_l', 'Fecha', \n",
    "       'CodFinalización', 'Productos', 'Problemas con el proceso',\n",
    "       'Problemas con la tecnología', 'Impacto la satisfacción',\n",
    "       'Pérfil Cliente', 'Chismes', 'Observaciones']]\n",
    "\n",
    "data.index = range(data.shape[0])"
   ]
  },
  {
   "cell_type": "code",
   "execution_count": 144,
   "metadata": {},
   "outputs": [
    {
     "name": "stdout",
     "output_type": "stream",
     "text": [
      "2\n"
     ]
    }
   ],
   "source": [
    "data = data[data['CodFinalización'] == 'solicitud de certificados marca privada'] ######## 1 Cambio filtro #Comentarear en caso de hacer tópicos generales\n",
    "clasificacion = 'Productos' ###### 2 Cambio la columna a entrenas #'Expectativa no cubierta' #'Problemas con el producto' #'Usabilidad'\n",
    "data.dropna(subset=[clasificacion], inplace=True)\n",
    "data.reset_index(drop=True, inplace=True)\n",
    "print(len(data))\n",
    "#data[clasificacion].value_counts()"
   ]
  },
  {
   "cell_type": "code",
   "execution_count": 145,
   "metadata": {},
   "outputs": [],
   "source": [
    "df = data.copy()\n",
    "for i in range(1,1): ######### 3 Cambio\n",
    "    df = pd.concat([df,data])"
   ]
  },
  {
   "cell_type": "markdown",
   "metadata": {},
   "source": [
    "#### Red Neuronal"
   ]
  },
  {
   "cell_type": "code",
   "execution_count": 146,
   "metadata": {},
   "outputs": [],
   "source": [
    "datos = df.Cliente_l\n",
    "tipificaciones=df[clasificacion]\n",
    "\n",
    "X_train, X_test, y_train, y_test = train_test_split(datos, tipificaciones)\n",
    "count_vect = CountVectorizer()\n",
    "X_train_counts = count_vect.fit_transform(X_train)\n",
    "tfidf_transformer = TfidfTransformer()\n",
    "X_train_tfidf = tfidf_transformer.fit_transform(X_train_counts)"
   ]
  },
  {
   "cell_type": "code",
   "execution_count": 147,
   "metadata": {},
   "outputs": [
    {
     "data": {
      "text/plain": [
       "MLPClassifier(hidden_layer_sizes=5, max_iter=512)"
      ]
     },
     "execution_count": 147,
     "metadata": {},
     "output_type": "execute_result"
    }
   ],
   "source": [
    "red=MLPClassifier(max_iter=512, hidden_layer_sizes=(5)) \n",
    "red.fit(X_train_tfidf, y_train)"
   ]
  },
  {
   "cell_type": "code",
   "execution_count": 148,
   "metadata": {},
   "outputs": [
    {
     "data": {
      "text/plain": [
       "1.0"
      ]
     },
     "execution_count": 148,
     "metadata": {},
     "output_type": "execute_result"
    }
   ],
   "source": [
    "red.score(X_train_tfidf, y_train)"
   ]
  },
  {
   "cell_type": "code",
   "execution_count": 149,
   "metadata": {},
   "outputs": [
    {
     "data": {
      "text/plain": [
       "2"
      ]
     },
     "execution_count": 149,
     "metadata": {},
     "output_type": "execute_result"
    }
   ],
   "source": [
    "idclasificados = df['CallID'].unique()\n",
    "len(idclasificados)"
   ]
  },
  {
   "cell_type": "code",
   "execution_count": 150,
   "metadata": {},
   "outputs": [
    {
     "name": "stdout",
     "output_type": "stream",
     "text": [
      "(155, 5)\n",
      "(155, 5)\n"
     ]
    }
   ],
   "source": [
    "#conversacion = pd.read_excel('perulapropia.xlsx', sheet_name='concat')\n",
    "topicosconsul = concat\n",
    "#topicosconsul = conversacion[conversacion['Canal'] == 'Consultora']\n",
    "topicosconsul = topicosconsul[topicosconsul['CallID'].isin(idtipo)] #### 1 advertencias: primero haber ejectuado la seccion Tipo producto #Comentar en caso de no realizar topicos generales\n",
    "print(topicosconsul.shape)\n",
    "topicosconsul = topicosconsul[topicosconsul['CallID'].isin(idclasificados)== False].reset_index(drop=True) ############\n",
    "print(topicosconsul.shape)"
   ]
  },
  {
   "cell_type": "code",
   "execution_count": 151,
   "metadata": {},
   "outputs": [
    {
     "data": {
      "text/html": [
       "<div>\n",
       "<style scoped>\n",
       "    .dataframe tbody tr th:only-of-type {\n",
       "        vertical-align: middle;\n",
       "    }\n",
       "\n",
       "    .dataframe tbody tr th {\n",
       "        vertical-align: top;\n",
       "    }\n",
       "\n",
       "    .dataframe thead th {\n",
       "        text-align: right;\n",
       "    }\n",
       "</style>\n",
       "<table border=\"1\" class=\"dataframe\">\n",
       "  <thead>\n",
       "    <tr style=\"text-align: right;\">\n",
       "      <th></th>\n",
       "      <th>CallID</th>\n",
       "      <th>Asesor</th>\n",
       "      <th>Cliente</th>\n",
       "      <th>Asesor_l</th>\n",
       "      <th>Cliente_l</th>\n",
       "      <th>Productos</th>\n",
       "    </tr>\n",
       "  </thead>\n",
       "  <tbody>\n",
       "    <tr>\n",
       "      <th>0</th>\n",
       "      <td>L1AOU5FFDD5EHCHE5D9QFT12K003QEHN</td>\n",
       "      <td>buenos días mi nombre es julián ospina al señ...</td>\n",
       "      <td>hola señorita muy bien gracias a dios la preg...</td>\n",
       "      <td>buenos días mi nombre es julián ospina al señ...</td>\n",
       "      <td>hola señorita muy bien gracias a dios la preg...</td>\n",
       "      <td>Consulta estado del producto</td>\n",
       "    </tr>\n",
       "    <tr>\n",
       "      <th>1</th>\n",
       "      <td>T8DROH1CEH4Q99TTQQ7ENTI6K4013K84</td>\n",
       "      <td>buenos días habla con jessica tengo luz solar...</td>\n",
       "      <td>es muy rara van a llegar no entiendas y tengo...</td>\n",
       "      <td>buenos días habla con jessica tengo luz solar...</td>\n",
       "      <td>es muy rara van a llegar no entiendas y tengo...</td>\n",
       "      <td>Consulta estado del producto</td>\n",
       "    </tr>\n",
       "    <tr>\n",
       "      <th>2</th>\n",
       "      <td>TIO7733R3T3NHFEIE9KC3OADV800RT4U</td>\n",
       "      <td>muy buenas tardes dime la línea de tuya mi no...</td>\n",
       "      <td>señor cómo está sentado muy bien gracias mira...</td>\n",
       "      <td>muy buenas tardes dime la línea de tuya mi no...</td>\n",
       "      <td>señor cómo está sentado muy bien gracias mira...</td>\n",
       "      <td>Consulta estado del producto</td>\n",
       "    </tr>\n",
       "    <tr>\n",
       "      <th>3</th>\n",
       "      <td>L1AOU5FFDD5EHCHE5D9QFT12K00456K2</td>\n",
       "      <td>buenas tardes mi nombre es laura tengo el gus...</td>\n",
       "      <td>pero lo que pasa es que ando un poco mensaje ...</td>\n",
       "      <td>buenas tardes mi nombre es laura tengo el gus...</td>\n",
       "      <td>pero lo que pasa es que ando un poco mensaje ...</td>\n",
       "      <td>Consulta estado del producto</td>\n",
       "    </tr>\n",
       "    <tr>\n",
       "      <th>4</th>\n",
       "      <td>80I4890E4544H1VFVKDLFNILGC04VGUE</td>\n",
       "      <td>hola feliz tarde mi nombre es juan hacedor tu...</td>\n",
       "      <td>buenas tardes mira lo que pasa es que en el c...</td>\n",
       "      <td>hola feliz tarde mi nombre es juan hacedor tu...</td>\n",
       "      <td>buenas tardes mira lo que pasa es que en el c...</td>\n",
       "      <td>Consulta estado del producto</td>\n",
       "    </tr>\n",
       "    <tr>\n",
       "      <th>...</th>\n",
       "      <td>...</td>\n",
       "      <td>...</td>\n",
       "      <td>...</td>\n",
       "      <td>...</td>\n",
       "      <td>...</td>\n",
       "      <td>...</td>\n",
       "    </tr>\n",
       "    <tr>\n",
       "      <th>150</th>\n",
       "      <td>L1AOU5FFDD5EHCHE5D9QFT12K004MRN7</td>\n",
       "      <td>buenas tardes habla con jessica con quien ten...</td>\n",
       "      <td>buenas tardes compañera te hablan acá no en l...</td>\n",
       "      <td>buenas tardes habla con jessica con quien ten...</td>\n",
       "      <td>buenas tardes compañera te hablan acá no en l...</td>\n",
       "      <td>Consulta estado del producto</td>\n",
       "    </tr>\n",
       "    <tr>\n",
       "      <th>151</th>\n",
       "      <td>L1AOU5FFDD5EHCHE5D9QFT12K003VS5U</td>\n",
       "      <td>muy buenas tardes habla con esa peña césar de...</td>\n",
       "      <td>amanda rodríguez muy bien gracias a dios buen...</td>\n",
       "      <td>muy buenas tardes habla con esa peña césar de...</td>\n",
       "      <td>amanda rodríguez muy bien gracias a dios buen...</td>\n",
       "      <td>Consulta estado del producto</td>\n",
       "    </tr>\n",
       "    <tr>\n",
       "      <th>152</th>\n",
       "      <td>T8DROH1CEH4Q99TTQQ7ENTI6K4016Q9Q</td>\n",
       "      <td>muy buenas tardes le habla maría fernanda mar...</td>\n",
       "      <td>para que llegue patológico ir a maría fernand...</td>\n",
       "      <td>muy buenas tardes le habla maría fernanda mar...</td>\n",
       "      <td>para que llegue patológico ir a maría fernand...</td>\n",
       "      <td>Consulta estado del producto</td>\n",
       "    </tr>\n",
       "    <tr>\n",
       "      <th>153</th>\n",
       "      <td>L1AOU5FFDD5EHCHE5D9QFT12K00496BQ</td>\n",
       "      <td>buenas tardes mi nombre es laura tengo el gus...</td>\n",
       "      <td>siri cómo estás laura en atención compañero q...</td>\n",
       "      <td>buenas tardes mi nombre es laura tengo el gus...</td>\n",
       "      <td>siri cómo estás laura en atención compañero q...</td>\n",
       "      <td>Consulta estado del producto</td>\n",
       "    </tr>\n",
       "    <tr>\n",
       "      <th>154</th>\n",
       "      <td>1BDJ5HE3VH49BE2DOONBQ25OJC0025OE</td>\n",
       "      <td>buenas tardes habla melisa cosa tengo el gust...</td>\n",
       "      <td>sí cómo no melisa cómo ha estado bien bien me...</td>\n",
       "      <td>buenas tardes habla melisa cosa tengo el gust...</td>\n",
       "      <td>sí cómo no melisa cómo ha estado bien bien me...</td>\n",
       "      <td>Consulta estado del producto</td>\n",
       "    </tr>\n",
       "  </tbody>\n",
       "</table>\n",
       "<p>155 rows × 6 columns</p>\n",
       "</div>"
      ],
      "text/plain": [
       "                               CallID  \\\n",
       "0    L1AOU5FFDD5EHCHE5D9QFT12K003QEHN   \n",
       "1    T8DROH1CEH4Q99TTQQ7ENTI6K4013K84   \n",
       "2    TIO7733R3T3NHFEIE9KC3OADV800RT4U   \n",
       "3    L1AOU5FFDD5EHCHE5D9QFT12K00456K2   \n",
       "4    80I4890E4544H1VFVKDLFNILGC04VGUE   \n",
       "..                                ...   \n",
       "150  L1AOU5FFDD5EHCHE5D9QFT12K004MRN7   \n",
       "151  L1AOU5FFDD5EHCHE5D9QFT12K003VS5U   \n",
       "152  T8DROH1CEH4Q99TTQQ7ENTI6K4016Q9Q   \n",
       "153  L1AOU5FFDD5EHCHE5D9QFT12K00496BQ   \n",
       "154  1BDJ5HE3VH49BE2DOONBQ25OJC0025OE   \n",
       "\n",
       "                                                Asesor  \\\n",
       "0     buenos días mi nombre es julián ospina al señ...   \n",
       "1     buenos días habla con jessica tengo luz solar...   \n",
       "2     muy buenas tardes dime la línea de tuya mi no...   \n",
       "3     buenas tardes mi nombre es laura tengo el gus...   \n",
       "4     hola feliz tarde mi nombre es juan hacedor tu...   \n",
       "..                                                 ...   \n",
       "150   buenas tardes habla con jessica con quien ten...   \n",
       "151   muy buenas tardes habla con esa peña césar de...   \n",
       "152   muy buenas tardes le habla maría fernanda mar...   \n",
       "153   buenas tardes mi nombre es laura tengo el gus...   \n",
       "154   buenas tardes habla melisa cosa tengo el gust...   \n",
       "\n",
       "                                               Cliente  \\\n",
       "0     hola señorita muy bien gracias a dios la preg...   \n",
       "1     es muy rara van a llegar no entiendas y tengo...   \n",
       "2     señor cómo está sentado muy bien gracias mira...   \n",
       "3     pero lo que pasa es que ando un poco mensaje ...   \n",
       "4     buenas tardes mira lo que pasa es que en el c...   \n",
       "..                                                 ...   \n",
       "150   buenas tardes compañera te hablan acá no en l...   \n",
       "151   amanda rodríguez muy bien gracias a dios buen...   \n",
       "152   para que llegue patológico ir a maría fernand...   \n",
       "153   siri cómo estás laura en atención compañero q...   \n",
       "154   sí cómo no melisa cómo ha estado bien bien me...   \n",
       "\n",
       "                                              Asesor_l  \\\n",
       "0     buenos días mi nombre es julián ospina al señ...   \n",
       "1     buenos días habla con jessica tengo luz solar...   \n",
       "2     muy buenas tardes dime la línea de tuya mi no...   \n",
       "3     buenas tardes mi nombre es laura tengo el gus...   \n",
       "4     hola feliz tarde mi nombre es juan hacedor tu...   \n",
       "..                                                 ...   \n",
       "150   buenas tardes habla con jessica con quien ten...   \n",
       "151   muy buenas tardes habla con esa peña césar de...   \n",
       "152   muy buenas tardes le habla maría fernanda mar...   \n",
       "153   buenas tardes mi nombre es laura tengo el gus...   \n",
       "154   buenas tardes habla melisa cosa tengo el gust...   \n",
       "\n",
       "                                             Cliente_l  \\\n",
       "0     hola señorita muy bien gracias a dios la preg...   \n",
       "1     es muy rara van a llegar no entiendas y tengo...   \n",
       "2     señor cómo está sentado muy bien gracias mira...   \n",
       "3     pero lo que pasa es que ando un poco mensaje ...   \n",
       "4     buenas tardes mira lo que pasa es que en el c...   \n",
       "..                                                 ...   \n",
       "150   buenas tardes compañera te hablan acá no en l...   \n",
       "151   amanda rodríguez muy bien gracias a dios buen...   \n",
       "152   para que llegue patológico ir a maría fernand...   \n",
       "153   siri cómo estás laura en atención compañero q...   \n",
       "154   sí cómo no melisa cómo ha estado bien bien me...   \n",
       "\n",
       "                        Productos  \n",
       "0    Consulta estado del producto  \n",
       "1    Consulta estado del producto  \n",
       "2    Consulta estado del producto  \n",
       "3    Consulta estado del producto  \n",
       "4    Consulta estado del producto  \n",
       "..                            ...  \n",
       "150  Consulta estado del producto  \n",
       "151  Consulta estado del producto  \n",
       "152  Consulta estado del producto  \n",
       "153  Consulta estado del producto  \n",
       "154  Consulta estado del producto  \n",
       "\n",
       "[155 rows x 6 columns]"
      ]
     },
     "execution_count": 151,
     "metadata": {},
     "output_type": "execute_result"
    }
   ],
   "source": [
    "datos = topicosconsul[\"Cliente_l\"].values\n",
    "topicosconsul[clasificacion] = red.predict(count_vect.transform(datos))\n",
    "topicosconsul"
   ]
  },
  {
   "cell_type": "markdown",
   "metadata": {},
   "source": [
    "#### Concatenar Bases"
   ]
  },
  {
   "cell_type": "code",
   "execution_count": 152,
   "metadata": {},
   "outputs": [
    {
     "data": {
      "text/plain": [
       "2"
      ]
     },
     "execution_count": 152,
     "metadata": {},
     "output_type": "execute_result"
    }
   ],
   "source": [
    "clasificada = concat[concat['CallID'].isin(idclasificados)].reset_index(drop=True)\n",
    "len(clasificada)"
   ]
  },
  {
   "cell_type": "code",
   "execution_count": 153,
   "metadata": {},
   "outputs": [
    {
     "data": {
      "text/plain": [
       "2"
      ]
     },
     "execution_count": 153,
     "metadata": {},
     "output_type": "execute_result"
    }
   ],
   "source": [
    "pivot = data[['CallID', clasificacion]]\n",
    "clasdic = clasificada.merge(pivot, on='CallID', how='left')\n",
    "len(clasdic)"
   ]
  },
  {
   "cell_type": "code",
   "execution_count": 154,
   "metadata": {},
   "outputs": [
    {
     "data": {
      "text/plain": [
       "0"
      ]
     },
     "execution_count": 154,
     "metadata": {},
     "output_type": "execute_result"
    }
   ],
   "source": [
    "clasdic[clasificacion].isnull().sum()"
   ]
  },
  {
   "cell_type": "code",
   "execution_count": 155,
   "metadata": {},
   "outputs": [],
   "source": [
    "dffinal = pd.concat([clasdic, topicosconsul]).reset_index(drop=True)"
   ]
  },
  {
   "cell_type": "markdown",
   "metadata": {},
   "source": [
    "#### Validación"
   ]
  },
  {
   "cell_type": "code",
   "execution_count": 156,
   "metadata": {},
   "outputs": [
    {
     "name": "stdout",
     "output_type": "stream",
     "text": [
      "Consulta estado del producto                       0.993631\n",
      "Cliente con cartera castigada solicita producto    0.006369\n",
      "Name: Productos, dtype: float64\n"
     ]
    }
   ],
   "source": [
    "print(dffinal[clasificacion].value_counts(normalize=True)) "
   ]
  },
  {
   "cell_type": "code",
   "execution_count": 157,
   "metadata": {},
   "outputs": [
    {
     "name": "stdout",
     "output_type": "stream",
     "text": [
      "Consulta estado del producto                       0.5\n",
      "Cliente con cartera castigada solicita producto    0.5\n",
      "Name: Productos, dtype: float64\n"
     ]
    }
   ],
   "source": [
    "print(data[clasificacion].value_counts(normalize=True))"
   ]
  },
  {
   "cell_type": "code",
   "execution_count": 158,
   "metadata": {},
   "outputs": [],
   "source": [
    "dffinal.to_excel('D:/Proyecto Speech Tuya/Clasificación/solicitud de certificados marca privada - Productos.xlsx') ## exportar archivo"
   ]
  },
  {
   "cell_type": "markdown",
   "metadata": {},
   "source": [
    "### Solicitud de certificados marca privada - Problemas con la Tecnología"
   ]
  },
  {
   "cell_type": "code",
   "execution_count": 159,
   "metadata": {},
   "outputs": [],
   "source": [
    "data = concat.merge(diccionarios, on='CallID', how='left')"
   ]
  },
  {
   "cell_type": "code",
   "execution_count": 160,
   "metadata": {},
   "outputs": [],
   "source": [
    "data = data[['CallID', 'Asesor', 'Cliente', 'Asesor_l', 'Cliente_l', 'Fecha', \n",
    "       'CodFinalización', 'Productos', 'Problemas con el proceso',\n",
    "       'Problemas con la tecnología', 'Impacto la satisfacción',\n",
    "       'Pérfil Cliente', 'Chismes', 'Observaciones']]\n",
    "\n",
    "data.index = range(data.shape[0])"
   ]
  },
  {
   "cell_type": "code",
   "execution_count": 161,
   "metadata": {},
   "outputs": [
    {
     "name": "stdout",
     "output_type": "stream",
     "text": [
      "8\n"
     ]
    }
   ],
   "source": [
    "data = data[data['CodFinalización'] == 'solicitud de certificados marca privada'] ######## 1 Cambio filtro #Comentarear en caso de hacer tópicos generales\n",
    "clasificacion = 'Problemas con la tecnología' ###### 2 Cambio la columna a entrenas #'Expectativa no cubierta' #'Problemas con el producto' #'Usabilidad'\n",
    "data.dropna(subset=[clasificacion], inplace=True)\n",
    "data.reset_index(drop=True, inplace=True)\n",
    "print(len(data))"
   ]
  },
  {
   "cell_type": "code",
   "execution_count": 162,
   "metadata": {},
   "outputs": [],
   "source": [
    "df = data.copy()\n",
    "for i in range(1,1): ######### 3 Cambio\n",
    "    df = pd.concat([df,data])"
   ]
  },
  {
   "cell_type": "markdown",
   "metadata": {},
   "source": [
    "#### Red Neuronal"
   ]
  },
  {
   "cell_type": "code",
   "execution_count": 163,
   "metadata": {},
   "outputs": [],
   "source": [
    "datos = df.Cliente_l\n",
    "tipificaciones=df[clasificacion]\n",
    "\n",
    "X_train, X_test, y_train, y_test = train_test_split(datos, tipificaciones)\n",
    "count_vect = CountVectorizer()\n",
    "X_train_counts = count_vect.fit_transform(X_train)\n",
    "tfidf_transformer = TfidfTransformer()\n",
    "X_train_tfidf = tfidf_transformer.fit_transform(X_train_counts)"
   ]
  },
  {
   "cell_type": "code",
   "execution_count": 164,
   "metadata": {},
   "outputs": [
    {
     "name": "stderr",
     "output_type": "stream",
     "text": [
      "C:\\Users\\dgarmor\\.conda\\envs\\Environments\\lib\\site-packages\\sklearn\\neural_network\\_multilayer_perceptron.py:585: ConvergenceWarning: Stochastic Optimizer: Maximum iterations (512) reached and the optimization hasn't converged yet.\n",
      "  % self.max_iter, ConvergenceWarning)\n"
     ]
    },
    {
     "data": {
      "text/plain": [
       "MLPClassifier(hidden_layer_sizes=5, max_iter=512)"
      ]
     },
     "execution_count": 164,
     "metadata": {},
     "output_type": "execute_result"
    }
   ],
   "source": [
    "red=MLPClassifier(max_iter=512, hidden_layer_sizes=(5)) \n",
    "red.fit(X_train_tfidf, y_train)"
   ]
  },
  {
   "cell_type": "code",
   "execution_count": 165,
   "metadata": {},
   "outputs": [
    {
     "data": {
      "text/plain": [
       "1.0"
      ]
     },
     "execution_count": 165,
     "metadata": {},
     "output_type": "execute_result"
    }
   ],
   "source": [
    "red.score(X_train_tfidf, y_train)"
   ]
  },
  {
   "cell_type": "code",
   "execution_count": 166,
   "metadata": {},
   "outputs": [
    {
     "data": {
      "text/plain": [
       "8"
      ]
     },
     "execution_count": 166,
     "metadata": {},
     "output_type": "execute_result"
    }
   ],
   "source": [
    "idclasificados = df['CallID'].unique()\n",
    "len(idclasificados)"
   ]
  },
  {
   "cell_type": "code",
   "execution_count": 167,
   "metadata": {},
   "outputs": [
    {
     "name": "stdout",
     "output_type": "stream",
     "text": [
      "(155, 5)\n",
      "(155, 5)\n"
     ]
    }
   ],
   "source": [
    "#conversacion = pd.read_excel('perulapropia.xlsx', sheet_name='concat')\n",
    "topicosconsul = concat\n",
    "#topicosconsul = conversacion[conversacion['Canal'] == 'Consultora']\n",
    "topicosconsul = topicosconsul[topicosconsul['CallID'].isin(idtipo)] #### 1 advertencias: primero haber ejectuado la seccion Tipo producto #Comentar en caso de no realizar topicos generales\n",
    "print(topicosconsul.shape)\n",
    "topicosconsul = topicosconsul[topicosconsul['CallID'].isin(idclasificados)== False].reset_index(drop=True) ############\n",
    "print(topicosconsul.shape)"
   ]
  },
  {
   "cell_type": "code",
   "execution_count": 168,
   "metadata": {},
   "outputs": [
    {
     "data": {
      "text/html": [
       "<div>\n",
       "<style scoped>\n",
       "    .dataframe tbody tr th:only-of-type {\n",
       "        vertical-align: middle;\n",
       "    }\n",
       "\n",
       "    .dataframe tbody tr th {\n",
       "        vertical-align: top;\n",
       "    }\n",
       "\n",
       "    .dataframe thead th {\n",
       "        text-align: right;\n",
       "    }\n",
       "</style>\n",
       "<table border=\"1\" class=\"dataframe\">\n",
       "  <thead>\n",
       "    <tr style=\"text-align: right;\">\n",
       "      <th></th>\n",
       "      <th>CallID</th>\n",
       "      <th>Asesor</th>\n",
       "      <th>Cliente</th>\n",
       "      <th>Asesor_l</th>\n",
       "      <th>Cliente_l</th>\n",
       "      <th>Problemas con la tecnología</th>\n",
       "    </tr>\n",
       "  </thead>\n",
       "  <tbody>\n",
       "    <tr>\n",
       "      <th>0</th>\n",
       "      <td>L1AOU5FFDD5EHCHE5D9QFT12K003QEHN</td>\n",
       "      <td>buenos días mi nombre es julián ospina al señ...</td>\n",
       "      <td>hola señorita muy bien gracias a dios la preg...</td>\n",
       "      <td>buenos días mi nombre es julián ospina al señ...</td>\n",
       "      <td>hola señorita muy bien gracias a dios la preg...</td>\n",
       "      <td>actualización del sistema de pagos</td>\n",
       "    </tr>\n",
       "    <tr>\n",
       "      <th>1</th>\n",
       "      <td>T8DROH1CEH4Q99TTQQ7ENTI6K4013K84</td>\n",
       "      <td>buenos días habla con jessica tengo luz solar...</td>\n",
       "      <td>es muy rara van a llegar no entiendas y tengo...</td>\n",
       "      <td>buenos días habla con jessica tengo luz solar...</td>\n",
       "      <td>es muy rara van a llegar no entiendas y tengo...</td>\n",
       "      <td>actualización del sistema de pagos</td>\n",
       "    </tr>\n",
       "    <tr>\n",
       "      <th>2</th>\n",
       "      <td>TIO7733R3T3NHFEIE9KC3OADV800RT4U</td>\n",
       "      <td>muy buenas tardes dime la línea de tuya mi no...</td>\n",
       "      <td>señor cómo está sentado muy bien gracias mira...</td>\n",
       "      <td>muy buenas tardes dime la línea de tuya mi no...</td>\n",
       "      <td>señor cómo está sentado muy bien gracias mira...</td>\n",
       "      <td>actualización del sistema de pagos</td>\n",
       "    </tr>\n",
       "    <tr>\n",
       "      <th>3</th>\n",
       "      <td>L1AOU5FFDD5EHCHE5D9QFT12K00456K2</td>\n",
       "      <td>buenas tardes mi nombre es laura tengo el gus...</td>\n",
       "      <td>pero lo que pasa es que ando un poco mensaje ...</td>\n",
       "      <td>buenas tardes mi nombre es laura tengo el gus...</td>\n",
       "      <td>pero lo que pasa es que ando un poco mensaje ...</td>\n",
       "      <td>certificado llega a correo no deseado</td>\n",
       "    </tr>\n",
       "    <tr>\n",
       "      <th>4</th>\n",
       "      <td>80I4890E4544H1VFVKDLFNILGC04VGUE</td>\n",
       "      <td>hola feliz tarde mi nombre es juan hacedor tu...</td>\n",
       "      <td>buenas tardes mira lo que pasa es que en el c...</td>\n",
       "      <td>hola feliz tarde mi nombre es juan hacedor tu...</td>\n",
       "      <td>buenas tardes mira lo que pasa es que en el c...</td>\n",
       "      <td>actualización del sistema de pagos</td>\n",
       "    </tr>\n",
       "    <tr>\n",
       "      <th>...</th>\n",
       "      <td>...</td>\n",
       "      <td>...</td>\n",
       "      <td>...</td>\n",
       "      <td>...</td>\n",
       "      <td>...</td>\n",
       "      <td>...</td>\n",
       "    </tr>\n",
       "    <tr>\n",
       "      <th>150</th>\n",
       "      <td>L1AOU5FFDD5EHCHE5D9QFT12K004MRN7</td>\n",
       "      <td>buenas tardes habla con jessica con quien ten...</td>\n",
       "      <td>buenas tardes compañera te hablan acá no en l...</td>\n",
       "      <td>buenas tardes habla con jessica con quien ten...</td>\n",
       "      <td>buenas tardes compañera te hablan acá no en l...</td>\n",
       "      <td>actualización del sistema de pagos</td>\n",
       "    </tr>\n",
       "    <tr>\n",
       "      <th>151</th>\n",
       "      <td>L1AOU5FFDD5EHCHE5D9QFT12K003VS5U</td>\n",
       "      <td>muy buenas tardes habla con esa peña césar de...</td>\n",
       "      <td>amanda rodríguez muy bien gracias a dios buen...</td>\n",
       "      <td>muy buenas tardes habla con esa peña césar de...</td>\n",
       "      <td>amanda rodríguez muy bien gracias a dios buen...</td>\n",
       "      <td>actualización del sistema de pagos</td>\n",
       "    </tr>\n",
       "    <tr>\n",
       "      <th>152</th>\n",
       "      <td>T8DROH1CEH4Q99TTQQ7ENTI6K4016Q9Q</td>\n",
       "      <td>muy buenas tardes le habla maría fernanda mar...</td>\n",
       "      <td>para que llegue patológico ir a maría fernand...</td>\n",
       "      <td>muy buenas tardes le habla maría fernanda mar...</td>\n",
       "      <td>para que llegue patológico ir a maría fernand...</td>\n",
       "      <td>actualización del sistema de pagos</td>\n",
       "    </tr>\n",
       "    <tr>\n",
       "      <th>153</th>\n",
       "      <td>L1AOU5FFDD5EHCHE5D9QFT12K00496BQ</td>\n",
       "      <td>buenas tardes mi nombre es laura tengo el gus...</td>\n",
       "      <td>siri cómo estás laura en atención compañero q...</td>\n",
       "      <td>buenas tardes mi nombre es laura tengo el gus...</td>\n",
       "      <td>siri cómo estás laura en atención compañero q...</td>\n",
       "      <td>certificado llega a correo no deseado</td>\n",
       "    </tr>\n",
       "    <tr>\n",
       "      <th>154</th>\n",
       "      <td>1BDJ5HE3VH49BE2DOONBQ25OJC0025OE</td>\n",
       "      <td>buenas tardes habla melisa cosa tengo el gust...</td>\n",
       "      <td>sí cómo no melisa cómo ha estado bien bien me...</td>\n",
       "      <td>buenas tardes habla melisa cosa tengo el gust...</td>\n",
       "      <td>sí cómo no melisa cómo ha estado bien bien me...</td>\n",
       "      <td>actualización del sistema de pagos</td>\n",
       "    </tr>\n",
       "  </tbody>\n",
       "</table>\n",
       "<p>155 rows × 6 columns</p>\n",
       "</div>"
      ],
      "text/plain": [
       "                               CallID  \\\n",
       "0    L1AOU5FFDD5EHCHE5D9QFT12K003QEHN   \n",
       "1    T8DROH1CEH4Q99TTQQ7ENTI6K4013K84   \n",
       "2    TIO7733R3T3NHFEIE9KC3OADV800RT4U   \n",
       "3    L1AOU5FFDD5EHCHE5D9QFT12K00456K2   \n",
       "4    80I4890E4544H1VFVKDLFNILGC04VGUE   \n",
       "..                                ...   \n",
       "150  L1AOU5FFDD5EHCHE5D9QFT12K004MRN7   \n",
       "151  L1AOU5FFDD5EHCHE5D9QFT12K003VS5U   \n",
       "152  T8DROH1CEH4Q99TTQQ7ENTI6K4016Q9Q   \n",
       "153  L1AOU5FFDD5EHCHE5D9QFT12K00496BQ   \n",
       "154  1BDJ5HE3VH49BE2DOONBQ25OJC0025OE   \n",
       "\n",
       "                                                Asesor  \\\n",
       "0     buenos días mi nombre es julián ospina al señ...   \n",
       "1     buenos días habla con jessica tengo luz solar...   \n",
       "2     muy buenas tardes dime la línea de tuya mi no...   \n",
       "3     buenas tardes mi nombre es laura tengo el gus...   \n",
       "4     hola feliz tarde mi nombre es juan hacedor tu...   \n",
       "..                                                 ...   \n",
       "150   buenas tardes habla con jessica con quien ten...   \n",
       "151   muy buenas tardes habla con esa peña césar de...   \n",
       "152   muy buenas tardes le habla maría fernanda mar...   \n",
       "153   buenas tardes mi nombre es laura tengo el gus...   \n",
       "154   buenas tardes habla melisa cosa tengo el gust...   \n",
       "\n",
       "                                               Cliente  \\\n",
       "0     hola señorita muy bien gracias a dios la preg...   \n",
       "1     es muy rara van a llegar no entiendas y tengo...   \n",
       "2     señor cómo está sentado muy bien gracias mira...   \n",
       "3     pero lo que pasa es que ando un poco mensaje ...   \n",
       "4     buenas tardes mira lo que pasa es que en el c...   \n",
       "..                                                 ...   \n",
       "150   buenas tardes compañera te hablan acá no en l...   \n",
       "151   amanda rodríguez muy bien gracias a dios buen...   \n",
       "152   para que llegue patológico ir a maría fernand...   \n",
       "153   siri cómo estás laura en atención compañero q...   \n",
       "154   sí cómo no melisa cómo ha estado bien bien me...   \n",
       "\n",
       "                                              Asesor_l  \\\n",
       "0     buenos días mi nombre es julián ospina al señ...   \n",
       "1     buenos días habla con jessica tengo luz solar...   \n",
       "2     muy buenas tardes dime la línea de tuya mi no...   \n",
       "3     buenas tardes mi nombre es laura tengo el gus...   \n",
       "4     hola feliz tarde mi nombre es juan hacedor tu...   \n",
       "..                                                 ...   \n",
       "150   buenas tardes habla con jessica con quien ten...   \n",
       "151   muy buenas tardes habla con esa peña césar de...   \n",
       "152   muy buenas tardes le habla maría fernanda mar...   \n",
       "153   buenas tardes mi nombre es laura tengo el gus...   \n",
       "154   buenas tardes habla melisa cosa tengo el gust...   \n",
       "\n",
       "                                             Cliente_l  \\\n",
       "0     hola señorita muy bien gracias a dios la preg...   \n",
       "1     es muy rara van a llegar no entiendas y tengo...   \n",
       "2     señor cómo está sentado muy bien gracias mira...   \n",
       "3     pero lo que pasa es que ando un poco mensaje ...   \n",
       "4     buenas tardes mira lo que pasa es que en el c...   \n",
       "..                                                 ...   \n",
       "150   buenas tardes compañera te hablan acá no en l...   \n",
       "151   amanda rodríguez muy bien gracias a dios buen...   \n",
       "152   para que llegue patológico ir a maría fernand...   \n",
       "153   siri cómo estás laura en atención compañero q...   \n",
       "154   sí cómo no melisa cómo ha estado bien bien me...   \n",
       "\n",
       "               Problemas con la tecnología  \n",
       "0       actualización del sistema de pagos  \n",
       "1       actualización del sistema de pagos  \n",
       "2       actualización del sistema de pagos  \n",
       "3    certificado llega a correo no deseado  \n",
       "4       actualización del sistema de pagos  \n",
       "..                                     ...  \n",
       "150     actualización del sistema de pagos  \n",
       "151     actualización del sistema de pagos  \n",
       "152     actualización del sistema de pagos  \n",
       "153  certificado llega a correo no deseado  \n",
       "154     actualización del sistema de pagos  \n",
       "\n",
       "[155 rows x 6 columns]"
      ]
     },
     "execution_count": 168,
     "metadata": {},
     "output_type": "execute_result"
    }
   ],
   "source": [
    "datos = topicosconsul[\"Cliente_l\"].values\n",
    "topicosconsul[clasificacion] = red.predict(count_vect.transform(datos))\n",
    "topicosconsul"
   ]
  },
  {
   "cell_type": "markdown",
   "metadata": {},
   "source": [
    "#### Concatenar Bases"
   ]
  },
  {
   "cell_type": "code",
   "execution_count": 169,
   "metadata": {},
   "outputs": [
    {
     "data": {
      "text/plain": [
       "8"
      ]
     },
     "execution_count": 169,
     "metadata": {},
     "output_type": "execute_result"
    }
   ],
   "source": [
    "clasificada = concat[concat['CallID'].isin(idclasificados)].reset_index(drop=True)\n",
    "len(clasificada)"
   ]
  },
  {
   "cell_type": "code",
   "execution_count": 170,
   "metadata": {},
   "outputs": [
    {
     "data": {
      "text/plain": [
       "8"
      ]
     },
     "execution_count": 170,
     "metadata": {},
     "output_type": "execute_result"
    }
   ],
   "source": [
    "pivot = data[['CallID', clasificacion]]\n",
    "clasdic = clasificada.merge(pivot, on='CallID', how='left')\n",
    "len(clasdic)"
   ]
  },
  {
   "cell_type": "code",
   "execution_count": 171,
   "metadata": {},
   "outputs": [
    {
     "data": {
      "text/plain": [
       "0"
      ]
     },
     "execution_count": 171,
     "metadata": {},
     "output_type": "execute_result"
    }
   ],
   "source": [
    "clasdic[clasificacion].isnull().sum()"
   ]
  },
  {
   "cell_type": "code",
   "execution_count": 172,
   "metadata": {},
   "outputs": [],
   "source": [
    "dffinal = pd.concat([clasdic, topicosconsul]).reset_index(drop=True)"
   ]
  },
  {
   "cell_type": "markdown",
   "metadata": {},
   "source": [
    "#### Validación"
   ]
  },
  {
   "cell_type": "code",
   "execution_count": 173,
   "metadata": {},
   "outputs": [
    {
     "name": "stdout",
     "output_type": "stream",
     "text": [
      "actualización del sistema de pagos                                         0.570552\n",
      "certificado llega a correo no deseado                                      0.411043\n",
      "Calidad del audio en llamada                                               0.012270\n",
      "No llega certificado - extracto al correo: Falla en aplicativo de envio    0.006135\n",
      "Name: Problemas con la tecnología, dtype: float64\n"
     ]
    }
   ],
   "source": [
    "print(dffinal[clasificacion].value_counts(normalize=True)) "
   ]
  },
  {
   "cell_type": "code",
   "execution_count": 174,
   "metadata": {},
   "outputs": [
    {
     "name": "stdout",
     "output_type": "stream",
     "text": [
      "certificado llega a correo no deseado                                      0.500\n",
      "Calidad del audio en llamada                                               0.250\n",
      "actualización del sistema de pagos                                         0.125\n",
      "No llega certificado - extracto al correo: Falla en aplicativo de envio    0.125\n",
      "Name: Problemas con la tecnología, dtype: float64\n"
     ]
    }
   ],
   "source": [
    "print(data[clasificacion].value_counts(normalize=True))"
   ]
  },
  {
   "cell_type": "code",
   "execution_count": 175,
   "metadata": {},
   "outputs": [],
   "source": [
    "dffinal.to_excel('D:/Proyecto Speech Tuya/Clasificación/solicitud de certificados marca privada - Tecnología.xlsx') ## exportar archivo"
   ]
  },
  {
   "cell_type": "markdown",
   "metadata": {},
   "source": [
    "### Consulta Estado de la Tarjeta - Problemas con el Proceso"
   ]
  },
  {
   "cell_type": "code",
   "execution_count": 176,
   "metadata": {},
   "outputs": [],
   "source": [
    "data = concat.merge(diccionarios, on='CallID', how='left')"
   ]
  },
  {
   "cell_type": "code",
   "execution_count": 177,
   "metadata": {},
   "outputs": [],
   "source": [
    "data = data[['CallID', 'Asesor', 'Cliente', 'Asesor_l', 'Cliente_l', 'Fecha', \n",
    "       'CodFinalización', 'Productos', 'Problemas con el proceso',\n",
    "       'Problemas con la tecnología', 'Impacto la satisfacción',\n",
    "       'Pérfil Cliente', 'Chismes', 'Observaciones']]\n",
    "\n",
    "data.index = range(data.shape[0])"
   ]
  },
  {
   "cell_type": "code",
   "execution_count": 178,
   "metadata": {},
   "outputs": [
    {
     "name": "stdout",
     "output_type": "stream",
     "text": [
      "60\n"
     ]
    }
   ],
   "source": [
    "data = data[data['CodFinalización'] == 'consulta estado de la tarjeta'] ######## 1 Cambio filtro #Comentarear en caso de hacer tópicos generales\n",
    "clasificacion = 'Problemas con el proceso' ###### 2 Cambio la columna a entrenas #'Expectativa no cubierta' #'Problemas con el producto' #'Usabilidad'\n",
    "data.dropna(subset=[clasificacion], inplace=True)\n",
    "data.reset_index(drop=True, inplace=True)\n",
    "print(len(data))\n",
    "#data[clasificacion].value_counts()"
   ]
  },
  {
   "cell_type": "code",
   "execution_count": 179,
   "metadata": {},
   "outputs": [],
   "source": [
    "df = data.copy()\n",
    "for i in range(1,1): ######### 3 Cambio\n",
    "    df = pd.concat([df,data])"
   ]
  },
  {
   "cell_type": "markdown",
   "metadata": {},
   "source": [
    "#### Red Neuronal"
   ]
  },
  {
   "cell_type": "code",
   "execution_count": 180,
   "metadata": {},
   "outputs": [],
   "source": [
    "datos = df.Cliente_l\n",
    "tipificaciones=df[clasificacion]\n",
    "\n",
    "X_train, X_test, y_train, y_test = train_test_split(datos, tipificaciones)\n",
    "count_vect = CountVectorizer()\n",
    "X_train_counts = count_vect.fit_transform(X_train)\n",
    "tfidf_transformer = TfidfTransformer()\n",
    "X_train_tfidf = tfidf_transformer.fit_transform(X_train_counts)"
   ]
  },
  {
   "cell_type": "code",
   "execution_count": 181,
   "metadata": {},
   "outputs": [
    {
     "name": "stderr",
     "output_type": "stream",
     "text": [
      "C:\\Users\\dgarmor\\.conda\\envs\\Environments\\lib\\site-packages\\sklearn\\neural_network\\_multilayer_perceptron.py:585: ConvergenceWarning: Stochastic Optimizer: Maximum iterations (512) reached and the optimization hasn't converged yet.\n",
      "  % self.max_iter, ConvergenceWarning)\n"
     ]
    },
    {
     "data": {
      "text/plain": [
       "MLPClassifier(hidden_layer_sizes=5, max_iter=512)"
      ]
     },
     "execution_count": 181,
     "metadata": {},
     "output_type": "execute_result"
    }
   ],
   "source": [
    "red=MLPClassifier(max_iter=512, hidden_layer_sizes=(5)) \n",
    "red.fit(X_train_tfidf, y_train)"
   ]
  },
  {
   "cell_type": "code",
   "execution_count": 182,
   "metadata": {},
   "outputs": [
    {
     "data": {
      "text/plain": [
       "0.9111111111111111"
      ]
     },
     "execution_count": 182,
     "metadata": {},
     "output_type": "execute_result"
    }
   ],
   "source": [
    "red.score(X_train_tfidf, y_train)"
   ]
  },
  {
   "cell_type": "code",
   "execution_count": 183,
   "metadata": {},
   "outputs": [
    {
     "data": {
      "text/plain": [
       "60"
      ]
     },
     "execution_count": 183,
     "metadata": {},
     "output_type": "execute_result"
    }
   ],
   "source": [
    "idclasificados = df['CallID'].unique()\n",
    "len(idclasificados)"
   ]
  },
  {
   "cell_type": "code",
   "execution_count": 184,
   "metadata": {},
   "outputs": [
    {
     "name": "stdout",
     "output_type": "stream",
     "text": [
      "(155, 5)\n",
      "(155, 5)\n"
     ]
    }
   ],
   "source": [
    "#conversacion = pd.read_excel('perulapropia.xlsx', sheet_name='concat')\n",
    "topicosconsul = concat\n",
    "#topicosconsul = conversacion[conversacion['Canal'] == 'Consultora']\n",
    "topicosconsul = topicosconsul[topicosconsul['CallID'].isin(idtipo)] #### 1 advertencias: primero haber ejectuado la seccion Tipo producto #Comentar en caso de no realizar topicos generales\n",
    "print(topicosconsul.shape)\n",
    "topicosconsul = topicosconsul[topicosconsul['CallID'].isin(idclasificados)== False].reset_index(drop=True) ############\n",
    "print(topicosconsul.shape)"
   ]
  },
  {
   "cell_type": "code",
   "execution_count": 185,
   "metadata": {},
   "outputs": [
    {
     "data": {
      "text/html": [
       "<div>\n",
       "<style scoped>\n",
       "    .dataframe tbody tr th:only-of-type {\n",
       "        vertical-align: middle;\n",
       "    }\n",
       "\n",
       "    .dataframe tbody tr th {\n",
       "        vertical-align: top;\n",
       "    }\n",
       "\n",
       "    .dataframe thead th {\n",
       "        text-align: right;\n",
       "    }\n",
       "</style>\n",
       "<table border=\"1\" class=\"dataframe\">\n",
       "  <thead>\n",
       "    <tr style=\"text-align: right;\">\n",
       "      <th></th>\n",
       "      <th>CallID</th>\n",
       "      <th>Asesor</th>\n",
       "      <th>Cliente</th>\n",
       "      <th>Asesor_l</th>\n",
       "      <th>Cliente_l</th>\n",
       "      <th>Problemas con el proceso</th>\n",
       "    </tr>\n",
       "  </thead>\n",
       "  <tbody>\n",
       "    <tr>\n",
       "      <th>0</th>\n",
       "      <td>L1AOU5FFDD5EHCHE5D9QFT12K003QEHN</td>\n",
       "      <td>buenos días mi nombre es julián ospina al señ...</td>\n",
       "      <td>hola señorita muy bien gracias a dios la preg...</td>\n",
       "      <td>buenos días mi nombre es julián ospina al señ...</td>\n",
       "      <td>hola señorita muy bien gracias a dios la preg...</td>\n",
       "      <td>No se brinda información: Cliente sin autenticar</td>\n",
       "    </tr>\n",
       "    <tr>\n",
       "      <th>1</th>\n",
       "      <td>T8DROH1CEH4Q99TTQQ7ENTI6K4013K84</td>\n",
       "      <td>buenos días habla con jessica tengo luz solar...</td>\n",
       "      <td>es muy rara van a llegar no entiendas y tengo...</td>\n",
       "      <td>buenos días habla con jessica tengo luz solar...</td>\n",
       "      <td>es muy rara van a llegar no entiendas y tengo...</td>\n",
       "      <td>No se brinda información: Cliente sin autenticar</td>\n",
       "    </tr>\n",
       "    <tr>\n",
       "      <th>2</th>\n",
       "      <td>TIO7733R3T3NHFEIE9KC3OADV800RT4U</td>\n",
       "      <td>muy buenas tardes dime la línea de tuya mi no...</td>\n",
       "      <td>señor cómo está sentado muy bien gracias mira...</td>\n",
       "      <td>muy buenas tardes dime la línea de tuya mi no...</td>\n",
       "      <td>señor cómo está sentado muy bien gracias mira...</td>\n",
       "      <td>No se brinda información: Cliente sin autenticar</td>\n",
       "    </tr>\n",
       "    <tr>\n",
       "      <th>3</th>\n",
       "      <td>L1AOU5FFDD5EHCHE5D9QFT12K00456K2</td>\n",
       "      <td>buenas tardes mi nombre es laura tengo el gus...</td>\n",
       "      <td>pero lo que pasa es que ando un poco mensaje ...</td>\n",
       "      <td>buenas tardes mi nombre es laura tengo el gus...</td>\n",
       "      <td>pero lo que pasa es que ando un poco mensaje ...</td>\n",
       "      <td>No se brinda información: Cliente sin autenticar</td>\n",
       "    </tr>\n",
       "    <tr>\n",
       "      <th>4</th>\n",
       "      <td>80I4890E4544H1VFVKDLFNILGC04VGUE</td>\n",
       "      <td>hola feliz tarde mi nombre es juan hacedor tu...</td>\n",
       "      <td>buenas tardes mira lo que pasa es que en el c...</td>\n",
       "      <td>hola feliz tarde mi nombre es juan hacedor tu...</td>\n",
       "      <td>buenas tardes mira lo que pasa es que en el c...</td>\n",
       "      <td>No se brinda información: Cliente sin autenticar</td>\n",
       "    </tr>\n",
       "    <tr>\n",
       "      <th>...</th>\n",
       "      <td>...</td>\n",
       "      <td>...</td>\n",
       "      <td>...</td>\n",
       "      <td>...</td>\n",
       "      <td>...</td>\n",
       "      <td>...</td>\n",
       "    </tr>\n",
       "    <tr>\n",
       "      <th>150</th>\n",
       "      <td>L1AOU5FFDD5EHCHE5D9QFT12K004MRN7</td>\n",
       "      <td>buenas tardes habla con jessica con quien ten...</td>\n",
       "      <td>buenas tardes compañera te hablan acá no en l...</td>\n",
       "      <td>buenas tardes habla con jessica con quien ten...</td>\n",
       "      <td>buenas tardes compañera te hablan acá no en l...</td>\n",
       "      <td>No se brinda información: Cliente sin autenticar</td>\n",
       "    </tr>\n",
       "    <tr>\n",
       "      <th>151</th>\n",
       "      <td>L1AOU5FFDD5EHCHE5D9QFT12K003VS5U</td>\n",
       "      <td>muy buenas tardes habla con esa peña césar de...</td>\n",
       "      <td>amanda rodríguez muy bien gracias a dios buen...</td>\n",
       "      <td>muy buenas tardes habla con esa peña césar de...</td>\n",
       "      <td>amanda rodríguez muy bien gracias a dios buen...</td>\n",
       "      <td>No se brinda información: Cliente sin autenticar</td>\n",
       "    </tr>\n",
       "    <tr>\n",
       "      <th>152</th>\n",
       "      <td>T8DROH1CEH4Q99TTQQ7ENTI6K4016Q9Q</td>\n",
       "      <td>muy buenas tardes le habla maría fernanda mar...</td>\n",
       "      <td>para que llegue patológico ir a maría fernand...</td>\n",
       "      <td>muy buenas tardes le habla maría fernanda mar...</td>\n",
       "      <td>para que llegue patológico ir a maría fernand...</td>\n",
       "      <td>No se brinda información: Cliente sin autenticar</td>\n",
       "    </tr>\n",
       "    <tr>\n",
       "      <th>153</th>\n",
       "      <td>L1AOU5FFDD5EHCHE5D9QFT12K00496BQ</td>\n",
       "      <td>buenas tardes mi nombre es laura tengo el gus...</td>\n",
       "      <td>siri cómo estás laura en atención compañero q...</td>\n",
       "      <td>buenas tardes mi nombre es laura tengo el gus...</td>\n",
       "      <td>siri cómo estás laura en atención compañero q...</td>\n",
       "      <td>No se brinda información: Cliente sin autenticar</td>\n",
       "    </tr>\n",
       "    <tr>\n",
       "      <th>154</th>\n",
       "      <td>1BDJ5HE3VH49BE2DOONBQ25OJC0025OE</td>\n",
       "      <td>buenas tardes habla melisa cosa tengo el gust...</td>\n",
       "      <td>sí cómo no melisa cómo ha estado bien bien me...</td>\n",
       "      <td>buenas tardes habla melisa cosa tengo el gust...</td>\n",
       "      <td>sí cómo no melisa cómo ha estado bien bien me...</td>\n",
       "      <td>No se brinda información: Cliente sin autenticar</td>\n",
       "    </tr>\n",
       "  </tbody>\n",
       "</table>\n",
       "<p>155 rows × 6 columns</p>\n",
       "</div>"
      ],
      "text/plain": [
       "                               CallID  \\\n",
       "0    L1AOU5FFDD5EHCHE5D9QFT12K003QEHN   \n",
       "1    T8DROH1CEH4Q99TTQQ7ENTI6K4013K84   \n",
       "2    TIO7733R3T3NHFEIE9KC3OADV800RT4U   \n",
       "3    L1AOU5FFDD5EHCHE5D9QFT12K00456K2   \n",
       "4    80I4890E4544H1VFVKDLFNILGC04VGUE   \n",
       "..                                ...   \n",
       "150  L1AOU5FFDD5EHCHE5D9QFT12K004MRN7   \n",
       "151  L1AOU5FFDD5EHCHE5D9QFT12K003VS5U   \n",
       "152  T8DROH1CEH4Q99TTQQ7ENTI6K4016Q9Q   \n",
       "153  L1AOU5FFDD5EHCHE5D9QFT12K00496BQ   \n",
       "154  1BDJ5HE3VH49BE2DOONBQ25OJC0025OE   \n",
       "\n",
       "                                                Asesor  \\\n",
       "0     buenos días mi nombre es julián ospina al señ...   \n",
       "1     buenos días habla con jessica tengo luz solar...   \n",
       "2     muy buenas tardes dime la línea de tuya mi no...   \n",
       "3     buenas tardes mi nombre es laura tengo el gus...   \n",
       "4     hola feliz tarde mi nombre es juan hacedor tu...   \n",
       "..                                                 ...   \n",
       "150   buenas tardes habla con jessica con quien ten...   \n",
       "151   muy buenas tardes habla con esa peña césar de...   \n",
       "152   muy buenas tardes le habla maría fernanda mar...   \n",
       "153   buenas tardes mi nombre es laura tengo el gus...   \n",
       "154   buenas tardes habla melisa cosa tengo el gust...   \n",
       "\n",
       "                                               Cliente  \\\n",
       "0     hola señorita muy bien gracias a dios la preg...   \n",
       "1     es muy rara van a llegar no entiendas y tengo...   \n",
       "2     señor cómo está sentado muy bien gracias mira...   \n",
       "3     pero lo que pasa es que ando un poco mensaje ...   \n",
       "4     buenas tardes mira lo que pasa es que en el c...   \n",
       "..                                                 ...   \n",
       "150   buenas tardes compañera te hablan acá no en l...   \n",
       "151   amanda rodríguez muy bien gracias a dios buen...   \n",
       "152   para que llegue patológico ir a maría fernand...   \n",
       "153   siri cómo estás laura en atención compañero q...   \n",
       "154   sí cómo no melisa cómo ha estado bien bien me...   \n",
       "\n",
       "                                              Asesor_l  \\\n",
       "0     buenos días mi nombre es julián ospina al señ...   \n",
       "1     buenos días habla con jessica tengo luz solar...   \n",
       "2     muy buenas tardes dime la línea de tuya mi no...   \n",
       "3     buenas tardes mi nombre es laura tengo el gus...   \n",
       "4     hola feliz tarde mi nombre es juan hacedor tu...   \n",
       "..                                                 ...   \n",
       "150   buenas tardes habla con jessica con quien ten...   \n",
       "151   muy buenas tardes habla con esa peña césar de...   \n",
       "152   muy buenas tardes le habla maría fernanda mar...   \n",
       "153   buenas tardes mi nombre es laura tengo el gus...   \n",
       "154   buenas tardes habla melisa cosa tengo el gust...   \n",
       "\n",
       "                                             Cliente_l  \\\n",
       "0     hola señorita muy bien gracias a dios la preg...   \n",
       "1     es muy rara van a llegar no entiendas y tengo...   \n",
       "2     señor cómo está sentado muy bien gracias mira...   \n",
       "3     pero lo que pasa es que ando un poco mensaje ...   \n",
       "4     buenas tardes mira lo que pasa es que en el c...   \n",
       "..                                                 ...   \n",
       "150   buenas tardes compañera te hablan acá no en l...   \n",
       "151   amanda rodríguez muy bien gracias a dios buen...   \n",
       "152   para que llegue patológico ir a maría fernand...   \n",
       "153   siri cómo estás laura en atención compañero q...   \n",
       "154   sí cómo no melisa cómo ha estado bien bien me...   \n",
       "\n",
       "                             Problemas con el proceso  \n",
       "0    No se brinda información: Cliente sin autenticar  \n",
       "1    No se brinda información: Cliente sin autenticar  \n",
       "2    No se brinda información: Cliente sin autenticar  \n",
       "3    No se brinda información: Cliente sin autenticar  \n",
       "4    No se brinda información: Cliente sin autenticar  \n",
       "..                                                ...  \n",
       "150  No se brinda información: Cliente sin autenticar  \n",
       "151  No se brinda información: Cliente sin autenticar  \n",
       "152  No se brinda información: Cliente sin autenticar  \n",
       "153  No se brinda información: Cliente sin autenticar  \n",
       "154  No se brinda información: Cliente sin autenticar  \n",
       "\n",
       "[155 rows x 6 columns]"
      ]
     },
     "execution_count": 185,
     "metadata": {},
     "output_type": "execute_result"
    }
   ],
   "source": [
    "datos = topicosconsul[\"Cliente_l\"].values\n",
    "topicosconsul[clasificacion] = red.predict(count_vect.transform(datos))\n",
    "topicosconsul"
   ]
  },
  {
   "cell_type": "markdown",
   "metadata": {},
   "source": [
    "#### Concatenar Bases"
   ]
  },
  {
   "cell_type": "code",
   "execution_count": 186,
   "metadata": {},
   "outputs": [
    {
     "data": {
      "text/plain": [
       "60"
      ]
     },
     "execution_count": 186,
     "metadata": {},
     "output_type": "execute_result"
    }
   ],
   "source": [
    "clasificada = concat[concat['CallID'].isin(idclasificados)].reset_index(drop=True)\n",
    "len(clasificada)"
   ]
  },
  {
   "cell_type": "code",
   "execution_count": 187,
   "metadata": {},
   "outputs": [
    {
     "data": {
      "text/plain": [
       "60"
      ]
     },
     "execution_count": 187,
     "metadata": {},
     "output_type": "execute_result"
    }
   ],
   "source": [
    "pivot = data[['CallID', clasificacion]]\n",
    "clasdic = clasificada.merge(pivot, on='CallID', how='left')\n",
    "len(clasdic)"
   ]
  },
  {
   "cell_type": "code",
   "execution_count": 188,
   "metadata": {},
   "outputs": [
    {
     "data": {
      "text/plain": [
       "0"
      ]
     },
     "execution_count": 188,
     "metadata": {},
     "output_type": "execute_result"
    }
   ],
   "source": [
    "clasdic[clasificacion].isnull().sum()"
   ]
  },
  {
   "cell_type": "code",
   "execution_count": 189,
   "metadata": {},
   "outputs": [],
   "source": [
    "dffinal = pd.concat([clasdic, topicosconsul]).reset_index(drop=True)"
   ]
  },
  {
   "cell_type": "markdown",
   "metadata": {},
   "source": [
    "#### Validación"
   ]
  },
  {
   "cell_type": "code",
   "execution_count": 190,
   "metadata": {},
   "outputs": [
    {
     "name": "stdout",
     "output_type": "stream",
     "text": [
      "No se brinda información: Cliente sin autenticar                 0.558140\n",
      "Consultar saldo del producto                                     0.195349\n",
      "Tarjeta bloqueada por acuerdo de pago                            0.041860\n",
      "Cancelación de tarjeta voluntaria                                0.023256\n",
      "No activan la tarjeta a tiempo                                   0.018605\n",
      "Inconformidad: Tarjeta bloqueada                                 0.018605\n",
      "información: reposición y reexpedición de tarjeta                0.013953\n",
      "Tarjeta cancelada por la compañía                                0.009302\n",
      "Desconocimiento: tiempo de aplicación de pago                    0.009302\n",
      "Desconocimiento: olvido de clave                                 0.009302\n",
      "Cliente solicita certificado: paz y salvo                        0.009302\n",
      "Demora para entrega de tarjeta                                   0.009302\n",
      "Desconocimiento: cupo de tarjeta                                 0.009302\n",
      "cliente solicita bloqueo de tarjeta por perdida                  0.004651\n",
      "Reporte en centrales de riesgo                                   0.004651\n",
      "Aumento de la deuda: Nuevas Utilizaciones                        0.004651\n",
      "Gestión de cobro, cliente ya pagó                                0.004651\n",
      "Confusión: Funcionamiento de la tarjeta y sus caracteristicas    0.004651\n",
      "Información a terceros                                           0.004651\n",
      "Desconocimento: de cobro por interes vencido                     0.004651\n",
      "Distribución de pagos: Paga anticipado, evade interés            0.004651\n",
      "Cobro de inetrés mes vencido                                     0.004651\n",
      "Información: valor y medios de pago                              0.004651\n",
      "Desconocimiento de la distribución de pagos                      0.004651\n",
      "Entrega certificada: Entrega de tarjeta a tercero                0.004651\n",
      "Consulta solicitud crédito                                       0.004651\n",
      "Información: disminución de cuota                                0.004651\n",
      "Desconocimiento: cuota de manejo                                 0.004651\n",
      "Inconvenientes solicitud de levantamiento de prenda              0.004651\n",
      "Name: Problemas con el proceso, dtype: float64\n"
     ]
    }
   ],
   "source": [
    "print(dffinal[clasificacion].value_counts(normalize=True)) "
   ]
  },
  {
   "cell_type": "code",
   "execution_count": 191,
   "metadata": {},
   "outputs": [
    {
     "name": "stdout",
     "output_type": "stream",
     "text": [
      "Consultar saldo del producto                                     0.150000\n",
      "Tarjeta bloqueada por acuerdo de pago                            0.133333\n",
      "No activan la tarjeta a tiempo                                   0.066667\n",
      "información: reposición y reexpedición de tarjeta                0.050000\n",
      "No se brinda información: Cliente sin autenticar                 0.050000\n",
      "Cancelación de tarjeta voluntaria                                0.050000\n",
      "Tarjeta cancelada por la compañía                                0.033333\n",
      "Inconformidad: Tarjeta bloqueada                                 0.033333\n",
      "Desconocimiento: tiempo de aplicación de pago                    0.033333\n",
      "Desconocimiento: olvido de clave                                 0.033333\n",
      "Cliente solicita certificado: paz y salvo                        0.033333\n",
      "Demora para entrega de tarjeta                                   0.033333\n",
      "Desconocimiento: cupo de tarjeta                                 0.033333\n",
      "cliente solicita bloqueo de tarjeta por perdida                  0.016667\n",
      "Reporte en centrales de riesgo                                   0.016667\n",
      "Aumento de la deuda: Nuevas Utilizaciones                        0.016667\n",
      "Gestión de cobro, cliente ya pagó                                0.016667\n",
      "Confusión: Funcionamiento de la tarjeta y sus caracteristicas    0.016667\n",
      "Información a terceros                                           0.016667\n",
      "Desconocimento: de cobro por interes vencido                     0.016667\n",
      "Distribución de pagos: Paga anticipado, evade interés            0.016667\n",
      "Cobro de inetrés mes vencido                                     0.016667\n",
      "Información: valor y medios de pago                              0.016667\n",
      "Desconocimiento de la distribución de pagos                      0.016667\n",
      "Entrega certificada: Entrega de tarjeta a tercero                0.016667\n",
      "Consulta solicitud crédito                                       0.016667\n",
      "Información: disminución de cuota                                0.016667\n",
      "Desconocimiento: cuota de manejo                                 0.016667\n",
      "Inconvenientes solicitud de levantamiento de prenda              0.016667\n",
      "Name: Problemas con el proceso, dtype: float64\n"
     ]
    }
   ],
   "source": [
    "print(data[clasificacion].value_counts(normalize=True))"
   ]
  },
  {
   "cell_type": "code",
   "execution_count": 192,
   "metadata": {},
   "outputs": [],
   "source": [
    "dffinal.to_excel('D:/Proyecto Speech Tuya/Clasificación/consulta estado de la tarjeta - proceso.xlsx') ## exportar archivo"
   ]
  },
  {
   "cell_type": "markdown",
   "metadata": {},
   "source": [
    "### Consulta Estado de la Tarjeta - Problemas con el Producto"
   ]
  },
  {
   "cell_type": "code",
   "execution_count": 193,
   "metadata": {},
   "outputs": [],
   "source": [
    "data = concat.merge(diccionarios, on='CallID', how='left')"
   ]
  },
  {
   "cell_type": "code",
   "execution_count": 194,
   "metadata": {},
   "outputs": [],
   "source": [
    "data = data[['CallID', 'Asesor', 'Cliente', 'Asesor_l', 'Cliente_l', 'Fecha', \n",
    "       'CodFinalización', 'Productos', 'Problemas con el proceso',\n",
    "       'Problemas con la tecnología', 'Impacto la satisfacción',\n",
    "       'Pérfil Cliente', 'Chismes', 'Observaciones']]\n",
    "\n",
    "data.index = range(data.shape[0])"
   ]
  },
  {
   "cell_type": "code",
   "execution_count": 195,
   "metadata": {},
   "outputs": [
    {
     "name": "stdout",
     "output_type": "stream",
     "text": [
      "72\n"
     ]
    }
   ],
   "source": [
    "data = data[data['CodFinalización'] == 'consulta estado de la tarjeta'] ######## 1 Cambio filtro #Comentarear en caso de hacer tópicos generales\n",
    "clasificacion = 'Productos' ###### 2 Cambio la columna a entrenas #'Expectativa no cubierta' #'Problemas con el producto' #'Usabilidad'\n",
    "data.dropna(subset=[clasificacion], inplace=True)\n",
    "data.reset_index(drop=True, inplace=True)\n",
    "print(len(data))\n",
    "#data[clasificacion].value_counts()"
   ]
  },
  {
   "cell_type": "code",
   "execution_count": 196,
   "metadata": {},
   "outputs": [],
   "source": [
    "df = data.copy()\n",
    "for i in range(1,10): ######### 3 Cambio\n",
    "    df = pd.concat([df,data])"
   ]
  },
  {
   "cell_type": "markdown",
   "metadata": {},
   "source": [
    "#### Red Neuronal"
   ]
  },
  {
   "cell_type": "code",
   "execution_count": 197,
   "metadata": {},
   "outputs": [],
   "source": [
    "datos = df.Cliente_l\n",
    "tipificaciones=df[clasificacion]\n",
    "\n",
    "X_train, X_test, y_train, y_test = train_test_split(datos, tipificaciones)\n",
    "count_vect = CountVectorizer()\n",
    "X_train_counts = count_vect.fit_transform(X_train)\n",
    "tfidf_transformer = TfidfTransformer()\n",
    "X_train_tfidf = tfidf_transformer.fit_transform(X_train_counts)"
   ]
  },
  {
   "cell_type": "code",
   "execution_count": 198,
   "metadata": {},
   "outputs": [
    {
     "name": "stderr",
     "output_type": "stream",
     "text": [
      "C:\\Users\\dgarmor\\.conda\\envs\\Environments\\lib\\site-packages\\sklearn\\neural_network\\_multilayer_perceptron.py:585: ConvergenceWarning: Stochastic Optimizer: Maximum iterations (512) reached and the optimization hasn't converged yet.\n",
      "  % self.max_iter, ConvergenceWarning)\n"
     ]
    },
    {
     "data": {
      "text/plain": [
       "MLPClassifier(hidden_layer_sizes=5, max_iter=512)"
      ]
     },
     "execution_count": 198,
     "metadata": {},
     "output_type": "execute_result"
    }
   ],
   "source": [
    "red=MLPClassifier(max_iter=512, hidden_layer_sizes=(5)) \n",
    "red.fit(X_train_tfidf, y_train)"
   ]
  },
  {
   "cell_type": "code",
   "execution_count": 199,
   "metadata": {},
   "outputs": [
    {
     "data": {
      "text/plain": [
       "0.9074074074074074"
      ]
     },
     "execution_count": 199,
     "metadata": {},
     "output_type": "execute_result"
    }
   ],
   "source": [
    "red.score(X_train_tfidf, y_train)"
   ]
  },
  {
   "cell_type": "code",
   "execution_count": 200,
   "metadata": {},
   "outputs": [
    {
     "data": {
      "text/plain": [
       "72"
      ]
     },
     "execution_count": 200,
     "metadata": {},
     "output_type": "execute_result"
    }
   ],
   "source": [
    "idclasificados = df['CallID'].unique()\n",
    "len(idclasificados)"
   ]
  },
  {
   "cell_type": "code",
   "execution_count": 201,
   "metadata": {},
   "outputs": [
    {
     "name": "stdout",
     "output_type": "stream",
     "text": [
      "(155, 5)\n",
      "(155, 5)\n"
     ]
    }
   ],
   "source": [
    "#conversacion = pd.read_excel('perulapropia.xlsx', sheet_name='concat')\n",
    "topicosconsul = concat\n",
    "#topicosconsul = conversacion[conversacion['Canal'] == 'Consultora']\n",
    "topicosconsul = topicosconsul[topicosconsul['CallID'].isin(idtipo)] #### 1 advertencias: primero haber ejectuado la seccion Tipo producto #Comentar en caso de no realizar topicos generales\n",
    "print(topicosconsul.shape)\n",
    "topicosconsul = topicosconsul[topicosconsul['CallID'].isin(idclasificados)== False].reset_index(drop=True) ############\n",
    "print(topicosconsul.shape)"
   ]
  },
  {
   "cell_type": "code",
   "execution_count": 202,
   "metadata": {},
   "outputs": [
    {
     "data": {
      "text/html": [
       "<div>\n",
       "<style scoped>\n",
       "    .dataframe tbody tr th:only-of-type {\n",
       "        vertical-align: middle;\n",
       "    }\n",
       "\n",
       "    .dataframe tbody tr th {\n",
       "        vertical-align: top;\n",
       "    }\n",
       "\n",
       "    .dataframe thead th {\n",
       "        text-align: right;\n",
       "    }\n",
       "</style>\n",
       "<table border=\"1\" class=\"dataframe\">\n",
       "  <thead>\n",
       "    <tr style=\"text-align: right;\">\n",
       "      <th></th>\n",
       "      <th>CallID</th>\n",
       "      <th>Asesor</th>\n",
       "      <th>Cliente</th>\n",
       "      <th>Asesor_l</th>\n",
       "      <th>Cliente_l</th>\n",
       "      <th>Productos</th>\n",
       "    </tr>\n",
       "  </thead>\n",
       "  <tbody>\n",
       "    <tr>\n",
       "      <th>0</th>\n",
       "      <td>L1AOU5FFDD5EHCHE5D9QFT12K003QEHN</td>\n",
       "      <td>buenos días mi nombre es julián ospina al señ...</td>\n",
       "      <td>hola señorita muy bien gracias a dios la preg...</td>\n",
       "      <td>buenos días mi nombre es julián ospina al señ...</td>\n",
       "      <td>hola señorita muy bien gracias a dios la preg...</td>\n",
       "      <td>Cliente quiere cambiar el estado de su tarjeta...</td>\n",
       "    </tr>\n",
       "    <tr>\n",
       "      <th>1</th>\n",
       "      <td>T8DROH1CEH4Q99TTQQ7ENTI6K4013K84</td>\n",
       "      <td>buenos días habla con jessica tengo luz solar...</td>\n",
       "      <td>es muy rara van a llegar no entiendas y tengo...</td>\n",
       "      <td>buenos días habla con jessica tengo luz solar...</td>\n",
       "      <td>es muy rara van a llegar no entiendas y tengo...</td>\n",
       "      <td>Cliente quiere cambiar el estado de su tarjeta...</td>\n",
       "    </tr>\n",
       "    <tr>\n",
       "      <th>2</th>\n",
       "      <td>TIO7733R3T3NHFEIE9KC3OADV800RT4U</td>\n",
       "      <td>muy buenas tardes dime la línea de tuya mi no...</td>\n",
       "      <td>señor cómo está sentado muy bien gracias mira...</td>\n",
       "      <td>muy buenas tardes dime la línea de tuya mi no...</td>\n",
       "      <td>señor cómo está sentado muy bien gracias mira...</td>\n",
       "      <td>Cliente quiere cambiar el estado de su tarjeta...</td>\n",
       "    </tr>\n",
       "    <tr>\n",
       "      <th>3</th>\n",
       "      <td>L1AOU5FFDD5EHCHE5D9QFT12K00456K2</td>\n",
       "      <td>buenas tardes mi nombre es laura tengo el gus...</td>\n",
       "      <td>pero lo que pasa es que ando un poco mensaje ...</td>\n",
       "      <td>buenas tardes mi nombre es laura tengo el gus...</td>\n",
       "      <td>pero lo que pasa es que ando un poco mensaje ...</td>\n",
       "      <td>Cliente quiere cambiar el estado de su tarjeta...</td>\n",
       "    </tr>\n",
       "    <tr>\n",
       "      <th>4</th>\n",
       "      <td>80I4890E4544H1VFVKDLFNILGC04VGUE</td>\n",
       "      <td>hola feliz tarde mi nombre es juan hacedor tu...</td>\n",
       "      <td>buenas tardes mira lo que pasa es que en el c...</td>\n",
       "      <td>hola feliz tarde mi nombre es juan hacedor tu...</td>\n",
       "      <td>buenas tardes mira lo que pasa es que en el c...</td>\n",
       "      <td>Cliente quiere cambiar el estado de su tarjeta...</td>\n",
       "    </tr>\n",
       "    <tr>\n",
       "      <th>...</th>\n",
       "      <td>...</td>\n",
       "      <td>...</td>\n",
       "      <td>...</td>\n",
       "      <td>...</td>\n",
       "      <td>...</td>\n",
       "      <td>...</td>\n",
       "    </tr>\n",
       "    <tr>\n",
       "      <th>150</th>\n",
       "      <td>L1AOU5FFDD5EHCHE5D9QFT12K004MRN7</td>\n",
       "      <td>buenas tardes habla con jessica con quien ten...</td>\n",
       "      <td>buenas tardes compañera te hablan acá no en l...</td>\n",
       "      <td>buenas tardes habla con jessica con quien ten...</td>\n",
       "      <td>buenas tardes compañera te hablan acá no en l...</td>\n",
       "      <td>Cliente quiere cambiar el estado de su tarjeta...</td>\n",
       "    </tr>\n",
       "    <tr>\n",
       "      <th>151</th>\n",
       "      <td>L1AOU5FFDD5EHCHE5D9QFT12K003VS5U</td>\n",
       "      <td>muy buenas tardes habla con esa peña césar de...</td>\n",
       "      <td>amanda rodríguez muy bien gracias a dios buen...</td>\n",
       "      <td>muy buenas tardes habla con esa peña césar de...</td>\n",
       "      <td>amanda rodríguez muy bien gracias a dios buen...</td>\n",
       "      <td>Cliente quiere cambiar el estado de su tarjeta...</td>\n",
       "    </tr>\n",
       "    <tr>\n",
       "      <th>152</th>\n",
       "      <td>T8DROH1CEH4Q99TTQQ7ENTI6K4016Q9Q</td>\n",
       "      <td>muy buenas tardes le habla maría fernanda mar...</td>\n",
       "      <td>para que llegue patológico ir a maría fernand...</td>\n",
       "      <td>muy buenas tardes le habla maría fernanda mar...</td>\n",
       "      <td>para que llegue patológico ir a maría fernand...</td>\n",
       "      <td>Cliente quiere cambiar el estado de su tarjeta...</td>\n",
       "    </tr>\n",
       "    <tr>\n",
       "      <th>153</th>\n",
       "      <td>L1AOU5FFDD5EHCHE5D9QFT12K00496BQ</td>\n",
       "      <td>buenas tardes mi nombre es laura tengo el gus...</td>\n",
       "      <td>siri cómo estás laura en atención compañero q...</td>\n",
       "      <td>buenas tardes mi nombre es laura tengo el gus...</td>\n",
       "      <td>siri cómo estás laura en atención compañero q...</td>\n",
       "      <td>Cliente quiere cambiar el estado de su tarjeta...</td>\n",
       "    </tr>\n",
       "    <tr>\n",
       "      <th>154</th>\n",
       "      <td>1BDJ5HE3VH49BE2DOONBQ25OJC0025OE</td>\n",
       "      <td>buenas tardes habla melisa cosa tengo el gust...</td>\n",
       "      <td>sí cómo no melisa cómo ha estado bien bien me...</td>\n",
       "      <td>buenas tardes habla melisa cosa tengo el gust...</td>\n",
       "      <td>sí cómo no melisa cómo ha estado bien bien me...</td>\n",
       "      <td>Cliente quiere cambiar el estado de su tarjeta...</td>\n",
       "    </tr>\n",
       "  </tbody>\n",
       "</table>\n",
       "<p>155 rows × 6 columns</p>\n",
       "</div>"
      ],
      "text/plain": [
       "                               CallID  \\\n",
       "0    L1AOU5FFDD5EHCHE5D9QFT12K003QEHN   \n",
       "1    T8DROH1CEH4Q99TTQQ7ENTI6K4013K84   \n",
       "2    TIO7733R3T3NHFEIE9KC3OADV800RT4U   \n",
       "3    L1AOU5FFDD5EHCHE5D9QFT12K00456K2   \n",
       "4    80I4890E4544H1VFVKDLFNILGC04VGUE   \n",
       "..                                ...   \n",
       "150  L1AOU5FFDD5EHCHE5D9QFT12K004MRN7   \n",
       "151  L1AOU5FFDD5EHCHE5D9QFT12K003VS5U   \n",
       "152  T8DROH1CEH4Q99TTQQ7ENTI6K4016Q9Q   \n",
       "153  L1AOU5FFDD5EHCHE5D9QFT12K00496BQ   \n",
       "154  1BDJ5HE3VH49BE2DOONBQ25OJC0025OE   \n",
       "\n",
       "                                                Asesor  \\\n",
       "0     buenos días mi nombre es julián ospina al señ...   \n",
       "1     buenos días habla con jessica tengo luz solar...   \n",
       "2     muy buenas tardes dime la línea de tuya mi no...   \n",
       "3     buenas tardes mi nombre es laura tengo el gus...   \n",
       "4     hola feliz tarde mi nombre es juan hacedor tu...   \n",
       "..                                                 ...   \n",
       "150   buenas tardes habla con jessica con quien ten...   \n",
       "151   muy buenas tardes habla con esa peña césar de...   \n",
       "152   muy buenas tardes le habla maría fernanda mar...   \n",
       "153   buenas tardes mi nombre es laura tengo el gus...   \n",
       "154   buenas tardes habla melisa cosa tengo el gust...   \n",
       "\n",
       "                                               Cliente  \\\n",
       "0     hola señorita muy bien gracias a dios la preg...   \n",
       "1     es muy rara van a llegar no entiendas y tengo...   \n",
       "2     señor cómo está sentado muy bien gracias mira...   \n",
       "3     pero lo que pasa es que ando un poco mensaje ...   \n",
       "4     buenas tardes mira lo que pasa es que en el c...   \n",
       "..                                                 ...   \n",
       "150   buenas tardes compañera te hablan acá no en l...   \n",
       "151   amanda rodríguez muy bien gracias a dios buen...   \n",
       "152   para que llegue patológico ir a maría fernand...   \n",
       "153   siri cómo estás laura en atención compañero q...   \n",
       "154   sí cómo no melisa cómo ha estado bien bien me...   \n",
       "\n",
       "                                              Asesor_l  \\\n",
       "0     buenos días mi nombre es julián ospina al señ...   \n",
       "1     buenos días habla con jessica tengo luz solar...   \n",
       "2     muy buenas tardes dime la línea de tuya mi no...   \n",
       "3     buenas tardes mi nombre es laura tengo el gus...   \n",
       "4     hola feliz tarde mi nombre es juan hacedor tu...   \n",
       "..                                                 ...   \n",
       "150   buenas tardes habla con jessica con quien ten...   \n",
       "151   muy buenas tardes habla con esa peña césar de...   \n",
       "152   muy buenas tardes le habla maría fernanda mar...   \n",
       "153   buenas tardes mi nombre es laura tengo el gus...   \n",
       "154   buenas tardes habla melisa cosa tengo el gust...   \n",
       "\n",
       "                                             Cliente_l  \\\n",
       "0     hola señorita muy bien gracias a dios la preg...   \n",
       "1     es muy rara van a llegar no entiendas y tengo...   \n",
       "2     señor cómo está sentado muy bien gracias mira...   \n",
       "3     pero lo que pasa es que ando un poco mensaje ...   \n",
       "4     buenas tardes mira lo que pasa es que en el c...   \n",
       "..                                                 ...   \n",
       "150   buenas tardes compañera te hablan acá no en l...   \n",
       "151   amanda rodríguez muy bien gracias a dios buen...   \n",
       "152   para que llegue patológico ir a maría fernand...   \n",
       "153   siri cómo estás laura en atención compañero q...   \n",
       "154   sí cómo no melisa cómo ha estado bien bien me...   \n",
       "\n",
       "                                             Productos  \n",
       "0    Cliente quiere cambiar el estado de su tarjeta...  \n",
       "1    Cliente quiere cambiar el estado de su tarjeta...  \n",
       "2    Cliente quiere cambiar el estado de su tarjeta...  \n",
       "3    Cliente quiere cambiar el estado de su tarjeta...  \n",
       "4    Cliente quiere cambiar el estado de su tarjeta...  \n",
       "..                                                 ...  \n",
       "150  Cliente quiere cambiar el estado de su tarjeta...  \n",
       "151  Cliente quiere cambiar el estado de su tarjeta...  \n",
       "152  Cliente quiere cambiar el estado de su tarjeta...  \n",
       "153  Cliente quiere cambiar el estado de su tarjeta...  \n",
       "154  Cliente quiere cambiar el estado de su tarjeta...  \n",
       "\n",
       "[155 rows x 6 columns]"
      ]
     },
     "execution_count": 202,
     "metadata": {},
     "output_type": "execute_result"
    }
   ],
   "source": [
    "datos = topicosconsul[\"Cliente_l\"].values\n",
    "topicosconsul[clasificacion] = red.predict(count_vect.transform(datos))\n",
    "topicosconsul"
   ]
  },
  {
   "cell_type": "markdown",
   "metadata": {},
   "source": [
    "#### Concatenar Bases"
   ]
  },
  {
   "cell_type": "code",
   "execution_count": 203,
   "metadata": {},
   "outputs": [
    {
     "data": {
      "text/plain": [
       "72"
      ]
     },
     "execution_count": 203,
     "metadata": {},
     "output_type": "execute_result"
    }
   ],
   "source": [
    "clasificada = concat[concat['CallID'].isin(idclasificados)].reset_index(drop=True)\n",
    "len(clasificada)"
   ]
  },
  {
   "cell_type": "code",
   "execution_count": 204,
   "metadata": {},
   "outputs": [
    {
     "data": {
      "text/plain": [
       "72"
      ]
     },
     "execution_count": 204,
     "metadata": {},
     "output_type": "execute_result"
    }
   ],
   "source": [
    "pivot = data[['CallID', clasificacion]]\n",
    "clasdic = clasificada.merge(pivot, on='CallID', how='left')\n",
    "len(clasdic)"
   ]
  },
  {
   "cell_type": "code",
   "execution_count": 205,
   "metadata": {},
   "outputs": [
    {
     "data": {
      "text/plain": [
       "0"
      ]
     },
     "execution_count": 205,
     "metadata": {},
     "output_type": "execute_result"
    }
   ],
   "source": [
    "clasdic[clasificacion].isnull().sum()"
   ]
  },
  {
   "cell_type": "code",
   "execution_count": 206,
   "metadata": {},
   "outputs": [],
   "source": [
    "dffinal = pd.concat([clasdic, topicosconsul]).reset_index(drop=True)"
   ]
  },
  {
   "cell_type": "markdown",
   "metadata": {},
   "source": [
    "#### Validación"
   ]
  },
  {
   "cell_type": "code",
   "execution_count": 207,
   "metadata": {},
   "outputs": [
    {
     "name": "stdout",
     "output_type": "stream",
     "text": [
      "Cliente quiere cambiar el estado de su tarjeta (bloquear y desbloquear)    0.872247\n",
      "Consulta estado del producto                                               0.092511\n",
      "Tarjeta cancelada por la compañia                                          0.013216\n",
      "No puede realizar primera compra por internet                              0.008811\n",
      "No puede usar la misma tarjeta un tercero                                  0.004405\n",
      "cliente se le vence la tarjeta                                             0.004405\n",
      "Cliente con cartera castigada solicita producto                            0.004405\n",
      "Name: Productos, dtype: float64\n"
     ]
    }
   ],
   "source": [
    "print(dffinal[clasificacion].value_counts(normalize=True)) "
   ]
  },
  {
   "cell_type": "code",
   "execution_count": 208,
   "metadata": {},
   "outputs": [
    {
     "name": "stdout",
     "output_type": "stream",
     "text": [
      "Cliente quiere cambiar el estado de su tarjeta (bloquear y desbloquear)    0.611111\n",
      "Consulta estado del producto                                               0.277778\n",
      "Tarjeta cancelada por la compañia                                          0.041667\n",
      "No puede realizar primera compra por internet                              0.027778\n",
      "No puede usar la misma tarjeta un tercero                                  0.013889\n",
      "Cliente con cartera castigada solicita producto                            0.013889\n",
      "cliente se le vence la tarjeta                                             0.013889\n",
      "Name: Productos, dtype: float64\n"
     ]
    }
   ],
   "source": [
    "print(data[clasificacion].value_counts(normalize=True))"
   ]
  },
  {
   "cell_type": "code",
   "execution_count": 209,
   "metadata": {},
   "outputs": [],
   "source": [
    "dffinal.to_excel('D:/Proyecto Speech Tuya/Clasificación/consulta estado de la tarjeta - producto.xlsx') ## exportar archivo"
   ]
  },
  {
   "cell_type": "markdown",
   "metadata": {},
   "source": [
    "### Consulta Estado de la Tarjeta - Problemas con la Tecnolgía"
   ]
  },
  {
   "cell_type": "code",
   "execution_count": 210,
   "metadata": {},
   "outputs": [],
   "source": [
    "data = concat.merge(diccionarios, on='CallID', how='left')"
   ]
  },
  {
   "cell_type": "code",
   "execution_count": 211,
   "metadata": {},
   "outputs": [],
   "source": [
    "data = data[['CallID', 'Asesor', 'Cliente', 'Asesor_l', 'Cliente_l', 'Fecha', \n",
    "       'CodFinalización', 'Productos', 'Problemas con el proceso',\n",
    "       'Problemas con la tecnología', 'Impacto la satisfacción',\n",
    "       'Pérfil Cliente', 'Chismes', 'Observaciones']]\n",
    "\n",
    "data.index = range(data.shape[0])"
   ]
  },
  {
   "cell_type": "code",
   "execution_count": 212,
   "metadata": {},
   "outputs": [
    {
     "name": "stdout",
     "output_type": "stream",
     "text": [
      "14\n"
     ]
    }
   ],
   "source": [
    "data = data[data['CodFinalización'] == 'consulta estado de la tarjeta'] ######## 1 Cambio filtro #Comentarear en caso de hacer tópicos generales\n",
    "clasificacion = 'Problemas con la tecnología' ###### 2 Cambio la columna a entrenas #'Expectativa no cubierta' #'Problemas con el producto' #'Usabilidad'\n",
    "data.dropna(subset=[clasificacion], inplace=True)\n",
    "data.reset_index(drop=True, inplace=True)\n",
    "print(len(data))\n",
    "#data[clasificacion].value_counts()"
   ]
  },
  {
   "cell_type": "code",
   "execution_count": 213,
   "metadata": {},
   "outputs": [],
   "source": [
    "df = data.copy()\n",
    "for i in range(1,1): ######### 3 Cambio\n",
    "    df = pd.concat([df,data])"
   ]
  },
  {
   "cell_type": "markdown",
   "metadata": {},
   "source": [
    "#### Red Neuronal"
   ]
  },
  {
   "cell_type": "code",
   "execution_count": 214,
   "metadata": {},
   "outputs": [],
   "source": [
    "datos = df.Cliente_l\n",
    "tipificaciones=df[clasificacion]\n",
    "\n",
    "X_train, X_test, y_train, y_test = train_test_split(datos, tipificaciones)\n",
    "count_vect = CountVectorizer()\n",
    "X_train_counts = count_vect.fit_transform(X_train)\n",
    "tfidf_transformer = TfidfTransformer()\n",
    "X_train_tfidf = tfidf_transformer.fit_transform(X_train_counts)"
   ]
  },
  {
   "cell_type": "code",
   "execution_count": 215,
   "metadata": {},
   "outputs": [
    {
     "name": "stderr",
     "output_type": "stream",
     "text": [
      "C:\\Users\\dgarmor\\.conda\\envs\\Environments\\lib\\site-packages\\sklearn\\neural_network\\_multilayer_perceptron.py:585: ConvergenceWarning: Stochastic Optimizer: Maximum iterations (512) reached and the optimization hasn't converged yet.\n",
      "  % self.max_iter, ConvergenceWarning)\n"
     ]
    },
    {
     "data": {
      "text/plain": [
       "MLPClassifier(hidden_layer_sizes=5, max_iter=512)"
      ]
     },
     "execution_count": 215,
     "metadata": {},
     "output_type": "execute_result"
    }
   ],
   "source": [
    "red=MLPClassifier(max_iter=512, hidden_layer_sizes=(5)) \n",
    "red.fit(X_train_tfidf, y_train)"
   ]
  },
  {
   "cell_type": "code",
   "execution_count": 216,
   "metadata": {},
   "outputs": [
    {
     "data": {
      "text/plain": [
       "1.0"
      ]
     },
     "execution_count": 216,
     "metadata": {},
     "output_type": "execute_result"
    }
   ],
   "source": [
    "red.score(X_train_tfidf, y_train)"
   ]
  },
  {
   "cell_type": "code",
   "execution_count": 217,
   "metadata": {},
   "outputs": [
    {
     "data": {
      "text/plain": [
       "14"
      ]
     },
     "execution_count": 217,
     "metadata": {},
     "output_type": "execute_result"
    }
   ],
   "source": [
    "idclasificados = df['CallID'].unique()\n",
    "len(idclasificados)"
   ]
  },
  {
   "cell_type": "code",
   "execution_count": 218,
   "metadata": {},
   "outputs": [
    {
     "name": "stdout",
     "output_type": "stream",
     "text": [
      "(155, 5)\n",
      "(155, 5)\n"
     ]
    }
   ],
   "source": [
    "#conversacion = pd.read_excel('perulapropia.xlsx', sheet_name='concat')\n",
    "topicosconsul = concat\n",
    "#topicosconsul = conversacion[conversacion['Canal'] == 'Consultora']\n",
    "topicosconsul = topicosconsul[topicosconsul['CallID'].isin(idtipo)] #### 1 advertencias: primero haber ejectuado la seccion Tipo producto #Comentar en caso de no realizar topicos generales\n",
    "print(topicosconsul.shape)\n",
    "topicosconsul = topicosconsul[topicosconsul['CallID'].isin(idclasificados)== False].reset_index(drop=True) ############\n",
    "print(topicosconsul.shape)"
   ]
  },
  {
   "cell_type": "code",
   "execution_count": 219,
   "metadata": {},
   "outputs": [
    {
     "data": {
      "text/html": [
       "<div>\n",
       "<style scoped>\n",
       "    .dataframe tbody tr th:only-of-type {\n",
       "        vertical-align: middle;\n",
       "    }\n",
       "\n",
       "    .dataframe tbody tr th {\n",
       "        vertical-align: top;\n",
       "    }\n",
       "\n",
       "    .dataframe thead th {\n",
       "        text-align: right;\n",
       "    }\n",
       "</style>\n",
       "<table border=\"1\" class=\"dataframe\">\n",
       "  <thead>\n",
       "    <tr style=\"text-align: right;\">\n",
       "      <th></th>\n",
       "      <th>CallID</th>\n",
       "      <th>Asesor</th>\n",
       "      <th>Cliente</th>\n",
       "      <th>Asesor_l</th>\n",
       "      <th>Cliente_l</th>\n",
       "      <th>Problemas con la tecnología</th>\n",
       "    </tr>\n",
       "  </thead>\n",
       "  <tbody>\n",
       "    <tr>\n",
       "      <th>0</th>\n",
       "      <td>L1AOU5FFDD5EHCHE5D9QFT12K003QEHN</td>\n",
       "      <td>buenos días mi nombre es julián ospina al señ...</td>\n",
       "      <td>hola señorita muy bien gracias a dios la preg...</td>\n",
       "      <td>buenos días mi nombre es julián ospina al señ...</td>\n",
       "      <td>hola señorita muy bien gracias a dios la preg...</td>\n",
       "      <td>Compra rechazada: Compra virtual</td>\n",
       "    </tr>\n",
       "    <tr>\n",
       "      <th>1</th>\n",
       "      <td>T8DROH1CEH4Q99TTQQ7ENTI6K4013K84</td>\n",
       "      <td>buenos días habla con jessica tengo luz solar...</td>\n",
       "      <td>es muy rara van a llegar no entiendas y tengo...</td>\n",
       "      <td>buenos días habla con jessica tengo luz solar...</td>\n",
       "      <td>es muy rara van a llegar no entiendas y tengo...</td>\n",
       "      <td>Compra rechazada: Compra virtual</td>\n",
       "    </tr>\n",
       "    <tr>\n",
       "      <th>2</th>\n",
       "      <td>TIO7733R3T3NHFEIE9KC3OADV800RT4U</td>\n",
       "      <td>muy buenas tardes dime la línea de tuya mi no...</td>\n",
       "      <td>señor cómo está sentado muy bien gracias mira...</td>\n",
       "      <td>muy buenas tardes dime la línea de tuya mi no...</td>\n",
       "      <td>señor cómo está sentado muy bien gracias mira...</td>\n",
       "      <td>Rechazo de compra virtual</td>\n",
       "    </tr>\n",
       "    <tr>\n",
       "      <th>3</th>\n",
       "      <td>L1AOU5FFDD5EHCHE5D9QFT12K00456K2</td>\n",
       "      <td>buenas tardes mi nombre es laura tengo el gus...</td>\n",
       "      <td>pero lo que pasa es que ando un poco mensaje ...</td>\n",
       "      <td>buenas tardes mi nombre es laura tengo el gus...</td>\n",
       "      <td>pero lo que pasa es que ando un poco mensaje ...</td>\n",
       "      <td>Rechazo de compra virtual</td>\n",
       "    </tr>\n",
       "    <tr>\n",
       "      <th>4</th>\n",
       "      <td>80I4890E4544H1VFVKDLFNILGC04VGUE</td>\n",
       "      <td>hola feliz tarde mi nombre es juan hacedor tu...</td>\n",
       "      <td>buenas tardes mira lo que pasa es que en el c...</td>\n",
       "      <td>hola feliz tarde mi nombre es juan hacedor tu...</td>\n",
       "      <td>buenas tardes mira lo que pasa es que en el c...</td>\n",
       "      <td>Rechazo de compra virtual</td>\n",
       "    </tr>\n",
       "    <tr>\n",
       "      <th>...</th>\n",
       "      <td>...</td>\n",
       "      <td>...</td>\n",
       "      <td>...</td>\n",
       "      <td>...</td>\n",
       "      <td>...</td>\n",
       "      <td>...</td>\n",
       "    </tr>\n",
       "    <tr>\n",
       "      <th>150</th>\n",
       "      <td>L1AOU5FFDD5EHCHE5D9QFT12K004MRN7</td>\n",
       "      <td>buenas tardes habla con jessica con quien ten...</td>\n",
       "      <td>buenas tardes compañera te hablan acá no en l...</td>\n",
       "      <td>buenas tardes habla con jessica con quien ten...</td>\n",
       "      <td>buenas tardes compañera te hablan acá no en l...</td>\n",
       "      <td>Rechazo de compra virtual</td>\n",
       "    </tr>\n",
       "    <tr>\n",
       "      <th>151</th>\n",
       "      <td>L1AOU5FFDD5EHCHE5D9QFT12K003VS5U</td>\n",
       "      <td>muy buenas tardes habla con esa peña césar de...</td>\n",
       "      <td>amanda rodríguez muy bien gracias a dios buen...</td>\n",
       "      <td>muy buenas tardes habla con esa peña césar de...</td>\n",
       "      <td>amanda rodríguez muy bien gracias a dios buen...</td>\n",
       "      <td>Rechazo de compra virtual</td>\n",
       "    </tr>\n",
       "    <tr>\n",
       "      <th>152</th>\n",
       "      <td>T8DROH1CEH4Q99TTQQ7ENTI6K4016Q9Q</td>\n",
       "      <td>muy buenas tardes le habla maría fernanda mar...</td>\n",
       "      <td>para que llegue patológico ir a maría fernand...</td>\n",
       "      <td>muy buenas tardes le habla maría fernanda mar...</td>\n",
       "      <td>para que llegue patológico ir a maría fernand...</td>\n",
       "      <td>Rechazo de compra virtual</td>\n",
       "    </tr>\n",
       "    <tr>\n",
       "      <th>153</th>\n",
       "      <td>L1AOU5FFDD5EHCHE5D9QFT12K00496BQ</td>\n",
       "      <td>buenas tardes mi nombre es laura tengo el gus...</td>\n",
       "      <td>siri cómo estás laura en atención compañero q...</td>\n",
       "      <td>buenas tardes mi nombre es laura tengo el gus...</td>\n",
       "      <td>siri cómo estás laura en atención compañero q...</td>\n",
       "      <td>Rechazo de compra virtual</td>\n",
       "    </tr>\n",
       "    <tr>\n",
       "      <th>154</th>\n",
       "      <td>1BDJ5HE3VH49BE2DOONBQ25OJC0025OE</td>\n",
       "      <td>buenas tardes habla melisa cosa tengo el gust...</td>\n",
       "      <td>sí cómo no melisa cómo ha estado bien bien me...</td>\n",
       "      <td>buenas tardes habla melisa cosa tengo el gust...</td>\n",
       "      <td>sí cómo no melisa cómo ha estado bien bien me...</td>\n",
       "      <td>Rechazo de compra virtual</td>\n",
       "    </tr>\n",
       "  </tbody>\n",
       "</table>\n",
       "<p>155 rows × 6 columns</p>\n",
       "</div>"
      ],
      "text/plain": [
       "                               CallID  \\\n",
       "0    L1AOU5FFDD5EHCHE5D9QFT12K003QEHN   \n",
       "1    T8DROH1CEH4Q99TTQQ7ENTI6K4013K84   \n",
       "2    TIO7733R3T3NHFEIE9KC3OADV800RT4U   \n",
       "3    L1AOU5FFDD5EHCHE5D9QFT12K00456K2   \n",
       "4    80I4890E4544H1VFVKDLFNILGC04VGUE   \n",
       "..                                ...   \n",
       "150  L1AOU5FFDD5EHCHE5D9QFT12K004MRN7   \n",
       "151  L1AOU5FFDD5EHCHE5D9QFT12K003VS5U   \n",
       "152  T8DROH1CEH4Q99TTQQ7ENTI6K4016Q9Q   \n",
       "153  L1AOU5FFDD5EHCHE5D9QFT12K00496BQ   \n",
       "154  1BDJ5HE3VH49BE2DOONBQ25OJC0025OE   \n",
       "\n",
       "                                                Asesor  \\\n",
       "0     buenos días mi nombre es julián ospina al señ...   \n",
       "1     buenos días habla con jessica tengo luz solar...   \n",
       "2     muy buenas tardes dime la línea de tuya mi no...   \n",
       "3     buenas tardes mi nombre es laura tengo el gus...   \n",
       "4     hola feliz tarde mi nombre es juan hacedor tu...   \n",
       "..                                                 ...   \n",
       "150   buenas tardes habla con jessica con quien ten...   \n",
       "151   muy buenas tardes habla con esa peña césar de...   \n",
       "152   muy buenas tardes le habla maría fernanda mar...   \n",
       "153   buenas tardes mi nombre es laura tengo el gus...   \n",
       "154   buenas tardes habla melisa cosa tengo el gust...   \n",
       "\n",
       "                                               Cliente  \\\n",
       "0     hola señorita muy bien gracias a dios la preg...   \n",
       "1     es muy rara van a llegar no entiendas y tengo...   \n",
       "2     señor cómo está sentado muy bien gracias mira...   \n",
       "3     pero lo que pasa es que ando un poco mensaje ...   \n",
       "4     buenas tardes mira lo que pasa es que en el c...   \n",
       "..                                                 ...   \n",
       "150   buenas tardes compañera te hablan acá no en l...   \n",
       "151   amanda rodríguez muy bien gracias a dios buen...   \n",
       "152   para que llegue patológico ir a maría fernand...   \n",
       "153   siri cómo estás laura en atención compañero q...   \n",
       "154   sí cómo no melisa cómo ha estado bien bien me...   \n",
       "\n",
       "                                              Asesor_l  \\\n",
       "0     buenos días mi nombre es julián ospina al señ...   \n",
       "1     buenos días habla con jessica tengo luz solar...   \n",
       "2     muy buenas tardes dime la línea de tuya mi no...   \n",
       "3     buenas tardes mi nombre es laura tengo el gus...   \n",
       "4     hola feliz tarde mi nombre es juan hacedor tu...   \n",
       "..                                                 ...   \n",
       "150   buenas tardes habla con jessica con quien ten...   \n",
       "151   muy buenas tardes habla con esa peña césar de...   \n",
       "152   muy buenas tardes le habla maría fernanda mar...   \n",
       "153   buenas tardes mi nombre es laura tengo el gus...   \n",
       "154   buenas tardes habla melisa cosa tengo el gust...   \n",
       "\n",
       "                                             Cliente_l  \\\n",
       "0     hola señorita muy bien gracias a dios la preg...   \n",
       "1     es muy rara van a llegar no entiendas y tengo...   \n",
       "2     señor cómo está sentado muy bien gracias mira...   \n",
       "3     pero lo que pasa es que ando un poco mensaje ...   \n",
       "4     buenas tardes mira lo que pasa es que en el c...   \n",
       "..                                                 ...   \n",
       "150   buenas tardes compañera te hablan acá no en l...   \n",
       "151   amanda rodríguez muy bien gracias a dios buen...   \n",
       "152   para que llegue patológico ir a maría fernand...   \n",
       "153   siri cómo estás laura en atención compañero q...   \n",
       "154   sí cómo no melisa cómo ha estado bien bien me...   \n",
       "\n",
       "          Problemas con la tecnología  \n",
       "0    Compra rechazada: Compra virtual  \n",
       "1    Compra rechazada: Compra virtual  \n",
       "2           Rechazo de compra virtual  \n",
       "3           Rechazo de compra virtual  \n",
       "4           Rechazo de compra virtual  \n",
       "..                                ...  \n",
       "150         Rechazo de compra virtual  \n",
       "151         Rechazo de compra virtual  \n",
       "152         Rechazo de compra virtual  \n",
       "153         Rechazo de compra virtual  \n",
       "154         Rechazo de compra virtual  \n",
       "\n",
       "[155 rows x 6 columns]"
      ]
     },
     "execution_count": 219,
     "metadata": {},
     "output_type": "execute_result"
    }
   ],
   "source": [
    "datos = topicosconsul[\"Cliente_l\"].values\n",
    "topicosconsul[clasificacion] = red.predict(count_vect.transform(datos))\n",
    "topicosconsul"
   ]
  },
  {
   "cell_type": "markdown",
   "metadata": {},
   "source": [
    "#### Concatenar Bases"
   ]
  },
  {
   "cell_type": "code",
   "execution_count": 220,
   "metadata": {},
   "outputs": [
    {
     "data": {
      "text/plain": [
       "14"
      ]
     },
     "execution_count": 220,
     "metadata": {},
     "output_type": "execute_result"
    }
   ],
   "source": [
    "clasificada = concat[concat['CallID'].isin(idclasificados)].reset_index(drop=True)\n",
    "len(clasificada)"
   ]
  },
  {
   "cell_type": "code",
   "execution_count": 221,
   "metadata": {},
   "outputs": [
    {
     "data": {
      "text/plain": [
       "14"
      ]
     },
     "execution_count": 221,
     "metadata": {},
     "output_type": "execute_result"
    }
   ],
   "source": [
    "pivot = data[['CallID', clasificacion]]\n",
    "clasdic = clasificada.merge(pivot, on='CallID', how='left')\n",
    "len(clasdic)"
   ]
  },
  {
   "cell_type": "code",
   "execution_count": 222,
   "metadata": {},
   "outputs": [
    {
     "data": {
      "text/plain": [
       "0"
      ]
     },
     "execution_count": 222,
     "metadata": {},
     "output_type": "execute_result"
    }
   ],
   "source": [
    "clasdic[clasificacion].isnull().sum()"
   ]
  },
  {
   "cell_type": "code",
   "execution_count": 223,
   "metadata": {},
   "outputs": [],
   "source": [
    "dffinal = pd.concat([clasdic, topicosconsul]).reset_index(drop=True)"
   ]
  },
  {
   "cell_type": "markdown",
   "metadata": {},
   "source": [
    "#### Validación"
   ]
  },
  {
   "cell_type": "code",
   "execution_count": 224,
   "metadata": {},
   "outputs": [
    {
     "name": "stdout",
     "output_type": "stream",
     "text": [
      "Rechazo de compra virtual                          0.863905\n",
      "Compra rechazada: Compra virtual                   0.106509\n",
      "cliente no entiende la app para cambio de clave    0.005917\n",
      "El sistema no permite bloquear tarjeta             0.005917\n",
      "Compra rechazada: tarjeta inactiva                 0.005917\n",
      "Inconsistencias transferencias de llamadas         0.005917\n",
      "Rechazo de avance en cajero automatico             0.005917\n",
      "Name: Problemas con la tecnología, dtype: float64\n"
     ]
    }
   ],
   "source": [
    "print(dffinal[clasificacion].value_counts(normalize=True)) "
   ]
  },
  {
   "cell_type": "code",
   "execution_count": 225,
   "metadata": {},
   "outputs": [
    {
     "name": "stdout",
     "output_type": "stream",
     "text": [
      "Rechazo de compra virtual                          0.428571\n",
      "Compra rechazada: Compra virtual                   0.214286\n",
      "cliente no entiende la app para cambio de clave    0.071429\n",
      "El sistema no permite bloquear tarjeta             0.071429\n",
      "Compra rechazada: tarjeta inactiva                 0.071429\n",
      "Inconsistencias transferencias de llamadas         0.071429\n",
      "Rechazo de avance en cajero automatico             0.071429\n",
      "Name: Problemas con la tecnología, dtype: float64\n"
     ]
    }
   ],
   "source": [
    "print(data[clasificacion].value_counts(normalize=True))"
   ]
  },
  {
   "cell_type": "code",
   "execution_count": 226,
   "metadata": {},
   "outputs": [],
   "source": [
    "dffinal.to_excel('D:/Proyecto Speech Tuya/Clasificación/consulta estado de la tarjeta - tecnologia.xlsx') ## exportar archivo"
   ]
  },
  {
   "cell_type": "markdown",
   "metadata": {},
   "source": [
    "### Solicitud de Certificados Mastercard - Problemas con el Proceso"
   ]
  },
  {
   "cell_type": "code",
   "execution_count": 227,
   "metadata": {},
   "outputs": [],
   "source": [
    "data = concat.merge(diccionarios, on='CallID', how='left')"
   ]
  },
  {
   "cell_type": "code",
   "execution_count": 228,
   "metadata": {},
   "outputs": [],
   "source": [
    "data = data[['CallID', 'Asesor', 'Cliente', 'Asesor_l', 'Cliente_l', 'Fecha', \n",
    "       'CodFinalización', 'Productos', 'Problemas con el proceso',\n",
    "       'Problemas con la tecnología', 'Impacto la satisfacción',\n",
    "       'Pérfil Cliente', 'Chismes', 'Observaciones']]\n",
    "\n",
    "data.index = range(data.shape[0])"
   ]
  },
  {
   "cell_type": "code",
   "execution_count": 229,
   "metadata": {},
   "outputs": [
    {
     "name": "stdout",
     "output_type": "stream",
     "text": [
      "41\n"
     ]
    }
   ],
   "source": [
    "data = data[data['CodFinalización'] == 'solicitud de certificados mastercard'] ######## 1 Cambio filtro #Comentarear en caso de hacer tópicos generales\n",
    "clasificacion = 'Problemas con el proceso' ###### 2 Cambio la columna a entrenas #'Expectativa no cubierta' #'Problemas con el producto' #'Usabilidad'\n",
    "data.dropna(subset=[clasificacion], inplace=True)\n",
    "data.reset_index(drop=True, inplace=True)\n",
    "print(len(data))\n",
    "#data[clasificacion].value_counts()"
   ]
  },
  {
   "cell_type": "code",
   "execution_count": 230,
   "metadata": {},
   "outputs": [],
   "source": [
    "df = data.copy()\n",
    "for i in range(1,1): ######### 3 Cambio\n",
    "    df = pd.concat([df,data])"
   ]
  },
  {
   "cell_type": "markdown",
   "metadata": {},
   "source": [
    "#### Red Neuronal"
   ]
  },
  {
   "cell_type": "code",
   "execution_count": 231,
   "metadata": {},
   "outputs": [],
   "source": [
    "datos = df.Cliente_l\n",
    "tipificaciones=df[clasificacion]\n",
    "\n",
    "X_train, X_test, y_train, y_test = train_test_split(datos, tipificaciones)\n",
    "count_vect = CountVectorizer()\n",
    "X_train_counts = count_vect.fit_transform(X_train)\n",
    "tfidf_transformer = TfidfTransformer()\n",
    "X_train_tfidf = tfidf_transformer.fit_transform(X_train_counts)"
   ]
  },
  {
   "cell_type": "code",
   "execution_count": 232,
   "metadata": {},
   "outputs": [
    {
     "name": "stderr",
     "output_type": "stream",
     "text": [
      "C:\\Users\\dgarmor\\.conda\\envs\\Environments\\lib\\site-packages\\sklearn\\neural_network\\_multilayer_perceptron.py:585: ConvergenceWarning: Stochastic Optimizer: Maximum iterations (512) reached and the optimization hasn't converged yet.\n",
      "  % self.max_iter, ConvergenceWarning)\n"
     ]
    },
    {
     "data": {
      "text/plain": [
       "MLPClassifier(hidden_layer_sizes=5, max_iter=512)"
      ]
     },
     "execution_count": 232,
     "metadata": {},
     "output_type": "execute_result"
    }
   ],
   "source": [
    "red=MLPClassifier(max_iter=512, hidden_layer_sizes=(5)) \n",
    "red.fit(X_train_tfidf, y_train)"
   ]
  },
  {
   "cell_type": "code",
   "execution_count": 233,
   "metadata": {},
   "outputs": [
    {
     "data": {
      "text/plain": [
       "0.9333333333333333"
      ]
     },
     "execution_count": 233,
     "metadata": {},
     "output_type": "execute_result"
    }
   ],
   "source": [
    "red.score(X_train_tfidf, y_train)"
   ]
  },
  {
   "cell_type": "code",
   "execution_count": 234,
   "metadata": {},
   "outputs": [
    {
     "data": {
      "text/plain": [
       "41"
      ]
     },
     "execution_count": 234,
     "metadata": {},
     "output_type": "execute_result"
    }
   ],
   "source": [
    "idclasificados = df['CallID'].unique()\n",
    "len(idclasificados)"
   ]
  },
  {
   "cell_type": "code",
   "execution_count": 235,
   "metadata": {},
   "outputs": [
    {
     "name": "stdout",
     "output_type": "stream",
     "text": [
      "(155, 5)\n",
      "(155, 5)\n"
     ]
    }
   ],
   "source": [
    "#conversacion = pd.read_excel('perulapropia.xlsx', sheet_name='concat')\n",
    "topicosconsul = concat\n",
    "#topicosconsul = conversacion[conversacion['Canal'] == 'Consultora']\n",
    "topicosconsul = topicosconsul[topicosconsul['CallID'].isin(idtipo)] #### 1 advertencias: primero haber ejectuado la seccion Tipo producto #Comentar en caso de no realizar topicos generales\n",
    "print(topicosconsul.shape)\n",
    "topicosconsul = topicosconsul[topicosconsul['CallID'].isin(idclasificados)== False].reset_index(drop=True) ############\n",
    "print(topicosconsul.shape)"
   ]
  },
  {
   "cell_type": "code",
   "execution_count": 236,
   "metadata": {},
   "outputs": [
    {
     "data": {
      "text/html": [
       "<div>\n",
       "<style scoped>\n",
       "    .dataframe tbody tr th:only-of-type {\n",
       "        vertical-align: middle;\n",
       "    }\n",
       "\n",
       "    .dataframe tbody tr th {\n",
       "        vertical-align: top;\n",
       "    }\n",
       "\n",
       "    .dataframe thead th {\n",
       "        text-align: right;\n",
       "    }\n",
       "</style>\n",
       "<table border=\"1\" class=\"dataframe\">\n",
       "  <thead>\n",
       "    <tr style=\"text-align: right;\">\n",
       "      <th></th>\n",
       "      <th>CallID</th>\n",
       "      <th>Asesor</th>\n",
       "      <th>Cliente</th>\n",
       "      <th>Asesor_l</th>\n",
       "      <th>Cliente_l</th>\n",
       "      <th>Problemas con el proceso</th>\n",
       "    </tr>\n",
       "  </thead>\n",
       "  <tbody>\n",
       "    <tr>\n",
       "      <th>0</th>\n",
       "      <td>L1AOU5FFDD5EHCHE5D9QFT12K003QEHN</td>\n",
       "      <td>buenos días mi nombre es julián ospina al señ...</td>\n",
       "      <td>hola señorita muy bien gracias a dios la preg...</td>\n",
       "      <td>buenos días mi nombre es julián ospina al señ...</td>\n",
       "      <td>hola señorita muy bien gracias a dios la preg...</td>\n",
       "      <td>Cliente solicita certificado: paz y salvo</td>\n",
       "    </tr>\n",
       "    <tr>\n",
       "      <th>1</th>\n",
       "      <td>T8DROH1CEH4Q99TTQQ7ENTI6K4013K84</td>\n",
       "      <td>buenos días habla con jessica tengo luz solar...</td>\n",
       "      <td>es muy rara van a llegar no entiendas y tengo...</td>\n",
       "      <td>buenos días habla con jessica tengo luz solar...</td>\n",
       "      <td>es muy rara van a llegar no entiendas y tengo...</td>\n",
       "      <td>Cliente solicita certificado: paz y salvo</td>\n",
       "    </tr>\n",
       "    <tr>\n",
       "      <th>2</th>\n",
       "      <td>TIO7733R3T3NHFEIE9KC3OADV800RT4U</td>\n",
       "      <td>muy buenas tardes dime la línea de tuya mi no...</td>\n",
       "      <td>señor cómo está sentado muy bien gracias mira...</td>\n",
       "      <td>muy buenas tardes dime la línea de tuya mi no...</td>\n",
       "      <td>señor cómo está sentado muy bien gracias mira...</td>\n",
       "      <td>Cliente solicita certificado: paz y salvo</td>\n",
       "    </tr>\n",
       "    <tr>\n",
       "      <th>3</th>\n",
       "      <td>L1AOU5FFDD5EHCHE5D9QFT12K00456K2</td>\n",
       "      <td>buenas tardes mi nombre es laura tengo el gus...</td>\n",
       "      <td>pero lo que pasa es que ando un poco mensaje ...</td>\n",
       "      <td>buenas tardes mi nombre es laura tengo el gus...</td>\n",
       "      <td>pero lo que pasa es que ando un poco mensaje ...</td>\n",
       "      <td>Cliente solicita certificado: paz y salvo</td>\n",
       "    </tr>\n",
       "    <tr>\n",
       "      <th>4</th>\n",
       "      <td>80I4890E4544H1VFVKDLFNILGC04VGUE</td>\n",
       "      <td>hola feliz tarde mi nombre es juan hacedor tu...</td>\n",
       "      <td>buenas tardes mira lo que pasa es que en el c...</td>\n",
       "      <td>hola feliz tarde mi nombre es juan hacedor tu...</td>\n",
       "      <td>buenas tardes mira lo que pasa es que en el c...</td>\n",
       "      <td>Cliente solicita certificado: paz y salvo</td>\n",
       "    </tr>\n",
       "    <tr>\n",
       "      <th>...</th>\n",
       "      <td>...</td>\n",
       "      <td>...</td>\n",
       "      <td>...</td>\n",
       "      <td>...</td>\n",
       "      <td>...</td>\n",
       "      <td>...</td>\n",
       "    </tr>\n",
       "    <tr>\n",
       "      <th>150</th>\n",
       "      <td>L1AOU5FFDD5EHCHE5D9QFT12K004MRN7</td>\n",
       "      <td>buenas tardes habla con jessica con quien ten...</td>\n",
       "      <td>buenas tardes compañera te hablan acá no en l...</td>\n",
       "      <td>buenas tardes habla con jessica con quien ten...</td>\n",
       "      <td>buenas tardes compañera te hablan acá no en l...</td>\n",
       "      <td>Cliente solicita certificado: paz y salvo</td>\n",
       "    </tr>\n",
       "    <tr>\n",
       "      <th>151</th>\n",
       "      <td>L1AOU5FFDD5EHCHE5D9QFT12K003VS5U</td>\n",
       "      <td>muy buenas tardes habla con esa peña césar de...</td>\n",
       "      <td>amanda rodríguez muy bien gracias a dios buen...</td>\n",
       "      <td>muy buenas tardes habla con esa peña césar de...</td>\n",
       "      <td>amanda rodríguez muy bien gracias a dios buen...</td>\n",
       "      <td>Cliente solicita certificado: paz y salvo</td>\n",
       "    </tr>\n",
       "    <tr>\n",
       "      <th>152</th>\n",
       "      <td>T8DROH1CEH4Q99TTQQ7ENTI6K4016Q9Q</td>\n",
       "      <td>muy buenas tardes le habla maría fernanda mar...</td>\n",
       "      <td>para que llegue patológico ir a maría fernand...</td>\n",
       "      <td>muy buenas tardes le habla maría fernanda mar...</td>\n",
       "      <td>para que llegue patológico ir a maría fernand...</td>\n",
       "      <td>Cliente solicita certificado: paz y salvo</td>\n",
       "    </tr>\n",
       "    <tr>\n",
       "      <th>153</th>\n",
       "      <td>L1AOU5FFDD5EHCHE5D9QFT12K00496BQ</td>\n",
       "      <td>buenas tardes mi nombre es laura tengo el gus...</td>\n",
       "      <td>siri cómo estás laura en atención compañero q...</td>\n",
       "      <td>buenas tardes mi nombre es laura tengo el gus...</td>\n",
       "      <td>siri cómo estás laura en atención compañero q...</td>\n",
       "      <td>Cliente solicita certificado: paz y salvo</td>\n",
       "    </tr>\n",
       "    <tr>\n",
       "      <th>154</th>\n",
       "      <td>1BDJ5HE3VH49BE2DOONBQ25OJC0025OE</td>\n",
       "      <td>buenas tardes habla melisa cosa tengo el gust...</td>\n",
       "      <td>sí cómo no melisa cómo ha estado bien bien me...</td>\n",
       "      <td>buenas tardes habla melisa cosa tengo el gust...</td>\n",
       "      <td>sí cómo no melisa cómo ha estado bien bien me...</td>\n",
       "      <td>Cliente solicita certificado: paz y salvo</td>\n",
       "    </tr>\n",
       "  </tbody>\n",
       "</table>\n",
       "<p>155 rows × 6 columns</p>\n",
       "</div>"
      ],
      "text/plain": [
       "                               CallID  \\\n",
       "0    L1AOU5FFDD5EHCHE5D9QFT12K003QEHN   \n",
       "1    T8DROH1CEH4Q99TTQQ7ENTI6K4013K84   \n",
       "2    TIO7733R3T3NHFEIE9KC3OADV800RT4U   \n",
       "3    L1AOU5FFDD5EHCHE5D9QFT12K00456K2   \n",
       "4    80I4890E4544H1VFVKDLFNILGC04VGUE   \n",
       "..                                ...   \n",
       "150  L1AOU5FFDD5EHCHE5D9QFT12K004MRN7   \n",
       "151  L1AOU5FFDD5EHCHE5D9QFT12K003VS5U   \n",
       "152  T8DROH1CEH4Q99TTQQ7ENTI6K4016Q9Q   \n",
       "153  L1AOU5FFDD5EHCHE5D9QFT12K00496BQ   \n",
       "154  1BDJ5HE3VH49BE2DOONBQ25OJC0025OE   \n",
       "\n",
       "                                                Asesor  \\\n",
       "0     buenos días mi nombre es julián ospina al señ...   \n",
       "1     buenos días habla con jessica tengo luz solar...   \n",
       "2     muy buenas tardes dime la línea de tuya mi no...   \n",
       "3     buenas tardes mi nombre es laura tengo el gus...   \n",
       "4     hola feliz tarde mi nombre es juan hacedor tu...   \n",
       "..                                                 ...   \n",
       "150   buenas tardes habla con jessica con quien ten...   \n",
       "151   muy buenas tardes habla con esa peña césar de...   \n",
       "152   muy buenas tardes le habla maría fernanda mar...   \n",
       "153   buenas tardes mi nombre es laura tengo el gus...   \n",
       "154   buenas tardes habla melisa cosa tengo el gust...   \n",
       "\n",
       "                                               Cliente  \\\n",
       "0     hola señorita muy bien gracias a dios la preg...   \n",
       "1     es muy rara van a llegar no entiendas y tengo...   \n",
       "2     señor cómo está sentado muy bien gracias mira...   \n",
       "3     pero lo que pasa es que ando un poco mensaje ...   \n",
       "4     buenas tardes mira lo que pasa es que en el c...   \n",
       "..                                                 ...   \n",
       "150   buenas tardes compañera te hablan acá no en l...   \n",
       "151   amanda rodríguez muy bien gracias a dios buen...   \n",
       "152   para que llegue patológico ir a maría fernand...   \n",
       "153   siri cómo estás laura en atención compañero q...   \n",
       "154   sí cómo no melisa cómo ha estado bien bien me...   \n",
       "\n",
       "                                              Asesor_l  \\\n",
       "0     buenos días mi nombre es julián ospina al señ...   \n",
       "1     buenos días habla con jessica tengo luz solar...   \n",
       "2     muy buenas tardes dime la línea de tuya mi no...   \n",
       "3     buenas tardes mi nombre es laura tengo el gus...   \n",
       "4     hola feliz tarde mi nombre es juan hacedor tu...   \n",
       "..                                                 ...   \n",
       "150   buenas tardes habla con jessica con quien ten...   \n",
       "151   muy buenas tardes habla con esa peña césar de...   \n",
       "152   muy buenas tardes le habla maría fernanda mar...   \n",
       "153   buenas tardes mi nombre es laura tengo el gus...   \n",
       "154   buenas tardes habla melisa cosa tengo el gust...   \n",
       "\n",
       "                                             Cliente_l  \\\n",
       "0     hola señorita muy bien gracias a dios la preg...   \n",
       "1     es muy rara van a llegar no entiendas y tengo...   \n",
       "2     señor cómo está sentado muy bien gracias mira...   \n",
       "3     pero lo que pasa es que ando un poco mensaje ...   \n",
       "4     buenas tardes mira lo que pasa es que en el c...   \n",
       "..                                                 ...   \n",
       "150   buenas tardes compañera te hablan acá no en l...   \n",
       "151   amanda rodríguez muy bien gracias a dios buen...   \n",
       "152   para que llegue patológico ir a maría fernand...   \n",
       "153   siri cómo estás laura en atención compañero q...   \n",
       "154   sí cómo no melisa cómo ha estado bien bien me...   \n",
       "\n",
       "                      Problemas con el proceso  \n",
       "0    Cliente solicita certificado: paz y salvo  \n",
       "1    Cliente solicita certificado: paz y salvo  \n",
       "2    Cliente solicita certificado: paz y salvo  \n",
       "3    Cliente solicita certificado: paz y salvo  \n",
       "4    Cliente solicita certificado: paz y salvo  \n",
       "..                                         ...  \n",
       "150  Cliente solicita certificado: paz y salvo  \n",
       "151  Cliente solicita certificado: paz y salvo  \n",
       "152  Cliente solicita certificado: paz y salvo  \n",
       "153  Cliente solicita certificado: paz y salvo  \n",
       "154  Cliente solicita certificado: paz y salvo  \n",
       "\n",
       "[155 rows x 6 columns]"
      ]
     },
     "execution_count": 236,
     "metadata": {},
     "output_type": "execute_result"
    }
   ],
   "source": [
    "datos = topicosconsul[\"Cliente_l\"].values\n",
    "topicosconsul[clasificacion] = red.predict(count_vect.transform(datos))\n",
    "topicosconsul"
   ]
  },
  {
   "cell_type": "markdown",
   "metadata": {},
   "source": [
    "#### Concatenar Bases"
   ]
  },
  {
   "cell_type": "code",
   "execution_count": 237,
   "metadata": {},
   "outputs": [
    {
     "data": {
      "text/plain": [
       "41"
      ]
     },
     "execution_count": 237,
     "metadata": {},
     "output_type": "execute_result"
    }
   ],
   "source": [
    "clasificada = concat[concat['CallID'].isin(idclasificados)].reset_index(drop=True)\n",
    "len(clasificada)"
   ]
  },
  {
   "cell_type": "code",
   "execution_count": 238,
   "metadata": {},
   "outputs": [
    {
     "data": {
      "text/plain": [
       "41"
      ]
     },
     "execution_count": 238,
     "metadata": {},
     "output_type": "execute_result"
    }
   ],
   "source": [
    "pivot = data[['CallID', clasificacion]]\n",
    "clasdic = clasificada.merge(pivot, on='CallID', how='left')\n",
    "len(clasdic)"
   ]
  },
  {
   "cell_type": "code",
   "execution_count": 239,
   "metadata": {},
   "outputs": [
    {
     "data": {
      "text/plain": [
       "0"
      ]
     },
     "execution_count": 239,
     "metadata": {},
     "output_type": "execute_result"
    }
   ],
   "source": [
    "clasdic[clasificacion].isnull().sum()"
   ]
  },
  {
   "cell_type": "code",
   "execution_count": 240,
   "metadata": {},
   "outputs": [],
   "source": [
    "dffinal = pd.concat([clasdic, topicosconsul]).reset_index(drop=True)"
   ]
  },
  {
   "cell_type": "markdown",
   "metadata": {},
   "source": [
    "#### Validación"
   ]
  },
  {
   "cell_type": "code",
   "execution_count": 241,
   "metadata": {},
   "outputs": [
    {
     "name": "stdout",
     "output_type": "stream",
     "text": [
      "Cliente solicita certificado: paz y salvo                           0.923469\n",
      "No llega certificado - extracto al correo: Datos desactualizados    0.025510\n",
      "Cliente solicita certificado: No le llega                           0.015306\n",
      "Cliente solicita certificado: tributario                            0.015306\n",
      "Saldo después por pago total                                        0.005102\n",
      "Demora: en el envio de la factura                                   0.005102\n",
      "Información a terceros                                              0.005102\n",
      "Cancelación de tarjeta voluntaria                                   0.005102\n",
      "Name: Problemas con el proceso, dtype: float64\n"
     ]
    }
   ],
   "source": [
    "print(dffinal[clasificacion].value_counts(normalize=True)) "
   ]
  },
  {
   "cell_type": "code",
   "execution_count": 242,
   "metadata": {},
   "outputs": [
    {
     "name": "stdout",
     "output_type": "stream",
     "text": [
      "Cliente solicita certificado: paz y salvo                           0.634146\n",
      "No llega certificado - extracto al correo: Datos desactualizados    0.121951\n",
      "Cliente solicita certificado: tributario                            0.073171\n",
      "Cliente solicita certificado: No le llega                           0.073171\n",
      "Saldo después por pago total                                        0.024390\n",
      "Información a terceros                                              0.024390\n",
      "Cancelación de tarjeta voluntaria                                   0.024390\n",
      "Demora: en el envio de la factura                                   0.024390\n",
      "Name: Problemas con el proceso, dtype: float64\n"
     ]
    }
   ],
   "source": [
    "print(data[clasificacion].value_counts(normalize=True))"
   ]
  },
  {
   "cell_type": "code",
   "execution_count": 243,
   "metadata": {},
   "outputs": [],
   "source": [
    "dffinal.to_excel('D:/Proyecto Speech Tuya/Clasificación/solicitud de certificados mastercard - proceso.xlsx') ## exportar archivo"
   ]
  },
  {
   "cell_type": "markdown",
   "metadata": {},
   "source": [
    "### Solicitud de Certificados Mastercard - Problemas con el Producto"
   ]
  },
  {
   "cell_type": "code",
   "execution_count": 244,
   "metadata": {},
   "outputs": [],
   "source": [
    "data = concat.merge(diccionarios, on='CallID', how='left')"
   ]
  },
  {
   "cell_type": "code",
   "execution_count": 245,
   "metadata": {},
   "outputs": [],
   "source": [
    "data = data[['CallID', 'Asesor', 'Cliente', 'Asesor_l', 'Cliente_l', 'Fecha', \n",
    "       'CodFinalización', 'Productos', 'Problemas con el proceso',\n",
    "       'Problemas con la tecnología', 'Impacto la satisfacción',\n",
    "       'Pérfil Cliente', 'Chismes', 'Observaciones']]\n",
    "\n",
    "data.index = range(data.shape[0])"
   ]
  },
  {
   "cell_type": "code",
   "execution_count": 246,
   "metadata": {},
   "outputs": [
    {
     "name": "stdout",
     "output_type": "stream",
     "text": [
      "3\n"
     ]
    }
   ],
   "source": [
    "data = data[data['CodFinalización'] == 'solicitud de certificados mastercard'] ######## 1 Cambio filtro #Comentarear en caso de hacer tópicos generales\n",
    "clasificacion = 'Productos' ###### 2 Cambio la columna a entrenas #'Expectativa no cubierta' #'Problemas con el producto' #'Usabilidad'\n",
    "data.dropna(subset=[clasificacion], inplace=True)\n",
    "data.reset_index(drop=True, inplace=True)\n",
    "print(len(data))\n",
    "#data[clasificacion].value_counts()"
   ]
  },
  {
   "cell_type": "code",
   "execution_count": 247,
   "metadata": {},
   "outputs": [],
   "source": [
    "df = data.copy()\n",
    "for i in range(1,1): ######### 3 Cambio\n",
    "    df = pd.concat([df,data])"
   ]
  },
  {
   "cell_type": "markdown",
   "metadata": {},
   "source": [
    "#### Red Neuronal"
   ]
  },
  {
   "cell_type": "code",
   "execution_count": 248,
   "metadata": {},
   "outputs": [],
   "source": [
    "datos = df.Cliente_l\n",
    "tipificaciones=df[clasificacion]\n",
    "\n",
    "X_train, X_test, y_train, y_test = train_test_split(datos, tipificaciones)\n",
    "count_vect = CountVectorizer()\n",
    "X_train_counts = count_vect.fit_transform(X_train)\n",
    "tfidf_transformer = TfidfTransformer()\n",
    "X_train_tfidf = tfidf_transformer.fit_transform(X_train_counts)"
   ]
  },
  {
   "cell_type": "code",
   "execution_count": 249,
   "metadata": {},
   "outputs": [
    {
     "name": "stderr",
     "output_type": "stream",
     "text": [
      "C:\\Users\\dgarmor\\.conda\\envs\\Environments\\lib\\site-packages\\sklearn\\neural_network\\_multilayer_perceptron.py:585: ConvergenceWarning: Stochastic Optimizer: Maximum iterations (512) reached and the optimization hasn't converged yet.\n",
      "  % self.max_iter, ConvergenceWarning)\n"
     ]
    },
    {
     "data": {
      "text/plain": [
       "MLPClassifier(hidden_layer_sizes=5, max_iter=512)"
      ]
     },
     "execution_count": 249,
     "metadata": {},
     "output_type": "execute_result"
    }
   ],
   "source": [
    "red=MLPClassifier(max_iter=512, hidden_layer_sizes=(5)) \n",
    "red.fit(X_train_tfidf, y_train)"
   ]
  },
  {
   "cell_type": "code",
   "execution_count": 250,
   "metadata": {},
   "outputs": [
    {
     "data": {
      "text/plain": [
       "1.0"
      ]
     },
     "execution_count": 250,
     "metadata": {},
     "output_type": "execute_result"
    }
   ],
   "source": [
    "red.score(X_train_tfidf, y_train)"
   ]
  },
  {
   "cell_type": "code",
   "execution_count": 251,
   "metadata": {},
   "outputs": [
    {
     "data": {
      "text/plain": [
       "3"
      ]
     },
     "execution_count": 251,
     "metadata": {},
     "output_type": "execute_result"
    }
   ],
   "source": [
    "idclasificados = df['CallID'].unique()\n",
    "len(idclasificados)"
   ]
  },
  {
   "cell_type": "code",
   "execution_count": 252,
   "metadata": {},
   "outputs": [
    {
     "name": "stdout",
     "output_type": "stream",
     "text": [
      "(155, 5)\n",
      "(155, 5)\n"
     ]
    }
   ],
   "source": [
    "#conversacion = pd.read_excel('perulapropia.xlsx', sheet_name='concat')\n",
    "topicosconsul = concat\n",
    "#topicosconsul = conversacion[conversacion['Canal'] == 'Consultora']\n",
    "topicosconsul = topicosconsul[topicosconsul['CallID'].isin(idtipo)] #### 1 advertencias: primero haber ejectuado la seccion Tipo producto #Comentar en caso de no realizar topicos generales\n",
    "print(topicosconsul.shape)\n",
    "topicosconsul = topicosconsul[topicosconsul['CallID'].isin(idclasificados)== False].reset_index(drop=True) ############\n",
    "print(topicosconsul.shape)"
   ]
  },
  {
   "cell_type": "code",
   "execution_count": 253,
   "metadata": {},
   "outputs": [
    {
     "data": {
      "text/html": [
       "<div>\n",
       "<style scoped>\n",
       "    .dataframe tbody tr th:only-of-type {\n",
       "        vertical-align: middle;\n",
       "    }\n",
       "\n",
       "    .dataframe tbody tr th {\n",
       "        vertical-align: top;\n",
       "    }\n",
       "\n",
       "    .dataframe thead th {\n",
       "        text-align: right;\n",
       "    }\n",
       "</style>\n",
       "<table border=\"1\" class=\"dataframe\">\n",
       "  <thead>\n",
       "    <tr style=\"text-align: right;\">\n",
       "      <th></th>\n",
       "      <th>CallID</th>\n",
       "      <th>Asesor</th>\n",
       "      <th>Cliente</th>\n",
       "      <th>Asesor_l</th>\n",
       "      <th>Cliente_l</th>\n",
       "      <th>Productos</th>\n",
       "    </tr>\n",
       "  </thead>\n",
       "  <tbody>\n",
       "    <tr>\n",
       "      <th>0</th>\n",
       "      <td>L1AOU5FFDD5EHCHE5D9QFT12K003QEHN</td>\n",
       "      <td>buenos días mi nombre es julián ospina al señ...</td>\n",
       "      <td>hola señorita muy bien gracias a dios la preg...</td>\n",
       "      <td>buenos días mi nombre es julián ospina al señ...</td>\n",
       "      <td>hola señorita muy bien gracias a dios la preg...</td>\n",
       "      <td>Consulta estado del producto</td>\n",
       "    </tr>\n",
       "    <tr>\n",
       "      <th>1</th>\n",
       "      <td>T8DROH1CEH4Q99TTQQ7ENTI6K4013K84</td>\n",
       "      <td>buenos días habla con jessica tengo luz solar...</td>\n",
       "      <td>es muy rara van a llegar no entiendas y tengo...</td>\n",
       "      <td>buenos días habla con jessica tengo luz solar...</td>\n",
       "      <td>es muy rara van a llegar no entiendas y tengo...</td>\n",
       "      <td>Distribución de pagos: Paga anticipado, evade ...</td>\n",
       "    </tr>\n",
       "    <tr>\n",
       "      <th>2</th>\n",
       "      <td>TIO7733R3T3NHFEIE9KC3OADV800RT4U</td>\n",
       "      <td>muy buenas tardes dime la línea de tuya mi no...</td>\n",
       "      <td>señor cómo está sentado muy bien gracias mira...</td>\n",
       "      <td>muy buenas tardes dime la línea de tuya mi no...</td>\n",
       "      <td>señor cómo está sentado muy bien gracias mira...</td>\n",
       "      <td>Consulta estado del producto</td>\n",
       "    </tr>\n",
       "    <tr>\n",
       "      <th>3</th>\n",
       "      <td>L1AOU5FFDD5EHCHE5D9QFT12K00456K2</td>\n",
       "      <td>buenas tardes mi nombre es laura tengo el gus...</td>\n",
       "      <td>pero lo que pasa es que ando un poco mensaje ...</td>\n",
       "      <td>buenas tardes mi nombre es laura tengo el gus...</td>\n",
       "      <td>pero lo que pasa es que ando un poco mensaje ...</td>\n",
       "      <td>Distribución de pagos: Paga anticipado, evade ...</td>\n",
       "    </tr>\n",
       "    <tr>\n",
       "      <th>4</th>\n",
       "      <td>80I4890E4544H1VFVKDLFNILGC04VGUE</td>\n",
       "      <td>hola feliz tarde mi nombre es juan hacedor tu...</td>\n",
       "      <td>buenas tardes mira lo que pasa es que en el c...</td>\n",
       "      <td>hola feliz tarde mi nombre es juan hacedor tu...</td>\n",
       "      <td>buenas tardes mira lo que pasa es que en el c...</td>\n",
       "      <td>Distribución de pagos: Paga anticipado, evade ...</td>\n",
       "    </tr>\n",
       "    <tr>\n",
       "      <th>...</th>\n",
       "      <td>...</td>\n",
       "      <td>...</td>\n",
       "      <td>...</td>\n",
       "      <td>...</td>\n",
       "      <td>...</td>\n",
       "      <td>...</td>\n",
       "    </tr>\n",
       "    <tr>\n",
       "      <th>150</th>\n",
       "      <td>L1AOU5FFDD5EHCHE5D9QFT12K004MRN7</td>\n",
       "      <td>buenas tardes habla con jessica con quien ten...</td>\n",
       "      <td>buenas tardes compañera te hablan acá no en l...</td>\n",
       "      <td>buenas tardes habla con jessica con quien ten...</td>\n",
       "      <td>buenas tardes compañera te hablan acá no en l...</td>\n",
       "      <td>Consulta estado del producto</td>\n",
       "    </tr>\n",
       "    <tr>\n",
       "      <th>151</th>\n",
       "      <td>L1AOU5FFDD5EHCHE5D9QFT12K003VS5U</td>\n",
       "      <td>muy buenas tardes habla con esa peña césar de...</td>\n",
       "      <td>amanda rodríguez muy bien gracias a dios buen...</td>\n",
       "      <td>muy buenas tardes habla con esa peña césar de...</td>\n",
       "      <td>amanda rodríguez muy bien gracias a dios buen...</td>\n",
       "      <td>Consulta estado del producto</td>\n",
       "    </tr>\n",
       "    <tr>\n",
       "      <th>152</th>\n",
       "      <td>T8DROH1CEH4Q99TTQQ7ENTI6K4016Q9Q</td>\n",
       "      <td>muy buenas tardes le habla maría fernanda mar...</td>\n",
       "      <td>para que llegue patológico ir a maría fernand...</td>\n",
       "      <td>muy buenas tardes le habla maría fernanda mar...</td>\n",
       "      <td>para que llegue patológico ir a maría fernand...</td>\n",
       "      <td>Consulta estado del producto</td>\n",
       "    </tr>\n",
       "    <tr>\n",
       "      <th>153</th>\n",
       "      <td>L1AOU5FFDD5EHCHE5D9QFT12K00496BQ</td>\n",
       "      <td>buenas tardes mi nombre es laura tengo el gus...</td>\n",
       "      <td>siri cómo estás laura en atención compañero q...</td>\n",
       "      <td>buenas tardes mi nombre es laura tengo el gus...</td>\n",
       "      <td>siri cómo estás laura en atención compañero q...</td>\n",
       "      <td>Consulta estado del producto</td>\n",
       "    </tr>\n",
       "    <tr>\n",
       "      <th>154</th>\n",
       "      <td>1BDJ5HE3VH49BE2DOONBQ25OJC0025OE</td>\n",
       "      <td>buenas tardes habla melisa cosa tengo el gust...</td>\n",
       "      <td>sí cómo no melisa cómo ha estado bien bien me...</td>\n",
       "      <td>buenas tardes habla melisa cosa tengo el gust...</td>\n",
       "      <td>sí cómo no melisa cómo ha estado bien bien me...</td>\n",
       "      <td>Consulta estado del producto</td>\n",
       "    </tr>\n",
       "  </tbody>\n",
       "</table>\n",
       "<p>155 rows × 6 columns</p>\n",
       "</div>"
      ],
      "text/plain": [
       "                               CallID  \\\n",
       "0    L1AOU5FFDD5EHCHE5D9QFT12K003QEHN   \n",
       "1    T8DROH1CEH4Q99TTQQ7ENTI6K4013K84   \n",
       "2    TIO7733R3T3NHFEIE9KC3OADV800RT4U   \n",
       "3    L1AOU5FFDD5EHCHE5D9QFT12K00456K2   \n",
       "4    80I4890E4544H1VFVKDLFNILGC04VGUE   \n",
       "..                                ...   \n",
       "150  L1AOU5FFDD5EHCHE5D9QFT12K004MRN7   \n",
       "151  L1AOU5FFDD5EHCHE5D9QFT12K003VS5U   \n",
       "152  T8DROH1CEH4Q99TTQQ7ENTI6K4016Q9Q   \n",
       "153  L1AOU5FFDD5EHCHE5D9QFT12K00496BQ   \n",
       "154  1BDJ5HE3VH49BE2DOONBQ25OJC0025OE   \n",
       "\n",
       "                                                Asesor  \\\n",
       "0     buenos días mi nombre es julián ospina al señ...   \n",
       "1     buenos días habla con jessica tengo luz solar...   \n",
       "2     muy buenas tardes dime la línea de tuya mi no...   \n",
       "3     buenas tardes mi nombre es laura tengo el gus...   \n",
       "4     hola feliz tarde mi nombre es juan hacedor tu...   \n",
       "..                                                 ...   \n",
       "150   buenas tardes habla con jessica con quien ten...   \n",
       "151   muy buenas tardes habla con esa peña césar de...   \n",
       "152   muy buenas tardes le habla maría fernanda mar...   \n",
       "153   buenas tardes mi nombre es laura tengo el gus...   \n",
       "154   buenas tardes habla melisa cosa tengo el gust...   \n",
       "\n",
       "                                               Cliente  \\\n",
       "0     hola señorita muy bien gracias a dios la preg...   \n",
       "1     es muy rara van a llegar no entiendas y tengo...   \n",
       "2     señor cómo está sentado muy bien gracias mira...   \n",
       "3     pero lo que pasa es que ando un poco mensaje ...   \n",
       "4     buenas tardes mira lo que pasa es que en el c...   \n",
       "..                                                 ...   \n",
       "150   buenas tardes compañera te hablan acá no en l...   \n",
       "151   amanda rodríguez muy bien gracias a dios buen...   \n",
       "152   para que llegue patológico ir a maría fernand...   \n",
       "153   siri cómo estás laura en atención compañero q...   \n",
       "154   sí cómo no melisa cómo ha estado bien bien me...   \n",
       "\n",
       "                                              Asesor_l  \\\n",
       "0     buenos días mi nombre es julián ospina al señ...   \n",
       "1     buenos días habla con jessica tengo luz solar...   \n",
       "2     muy buenas tardes dime la línea de tuya mi no...   \n",
       "3     buenas tardes mi nombre es laura tengo el gus...   \n",
       "4     hola feliz tarde mi nombre es juan hacedor tu...   \n",
       "..                                                 ...   \n",
       "150   buenas tardes habla con jessica con quien ten...   \n",
       "151   muy buenas tardes habla con esa peña césar de...   \n",
       "152   muy buenas tardes le habla maría fernanda mar...   \n",
       "153   buenas tardes mi nombre es laura tengo el gus...   \n",
       "154   buenas tardes habla melisa cosa tengo el gust...   \n",
       "\n",
       "                                             Cliente_l  \\\n",
       "0     hola señorita muy bien gracias a dios la preg...   \n",
       "1     es muy rara van a llegar no entiendas y tengo...   \n",
       "2     señor cómo está sentado muy bien gracias mira...   \n",
       "3     pero lo que pasa es que ando un poco mensaje ...   \n",
       "4     buenas tardes mira lo que pasa es que en el c...   \n",
       "..                                                 ...   \n",
       "150   buenas tardes compañera te hablan acá no en l...   \n",
       "151   amanda rodríguez muy bien gracias a dios buen...   \n",
       "152   para que llegue patológico ir a maría fernand...   \n",
       "153   siri cómo estás laura en atención compañero q...   \n",
       "154   sí cómo no melisa cómo ha estado bien bien me...   \n",
       "\n",
       "                                             Productos  \n",
       "0                         Consulta estado del producto  \n",
       "1    Distribución de pagos: Paga anticipado, evade ...  \n",
       "2                         Consulta estado del producto  \n",
       "3    Distribución de pagos: Paga anticipado, evade ...  \n",
       "4    Distribución de pagos: Paga anticipado, evade ...  \n",
       "..                                                 ...  \n",
       "150                       Consulta estado del producto  \n",
       "151                       Consulta estado del producto  \n",
       "152                       Consulta estado del producto  \n",
       "153                       Consulta estado del producto  \n",
       "154                       Consulta estado del producto  \n",
       "\n",
       "[155 rows x 6 columns]"
      ]
     },
     "execution_count": 253,
     "metadata": {},
     "output_type": "execute_result"
    }
   ],
   "source": [
    "datos = topicosconsul[\"Cliente_l\"].values\n",
    "topicosconsul[clasificacion] = red.predict(count_vect.transform(datos))\n",
    "topicosconsul"
   ]
  },
  {
   "cell_type": "markdown",
   "metadata": {},
   "source": [
    "#### Concatenar Bases"
   ]
  },
  {
   "cell_type": "code",
   "execution_count": 254,
   "metadata": {},
   "outputs": [
    {
     "data": {
      "text/plain": [
       "3"
      ]
     },
     "execution_count": 254,
     "metadata": {},
     "output_type": "execute_result"
    }
   ],
   "source": [
    "clasificada = concat[concat['CallID'].isin(idclasificados)].reset_index(drop=True)\n",
    "len(clasificada)"
   ]
  },
  {
   "cell_type": "code",
   "execution_count": 255,
   "metadata": {},
   "outputs": [
    {
     "data": {
      "text/plain": [
       "3"
      ]
     },
     "execution_count": 255,
     "metadata": {},
     "output_type": "execute_result"
    }
   ],
   "source": [
    "pivot = data[['CallID', clasificacion]]\n",
    "clasdic = clasificada.merge(pivot, on='CallID', how='left')\n",
    "len(clasdic)"
   ]
  },
  {
   "cell_type": "code",
   "execution_count": 256,
   "metadata": {},
   "outputs": [
    {
     "data": {
      "text/plain": [
       "0"
      ]
     },
     "execution_count": 256,
     "metadata": {},
     "output_type": "execute_result"
    }
   ],
   "source": [
    "clasdic[clasificacion].isnull().sum()"
   ]
  },
  {
   "cell_type": "code",
   "execution_count": 257,
   "metadata": {},
   "outputs": [],
   "source": [
    "dffinal = pd.concat([clasdic, topicosconsul]).reset_index(drop=True)"
   ]
  },
  {
   "cell_type": "markdown",
   "metadata": {},
   "source": [
    "#### Validación"
   ]
  },
  {
   "cell_type": "code",
   "execution_count": 258,
   "metadata": {},
   "outputs": [
    {
     "name": "stdout",
     "output_type": "stream",
     "text": [
      "Consulta estado del producto                             0.765823\n",
      "Distribución de pagos: Paga anticipado, evade interés    0.234177\n",
      "Name: Productos, dtype: float64\n"
     ]
    }
   ],
   "source": [
    "print(dffinal[clasificacion].value_counts(normalize=True)) "
   ]
  },
  {
   "cell_type": "code",
   "execution_count": 259,
   "metadata": {},
   "outputs": [
    {
     "name": "stdout",
     "output_type": "stream",
     "text": [
      "Consulta estado del producto                             0.666667\n",
      "Distribución de pagos: Paga anticipado, evade interés    0.333333\n",
      "Name: Productos, dtype: float64\n"
     ]
    }
   ],
   "source": [
    "print(data[clasificacion].value_counts(normalize=True))"
   ]
  },
  {
   "cell_type": "code",
   "execution_count": 260,
   "metadata": {},
   "outputs": [],
   "source": [
    "dffinal.to_excel('D:/Proyecto Speech Tuya/Clasificación/solicitud de certificados mastercard - producto.xlsx') ## exportar archivo"
   ]
  },
  {
   "cell_type": "markdown",
   "metadata": {},
   "source": [
    "### Solicitud de Certificados Mastercard - Problemas con la Tecnologia"
   ]
  },
  {
   "cell_type": "code",
   "execution_count": 261,
   "metadata": {},
   "outputs": [],
   "source": [
    "data = concat.merge(diccionarios, on='CallID', how='left')"
   ]
  },
  {
   "cell_type": "code",
   "execution_count": 262,
   "metadata": {},
   "outputs": [],
   "source": [
    "data = data[['CallID', 'Asesor', 'Cliente', 'Asesor_l', 'Cliente_l', 'Fecha', \n",
    "       'CodFinalización', 'Productos', 'Problemas con el proceso',\n",
    "       'Problemas con la tecnología', 'Impacto la satisfacción',\n",
    "       'Pérfil Cliente', 'Chismes', 'Observaciones']]\n",
    "\n",
    "data.index = range(data.shape[0])"
   ]
  },
  {
   "cell_type": "code",
   "execution_count": 263,
   "metadata": {},
   "outputs": [
    {
     "name": "stdout",
     "output_type": "stream",
     "text": [
      "1\n"
     ]
    }
   ],
   "source": [
    "data = data[data['CodFinalización'] == 'solicitud de certificados mastercard'] ######## 1 Cambio filtro #Comentarear en caso de hacer tópicos generales\n",
    "clasificacion = 'Problemas con la tecnología' ###### 2 Cambio la columna a entrenas #'Expectativa no cubierta' #'Problemas con el producto' #'Usabilidad'\n",
    "data.dropna(subset=[clasificacion], inplace=True)\n",
    "data.reset_index(drop=True, inplace=True)\n",
    "print(len(data))\n",
    "#data[clasificacion].value_counts()"
   ]
  },
  {
   "cell_type": "code",
   "execution_count": 264,
   "metadata": {},
   "outputs": [],
   "source": [
    "df = data.copy()\n",
    "for i in range(1,1): ######### 3 Cambio\n",
    "    df = pd.concat([df,data])"
   ]
  },
  {
   "cell_type": "markdown",
   "metadata": {},
   "source": [
    "#### Red Neuronal"
   ]
  },
  {
   "cell_type": "code",
   "execution_count": 265,
   "metadata": {},
   "outputs": [
    {
     "ename": "ValueError",
     "evalue": "With n_samples=1, test_size=0.25 and train_size=None, the resulting train set will be empty. Adjust any of the aforementioned parameters.",
     "output_type": "error",
     "traceback": [
      "\u001b[1;31m---------------------------------------------------------------------------\u001b[0m",
      "\u001b[1;31mValueError\u001b[0m                                Traceback (most recent call last)",
      "\u001b[1;32m<ipython-input-265-125897d6014e>\u001b[0m in \u001b[0;36m<module>\u001b[1;34m\u001b[0m\n\u001b[0;32m      2\u001b[0m \u001b[0mtipificaciones\u001b[0m\u001b[1;33m=\u001b[0m\u001b[0mdf\u001b[0m\u001b[1;33m[\u001b[0m\u001b[0mclasificacion\u001b[0m\u001b[1;33m]\u001b[0m\u001b[1;33m\u001b[0m\u001b[1;33m\u001b[0m\u001b[0m\n\u001b[0;32m      3\u001b[0m \u001b[1;33m\u001b[0m\u001b[0m\n\u001b[1;32m----> 4\u001b[1;33m \u001b[0mX_train\u001b[0m\u001b[1;33m,\u001b[0m \u001b[0mX_test\u001b[0m\u001b[1;33m,\u001b[0m \u001b[0my_train\u001b[0m\u001b[1;33m,\u001b[0m \u001b[0my_test\u001b[0m \u001b[1;33m=\u001b[0m \u001b[0mtrain_test_split\u001b[0m\u001b[1;33m(\u001b[0m\u001b[0mdatos\u001b[0m\u001b[1;33m,\u001b[0m \u001b[0mtipificaciones\u001b[0m\u001b[1;33m)\u001b[0m\u001b[1;33m\u001b[0m\u001b[1;33m\u001b[0m\u001b[0m\n\u001b[0m\u001b[0;32m      5\u001b[0m \u001b[0mcount_vect\u001b[0m \u001b[1;33m=\u001b[0m \u001b[0mCountVectorizer\u001b[0m\u001b[1;33m(\u001b[0m\u001b[1;33m)\u001b[0m\u001b[1;33m\u001b[0m\u001b[1;33m\u001b[0m\u001b[0m\n\u001b[0;32m      6\u001b[0m \u001b[0mX_train_counts\u001b[0m \u001b[1;33m=\u001b[0m \u001b[0mcount_vect\u001b[0m\u001b[1;33m.\u001b[0m\u001b[0mfit_transform\u001b[0m\u001b[1;33m(\u001b[0m\u001b[0mX_train\u001b[0m\u001b[1;33m)\u001b[0m\u001b[1;33m\u001b[0m\u001b[1;33m\u001b[0m\u001b[0m\n",
      "\u001b[1;32m~\\.conda\\envs\\Environments\\lib\\site-packages\\sklearn\\model_selection\\_split.py\u001b[0m in \u001b[0;36mtrain_test_split\u001b[1;34m(*arrays, **options)\u001b[0m\n\u001b[0;32m   2129\u001b[0m     \u001b[0mn_samples\u001b[0m \u001b[1;33m=\u001b[0m \u001b[0m_num_samples\u001b[0m\u001b[1;33m(\u001b[0m\u001b[0marrays\u001b[0m\u001b[1;33m[\u001b[0m\u001b[1;36m0\u001b[0m\u001b[1;33m]\u001b[0m\u001b[1;33m)\u001b[0m\u001b[1;33m\u001b[0m\u001b[1;33m\u001b[0m\u001b[0m\n\u001b[0;32m   2130\u001b[0m     n_train, n_test = _validate_shuffle_split(n_samples, test_size, train_size,\n\u001b[1;32m-> 2131\u001b[1;33m                                               default_test_size=0.25)\n\u001b[0m\u001b[0;32m   2132\u001b[0m \u001b[1;33m\u001b[0m\u001b[0m\n\u001b[0;32m   2133\u001b[0m     \u001b[1;32mif\u001b[0m \u001b[0mshuffle\u001b[0m \u001b[1;32mis\u001b[0m \u001b[1;32mFalse\u001b[0m\u001b[1;33m:\u001b[0m\u001b[1;33m\u001b[0m\u001b[1;33m\u001b[0m\u001b[0m\n",
      "\u001b[1;32m~\\.conda\\envs\\Environments\\lib\\site-packages\\sklearn\\model_selection\\_split.py\u001b[0m in \u001b[0;36m_validate_shuffle_split\u001b[1;34m(n_samples, test_size, train_size, default_test_size)\u001b[0m\n\u001b[0;32m   1812\u001b[0m             \u001b[1;34m'resulting train set will be empty. Adjust any of the '\u001b[0m\u001b[1;33m\u001b[0m\u001b[1;33m\u001b[0m\u001b[0m\n\u001b[0;32m   1813\u001b[0m             'aforementioned parameters.'.format(n_samples, test_size,\n\u001b[1;32m-> 1814\u001b[1;33m                                                 train_size)\n\u001b[0m\u001b[0;32m   1815\u001b[0m         )\n\u001b[0;32m   1816\u001b[0m \u001b[1;33m\u001b[0m\u001b[0m\n",
      "\u001b[1;31mValueError\u001b[0m: With n_samples=1, test_size=0.25 and train_size=None, the resulting train set will be empty. Adjust any of the aforementioned parameters."
     ]
    }
   ],
   "source": [
    "datos = df.Cliente_l\n",
    "tipificaciones=df[clasificacion]\n",
    "\n",
    "X_train, X_test, y_train, y_test = train_test_split(datos, tipificaciones)\n",
    "count_vect = CountVectorizer()\n",
    "X_train_counts = count_vect.fit_transform(X_train)\n",
    "tfidf_transformer = TfidfTransformer()\n",
    "X_train_tfidf = tfidf_transformer.fit_transform(X_train_counts)"
   ]
  },
  {
   "cell_type": "code",
   "execution_count": null,
   "metadata": {},
   "outputs": [],
   "source": [
    "red=MLPClassifier(max_iter=512, hidden_layer_sizes=(5)) \n",
    "red.fit(X_train_tfidf, y_train)"
   ]
  },
  {
   "cell_type": "code",
   "execution_count": null,
   "metadata": {},
   "outputs": [],
   "source": [
    "red.score(X_train_tfidf, y_train)"
   ]
  },
  {
   "cell_type": "code",
   "execution_count": null,
   "metadata": {},
   "outputs": [],
   "source": [
    "idclasificados = df['CallID'].unique()\n",
    "len(idclasificados)"
   ]
  },
  {
   "cell_type": "code",
   "execution_count": null,
   "metadata": {},
   "outputs": [],
   "source": [
    "#conversacion = pd.read_excel('perulapropia.xlsx', sheet_name='concat')\n",
    "topicosconsul = concat\n",
    "#topicosconsul = conversacion[conversacion['Canal'] == 'Consultora']\n",
    "topicosconsul = topicosconsul[topicosconsul['CallID'].isin(idtipo)] #### 1 advertencias: primero haber ejectuado la seccion Tipo producto #Comentar en caso de no realizar topicos generales\n",
    "print(topicosconsul.shape)\n",
    "topicosconsul = topicosconsul[topicosconsul['CallID'].isin(idclasificados)== False].reset_index(drop=True) ############\n",
    "print(topicosconsul.shape)"
   ]
  },
  {
   "cell_type": "code",
   "execution_count": null,
   "metadata": {},
   "outputs": [],
   "source": [
    "datos = topicosconsul[\"Cliente_l\"].values\n",
    "topicosconsul[clasificacion] = red.predict(count_vect.transform(datos))\n",
    "topicosconsul"
   ]
  },
  {
   "cell_type": "markdown",
   "metadata": {},
   "source": [
    "#### Concatenar Bases"
   ]
  },
  {
   "cell_type": "code",
   "execution_count": null,
   "metadata": {},
   "outputs": [],
   "source": [
    "clasificada = concat[concat['CallID'].isin(idclasificados)].reset_index(drop=True)\n",
    "len(clasificada)"
   ]
  },
  {
   "cell_type": "code",
   "execution_count": null,
   "metadata": {},
   "outputs": [],
   "source": [
    "pivot = data[['CallID', clasificacion]]\n",
    "clasdic = clasificada.merge(pivot, on='CallID', how='left')\n",
    "len(clasdic)"
   ]
  },
  {
   "cell_type": "code",
   "execution_count": null,
   "metadata": {},
   "outputs": [],
   "source": [
    "clasdic[clasificacion].isnull().sum()"
   ]
  },
  {
   "cell_type": "code",
   "execution_count": null,
   "metadata": {},
   "outputs": [],
   "source": [
    "dffinal = pd.concat([clasdic, topicosconsul]).reset_index(drop=True)"
   ]
  },
  {
   "cell_type": "markdown",
   "metadata": {},
   "source": [
    "#### Validación"
   ]
  },
  {
   "cell_type": "code",
   "execution_count": null,
   "metadata": {},
   "outputs": [],
   "source": [
    "print(dffinal[clasificacion].value_counts(normalize=True)) "
   ]
  },
  {
   "cell_type": "code",
   "execution_count": null,
   "metadata": {},
   "outputs": [],
   "source": [
    "print(data[clasificacion].value_counts(normalize=True))"
   ]
  },
  {
   "cell_type": "code",
   "execution_count": null,
   "metadata": {},
   "outputs": [],
   "source": [
    "dffinal.to_excel('D:/Proyecto Speech Tuya/Clasificación/solicitud de certificados mastercard - tecnología.xlsx') ## exportar archivo"
   ]
  },
  {
   "cell_type": "code",
   "execution_count": null,
   "metadata": {},
   "outputs": [],
   "source": []
  }
 ],
 "metadata": {
  "kernelspec": {
   "display_name": "Python 3",
   "language": "python",
   "name": "python3"
  },
  "language_info": {
   "codemirror_mode": {
    "name": "ipython",
    "version": 3
   },
   "file_extension": ".py",
   "mimetype": "text/x-python",
   "name": "python",
   "nbconvert_exporter": "python",
   "pygments_lexer": "ipython3",
   "version": "3.7.3"
  }
 },
 "nbformat": 4,
 "nbformat_minor": 4
}
