{
 "cells": [
  {
   "cell_type": "code",
   "execution_count": 2,
   "metadata": {},
   "outputs": [],
   "source": [
    "### Evaluacion de la ciclica de acuerdo a la fecha\n",
    "import pandas as pd\n",
    "import numpy as np\n",
    "import matplotlib.pyplot as plt\n",
    "import re\n",
    "import datetime as dt\n",
    "pd.options.display.max_columns = None\n",
    "from datetime import timedelta\n",
    "import glob as glob\n",
    "import warnings\n",
    "import os\n",
    "import sys\n",
    "warnings.filterwarnings(\"ignore\", category=FutureWarning)\n",
    "path=\"//10.1.1.7/01 Oficina Planeación y Control/01 Analytics/Stiven/Cobranzas/\"\n",
    "import zipfile\n",
    "import seaborn as sns\n",
    "\n",
    "now=dt.datetime.now().strftime('%Y%m%d')\n",
    "now2=dt.datetime.now().strftime('%Y-%m-%d')\n",
    "today = dt.date.today()\n",
    "hoy=now\n",
    "def condition():\n",
    "    if today.strftime(\"%A\")=='Monday':\n",
    "        return (today - dt.timedelta(days=2)).strftime('%Y%m%d')\n",
    "    else:\n",
    "        return (today - dt.timedelta(days=1)).strftime('%Y%m%d')\n",
    "yesterday=condition()\n",
    "from sklearn.preprocessing import LabelEncoder,StandardScaler,MinMaxScaler"
   ]
  },
  {
   "cell_type": "code",
   "execution_count": 3,
   "metadata": {},
   "outputs": [
    {
     "data": {
      "text/plain": [
       "'\\\\\\\\10.1.1.7\\\\01 Oficina Planeación y Control\\\\01 Analytics\\\\Stiven\\\\Cobranzas'"
      ]
     },
     "execution_count": 3,
     "metadata": {},
     "output_type": "execute_result"
    }
   ],
   "source": [
    "os.chdir(path)\n",
    "os.getcwd()"
   ]
  },
  {
   "cell_type": "code",
   "execution_count": 4,
   "metadata": {},
   "outputs": [],
   "source": [
    "############################################ Funciones para cargue  ########################################################\n",
    "def open_files_hoy(paths):\n",
    "        data = []\n",
    "        for path1 in paths:\n",
    "            zf = zipfile.ZipFile(path1)#Función de apertura de .zip\n",
    "            data.append(pd.read_csv(#Función de lectura paralelizada\n",
    "                        zf.open(zf.filelist[0].filename),#Abre el primer archivo del .zip\n",
    "                        sep = \"|\", ## separación del archivo CSV\n",
    "                        encoding = \"utf-8\",\n",
    "                        dtype=str ## Leo todo en formato object,\n",
    "                        )\n",
    "                    )\n",
    "        print(path,\"Cargado!\")\n",
    "        return pd.concat(data,ignore_index = True)"
   ]
  },
  {
   "cell_type": "code",
   "execution_count": 5,
   "metadata": {},
   "outputs": [],
   "source": [
    "pagos=pd.read_csv(\"Y:\\Stiven\\Movil\\Cobranzas_movil_(Despliegue)\\concatenado_IGC_completo_pruebas.csv\",sep=';',encoding='utf-8',dtype=str)\n",
    "seg=pd.read_csv(r\"Y:\\Stiven\\Movil\\Cobranzas_movil_(Despliegue)\\asesores_concatenada.csv\",sep=';',encoding='utf-8',dtype=str)\n",
    "consolidado_ig=pd.read_csv(r'Y:\\Stiven\\Movil\\Cobranzas_movil_(Despliegue)\\concatenado_IGC_completo_pruebas.csv',sep=';',encoding='utf-8',dtype=str)"
   ]
  },
  {
   "cell_type": "markdown",
   "metadata": {},
   "source": [
    "### Load IGC"
   ]
  },
  {
   "cell_type": "code",
   "execution_count": 6,
   "metadata": {},
   "outputs": [
    {
     "name": "stdout",
     "output_type": "stream",
     "text": [
      "//10.1.1.7/01 Oficina Planeación y Control/01 Analytics/Stiven/Cobranzas/ Cargado!\n"
     ]
    }
   ],
   "source": [
    "file_paths=glob.glob(\"Y:/Stiven/Movil/Cobranzas_movil_(Despliegue)/Download_folder_Adminfo/*_IGC.zip\")\n",
    "igc = open_files_hoy(file_paths[:]) "
   ]
  },
  {
   "cell_type": "code",
   "execution_count": 7,
   "metadata": {},
   "outputs": [],
   "source": [
    "igc[\"ESTATUS1\"] =\\\n",
    "    np.where(igc[\"Número Traslado\"].str.contains(\"23213|23214|23619\",regex = True,na = False),\"B2B MOVIL\",\"B2C MOVIL\")\n",
    "igc['Fecha Asignación']=pd.to_datetime(igc['Fecha Asignación'],format='%Y-%m-%d',errors='coerce')\n",
    "igc['Fecha Ultima Gestión ']=pd.to_datetime(igc['Fecha Ultima Gestión '],format='%Y-%m-%d',errors='coerce')\n",
    "igc['DIAS SIN GESTION']=(dt.datetime.now()-igc['Fecha Ultima Gestión ']).dt.days\n",
    "igc=pd.concat([consolidado_ig,igc])"
   ]
  },
  {
   "cell_type": "code",
   "execution_count": 8,
   "metadata": {},
   "outputs": [],
   "source": [
    "# igc[igc[consolidado_ig.columns]].shape\n",
    "# igc['Identificación']=igc['Identificación'].astype(str)\n",
    "# df_cobranzas_2 = igc['Identificación'].drop_duplicates(keep='last') \n",
    "# np.savez_compressed('Y:\\Francisco\\Cedulas_Cobranzas.npz', df_cobranzas_2)\n",
    "# df_cobranzas_2 = igc['Identificación'].drop_duplicates(keep='last') \n",
    "\n",
    "#%% DF Cobranzas\n",
    "# df_cobranzas = pd.read_csv('//10.1.1.7//tigo//05 Campañas de Salidas//ANALYTICS//Tigo//Historicos//Cobranzas//concatenado_IGC_completo_pruebas.csv', delimiter=';',encoding='utf-8')\n",
    "# df_cobranzas_2 = df_cobranzas['Identificación'].drop_duplicates()  \n",
    "# Guardamos como archivos comprimidos en formato .npz\n",
    "# np.savez_compressed('//10.1.1.7//tigo//05 Campañas de Salidas//ANALYTICS//Tigo//Historicos//Cobranzas//Cedulas_Cobranzas.npz', df_cobranzas_2 )"
   ]
  },
  {
   "cell_type": "code",
   "execution_count": 9,
   "metadata": {},
   "outputs": [],
   "source": [
    "\n",
    "igc=igc[consolidado_ig.columns]\n",
    "igc['Fecha Asignación']=pd.to_datetime(igc['Fecha Asignación'],format='%Y-%m-%d')\n",
    "igc=igc.sort_values(['Identificación','Referencia Pago','Fecha Asignación'],ascending=True)\n",
    "igc['llave']=igc['Referencia Pago']+\"_\"+igc['Fecha Asignación'].astype(str)\n",
    "igc.drop_duplicates(['llave'],keep='last',inplace=True)\n",
    "igc['Fecha Churn']=igc['Fecha Churn'].astype(str)\n",
    "igc['Fecha Churn']=igc['Fecha Churn'].str.replace('(.*)\\s.*', '\\\\1').str.replace('-','')\n",
    "igc['Fecha Churn']=pd.to_datetime(igc['Fecha Churn'],format='%Y%m%d',errors='coerce')\n",
    "igc['Marca Portafolio']=igc['Marca Portafolio'].str.strip()\n",
    "igc['Antiguedad de Producto']=igc['Antiguedad de Producto'].str.replace('AntiguÃ³','Antigua').str.replace('En MaduraciÃ³n','En maduración')\n",
    "igc['Fecha Asignación']=igc['Fecha Asignación'].astype(str).str.replace('(.*)\\s.*', '\\\\1').str.replace('-','')\n",
    "igc['Fecha Asignación']=pd.to_datetime(igc['Fecha Asignación'],format='%Y-%m-%d',errors='coerce')\n",
    "igc['Fecha Asignación_año_mes']=(igc['Fecha Asignación'].dt.year).astype(str) +\"_\"+ (igc['Fecha Asignación'].dt.month).astype(str)\n",
    "igc['Fecha Ultima Gestión ']=pd.to_datetime(igc['Fecha Ultima Gestión '],format='%Y-%m-%d',errors='coerce')\n",
    "igc['Fecha Creación de Cuenta']=pd.to_datetime(igc['Fecha Creación de Cuenta'],format='%Y-%m-%d',errors='coerce')\n",
    "igc['meses_desde_creacion']=(igc['Fecha Ultima Gestión ']-igc['Fecha Creación de Cuenta']).dt.days/365\n",
    "igc['Fecha Actualizacion']=pd.to_datetime(igc['Fecha Actualizacion'],format='%Y-%m-%d',errors='coerce')\n",
    "igc['DIAS SIN GESTION_act']=(igc['Fecha Actualizacion']-igc['Fecha Ultima Gestión ']).dt.days\n",
    "igc['DIAS SIN GESTION_act']=np.where(igc['DIAS SIN GESTION_act'] > igc['DIAS SIN GESTION_act'].quantile(0.95),  igc['DIAS SIN GESTION_act'].quantile(0.95),igc['DIAS SIN GESTION_act'])\n",
    "# ig=igc[igc['Fecha Asignación']>='2021-03-01']"
   ]
  },
  {
   "cell_type": "code",
   "execution_count": 10,
   "metadata": {},
   "outputs": [
    {
     "data": {
      "text/plain": [
       "<AxesSubplot:xlabel='DIAS SIN GESTION_act'>"
      ]
     },
     "execution_count": 10,
     "metadata": {},
     "output_type": "execute_result"
    },
    {
     "data": {
      "image/png": "[encoded data removed]",
      "text/plain": [
       "<Figure size 432x288 with 1 Axes>"
      ]
     },
     "metadata": {
      "needs_background": "light"
     },
     "output_type": "display_data"
    }
   ],
   "source": [
    "# file_paths=glob.glob(r\"C:\\Users\\scadacat\\Downloads\\20211217_igc_selefin.zip\")\n",
    "# igc_sele = open_files_hoy(file_paths)\n",
    "# igc_sele['pasado']=np.where(igc_sele['Referencia Pago'].isin(igc['Referencia Pago'].astype(str)),1,0)\n",
    "# igc_sele['pasado'].value_counts()\n",
    "# igc_sele.drop_duplicates('Referencia Pago')['pasado'].value_counts()\n",
    "# igc['pasado']=np.where(igc['Referencia Pago'].isin(igc_sele['Referencia Pago'].astype(str)),1,0)\n",
    "# igc.drop_duplicates('Referencia Pago')['pasado'].value_counts()\n",
    "\n",
    "# igc[igc['pasado']==1]\n",
    "# igc[igc['Fecha Asignación']>'2021-05-14'].shape\n",
    "# igc['Fecha Asignación'].min()\n",
    "sns.boxplot(igc['DIAS SIN GESTION_act'])"
   ]
  },
  {
   "cell_type": "code",
   "execution_count": 11,
   "metadata": {},
   "outputs": [],
   "source": [
    "igc=igc[~igc.duplicated()]"
   ]
  },
  {
   "cell_type": "code",
   "execution_count": 12,
   "metadata": {},
   "outputs": [],
   "source": [
    "# variables_consolidadas = variables_consolidadas.rename(columns = lambda x:re.sub('[^A-Za-z0-9_]+', '', x))\n",
    "# igc.rename({'Fecha AsignaciÃ³n':'Fecha Asignación',\n",
    "#                     'Fecha Ultima GestiÃ³n ':'Fecha Ultima Gestión',\n",
    "#                     'Fecha CreaciÃ³n de Cuenta':'Fecha Creación de Cuenta',\n",
    "#                     },inplace=True)\n",
    "# igc['Fecha Asignación']=igc['Fecha Asignación'].str.replace('(.*)\\s.*', '\\\\1').str.replace('-','')\n",
    "# igc['Fecha Asignación']=pd.to_datetime(igc['Fecha Asignación'],format='%Y-%m-%d',errors='coerce')\n",
    "\n",
    "# igc['Fecha AsignaciÃ³n_año_mes']=(igc['Fecha AsignaciÃ³n'].dt.year).astype(str) +\"_\"+ (igc['Fecha AsignaciÃ³n'].dt.month).astype(str)\n",
    "# igc['Fecha Ultima GestiÃ³n ']=pd.to_datetime(igc['Fecha Ultima GestiÃ³n '],format='%Y-%m-%d',errors='coerce')\n",
    "# igc['Fecha CreaciÃ³n de Cuenta']=pd.to_datetime(igc['Fecha CreaciÃ³n de Cuenta'],format='%Y-%m-%d',errors='coerce')\n",
    "# igc['meses_desde_creacion']=(igc['Fecha Ultima GestiÃ³n ']-igc['Fecha CreaciÃ³n de Cuenta']).dt.days/365"
   ]
  },
  {
   "cell_type": "markdown",
   "metadata": {},
   "source": [
    "########### Cuando tenga el cruce con pagos y no tengo ####### "
   ]
  },
  {
   "cell_type": "code",
   "execution_count": 13,
   "metadata": {},
   "outputs": [],
   "source": [
    "################### lectura de Pagos #####################"
   ]
  },
  {
   "cell_type": "code",
   "execution_count": 14,
   "metadata": {},
   "outputs": [
    {
     "name": "stdout",
     "output_type": "stream",
     "text": [
      "//10.1.1.7/01 Oficina Planeación y Control/01 Analytics/Stiven/Cobranzas/ Cargado!\n"
     ]
    }
   ],
   "source": [
    "file_paths=glob.glob(\"D:/Proyecto Movil/Pagos/*.zip\")\n",
    "pagos = open_files_hoy(file_paths[:]) \n",
    "ig=igc[igc['Fecha Asignación']<='2021-12-01']\n",
    "pagos['Fecha Pago']=pd.to_datetime(pagos['Fecha Pago'],format='%Y-%m-%d')\n",
    "############# Delimito fecha con el objetivo de mejorar y evaluar posteriormente el modelo\n",
    "pag=pagos[pagos['Fecha Pago']<='2021-12-01']\n",
    "pag=pag[~pag.duplicated()]\n",
    "pag=pag.sort_values(['Referencia Pago','Fecha Pago','Valor Pago'],ascending=True)\n",
    "pag=pag.drop_duplicates(['Referencia Pago','Fecha Pago','Valor Pago'],keep='last')\n",
    "dd=pd.merge(igc,\n",
    "            pag[['Referencia Pago','Valor Pago', 'Fecha Pago','Identificacion Cliente','Detalle Pago']],\n",
    "                left_on=['Identificación','Referencia Pago'],\n",
    "                right_on=['Identificacion Cliente','Referencia Pago'],how='left')\n",
    "dd=dd[~dd.duplicated()]\n",
    "dd['Fecha Pago']=pd.to_datetime(dd['Fecha Pago'],format='%Y-%m-%d',errors='coerce')\n",
    "dd['diff']=(dd['Fecha Pago']-dd['Fecha Asignación']).dt.days\n",
    "dd['efectividad']=np.where(~dd['Fecha Pago'].isna(),'Pago','No Pago')\n",
    "dd['fecha_xra_churn']=(dd['Fecha Churn']-dd['Fecha Asignación']).dt.days"
   ]
  },
  {
   "cell_type": "code",
   "execution_count": 15,
   "metadata": {},
   "outputs": [],
   "source": [
    "dd['diff']=(dd['Fecha Pago']-dd['Fecha Asignación']).dt.days\n",
    "col         = 'diff'\n",
    "col2=         'efectividad'\n",
    "condi = [(dd[col]<-3) & (dd[col2]=='Pago'),  (dd[col].between(-3,38)) & (dd[col2]=='Pago'),(dd[col2]=='No Pago'),(~dd[col].between(-3,38)) & (dd[col2]=='Pago')]\n",
    "seg_     = [ \"No efectivo\", 'efectivo', 'No efectivo','No efectivo'] \n",
    "dd[\"Efectivo_data\"] = np.select(condi, seg_, default=np.nan)\n",
    "dd['Efectivo_data']=(dd['Efectivo_data']=='efectivo').astype(int)\n",
    "dd[\"diff_dias_chur_pago\"] = (dd[\"Fecha Churn\"] - dd[\"Fecha Pago\"]).dt.days\n",
    "## Creación historia\n",
    "hist=dd[['Efectivo_data','diff_dias_chur_pago','Fecha Churn','Identificacion Cliente','Valor Pago']]"
   ]
  },
  {
   "cell_type": "code",
   "execution_count": 16,
   "metadata": {},
   "outputs": [],
   "source": [
    "dd[\"diff_dias_chur_pago\"] = (dd[\"Fecha Churn\"] - dd[\"Fecha Pago\"]).dt.days\n",
    "dd['Valor a Cobrar']=dd['Valor a Cobrar'].astype(float)\n",
    "dd['Fecha Asignación']=pd.to_datetime(dd['Fecha Asignación'],format='%Y-%m-%d',errors='coerce')\n",
    "dd['Fecha Asignación_año_mes']=(dd['Fecha Asignación'].dt.year).astype(str) +\"_\"+ (dd['Fecha Asignación'].dt.month).astype(str)\n",
    "dd['Fecha Ultima Gestión ']=pd.to_datetime(dd['Fecha Ultima Gestión '],format='%Y-%m-%d',errors='coerce')\n",
    "dd['Fecha Creación de Cuenta']=pd.to_datetime(dd['Fecha Creación de Cuenta'],format='%Y-%m-%d',errors='coerce')\n",
    "dd['meses_desde_creacion']=(dd['Fecha Ultima Gestión ']-dd['Fecha Creación de Cuenta']).dt.days/365"
   ]
  },
  {
   "cell_type": "code",
   "execution_count": 17,
   "metadata": {},
   "outputs": [],
   "source": [
    "dd.drop(['Valor Pago','Facturación Credivalores','Fecha Pago','Region','Codigo regional tigo','Desconciliada','Regional', 'Estado Plan',\n",
    "        'Identificacion Cliente','Detalle Pago','FLP','Grabador Gestión Masiva',\n",
    "        'Fecha Gestión Masiva','Valor Cuota','Gastos Cobranza Credivalores','Segmentacion B2B','Segmento Asesor Corporativo','Riesgo Habito de Pago',\n",
    "        'Cliente Convergente','Billing Status','Fecha Castigo','Estado Financiación','Plan','Gerencia Convergente','Corriente',\n",
    "        'Subsegmento B2B','Inmunidad B2B','Fecha de suspensión decreto','diff_dias_chur_pago','Segmento',\n",
    "    'Código departamento','Ciudad','Pago Ajuste No Alocado','Nombre Campaña Especial','Interes Mora Credivalores','Interes Corriente Credivalores'],\n",
    "        axis=1,inplace=True)"
   ]
  },
  {
   "cell_type": "code",
   "execution_count": 18,
   "metadata": {},
   "outputs": [],
   "source": [
    "dd.rename(columns={'Descripción Código Ult. Gestión':'Desc_codigo_ult_ges','Descripción Traslado':'des_traslado'},inplace=True)\n",
    "dd['Desc_codigo_ult_ges'].fillna('SIN GESTION',inplace=True)"
   ]
  },
  {
   "cell_type": "code",
   "execution_count": 19,
   "metadata": {},
   "outputs": [
    {
     "name": "stderr",
     "output_type": "stream",
     "text": [
      "C:\\Users\\scadacat\\AppData\\Local\\Temp/ipykernel_7984/3521050760.py:6: SettingWithCopyWarning: \n",
      "A value is trying to be set on a copy of a slice from a DataFrame\n",
      "\n",
      "See the caveats in the documentation: https://pandas.pydata.org/pandas-docs/stable/user_guide/indexing.html#returning-a-view-versus-a-copy\n",
      "  dd['No. Cuotas Pactadas'][dd['No. Cuotas Pactadas']==' '] =dd[\"No. Cuotas Facturadas\"].mode()[0]\n",
      "C:\\Users\\scadacat\\AppData\\Local\\Temp/ipykernel_7984/3521050760.py:9: SettingWithCopyWarning: \n",
      "A value is trying to be set on a copy of a slice from a DataFrame\n",
      "\n",
      "See the caveats in the documentation: https://pandas.pydata.org/pandas-docs/stable/user_guide/indexing.html#returning-a-view-versus-a-copy\n",
      "  dd['Analisis Vector'][dd['Analisis Vector']==' ']='SIN VECTOR'\n",
      "C:\\Users\\scadacat\\AppData\\Local\\Temp/ipykernel_7984/3521050760.py:12: SettingWithCopyWarning: \n",
      "A value is trying to be set on a copy of a slice from a DataFrame\n",
      "\n",
      "See the caveats in the documentation: https://pandas.pydata.org/pandas-docs/stable/user_guide/indexing.html#returning-a-view-versus-a-copy\n",
      "  dd['Descripcion Mejor Codigo Gestion'][dd['Descripcion Mejor Codigo Gestion']==' ']='SIN GESTION'\n",
      "C:\\Users\\scadacat\\AppData\\Local\\Temp/ipykernel_7984/3521050760.py:20: SettingWithCopyWarning: \n",
      "A value is trying to be set on a copy of a slice from a DataFrame\n",
      "\n",
      "See the caveats in the documentation: https://pandas.pydata.org/pandas-docs/stable/user_guide/indexing.html#returning-a-view-versus-a-copy\n",
      "  dd['Calificacion Vector Servicio'][dd['Calificacion Vector Servicio']==' '] = dd['Calificacion Vector Servicio'].value_counts().index[1]\n"
     ]
    }
   ],
   "source": [
    "dd['Perfil Digital'].fillna('SIN PERFIL',inplace=True)\n",
    "dd['Fecha Churn']=dd['Fecha Churn'].astype(str)\n",
    "dd['Fecha Churn']=dd['Fecha Churn'].str.replace('(.*)\\s.*', '\\\\1').str.replace('-','')\n",
    "dd['Fecha Churn']=pd.to_datetime(dd['Fecha Churn'],format='%Y%m%d',errors='coerce')\n",
    "dd['No. Facturas Vencidas']=dd['No. Facturas Vencidas'].astype(int).fillna(0)\n",
    "dd['No. Cuotas Pactadas'][dd['No. Cuotas Pactadas']==' '] =dd[\"No. Cuotas Facturadas\"].mode()[0] \n",
    "dd['No. Cuotas Pactadas'].fillna('SIN DATO',inplace=True)\n",
    "dd['DIAS SIN GESTION']=dd['DIAS SIN GESTION'].astype(int)\n",
    "dd['Analisis Vector'][dd['Analisis Vector']==' ']='SIN VECTOR'\n",
    "dd['Analisis Vector'].fillna('SIN VECTOR',inplace=True)\n",
    "## por limpiar\n",
    "dd['Descripcion Mejor Codigo Gestion'][dd['Descripcion Mejor Codigo Gestion']==' ']='SIN GESTION'\n",
    "c=dd['Descripcion Mejor Codigo Gestion'].value_counts().iloc[:9].index.tolist()\n",
    "dd['Descripcion Mejor Codigo Gestion']=dd.apply(\n",
    "    lambda row: row['Descripcion Mejor Codigo Gestion']  if (row['Descripcion Mejor Codigo Gestion'] in c)\n",
    "    else 'OTRA GESTION',axis=1)\n",
    "\n",
    "# dd['Calificacion Vector Cliente'][dd['Calificacion Vector Cliente']==' '] = dd['Calificacion Vector Cliente'].value_counts().index[1]\n",
    "# dd['Calificacion Vector Cliente']=dd['Calificacion Vector Cliente'].astype(float)\n",
    "dd['Calificacion Vector Servicio'][dd['Calificacion Vector Servicio']==' '] = dd['Calificacion Vector Servicio'].value_counts().index[1]\n",
    "dd['Calificacion Vector Servicio']=dd['Calificacion Vector Servicio'].replace(' ','50')\n",
    "dd['Calificacion Vector Servicio']=dd['Calificacion Vector Servicio'].astype(float)"
   ]
  },
  {
   "cell_type": "code",
   "execution_count": 20,
   "metadata": {},
   "outputs": [
    {
     "name": "stderr",
     "output_type": "stream",
     "text": [
      "C:\\Users\\scadacat\\AppData\\Local\\Temp/ipykernel_7984/2637874660.py:21: SettingWithCopyWarning: \n",
      "A value is trying to be set on a copy of a slice from a DataFrame\n",
      "\n",
      "See the caveats in the documentation: https://pandas.pydata.org/pandas-docs/stable/user_guide/indexing.html#returning-a-view-versus-a-copy\n",
      "  dd['Tipificacion Cliente'][dd['Tipificacion Cliente']==' ']='SIN REGISTRO'\n",
      "C:\\Users\\scadacat\\AppData\\Local\\Temp/ipykernel_7984/2637874660.py:22: SettingWithCopyWarning: \n",
      "A value is trying to be set on a copy of a slice from a DataFrame\n",
      "\n",
      "See the caveats in the documentation: https://pandas.pydata.org/pandas-docs/stable/user_guide/indexing.html#returning-a-view-versus-a-copy\n",
      "  dd['Vector Cualitativo Contrato'][dd['Vector Cualitativo Contrato']==' ']='SIN COMPORTAMIENTO'\n",
      "C:\\Users\\scadacat\\AppData\\Local\\Temp/ipykernel_7984/2637874660.py:23: SettingWithCopyWarning: \n",
      "A value is trying to be set on a copy of a slice from a DataFrame\n",
      "\n",
      "See the caveats in the documentation: https://pandas.pydata.org/pandas-docs/stable/user_guide/indexing.html#returning-a-view-versus-a-copy\n",
      "  dd['Canal B2B'][dd['Canal B2B']==' ']='SIN REGISTRO'\n",
      "C:\\Users\\scadacat\\AppData\\Local\\Temp/ipykernel_7984/2637874660.py:26: SettingWithCopyWarning: \n",
      "A value is trying to be set on a copy of a slice from a DataFrame\n",
      "\n",
      "See the caveats in the documentation: https://pandas.pydata.org/pandas-docs/stable/user_guide/indexing.html#returning-a-view-versus-a-copy\n",
      "  dd['Perfil Digital'][dd['Perfil Digital']==' ']='SIN PERFIL'\n",
      "C:\\Users\\scadacat\\AppData\\Local\\Temp/ipykernel_7984/2637874660.py:44: SettingWithCopyWarning: \n",
      "A value is trying to be set on a copy of a slice from a DataFrame\n",
      "\n",
      "See the caveats in the documentation: https://pandas.pydata.org/pandas-docs/stable/user_guide/indexing.html#returning-a-view-versus-a-copy\n",
      "  dd['Canal B2B'][dd['Canal B2B']==' ']='NO REGISTRA'\n",
      "C:\\Users\\scadacat\\AppData\\Local\\Temp/ipykernel_7984/2637874660.py:51: DeprecationWarning: `np.float` is a deprecated alias for the builtin `float`. To silence this warning, use `float` by itself. Doing this will not modify any behavior and is safe. If you specifically wanted the numpy scalar type, use `np.float64` here.\n",
      "Deprecated in NumPy 1.20; for more details and guidance: https://numpy.org/devdocs/release/1.20.0-notes.html#deprecations\n",
      "  dd['Valor a Cobrar']=dd['Valor a Cobrar'].astype(np.float)\n",
      "C:\\Users\\scadacat\\AppData\\Local\\Temp/ipykernel_7984/2637874660.py:58: DeprecationWarning: `np.float` is a deprecated alias for the builtin `float`. To silence this warning, use `float` by itself. Doing this will not modify any behavior and is safe. If you specifically wanted the numpy scalar type, use `np.float64` here.\n",
      "Deprecated in NumPy 1.20; for more details and guidance: https://numpy.org/devdocs/release/1.20.0-notes.html#deprecations\n",
      "  dd['Valor a Cobrar']=dd['Valor a Cobrar'].astype(np.float)\n"
     ]
    }
   ],
   "source": [
    "\n",
    "# dd.to_csv(r\"C:\\Users\\scadacat\\Desktop\\TIGO (Cliente)\\Cobranzas\\Movil\\POWER BI\\data_movil.csv\",index=False,sep=';',encoding='utf-8') ### ACTUALIZA POWER BI\n",
    "\n",
    "\n",
    "# dd['Total_clasificacion_cant_virtuales'].fillna('0',inplace=True)\n",
    "# dd[['Clase de Gestión','Codigo de Gestion']].fillna('SIN GEST',inplace=True)\n",
    "\n",
    "\n",
    "dd['Tipo Plan'].fillna('NO REGISTRA',inplace=True)\n",
    "dd['Departamento']=dd['Departamento'].str.upper().str.strip()\n",
    "dic={'NARIÃ±O':'NARIÑO','NARIÏ¿½O':'NARIÑO','ATLÃ¡NTICO':'ATLANTICO','ATLÏ¿½NTICO':'ATLANTICO','ATL NTICO':'ATLANTICO',\n",
    "    'ARCHIPIÃ©LAGO DE SAN ANDRÃ©S':'SAN ANDRES','ARCHIPIÏ¿½LAGO DE SAN ANDRÏ¿½S':'SAN ANDRES','NTE DE SANTANDER':'NORTE DE SANTANDER',\n",
    "    'ARCHIPI LAGO DE SAN ANDR S':'SAN ANDRES','ARCHIPI LAGO DE SAN ANDR S  PROVIDENCIA Y SANTA CATALINA':'SAN ANDRES',\n",
    "    'BOL VAR':'BOLIVAR','BOLÃ\\xadVAR':'BOLIVAR','BOYACÃ¡':'BOYACA','BOYAC':'BOYACA','CÃ³RDOBA':'CORDOBA','C/MARCA':'CUNDINAMARCA',\n",
    "    'VALL CAUCA':'VALLE DEL CAUCA','CHOCÃ³':'CHOCO','CHOC':'CHOCO','CÏ¿½RDOBA':'CORDOBA','NARI O':'NARIÑO','CAQUET':'CAQUETA',\n",
    "    'C RDOBA':'CORDOBA','VALLE DEL CAUCA\\\\T':'VALLE DEL CAUCA','BOLÏ¿½VAR':'BOLIVAR','CAQUETÃ¡':'CAQUETA','N S/TANDER':'NTE DE SANTANDER',\n",
    "    'BOYACÏ¿½':'BOYACA','GUAINÃ\\xadA':'GUAINIA','VAUPÃ©S':'VAUPES','GUAIN A':'GUAINIA','VAUP S':'VAUPES','BOGOT   D.C':'BOGOTA D.C',\n",
    "    'BOGOT   D.C.':'BOGOTA D.C','BOGOTA D,C':'BOGOTA D.C','BOGOTA':'BOGOTA D.C','BOGOTA DE':'BOGOTA D.C','BOGOTA D.E':'BOGOTA D.C'}\n",
    "dd['Departamento']=dd['Departamento'].replace(dic)\n",
    "dd['Departamento']=dd['Departamento'].str.replace('NTE DE SANTANDER','NORTE DE SANTANDER')\n",
    "# dd['Codigo de Gestion']=dd['Codigo de Gestion'].fillna('NO REGISTRA')\n",
    "dd['Tipificacion Cliente'][dd['Tipificacion Cliente']==' ']='SIN REGISTRO'\n",
    "dd['Vector Cualitativo Contrato'][dd['Vector Cualitativo Contrato']==' ']='SIN COMPORTAMIENTO'\n",
    "dd['Canal B2B'][dd['Canal B2B']==' ']='SIN REGISTRO'\n",
    "dd['Vector Cualitativo Contrato'].fillna('SIN COMPORTAMIENTO',inplace=True)\n",
    "dd['Analisis Vector']=dd['Analisis Vector'].str.strip()\n",
    "dd['Perfil Digital'][dd['Perfil Digital']==' ']='SIN PERFIL'\n",
    "dd['Perfil Digital'].fillna('SIN PERFIL',inplace=True)\n",
    "# dd['Estado Localización'].fillna('SIN REGISTRO',inplace=True)\n",
    "# dd['Estado Localización']=dd['Estado Localización'].str.strip()\n",
    "dd['Mora 150']=dd['Mora 150'].astype(float)\n",
    "dd['Mora 180']=dd['Mora 180'].astype(float)\n",
    "dd['Mora 30']=dd['Mora 30'].astype(float)\n",
    "dd['Mora 60']=dd['Mora 60'].astype(float)\n",
    "dd['Mora 90']=dd['Mora 90'].astype(float)\n",
    "dd['Mora 120']=dd['Mora 120'].astype(float)\n",
    "dd['Mora 210']=dd['Mora 210'].astype(float)\n",
    "# dd['Total'].fillna('0',inplace=True)\n",
    "# dd['Total']=dd['Total'].astype(float)\n",
    "# dd['Cantidad_recontactos_mes']=dd['Cantidad_recontactos_mes'].fillna('0').astype(float)\n",
    "dd['Dias Mora']=dd['Dias Mora'].astype(float)\n",
    "# dd['Valor De Compromiso'][dd['Valor De Compromiso']==' ']=0\n",
    "# dd['Valor De Compromiso']=dd['Valor De Compromiso'].astype('float')\n",
    "# dd['recon_mes']=dd['recon_mes'].fillna('0').astype('float')\n",
    "dd['Canal B2B'][dd['Canal B2B']==' ']='NO REGISTRA'\n",
    "# dd['Descripcion Causal Mora'].fillna('SIN CAUSAL',inplace=True)\n",
    "# dd['Descripcion Causal Mora'][dd['Descripcion Causal Mora']==' ']='SIN CAUSAL'\n",
    "dd.drop(dd.filter(like='echa').columns,axis=1,inplace=True)\n",
    "\n",
    "dd['Monto Financiado_dummy'] = np.where((dd['Monto Financiado']==\" \") | (dd['Monto Financiado']=='0.00'),\"0\",'1').astype(int)\n",
    "dd.drop(['Monto Financiado'],axis=1,inplace=True)\n",
    "dd['Valor a Cobrar']=dd['Valor a Cobrar'].astype(np.float)\n",
    "dd[\"efectividad\"] = (dd[\"efectividad\"]==\"Pago\").astype(int)\n",
    "\n",
    "dd[\"Validación Recaudo\"] = (dd[\"Validación Recaudo\"]==\"S\").astype(int)\n",
    "dd['ESTATUS1']= (dd['ESTATUS1']==\"B2C MOVIL\").astype(int)\n",
    "# dd['Monto Financiado_dummy'] = np.where((dd['Monto Financiado']==\" \") | (dd['Monto Financiado']=='0.00'),\"0\",'1').astype(int)\n",
    "# dd.drop(['Monto Financiado'],axis=1,inplace=True)\n",
    "dd['Valor a Cobrar']=dd['Valor a Cobrar'].astype(np.float)\n",
    "# dd[\"efectividad\"] = (dd[\"efectividad\"]==\"Pago\").astype(int)\n",
    "dd[\"Estado Cuenta\"] = (dd[\"Estado Cuenta\"]==\"Activo\").astype(int)\n",
    "dd[\"Castigada\"] = (dd[\"Castigada\"]==\"NO\").astype(int)\n",
    "dd['Saldo Vencido']=dd['Saldo Vencido'].astype(float)\n",
    "dd['Saldo']=dd['Saldo'].astype(float)\n",
    "\n",
    "qs=dd['Saldo Vencido'].quantile(0.98)\n",
    "dd['Saldo Vencido']= np.where(dd[\"Saldo Vencido\"] > qs, qs ,dd[\"Saldo Vencido\"])\n",
    "qp=dd['Saldo'].quantile(0.98)\n",
    "dd['Saldo']= np.where(dd[\"Saldo\"] > qp, qp ,dd[\"Saldo\"])\n",
    "dd['saldo_ratio']=dd['Saldo']/dd['Saldo Vencido']\n",
    "dd.drop(['Saldo Vencido','Saldo'],axis=1,inplace=True)"
   ]
  },
  {
   "cell_type": "code",
   "execution_count": 21,
   "metadata": {},
   "outputs": [],
   "source": [
    "# elimiar=['No. Cuotas Facturadas','OTRA GESTION','PROMESA DE PAGO','PAGO REALIZADO',\n",
    "# 'BUZON DE VOZ','NO CONTESTA / OCUPADO','OTRA GESTION_sum','NO HUBO ACUERDO (GESTIONABLE)',\n",
    "# 'MENSAJE CON TERCEROS CASA','NO CONOCEN AL DEUDOR (NO VIVE / NO TRABAJA)',\n",
    "# 'DEUDOR SOLICITAR CUPON DE PAGO']\n",
    "dd.drop(['Mora 90','Mora 150','Mora 180','Mora 210','Identificación', 'Identificación','No. Cuotas Pactadas','No. Facturas Vencidas','Referencia Pago'],axis=1,inplace=True)\n",
    "# dd.drop(elimiar,axis=1,inplace=True)\n",
    "dd['No. Cuotas Facturadas']=pd.to_numeric(dd['No. Cuotas Facturadas'],errors='coerce').fillna(dd['No. Cuotas Facturadas'].mode)"
   ]
  },
  {
   "cell_type": "code",
   "execution_count": 22,
   "metadata": {},
   "outputs": [],
   "source": [
    "dd['Calificacion Vector Cliente']=pd.to_numeric(dd['Calificacion Vector Cliente'],errors='coerce')\n",
    "dd['Calificacion Vector Cliente'].fillna(dd['Calificacion Vector Cliente'].median(),inplace=True)\n",
    "dd['Calificacion Vector Servicio'].fillna(dd['Calificacion Vector Servicio'].median(),inplace=True)"
   ]
  },
  {
   "cell_type": "code",
   "execution_count": 23,
   "metadata": {},
   "outputs": [],
   "source": [
    "dd.drop(['Descripcion Mejor Codigo Gestion','Billing Progress','Mora 300',\n",
    "        'llave','Ciclo','efectividad','diff','Calificacion Vector Servicio','Departamento'],axis=1,inplace=True)\n",
    "# DIC={'BOYAC�':'BOYACÁ','BOL�VAR':'BOLÍVAR','ATL�NTICO':'ATLÁNTICO'}\n",
    "# dd['Departamento']=dd['Departamento'].replace(DIC)"
   ]
  },
  {
   "cell_type": "code",
   "execution_count": 24,
   "metadata": {},
   "outputs": [
    {
     "data": {
      "text/plain": [
       "<AxesSubplot:>"
      ]
     },
     "execution_count": 24,
     "metadata": {},
     "output_type": "execute_result"
    },
    {
     "data": {
      "image/png": "[encoded data removed]",
      "text/plain": [
       "<Figure size 432x288 with 2 Axes>"
      ]
     },
     "metadata": {
      "needs_background": "light"
     },
     "output_type": "display_data"
    }
   ],
   "source": [
    "sns.heatmap(dd.corr())"
   ]
  },
  {
   "cell_type": "code",
   "execution_count": 25,
   "metadata": {},
   "outputs": [],
   "source": [
    "cols=['Valor a Cobrar','Dias Mora',\n",
    "        'Calificacion Vector Cliente',\n",
    "        'DIAS SIN GESTION','No. Cuotas Facturadas']"
   ]
  },
  {
   "cell_type": "code",
   "execution_count": 26,
   "metadata": {},
   "outputs": [],
   "source": [
    "dd['No. Cuotas Facturadas']=pd.to_numeric(dd['No. Cuotas Facturadas'],errors='coerce').fillna(0)"
   ]
  },
  {
   "cell_type": "code",
   "execution_count": 27,
   "metadata": {},
   "outputs": [],
   "source": [
    "dd['No. Cuotas Facturadas']=dd['No. Cuotas Facturadas'].astype(float)"
   ]
  },
  {
   "cell_type": "code",
   "execution_count": 28,
   "metadata": {},
   "outputs": [],
   "source": [
    "dd[dd.filter(like='Mora ').columns]=dd[dd.filter(like='Mora ').columns].astype(float)"
   ]
  },
  {
   "cell_type": "code",
   "execution_count": 29,
   "metadata": {},
   "outputs": [],
   "source": [
    "dd['Antiguedad de Producto']=dd['Antiguedad de Producto'].str.upper().str.translate(str.maketrans('ÁÉÍÓÚ','AEIOU'))\\\n",
    "                        .str.replace('ANTIGUA','ANTIGUO')"
   ]
  },
  {
   "cell_type": "code",
   "execution_count": 30,
   "metadata": {},
   "outputs": [],
   "source": [
    "dd.columns.to_frame().to_csv('D:\\Proyecto Movil\\Modelo 2\\columnas_antes_consolidar.csv')"
   ]
  },
  {
   "cell_type": "code",
   "execution_count": 31,
   "metadata": {},
   "outputs": [],
   "source": [
    "#dd['Desc_codigo_ult_ges'].value_counts(True).head(15).sum()"
   ]
  },
  {
   "cell_type": "code",
   "execution_count": 32,
   "metadata": {},
   "outputs": [
    {
     "name": "stderr",
     "output_type": "stream",
     "text": [
      "C:\\Users\\scadacat\\AppData\\Local\\Temp/ipykernel_7984/2951715332.py:6: SettingWithCopyWarning: \n",
      "A value is trying to be set on a copy of a slice from a DataFrame\n",
      "\n",
      "See the caveats in the documentation: https://pandas.pydata.org/pandas-docs/stable/user_guide/indexing.html#returning-a-view-versus-a-copy\n",
      "  dd['Autopago'][dd['Autopago']=='Convergente']=np.nan\n",
      "C:\\Users\\scadacat\\AppData\\Local\\Temp/ipykernel_7984/2951715332.py:7: SettingWithCopyWarning: \n",
      "A value is trying to be set on a copy of a slice from a DataFrame\n",
      "\n",
      "See the caveats in the documentation: https://pandas.pydata.org/pandas-docs/stable/user_guide/indexing.html#returning-a-view-versus-a-copy\n",
      "  dd['Autopago'][dd['Autopago']==' ']=np.nan\n",
      "C:\\Users\\scadacat\\AppData\\Local\\Temp/ipykernel_7984/2951715332.py:9: SettingWithCopyWarning: \n",
      "A value is trying to be set on a copy of a slice from a DataFrame\n",
      "\n",
      "See the caveats in the documentation: https://pandas.pydata.org/pandas-docs/stable/user_guide/indexing.html#returning-a-view-versus-a-copy\n",
      "  dd['Canal B2B'][dd['Canal B2B']=='nan']=np.nan\n",
      "C:\\Users\\scadacat\\AppData\\Local\\Temp/ipykernel_7984/2951715332.py:11: SettingWithCopyWarning: \n",
      "A value is trying to be set on a copy of a slice from a DataFrame\n",
      "\n",
      "See the caveats in the documentation: https://pandas.pydata.org/pandas-docs/stable/user_guide/indexing.html#returning-a-view-versus-a-copy\n",
      "  dd['Canal B2B'][dd['Canal B2B']=='nan']=np.nan\n",
      "C:\\Users\\scadacat\\AppData\\Local\\Temp/ipykernel_7984/2951715332.py:13: SettingWithCopyWarning: \n",
      "A value is trying to be set on a copy of a slice from a DataFrame\n",
      "\n",
      "See the caveats in the documentation: https://pandas.pydata.org/pandas-docs/stable/user_guide/indexing.html#returning-a-view-versus-a-copy\n",
      "  dd['Antiguedad de Producto'][dd['Antiguedad de Producto']=='nan']=np.nan\n",
      "C:\\Users\\scadacat\\AppData\\Local\\Temp/ipykernel_7984/2951715332.py:15: SettingWithCopyWarning: \n",
      "A value is trying to be set on a copy of a slice from a DataFrame\n",
      "\n",
      "See the caveats in the documentation: https://pandas.pydata.org/pandas-docs/stable/user_guide/indexing.html#returning-a-view-versus-a-copy\n",
      "  dd['Marca Portafolio'][dd['Marca Portafolio']=='nan']=np.nan\n",
      "C:\\Users\\scadacat\\AppData\\Local\\Temp/ipykernel_7984/2951715332.py:16: SettingWithCopyWarning: \n",
      "A value is trying to be set on a copy of a slice from a DataFrame\n",
      "\n",
      "See the caveats in the documentation: https://pandas.pydata.org/pandas-docs/stable/user_guide/indexing.html#returning-a-view-versus-a-copy\n",
      "  dd['Marca Portafolio'][dd['Marca Portafolio']=='']=np.nan\n",
      "C:\\Users\\scadacat\\AppData\\Local\\Temp/ipykernel_7984/2951715332.py:19: SettingWithCopyWarning: \n",
      "A value is trying to be set on a copy of a slice from a DataFrame\n",
      "\n",
      "See the caveats in the documentation: https://pandas.pydata.org/pandas-docs/stable/user_guide/indexing.html#returning-a-view-versus-a-copy\n",
      "  dd['Tipificacion Cliente'][dd['Tipificacion Cliente']=='nan']='SIN REGISTRO'\n"
     ]
    }
   ],
   "source": [
    "dic_ges={'COMPROMISO DE PAGO':'PROMESA DE PAGO',\n",
    "         'MENSAJE CON TERCEROS CASA':'SE DEJO MENSAJE CON TERCERO',\n",
    "        'PAGO REALIZADO':'YA PAGO','Ã±':'NA'}\n",
    "dd['Desc_codigo_ult_ges']=dd['Desc_codigo_ult_ges'].str.upper().replace(dic_ges).str.replace('Ã±','N').str.lstrip().str.replace('Ñ','N')\n",
    "dd['des_traslado']=dd['des_traslado'].str.upper().str.replace('(.*)\\_.*', '\\\\1').str.lstrip()\n",
    "dd['Autopago'][dd['Autopago']=='Convergente']=np.nan\n",
    "dd['Autopago'][dd['Autopago']==' ']=np.nan\n",
    "dd['Tipo Documento']=np.where(dd['Tipo Documento'].isin(['CC','NIT','CE']),dd['Tipo Documento'],\"CC\")\n",
    "dd['Canal B2B'][dd['Canal B2B']=='nan']=np.nan\n",
    "dd['Canal B2B'].fillna('SIN REGISTRO',inplace=True)\n",
    "dd['Canal B2B'][dd['Canal B2B']=='nan']=np.nan\n",
    "dd['Canal B2B'].fillna('SIN REGISTRO',inplace=True)\n",
    "dd['Antiguedad de Producto'][dd['Antiguedad de Producto']=='nan']=np.nan\n",
    "dd['Antiguedad de Producto'].fillna('SIN REGISTRO',inplace=True)\n",
    "dd['Marca Portafolio'][dd['Marca Portafolio']=='nan']=np.nan\n",
    "dd['Marca Portafolio'][dd['Marca Portafolio']=='']=np.nan\n",
    "dd['Marca Portafolio'].fillna('SIN REGISTRO',inplace=True)\n",
    "dd['Marca Portafolio']=dd['Marca Portafolio'].str.replace('_',' ')\n",
    "dd['Tipificacion Cliente'][dd['Tipificacion Cliente']=='nan']='SIN REGISTRO'\n",
    "\n",
    "dd['Autopago'] = (dd['Autopago']==\"TC\").astype(int)"
   ]
  },
  {
   "cell_type": "code",
   "execution_count": 33,
   "metadata": {},
   "outputs": [],
   "source": [
    "listaa=dd['Desc_codigo_ult_ges'].value_counts(True).head(15).index"
   ]
  },
  {
   "cell_type": "code",
   "execution_count": 34,
   "metadata": {},
   "outputs": [],
   "source": [
    "dd['Desc_codigo_ult_ges']=np.where(dd['Desc_codigo_ult_ges'].isin(listaa),dd['Desc_codigo_ult_ges'],\"OTRA GESTION\")"
   ]
  },
  {
   "cell_type": "code",
   "execution_count": 35,
   "metadata": {},
   "outputs": [],
   "source": [
    "listaa.to_frame().to_csv('D:\\Proyecto Movil\\Modelo 2\\listas_isin_des_ult_ges.csv')"
   ]
  },
  {
   "cell_type": "code",
   "execution_count": 36,
   "metadata": {},
   "outputs": [],
   "source": [
    "listaa2=dd['Analisis Vector'].value_counts(True).head(20).index\n",
    "dd['Analisis Vector']=np.where(dd['Analisis Vector'].isin(listaa2),dd['Analisis Vector'],\"OTRO VECTOR\")\n",
    "listaa2.to_frame().to_csv('D:\\Proyecto Movil\\Modelo 2\\listas_isin_vector.csv')"
   ]
  },
  {
   "cell_type": "code",
   "execution_count": 37,
   "metadata": {},
   "outputs": [
    {
     "name": "stdout",
     "output_type": "stream",
     "text": [
      "Tipos de variables 0\n",
      "int32       8\n",
      "float64    15\n",
      "object     14\n",
      "dtype: int64\n",
      "Tipos de variables luego de reemplazo 0\n",
      "int32       8\n",
      "float64    15\n",
      "object     14\n",
      "dtype: int64\n"
     ]
    }
   ],
   "source": [
    "types = pd.DataFrame(dd.dtypes)\n",
    "print(\"Tipos de variables\", types.groupby(0).size())\n",
    "\n",
    "consolidado = dd.replace({False: 0, True: 1})\n",
    "\n",
    "types = pd.DataFrame(consolidado.dtypes)\n",
    "print(\"Tipos de variables luego de reemplazo\",types.groupby(0).size())"
   ]
  },
  {
   "cell_type": "code",
   "execution_count": 38,
   "metadata": {},
   "outputs": [
    {
     "name": "stdout",
     "output_type": "stream",
     "text": [
      "La variable Desc_codigo_ult_ges contiene: 16 distinct values\n",
      "La variable Perfil Digital contiene: 6 distinct values\n",
      "La variable Vector Cualitativo Contrato contiene: 5 distinct values\n",
      "La variable Analisis Vector contiene: 21 distinct values\n",
      "La variable Tipificacion Cliente contiene: 5 distinct values\n",
      "La variable Edad de Mora contiene: 7 distinct values\n",
      "La variable Tipo Plan contiene: 8 distinct values\n",
      "La variable Tipo Inventario contiene: 5 distinct values\n",
      "La variable Tipo Documento contiene: 3 distinct values\n",
      "La variable des_traslado contiene: 13 distinct values\n",
      "La variable Canal B2B contiene: 6 distinct values\n",
      "La variable Marca Portafolio contiene: 12 distinct values\n",
      "La variable Antiguedad de Producto contiene: 4 distinct values\n",
      "La variable Cod. Status Billing contiene: 3 distinct values\n"
     ]
    }
   ],
   "source": [
    "categoricas = types.index[types[0] == 'O'].values\n",
    "for line in categoricas:\n",
    " print(\"La variable \"+ line +\" contiene:\",str(len(consolidado[line].unique()))+\" distinct values\")"
   ]
  },
  {
   "cell_type": "code",
   "execution_count": 39,
   "metadata": {},
   "outputs": [],
   "source": [
    "from sklearn.preprocessing import LabelEncoder, OneHotEncoder\n",
    "#Se define función que captura el dataframe y la columna para retornar un dataframe luego de OHE\n",
    "def crea_OneHotEncoding(df, columna):\n",
    "  le = LabelEncoder()\n",
    "  le_ajustado=le.fit_transform(df[columna]).reshape(-1,1)\n",
    "  encoder = OneHotEncoder(sparse=False)\n",
    "  column = [columna+ \"_\"+ str(i) for i in le.classes_]\n",
    "  data = encoder.fit_transform(le_ajustado)\n",
    "  return(pd.DataFrame(data,columns =column))"
   ]
  },
  {
   "cell_type": "code",
   "execution_count": 40,
   "metadata": {},
   "outputs": [
    {
     "name": "stdout",
     "output_type": "stream",
     "text": [
      "Columna  Desc_codigo_ult_ges  transformada!\n",
      "Columna  Perfil Digital  transformada!\n",
      "Columna  Vector Cualitativo Contrato  transformada!\n",
      "Columna  Analisis Vector  transformada!\n",
      "Columna  Tipificacion Cliente  transformada!\n",
      "Columna  Edad de Mora  transformada!\n",
      "Columna  Tipo Plan  transformada!\n",
      "Columna  Tipo Inventario  transformada!\n",
      "Columna  Tipo Documento  transformada!\n",
      "Columna  des_traslado  transformada!\n",
      "Columna  Canal B2B  transformada!\n",
      "Columna  Marca Portafolio  transformada!\n",
      "Columna  Antiguedad de Producto  transformada!\n",
      "Columna  Cod. Status Billing  transformada!\n",
      "Tamaño final del dataset transformado: (133285, 150)\n"
     ]
    }
   ],
   "source": [
    "numeric_columns = list(set(types.index[types[0] !=\"Object\"].values)-set(['Efectivo_data']))\n",
    "variables_consolidadas = consolidado[numeric_columns]\n",
    "objetivo = consolidado[\"Efectivo_data\"]\n",
    "\n",
    "categoricas = types.index[types[0] == 'O'].values\n",
    "for column in categoricas:\n",
    "  df = crea_OneHotEncoding(consolidado,column)\n",
    "  variables_consolidadas = pd.concat([variables_consolidadas,df],axis=1)\n",
    "  print(\"Columna \",column, \" transformada!\")\n",
    "\n",
    "print(\"Tamaño final del dataset transformado:\",variables_consolidadas.shape)"
   ]
  },
  {
   "cell_type": "code",
   "execution_count": 41,
   "metadata": {},
   "outputs": [],
   "source": [
    "qc=variables_consolidadas['Valor a Cobrar'].quantile(0.982)\n",
    "variables_consolidadas['Valor a Cobrar']= np.where(variables_consolidadas[\"Valor a Cobrar\"] > qc, qc ,variables_consolidadas[\"Valor a Cobrar\"])\n",
    "#\n",
    "pd=variables_consolidadas['Dias Mora'].quantile(0.99)\n",
    "variables_consolidadas['Dias Mora']= np.where(variables_consolidadas['Dias Mora'] > pd, pd ,variables_consolidadas['Dias Mora'])\n",
    "# nv=variables_consolidadas['No. Facturas Vencidas'].quantile(0.99)\n",
    "# variables_consolidadas['No. Facturas Vencidas']= np.where(variables_consolidadas['No. Facturas Vencidas'] > nv, nv ,variables_consolidadas['No. Facturas Vencidas'])\n",
    "m14=variables_consolidadas['DIAS SIN GESTION'].quantile(0.98)\n",
    "variables_consolidadas['DIAS SIN GESTION']= np.where(variables_consolidadas['DIAS SIN GESTION'] > m14, m14 ,variables_consolidadas['DIAS SIN GESTION'])\n",
    "m16=variables_consolidadas['Mora 60'].quantile(0.80)\n",
    "variables_consolidadas['Mora 60']= np.where(variables_consolidadas['Mora 60'] > m16, m16 ,variables_consolidadas['Mora 60'])\n",
    "\n",
    "m17=variables_consolidadas['Mora 120'].quantile(0.80)\n",
    "variables_consolidadas['Mora 120']= np.where(variables_consolidadas['Mora 120'] > m17, m17 ,variables_consolidadas['Mora 120'])\n",
    "\n",
    "m30=variables_consolidadas['Mora 30'].quantile(0.80)\n",
    "variables_consolidadas['Mora 30']= np.where(variables_consolidadas['Mora 30'] > m30, m30 ,variables_consolidadas['Mora 30'])\n",
    "m30=variables_consolidadas['saldo_ratio'].quantile(0.85)\n",
    "variables_consolidadas['saldo_ratio']= np.where(variables_consolidadas['saldo_ratio'] > m30, m30 ,variables_consolidadas['saldo_ratio'])"
   ]
  },
  {
   "cell_type": "code",
   "execution_count": 42,
   "metadata": {},
   "outputs": [],
   "source": [
    "variables_consolidadas['meses_desde_creacion'].fillna(variables_consolidadas['meses_desde_creacion'].median(),inplace=True)\n",
    "variables_consolidadas['saldo_ratio']=variables_consolidadas['saldo_ratio'].replace([np.inf, -np.inf], np.nan)\n",
    "variables_consolidadas['saldo_ratio'].fillna(variables_consolidadas['saldo_ratio'].median(),inplace=True)"
   ]
  },
  {
   "cell_type": "code",
   "execution_count": 43,
   "metadata": {},
   "outputs": [],
   "source": [
    "variables_consolidadas.to_parquet(\"D:\\Proyecto Movil\\Modelo 2\\df_mobile.parquet.gzip\")"
   ]
  },
  {
   "cell_type": "code",
   "execution_count": 44,
   "metadata": {},
   "outputs": [],
   "source": [
    "scaler = StandardScaler()\n",
    "variables_consolidadas[['Calificacion Vector Cliente','DIAS SIN GESTION_act',\n",
    "    'DIAS SIN GESTION','Mora 60','Mora 120','Mora 30','saldo_ratio',\n",
    "    'Dias Mora','meses_desde_creacion','Valor a Cobrar']]=\\\n",
    "        scaler.fit_transform(\n",
    "            variables_consolidadas[['Calificacion Vector Cliente','DIAS SIN GESTION_act',\n",
    "    'DIAS SIN GESTION','Mora 60','Mora 120','Mora 30','saldo_ratio',\n",
    "    'Dias Mora','meses_desde_creacion',\n",
    "  'Valor a Cobrar']])"
   ]
  },
  {
   "cell_type": "code",
   "execution_count": 45,
   "metadata": {},
   "outputs": [],
   "source": [
    "variables_consolidadas.drop(['Canal B2B_SIN REGISTRO',\n",
    "                            'Canal B2B_SIN REGISTRO','Tipo Inventario_Cliente B2B',\n",
    "                            'Cod. Status Billing_10103','Desc_codigo_ult_ges_PROMESA DE PAGO',\n",
    "                            'Tipo Documento_NIT','Analisis Vector_PAGO OPORTUNO','Cod. Status Billing_10102',\n",
    "                            'Tipificacion Cliente_SIN REGISTRO',\n",
    "                            'Desc_codigo_ult_ges_RETIRO POR CUMPLIMIENTO DE CRITERIOS','Tipificacion Cliente_SERVICIO RETIRADO',\n",
    "                            'Tipo Documento_NIT','Tipo Inventario_Tradicional',\n",
    "                            'Mora 60','Mora 30','Tipo Documento_CC',\n",
    "                            'Analisis Vector_SIN VECTOR','Edad de Mora_Mora > 360','Vector Cualitativo Contrato_SIN COMPORTAMIENTO',\n",
    "                            'Canal B2B_MICRO/SMALL','Edad de Mora_Mora 120','Mora 270','Mora 240',\n",
    "                            'Desc_codigo_ult_ges_RETIRO POR CUMPLIMIENTO DE CRITERIOS'],axis=1,inplace=True)\n",
    "variables_consolidadas.drop(categoricas,axis=1,inplace=True)"
   ]
  },
  {
   "cell_type": "code",
   "execution_count": 46,
   "metadata": {},
   "outputs": [
    {
     "data": {
      "text/plain": [
       "<AxesSubplot:>"
      ]
     },
     "execution_count": 46,
     "metadata": {},
     "output_type": "execute_result"
    },
    {
     "data": {
      "image/png": "[encoded data removed]",
      "text/plain": [
       "<Figure size 432x288 with 2 Axes>"
      ]
     },
     "metadata": {
      "needs_background": "light"
     },
     "output_type": "display_data"
    }
   ],
   "source": [
    "sns.heatmap(variables_consolidadas.corr())"
   ]
  },
  {
   "cell_type": "code",
   "execution_count": 47,
   "metadata": {},
   "outputs": [],
   "source": [
    "cor=variables_consolidadas.corr().unstack().sort_values().drop_duplicates()"
   ]
  },
  {
   "cell_type": "code",
   "execution_count": 64,
   "metadata": {},
   "outputs": [
    {
     "ename": "AttributeError",
     "evalue": "'DataFrame' object has no attribute 'to_frame'",
     "output_type": "error",
     "traceback": [
      "\u001b[1;31m---------------------------------------------------------------------------\u001b[0m",
      "\u001b[1;31mAttributeError\u001b[0m                            Traceback (most recent call last)",
      "\u001b[1;32m~\\AppData\\Local\\Temp/ipykernel_7984/3421850011.py\u001b[0m in \u001b[0;36m<module>\u001b[1;34m\u001b[0m\n\u001b[1;32m----> 1\u001b[1;33m \u001b[0mcor\u001b[0m\u001b[1;33m=\u001b[0m\u001b[0mcor\u001b[0m\u001b[1;33m.\u001b[0m\u001b[0mto_frame\u001b[0m\u001b[1;33m(\u001b[0m\u001b[1;33m)\u001b[0m\u001b[1;33m\u001b[0m\u001b[1;33m\u001b[0m\u001b[0m\n\u001b[0m",
      "\u001b[1;32mC:\\ProgramData\\Anaconda3\\lib\\site-packages\\pandas\\core\\generic.py\u001b[0m in \u001b[0;36m__getattr__\u001b[1;34m(self, name)\u001b[0m\n\u001b[0;32m   5485\u001b[0m         ):\n\u001b[0;32m   5486\u001b[0m             \u001b[1;32mreturn\u001b[0m \u001b[0mself\u001b[0m\u001b[1;33m[\u001b[0m\u001b[0mname\u001b[0m\u001b[1;33m]\u001b[0m\u001b[1;33m\u001b[0m\u001b[1;33m\u001b[0m\u001b[0m\n\u001b[1;32m-> 5487\u001b[1;33m         \u001b[1;32mreturn\u001b[0m \u001b[0mobject\u001b[0m\u001b[1;33m.\u001b[0m\u001b[0m__getattribute__\u001b[0m\u001b[1;33m(\u001b[0m\u001b[0mself\u001b[0m\u001b[1;33m,\u001b[0m \u001b[0mname\u001b[0m\u001b[1;33m)\u001b[0m\u001b[1;33m\u001b[0m\u001b[1;33m\u001b[0m\u001b[0m\n\u001b[0m\u001b[0;32m   5488\u001b[0m \u001b[1;33m\u001b[0m\u001b[0m\n\u001b[0;32m   5489\u001b[0m     \u001b[1;32mdef\u001b[0m \u001b[0m__setattr__\u001b[0m\u001b[1;33m(\u001b[0m\u001b[0mself\u001b[0m\u001b[1;33m,\u001b[0m \u001b[0mname\u001b[0m\u001b[1;33m:\u001b[0m \u001b[0mstr\u001b[0m\u001b[1;33m,\u001b[0m \u001b[0mvalue\u001b[0m\u001b[1;33m)\u001b[0m \u001b[1;33m->\u001b[0m \u001b[1;32mNone\u001b[0m\u001b[1;33m:\u001b[0m\u001b[1;33m\u001b[0m\u001b[1;33m\u001b[0m\u001b[0m\n",
      "\u001b[1;31mAttributeError\u001b[0m: 'DataFrame' object has no attribute 'to_frame'"
     ]
    }
   ],
   "source": [
    "cor=cor.to_frame()"
   ]
  },
  {
   "cell_type": "code",
   "execution_count": 49,
   "metadata": {},
   "outputs": [],
   "source": [
    "cor=cor.reset_index()"
   ]
  },
  {
   "cell_type": "code",
   "execution_count": 50,
   "metadata": {},
   "outputs": [],
   "source": [
    "cor.drop_duplicates(['level_0','level_1'],inplace=True)"
   ]
  },
  {
   "cell_type": "code",
   "execution_count": 51,
   "metadata": {},
   "outputs": [],
   "source": [
    "cor['new']=cor['level_0']==cor['level_1']"
   ]
  },
  {
   "cell_type": "code",
   "execution_count": 52,
   "metadata": {},
   "outputs": [
    {
     "data": {
      "text/html": [
       "<div>\n",
       "<style scoped>\n",
       "    .dataframe tbody tr th:only-of-type {\n",
       "        vertical-align: middle;\n",
       "    }\n",
       "\n",
       "    .dataframe tbody tr th {\n",
       "        vertical-align: top;\n",
       "    }\n",
       "\n",
       "    .dataframe thead th {\n",
       "        text-align: right;\n",
       "    }\n",
       "</style>\n",
       "<table border=\"1\" class=\"dataframe\">\n",
       "  <thead>\n",
       "    <tr style=\"text-align: right;\">\n",
       "      <th></th>\n",
       "      <th>level_0</th>\n",
       "      <th>level_1</th>\n",
       "      <th>0</th>\n",
       "      <th>new</th>\n",
       "    </tr>\n",
       "  </thead>\n",
       "  <tbody>\n",
       "    <tr>\n",
       "      <th>6286</th>\n",
       "      <td>Antiguedad de Producto_ANTIGUO</td>\n",
       "      <td>Vector Cualitativo Contrato_REGULAR</td>\n",
       "      <td>0.300620</td>\n",
       "      <td>False</td>\n",
       "    </tr>\n",
       "    <tr>\n",
       "      <th>6287</th>\n",
       "      <td>Marca Portafolio_NO CHURN</td>\n",
       "      <td>Desc_codigo_ult_ges_CARTERA ASIGNADA PARA COBRO</td>\n",
       "      <td>0.301453</td>\n",
       "      <td>False</td>\n",
       "    </tr>\n",
       "    <tr>\n",
       "      <th>6288</th>\n",
       "      <td>des_traslado_PROXIMOS A SUSPENDER</td>\n",
       "      <td>Cod. Status Billing_10100</td>\n",
       "      <td>0.306582</td>\n",
       "      <td>False</td>\n",
       "    </tr>\n",
       "    <tr>\n",
       "      <th>6289</th>\n",
       "      <td>Analisis Vector_PAGO OPORTUNO Y NO OPORTUNO</td>\n",
       "      <td>Calificacion Vector Cliente</td>\n",
       "      <td>0.309628</td>\n",
       "      <td>False</td>\n",
       "    </tr>\n",
       "    <tr>\n",
       "      <th>6290</th>\n",
       "      <td>Validación Recaudo</td>\n",
       "      <td>saldo_ratio</td>\n",
       "      <td>0.311693</td>\n",
       "      <td>False</td>\n",
       "    </tr>\n",
       "    <tr>\n",
       "      <th>6291</th>\n",
       "      <td>des_traslado_PROXIMOS A SUSPENDER AGENCIAS</td>\n",
       "      <td>Marca Portafolio_CHURN BASE</td>\n",
       "      <td>0.311974</td>\n",
       "      <td>False</td>\n",
       "    </tr>\n",
       "    <tr>\n",
       "      <th>6292</th>\n",
       "      <td>Marca Portafolio_SIN REGISTRO</td>\n",
       "      <td>des_traslado_PROXIMOS CANCELADOS</td>\n",
       "      <td>0.313259</td>\n",
       "      <td>False</td>\n",
       "    </tr>\n",
       "    <tr>\n",
       "      <th>6293</th>\n",
       "      <td>Edad de Mora_Mora 30</td>\n",
       "      <td>Desc_codigo_ult_ges_CARTERA ASIGNADA PARA COBRO</td>\n",
       "      <td>0.316517</td>\n",
       "      <td>False</td>\n",
       "    </tr>\n",
       "    <tr>\n",
       "      <th>6294</th>\n",
       "      <td>des_traslado_PROXIMOS A SUSPENDER AGENCIAS</td>\n",
       "      <td>Estado Cuenta</td>\n",
       "      <td>0.323735</td>\n",
       "      <td>False</td>\n",
       "    </tr>\n",
       "    <tr>\n",
       "      <th>6295</th>\n",
       "      <td>Tipificacion Cliente_SERVICIO EXISTENTE</td>\n",
       "      <td>Tipo Inventario_Pospago 5.0</td>\n",
       "      <td>0.326675</td>\n",
       "      <td>False</td>\n",
       "    </tr>\n",
       "    <tr>\n",
       "      <th>6296</th>\n",
       "      <td>Mora 120</td>\n",
       "      <td>DIAS SIN GESTION_act</td>\n",
       "      <td>0.326949</td>\n",
       "      <td>False</td>\n",
       "    </tr>\n",
       "    <tr>\n",
       "      <th>6297</th>\n",
       "      <td>des_traslado_PROXIMOS A SUSPENDER</td>\n",
       "      <td>Marca Portafolio_CHURN</td>\n",
       "      <td>0.327931</td>\n",
       "      <td>False</td>\n",
       "    </tr>\n",
       "    <tr>\n",
       "      <th>6298</th>\n",
       "      <td>des_traslado_PROXIMOS A SUSPENDER</td>\n",
       "      <td>Edad de Mora_Mora 30</td>\n",
       "      <td>0.328852</td>\n",
       "      <td>False</td>\n",
       "    </tr>\n",
       "    <tr>\n",
       "      <th>6299</th>\n",
       "      <td>Calificacion Vector Cliente</td>\n",
       "      <td>ESTATUS1</td>\n",
       "      <td>0.341254</td>\n",
       "      <td>False</td>\n",
       "    </tr>\n",
       "    <tr>\n",
       "      <th>6300</th>\n",
       "      <td>Perfil Digital_5- Acertijo</td>\n",
       "      <td>meses_desde_creacion</td>\n",
       "      <td>0.346997</td>\n",
       "      <td>False</td>\n",
       "    </tr>\n",
       "    <tr>\n",
       "      <th>6301</th>\n",
       "      <td>Calificacion Vector Cliente</td>\n",
       "      <td>Vector Cualitativo Contrato_BUENO</td>\n",
       "      <td>0.351413</td>\n",
       "      <td>False</td>\n",
       "    </tr>\n",
       "    <tr>\n",
       "      <th>6302</th>\n",
       "      <td>DIAS SIN GESTION_act</td>\n",
       "      <td>des_traslado_PROXIMOS CANCELADOS</td>\n",
       "      <td>0.364227</td>\n",
       "      <td>False</td>\n",
       "    </tr>\n",
       "    <tr>\n",
       "      <th>6303</th>\n",
       "      <td>saldo_ratio</td>\n",
       "      <td>des_traslado_PROXIMOS A SUSPENDER</td>\n",
       "      <td>0.364505</td>\n",
       "      <td>False</td>\n",
       "    </tr>\n",
       "    <tr>\n",
       "      <th>6304</th>\n",
       "      <td>Cod. Status Billing_10100</td>\n",
       "      <td>saldo_ratio</td>\n",
       "      <td>0.375711</td>\n",
       "      <td>False</td>\n",
       "    </tr>\n",
       "    <tr>\n",
       "      <th>6305</th>\n",
       "      <td>Perfil Digital_SIN PERFIL</td>\n",
       "      <td>Antiguedad de Producto_EN MADURACION</td>\n",
       "      <td>0.376297</td>\n",
       "      <td>False</td>\n",
       "    </tr>\n",
       "    <tr>\n",
       "      <th>6306</th>\n",
       "      <td>Antiguedad de Producto_ANTIGUO</td>\n",
       "      <td>Tipo Inventario_Pospago 5.0</td>\n",
       "      <td>0.381266</td>\n",
       "      <td>False</td>\n",
       "    </tr>\n",
       "    <tr>\n",
       "      <th>6307</th>\n",
       "      <td>Validación Recaudo</td>\n",
       "      <td>Edad de Mora_Mora 30</td>\n",
       "      <td>0.389797</td>\n",
       "      <td>False</td>\n",
       "    </tr>\n",
       "    <tr>\n",
       "      <th>6308</th>\n",
       "      <td>Vector Cualitativo Contrato_BUENO</td>\n",
       "      <td>Analisis Vector_PAGO PARCIAL ULTIMOS 6 MESES</td>\n",
       "      <td>0.396705</td>\n",
       "      <td>False</td>\n",
       "    </tr>\n",
       "    <tr>\n",
       "      <th>6309</th>\n",
       "      <td>Edad de Mora_Mora 30</td>\n",
       "      <td>Cod. Status Billing_10100</td>\n",
       "      <td>0.411356</td>\n",
       "      <td>False</td>\n",
       "    </tr>\n",
       "    <tr>\n",
       "      <th>6310</th>\n",
       "      <td>Tipificacion Cliente_SERVICIO EXISTENTE</td>\n",
       "      <td>meses_desde_creacion</td>\n",
       "      <td>0.412189</td>\n",
       "      <td>False</td>\n",
       "    </tr>\n",
       "    <tr>\n",
       "      <th>6311</th>\n",
       "      <td>Vector Cualitativo Contrato_BUENO</td>\n",
       "      <td>Analisis Vector_PAGO OPORTUNO Y NO OPORTUNO</td>\n",
       "      <td>0.426706</td>\n",
       "      <td>False</td>\n",
       "    </tr>\n",
       "    <tr>\n",
       "      <th>6312</th>\n",
       "      <td>Vector Cualitativo Contrato_EXCELENTE</td>\n",
       "      <td>Calificacion Vector Cliente</td>\n",
       "      <td>0.430234</td>\n",
       "      <td>False</td>\n",
       "    </tr>\n",
       "    <tr>\n",
       "      <th>6313</th>\n",
       "      <td>DIAS SIN GESTION_act</td>\n",
       "      <td>Dias Mora</td>\n",
       "      <td>0.439180</td>\n",
       "      <td>False</td>\n",
       "    </tr>\n",
       "    <tr>\n",
       "      <th>6314</th>\n",
       "      <td>des_traslado_PROXIMOS A SUSPENDER AGENCIAS</td>\n",
       "      <td>Cod. Status Billing_10100</td>\n",
       "      <td>0.443471</td>\n",
       "      <td>False</td>\n",
       "    </tr>\n",
       "    <tr>\n",
       "      <th>6315</th>\n",
       "      <td>Mora 120</td>\n",
       "      <td>des_traslado_PREJURIDICA 120</td>\n",
       "      <td>0.453401</td>\n",
       "      <td>False</td>\n",
       "    </tr>\n",
       "    <tr>\n",
       "      <th>6316</th>\n",
       "      <td>Tipificacion Cliente_SERVICIO NUEVO 3 MESES</td>\n",
       "      <td>Analisis Vector_PAGO PARCIAL ULTIMOS 6 MESES</td>\n",
       "      <td>0.487192</td>\n",
       "      <td>False</td>\n",
       "    </tr>\n",
       "    <tr>\n",
       "      <th>6317</th>\n",
       "      <td>saldo_ratio</td>\n",
       "      <td>Edad de Mora_Mora 30</td>\n",
       "      <td>0.489538</td>\n",
       "      <td>False</td>\n",
       "    </tr>\n",
       "    <tr>\n",
       "      <th>6318</th>\n",
       "      <td>DIAS SIN GESTION</td>\n",
       "      <td>Marca Portafolio_SIN REGISTRO</td>\n",
       "      <td>0.497362</td>\n",
       "      <td>False</td>\n",
       "    </tr>\n",
       "    <tr>\n",
       "      <th>6319</th>\n",
       "      <td>des_traslado_PREJURIDICA 120</td>\n",
       "      <td>Dias Mora</td>\n",
       "      <td>0.498128</td>\n",
       "      <td>False</td>\n",
       "    </tr>\n",
       "    <tr>\n",
       "      <th>6320</th>\n",
       "      <td>Canal B2B_MULTINACIONALES</td>\n",
       "      <td>Mora Mayor 360</td>\n",
       "      <td>0.534926</td>\n",
       "      <td>False</td>\n",
       "    </tr>\n",
       "    <tr>\n",
       "      <th>6321</th>\n",
       "      <td>Antiguedad de Producto_ANTIGUO</td>\n",
       "      <td>Tipificacion Cliente_SERVICIO EXISTENTE</td>\n",
       "      <td>0.569662</td>\n",
       "      <td>False</td>\n",
       "    </tr>\n",
       "    <tr>\n",
       "      <th>6322</th>\n",
       "      <td>meses_desde_creacion</td>\n",
       "      <td>Antiguedad de Producto_ANTIGUO</td>\n",
       "      <td>0.658334</td>\n",
       "      <td>False</td>\n",
       "    </tr>\n",
       "    <tr>\n",
       "      <th>6323</th>\n",
       "      <td>Cod. Status Billing_10100</td>\n",
       "      <td>Estado Cuenta</td>\n",
       "      <td>0.680147</td>\n",
       "      <td>False</td>\n",
       "    </tr>\n",
       "    <tr>\n",
       "      <th>6324</th>\n",
       "      <td>Mora 330</td>\n",
       "      <td>Mora Mayor 360</td>\n",
       "      <td>0.804308</td>\n",
       "      <td>False</td>\n",
       "    </tr>\n",
       "    <tr>\n",
       "      <th>6325</th>\n",
       "      <td>Mora 360</td>\n",
       "      <td>Mora Mayor 360</td>\n",
       "      <td>0.804308</td>\n",
       "      <td>False</td>\n",
       "    </tr>\n",
       "    <tr>\n",
       "      <th>6326</th>\n",
       "      <td>Dias Mora</td>\n",
       "      <td>Mora 120</td>\n",
       "      <td>0.841069</td>\n",
       "      <td>False</td>\n",
       "    </tr>\n",
       "    <tr>\n",
       "      <th>6328</th>\n",
       "      <td>Mora 330</td>\n",
       "      <td>Mora 360</td>\n",
       "      <td>1.000000</td>\n",
       "      <td>False</td>\n",
       "    </tr>\n",
       "  </tbody>\n",
       "</table>\n",
       "</div>"
      ],
      "text/plain": [
       "                                          level_0  \\\n",
       "6286               Antiguedad de Producto_ANTIGUO   \n",
       "6287                    Marca Portafolio_NO CHURN   \n",
       "6288            des_traslado_PROXIMOS A SUSPENDER   \n",
       "6289  Analisis Vector_PAGO OPORTUNO Y NO OPORTUNO   \n",
       "6290                           Validación Recaudo   \n",
       "6291   des_traslado_PROXIMOS A SUSPENDER AGENCIAS   \n",
       "6292                Marca Portafolio_SIN REGISTRO   \n",
       "6293                         Edad de Mora_Mora 30   \n",
       "6294   des_traslado_PROXIMOS A SUSPENDER AGENCIAS   \n",
       "6295      Tipificacion Cliente_SERVICIO EXISTENTE   \n",
       "6296                                     Mora 120   \n",
       "6297            des_traslado_PROXIMOS A SUSPENDER   \n",
       "6298            des_traslado_PROXIMOS A SUSPENDER   \n",
       "6299                  Calificacion Vector Cliente   \n",
       "6300                   Perfil Digital_5- Acertijo   \n",
       "6301                  Calificacion Vector Cliente   \n",
       "6302                         DIAS SIN GESTION_act   \n",
       "6303                                  saldo_ratio   \n",
       "6304                    Cod. Status Billing_10100   \n",
       "6305                    Perfil Digital_SIN PERFIL   \n",
       "6306               Antiguedad de Producto_ANTIGUO   \n",
       "6307                           Validación Recaudo   \n",
       "6308            Vector Cualitativo Contrato_BUENO   \n",
       "6309                         Edad de Mora_Mora 30   \n",
       "6310      Tipificacion Cliente_SERVICIO EXISTENTE   \n",
       "6311            Vector Cualitativo Contrato_BUENO   \n",
       "6312        Vector Cualitativo Contrato_EXCELENTE   \n",
       "6313                         DIAS SIN GESTION_act   \n",
       "6314   des_traslado_PROXIMOS A SUSPENDER AGENCIAS   \n",
       "6315                                     Mora 120   \n",
       "6316  Tipificacion Cliente_SERVICIO NUEVO 3 MESES   \n",
       "6317                                  saldo_ratio   \n",
       "6318                             DIAS SIN GESTION   \n",
       "6319                 des_traslado_PREJURIDICA 120   \n",
       "6320                    Canal B2B_MULTINACIONALES   \n",
       "6321               Antiguedad de Producto_ANTIGUO   \n",
       "6322                         meses_desde_creacion   \n",
       "6323                    Cod. Status Billing_10100   \n",
       "6324                                     Mora 330   \n",
       "6325                                     Mora 360   \n",
       "6326                                    Dias Mora   \n",
       "6328                                     Mora 330   \n",
       "\n",
       "                                              level_1         0    new  \n",
       "6286              Vector Cualitativo Contrato_REGULAR  0.300620  False  \n",
       "6287  Desc_codigo_ult_ges_CARTERA ASIGNADA PARA COBRO  0.301453  False  \n",
       "6288                        Cod. Status Billing_10100  0.306582  False  \n",
       "6289                      Calificacion Vector Cliente  0.309628  False  \n",
       "6290                                      saldo_ratio  0.311693  False  \n",
       "6291                      Marca Portafolio_CHURN BASE  0.311974  False  \n",
       "6292                 des_traslado_PROXIMOS CANCELADOS  0.313259  False  \n",
       "6293  Desc_codigo_ult_ges_CARTERA ASIGNADA PARA COBRO  0.316517  False  \n",
       "6294                                    Estado Cuenta  0.323735  False  \n",
       "6295                      Tipo Inventario_Pospago 5.0  0.326675  False  \n",
       "6296                             DIAS SIN GESTION_act  0.326949  False  \n",
       "6297                           Marca Portafolio_CHURN  0.327931  False  \n",
       "6298                             Edad de Mora_Mora 30  0.328852  False  \n",
       "6299                                         ESTATUS1  0.341254  False  \n",
       "6300                             meses_desde_creacion  0.346997  False  \n",
       "6301                Vector Cualitativo Contrato_BUENO  0.351413  False  \n",
       "6302                 des_traslado_PROXIMOS CANCELADOS  0.364227  False  \n",
       "6303                des_traslado_PROXIMOS A SUSPENDER  0.364505  False  \n",
       "6304                                      saldo_ratio  0.375711  False  \n",
       "6305             Antiguedad de Producto_EN MADURACION  0.376297  False  \n",
       "6306                      Tipo Inventario_Pospago 5.0  0.381266  False  \n",
       "6307                             Edad de Mora_Mora 30  0.389797  False  \n",
       "6308     Analisis Vector_PAGO PARCIAL ULTIMOS 6 MESES  0.396705  False  \n",
       "6309                        Cod. Status Billing_10100  0.411356  False  \n",
       "6310                             meses_desde_creacion  0.412189  False  \n",
       "6311      Analisis Vector_PAGO OPORTUNO Y NO OPORTUNO  0.426706  False  \n",
       "6312                      Calificacion Vector Cliente  0.430234  False  \n",
       "6313                                        Dias Mora  0.439180  False  \n",
       "6314                        Cod. Status Billing_10100  0.443471  False  \n",
       "6315                     des_traslado_PREJURIDICA 120  0.453401  False  \n",
       "6316     Analisis Vector_PAGO PARCIAL ULTIMOS 6 MESES  0.487192  False  \n",
       "6317                             Edad de Mora_Mora 30  0.489538  False  \n",
       "6318                    Marca Portafolio_SIN REGISTRO  0.497362  False  \n",
       "6319                                        Dias Mora  0.498128  False  \n",
       "6320                                   Mora Mayor 360  0.534926  False  \n",
       "6321          Tipificacion Cliente_SERVICIO EXISTENTE  0.569662  False  \n",
       "6322                   Antiguedad de Producto_ANTIGUO  0.658334  False  \n",
       "6323                                    Estado Cuenta  0.680147  False  \n",
       "6324                                   Mora Mayor 360  0.804308  False  \n",
       "6325                                   Mora Mayor 360  0.804308  False  \n",
       "6326                                         Mora 120  0.841069  False  \n",
       "6328                                         Mora 360  1.000000  False  "
      ]
     },
     "execution_count": 52,
     "metadata": {},
     "output_type": "execute_result"
    }
   ],
   "source": [
    "cor[(cor['new']!=True) &(cor[0]>0.30)].head(60)#['level_0'].to_list"
   ]
  },
  {
   "cell_type": "code",
   "execution_count": 53,
   "metadata": {},
   "outputs": [],
   "source": [
    "variables_consolidadas.drop([\n",
    "                'Mora 330','Mora 120','Mora Mayor 360',\n",
    "                'Cod. Status Billing_10100',\n",
    "                'Tipificacion Cliente_nan'],axis=1,inplace=True)"
   ]
  },
  {
   "cell_type": "code",
   "execution_count": 54,
   "metadata": {},
   "outputs": [],
   "source": [
    "variables_consolidadas['saldo_ratio'].fillna(variables_consolidadas['saldo_ratio'].median(),inplace=True)"
   ]
  },
  {
   "cell_type": "code",
   "execution_count": 55,
   "metadata": {},
   "outputs": [],
   "source": [
    "variables_consolidadas['saldo_ratio_log']=(variables_consolidadas['saldo_ratio']+1).transform(np.log).fillna((variables_consolidadas['saldo_ratio']+1).transform(np.log).median())\n",
    "variables_consolidadas['Dias Mora_log']=(variables_consolidadas['Dias Mora']-variables_consolidadas['Dias Mora'].min()+1).transform(np.log)"
   ]
  },
  {
   "cell_type": "code",
   "execution_count": 56,
   "metadata": {},
   "outputs": [
    {
     "data": {
      "text/plain": [
       "'\\\\\\\\10.1.1.7\\\\01 Oficina Planeación y Control\\\\01 Analytics\\\\Stiven\\\\Cobranzas'"
      ]
     },
     "execution_count": 56,
     "metadata": {},
     "output_type": "execute_result"
    }
   ],
   "source": [
    "os.getcwd()"
   ]
  },
  {
   "cell_type": "code",
   "execution_count": 57,
   "metadata": {},
   "outputs": [],
   "source": [
    "from sklearn.model_selection import train_test_split, cross_val_predict\n",
    "from sklearn.ensemble import RandomForestClassifier\n",
    "from xgboost import XGBClassifier\n",
    "from sklearn.model_selection import train_test_split\n",
    "from sklearn.preprocessing import LabelEncoder,StandardScaler,MinMaxScaler\n",
    "from sklearn.metrics import confusion_matrix, precision_score, recall_score, f1_score,accuracy_score,make_scorer\n",
    "from sklearn.model_selection import StratifiedKFold,RandomizedSearchCV,train_test_split,cross_val_score,KFold,GridSearchCV"
   ]
  },
  {
   "cell_type": "code",
   "execution_count": 58,
   "metadata": {},
   "outputs": [
    {
     "name": "stdout",
     "output_type": "stream",
     "text": [
      "Shape of x_train: (89966, 112)\n",
      "Shape of x_test: (33322, 112)\n",
      "Shape of x_val: (9997, 112)\n",
      "Shape of y_train: (89966,)\n",
      "Shape of y_test: (33322,)\n",
      "Shape of y_val: (9997,)\n"
     ]
    }
   ],
   "source": [
    "#Entrenamiento y prueba con relación 80:20\n",
    "x_train, x_test, y_train, y_test = train_test_split(variables_consolidadas,objetivo, test_size=0.25,random_state=90)\n",
    "#Entrenamiento y validación con relación 90:10\n",
    "x_train, x_val, y_train, y_val = train_test_split(x_train,y_train, test_size=0.1, random_state=90)\n",
    "\n",
    "print(\"Shape of x_train:\",x_train.shape)\n",
    "print(\"Shape of x_test:\",x_test.shape)\n",
    "print(\"Shape of x_val:\",x_val.shape)\n",
    "print(\"Shape of y_train:\",y_train.shape)\n",
    "print(\"Shape of y_test:\",y_test.shape)\n",
    "print(\"Shape of y_val:\",y_val.shape)"
   ]
  },
  {
   "cell_type": "code",
   "execution_count": 59,
   "metadata": {},
   "outputs": [
    {
     "name": "stdout",
     "output_type": "stream",
     "text": [
      "Removed `0` Constant Columns\n",
      "\n",
      "[]\n"
     ]
    },
    {
     "name": "stderr",
     "output_type": "stream",
     "text": [
      "C:\\ProgramData\\Anaconda3\\lib\\site-packages\\pandas\\core\\frame.py:4906: SettingWithCopyWarning: \n",
      "A value is trying to be set on a copy of a slice from a DataFrame\n",
      "\n",
      "See the caveats in the documentation: https://pandas.pydata.org/pandas-docs/stable/user_guide/indexing.html#returning-a-view-versus-a-copy\n",
      "  return super().drop(\n"
     ]
    }
   ],
   "source": [
    "# check and remove constant columns\n",
    "colsToRemove = []\n",
    "for col in x_train.columns:\n",
    "    if col != 'ID' and col != 'target':\n",
    "        if x_train[col].std() == 0: \n",
    "            colsToRemove.append(col)\n",
    "        \n",
    "# remove constant columns in the training set\n",
    "x_train.drop(colsToRemove, axis=1, inplace=True)\n",
    "\n",
    "# remove constant columns in the test set\n",
    "x_test.drop(colsToRemove, axis=1, inplace=True) \n",
    "x_val.drop(colsToRemove, axis=1, inplace=True) \n",
    "\n",
    "\n",
    "print(\"Removed `{}` Constant Columns\\n\".format(len(colsToRemove)))\n",
    "print(colsToRemove)"
   ]
  },
  {
   "cell_type": "code",
   "execution_count": 60,
   "metadata": {},
   "outputs": [
    {
     "name": "stdout",
     "output_type": "stream",
     "text": [
      "['Tipo Plan_Pospago 5.0', 'Tipo Plan_Venta Plazos']\n",
      "Wall time: 620 ms\n"
     ]
    }
   ],
   "source": [
    "%%time\n",
    "def duplicate_columns(frame):\n",
    "    groups = frame.columns.to_series().groupby(frame.dtypes).groups\n",
    "    dups = []\n",
    "\n",
    "    for t, v in groups.items():\n",
    "\n",
    "        cs = frame[v].columns\n",
    "        vs = frame[v]\n",
    "        lcs = len(cs)\n",
    "\n",
    "        for i in range(lcs):\n",
    "            ia = vs.iloc[:,i].values\n",
    "            for j in range(i+1, lcs):\n",
    "                ja = vs.iloc[:,j].values\n",
    "                if np.array_equal(ia, ja):\n",
    "                    dups.append(cs[i])\n",
    "                    break\n",
    "\n",
    "    return dups\n",
    "\n",
    "colsToRemove = duplicate_columns(x_train)\n",
    "print(colsToRemove)"
   ]
  },
  {
   "cell_type": "code",
   "execution_count": 61,
   "metadata": {},
   "outputs": [
    {
     "name": "stdout",
     "output_type": "stream",
     "text": [
      "Removed `2` Duplicate Columns\n",
      "\n",
      "['Tipo Plan_Pospago 5.0', 'Tipo Plan_Venta Plazos']\n"
     ]
    }
   ],
   "source": [
    "# remove duplicate columns in the training set\n",
    "x_train.drop(colsToRemove, axis=1, inplace=True) \n",
    "\n",
    "x_test.drop(colsToRemove, axis=1, inplace=True) \n",
    "# x_val.drop(colsToRemove, axis=1, inplace=True) \n",
    "\n",
    "\n",
    "print(\"Removed `{}` Duplicate Columns\\n\".format(len(colsToRemove)))\n",
    "print(colsToRemove)"
   ]
  },
  {
   "cell_type": "code",
   "execution_count": 63,
   "metadata": {},
   "outputs": [],
   "source": [
    "from imblearn.combine import SMOTETomek ## Imbalance dataset \n",
    "from imblearn.over_sampling import SMOTE"
   ]
  },
  {
   "cell_type": "code",
   "execution_count": 65,
   "metadata": {},
   "outputs": [],
   "source": [
    "sm = SMOTE(random_state = 42)\n",
    "columns = x_train.columns\n",
    "## Aplicando el balanceo de datos, solo a la data de entrenamiento\n",
    "train_data_X,train_data_y=sm.fit_resample(x_train, y_train.values.ravel()) #bien"
   ]
  },
  {
   "cell_type": "code",
   "execution_count": 69,
   "metadata": {},
   "outputs": [],
   "source": [
    "train_data_X.columns.to_frame().to_csv('D:\\Proyecto Movil\\Modelo 2\\columnas.csv')"
   ]
  },
  {
   "cell_type": "code",
   "execution_count": 66,
   "metadata": {},
   "outputs": [],
   "source": [
    "#train_data_X = pd.DataFrame(data=train_data_X,columns=columns)\n",
    "#train_data_y= pd.DataFrame(data=train_data_y)"
   ]
  },
  {
   "cell_type": "code",
   "execution_count": 67,
   "metadata": {},
   "outputs": [],
   "source": [
    "kf = KFold(n_splits=5) ## kfold Cross validation"
   ]
  },
  {
   "cell_type": "code",
   "execution_count": 68,
   "metadata": {},
   "outputs": [
    {
     "name": "stderr",
     "output_type": "stream",
     "text": [
      "C:\\ProgramData\\Anaconda3\\lib\\site-packages\\xgboost\\sklearn.py:1224: UserWarning: The use of label encoder in XGBClassifier is deprecated and will be removed in a future release. To remove this warning, do the following: 1) Pass option use_label_encoder=False when constructing XGBClassifier object; and 2) Encode your labels (y) as integers starting with 0, i.e. 0, 1, 2, ..., [num_class - 1].\n",
      "  warnings.warn(label_encoder_deprecation_msg, UserWarning)\n"
     ]
    },
    {
     "name": "stdout",
     "output_type": "stream",
     "text": [
      "[23:44:22] WARNING: C:/Users/Administrator/workspace/xgboost-win64_release_1.5.1/src/learner.cc:1115: Starting in XGBoost 1.3.0, the default evaluation metric used with the objective 'binary:logistic' was changed from 'error' to 'logloss'. Explicitly set eval_metric if you'd like to restore the old behavior.\n",
      "XGBoost accuracy es: 84.81\n",
      "              precision    recall  f1-score   support\n",
      "\n",
      "           0       0.94      0.84      0.89     24447\n",
      "           1       0.67      0.86      0.75      8875\n",
      "\n",
      "    accuracy                           0.85     33322\n",
      "   macro avg       0.81      0.85      0.82     33322\n",
      "weighted avg       0.87      0.85      0.85     33322\n",
      "\n"
     ]
    }
   ],
   "source": [
    "xgboost = XGBClassifier(max_depth=5,learning_rate=0.001, n_estimators=150, gamma=0.5,colsample_bytree=0.5,subsample=0.6)\n",
    "\n",
    "model=xgboost.fit(train_data_X, train_data_y)\n",
    "preds = model.predict(x_test)\n",
    "\n",
    "accuracy = (preds == y_test).sum().astype(float) / len(preds)*100\n",
    "\n",
    "print(\"XGBoost accuracy es: %3.2f\" % (accuracy)) ##\n",
    "from sklearn.metrics import classification_report\n",
    "print(classification_report(y_test, preds))"
   ]
  },
  {
   "cell_type": "code",
   "execution_count": 71,
   "metadata": {},
   "outputs": [
    {
     "data": {
      "text/plain": [
       "<AxesSubplot:title={'center':'Feature importance'}, xlabel='F score', ylabel='Features'>"
      ]
     },
     "execution_count": 71,
     "metadata": {},
     "output_type": "execute_result"
    },
    {
     "data": {
      "image/png": "[encoded data removed]",
      "text/plain": [
       "<Figure size 432x288 with 1 Axes>"
      ]
     },
     "metadata": {
      "needs_background": "light"
     },
     "output_type": "display_data"
    }
   ],
   "source": [
    "from xgboost import plot_importance\n",
    "plot_importance(model, max_num_features=20)\n",
    "#plt.show()"
   ]
  },
  {
   "cell_type": "code",
   "execution_count": 72,
   "metadata": {},
   "outputs": [
    {
     "name": "stdout",
     "output_type": "stream",
     "text": [
      "[[20592  3855]\n",
      " [ 1201  7674]]\n"
     ]
    },
    {
     "data": {
      "image/png": "[encoded data removed]",
      "text/plain": [
       "<Figure size 432x288 with 2 Axes>"
      ]
     },
     "metadata": {
      "needs_background": "light"
     },
     "output_type": "display_data"
    }
   ],
   "source": [
    "cm = confusion_matrix(y_test, preds)\n",
    "print(cm)\n",
    "fig = plt.figure()\n",
    "ax = fig.add_subplot(111)\n",
    "cax = ax.matshow(cm)\n",
    "plt.title('Confusion matrix')\n",
    "fig.colorbar(cax)\n",
    "plt.xlabel('Predicted')\n",
    "plt.ylabel('True')\n",
    "plt.show()"
   ]
  },
  {
   "cell_type": "code",
   "execution_count": 73,
   "metadata": {},
   "outputs": [],
   "source": [
    "import pickle\n",
    "file_name = \"xgb_mod_1.pkl\"\n",
    "#D:\\Proyecto Movil\\Modelo 2\\\n",
    "\n",
    "# save\n",
    "pickle.dump(model, open(file_name, \"wb\"))\n",
    "\n",
    "\n",
    "# load\n",
    "xgb_model_loaded = pickle.load(open(file_name, \"rb\"))"
   ]
  },
  {
   "cell_type": "code",
   "execution_count": 74,
   "metadata": {},
   "outputs": [],
   "source": [
    "train_data_X.to_csv(\"D:\\Proyecto Movil\\Dataset_x_mod_1.csv\",sep=';',encoding='utf-8',index=False)"
   ]
  },
  {
   "cell_type": "code",
   "execution_count": 75,
   "metadata": {},
   "outputs": [],
   "source": [
    "## tuneado de hiper parametros\n",
    "params={\n",
    " \"n_estimators\"     : [100,150,200],\n",
    " \"learning_rate\"    : [0.005, 0.01, 0.015, 0.0001,0.02 ] ,\n",
    " \"max_depth\"        : [ 6,8,10,15],\n",
    " \"min_child_weight\" : [ 1, 3, 5, 7,5],\n",
    " \"gamma\"            : [ 0.3, 0.4,0.6],\n",
    " \"colsample_bytree\" : [0.5 , 0.7 ,0.9],\n",
    " \"subsample\"        : [0.5,0.8,0.9],\n",
    " \"reg_lambda\"       : [1,2]\n",
    " }\n",
    "scoring = {       'f1_score' : make_scorer(f1_score, average = 'micro')}\n",
    "kf = KFold(n_splits=3)"
   ]
  },
  {
   "cell_type": "code",
   "execution_count": 76,
   "metadata": {},
   "outputs": [],
   "source": [
    "xgboost = XGBClassifier(random_state=42)\n",
    "kf = KFold(n_splits=3)\n",
    "random_search=RandomizedSearchCV(estimator = xgboost,param_distributions=params,\n",
    "                                    n_iter=3,scoring='f1_weighted',n_jobs=-1,cv=kf,verbose=3,refit=True)"
   ]
  },
  {
   "cell_type": "code",
   "execution_count": 77,
   "metadata": {},
   "outputs": [
    {
     "name": "stdout",
     "output_type": "stream",
     "text": [
      "Fitting 3 folds for each of 3 candidates, totalling 9 fits\n"
     ]
    },
    {
     "name": "stderr",
     "output_type": "stream",
     "text": [
      "C:\\ProgramData\\Anaconda3\\lib\\site-packages\\xgboost\\sklearn.py:1224: UserWarning: The use of label encoder in XGBClassifier is deprecated and will be removed in a future release. To remove this warning, do the following: 1) Pass option use_label_encoder=False when constructing XGBClassifier object; and 2) Encode your labels (y) as integers starting with 0, i.e. 0, 1, 2, ..., [num_class - 1].\n",
      "  warnings.warn(label_encoder_deprecation_msg, UserWarning)\n"
     ]
    },
    {
     "name": "stdout",
     "output_type": "stream",
     "text": [
      "[23:25:34] WARNING: C:/Users/Administrator/workspace/xgboost-win64_release_1.5.1/src/learner.cc:1115: Starting in XGBoost 1.3.0, the default evaluation metric used with the objective 'binary:logistic' was changed from 'error' to 'logloss'. Explicitly set eval_metric if you'd like to restore the old behavior.\n"
     ]
    },
    {
     "data": {
      "text/plain": [
       "RandomizedSearchCV(cv=KFold(n_splits=3, random_state=None, shuffle=False),\n",
       "                   estimator=XGBClassifier(base_score=None, booster=None,\n",
       "                                           colsample_bylevel=None,\n",
       "                                           colsample_bynode=None,\n",
       "                                           colsample_bytree=None,\n",
       "                                           enable_categorical=False, gamma=None,\n",
       "                                           gpu_id=None, importance_type=None,\n",
       "                                           interaction_constraints=None,\n",
       "                                           learning_rate=None,\n",
       "                                           max_delta_step=None, max_depth=None,\n",
       "                                           min_ch...\n",
       "                                           subsample=None, tree_method=None,\n",
       "                                           validate_parameters=None,\n",
       "                                           verbosity=None),\n",
       "                   n_iter=3, n_jobs=-1,\n",
       "                   param_distributions={'colsample_bytree': [0.5, 0.7, 0.9],\n",
       "                                        'gamma': [0.3, 0.4, 0.6],\n",
       "                                        'learning_rate': [0.005, 0.01, 0.015,\n",
       "                                                          0.0001, 0.02],\n",
       "                                        'max_depth': [6, 8, 10, 15],\n",
       "                                        'min_child_weight': [1, 3, 5, 7, 5],\n",
       "                                        'n_estimators': [100, 150, 200],\n",
       "                                        'reg_lambda': [1, 2],\n",
       "                                        'subsample': [0.5, 0.8, 0.9]},\n",
       "                   scoring='f1_weighted', verbose=3)"
      ]
     },
     "execution_count": 77,
     "metadata": {},
     "output_type": "execute_result"
    }
   ],
   "source": [
    "random_search.fit(train_data_X, train_data_y)"
   ]
  },
  {
   "cell_type": "code",
   "execution_count": 82,
   "metadata": {},
   "outputs": [
    {
     "name": "stdout",
     "output_type": "stream",
     "text": [
      "XGBClassifier(base_score=0.5, booster='gbtree', colsample_bylevel=1,\n",
      "              colsample_bynode=1, colsample_bytree=0.5,\n",
      "              enable_categorical=False, gamma=0.4, gpu_id=-1,\n",
      "              importance_type=None, interaction_constraints='',\n",
      "              learning_rate=0.02, max_delta_step=0, max_depth=15,\n",
      "              min_child_weight=1, missing=nan, monotone_constraints='()',\n",
      "              n_estimators=100, n_jobs=4, num_parallel_tree=1, predictor='auto',\n",
      "              random_state=42, reg_alpha=0, reg_lambda=2, scale_pos_weight=1,\n",
      "              subsample=0.5, tree_method='exact', validate_parameters=1,\n",
      "              verbosity=None)\n"
     ]
    }
   ],
   "source": [
    "print(random_search.best_estimator_)"
   ]
  },
  {
   "cell_type": "code",
   "execution_count": 83,
   "metadata": {},
   "outputs": [
    {
     "name": "stdout",
     "output_type": "stream",
     "text": [
      "Using hyperparameters --> \n",
      " {'subsample': 0.5, 'reg_lambda': 2, 'n_estimators': 100, 'min_child_weight': 1, 'max_depth': 15, 'learning_rate': 0.02, 'gamma': 0.4, 'colsample_bytree': 0.5}\n"
     ]
    }
   ],
   "source": [
    "print(\"Using hyperparameters --> \\n\", random_search.best_params_)"
   ]
  },
  {
   "cell_type": "code",
   "execution_count": 84,
   "metadata": {},
   "outputs": [
    {
     "name": "stderr",
     "output_type": "stream",
     "text": [
      "C:\\ProgramData\\Anaconda3\\lib\\site-packages\\xgboost\\sklearn.py:1224: UserWarning: The use of label encoder in XGBClassifier is deprecated and will be removed in a future release. To remove this warning, do the following: 1) Pass option use_label_encoder=False when constructing XGBClassifier object; and 2) Encode your labels (y) as integers starting with 0, i.e. 0, 1, 2, ..., [num_class - 1].\n",
      "  warnings.warn(label_encoder_deprecation_msg, UserWarning)\n"
     ]
    },
    {
     "name": "stdout",
     "output_type": "stream",
     "text": [
      "[23:30:15] WARNING: C:/Users/Administrator/workspace/xgboost-win64_release_1.5.1/src/learner.cc:1115: Starting in XGBoost 1.3.0, the default evaluation metric used with the objective 'binary:logistic' was changed from 'error' to 'logloss'. Explicitly set eval_metric if you'd like to restore the old behavior.\n"
     ]
    }
   ],
   "source": [
    "classi=XGBClassifier(base_score=0.5, booster='gbtree', colsample_bylevel=1,\n",
    "              colsample_bynode=1, colsample_bytree=0.5,\n",
    "              enable_categorical=False, gamma=0.4, gpu_id=-1,\n",
    "              importance_type=None, interaction_constraints='',\n",
    "              learning_rate=0.02, max_delta_step=0, max_depth=15,\n",
    "              min_child_weight=1, monotone_constraints='()',\n",
    "              n_estimators=100, n_jobs=4, num_parallel_tree=1, predictor='auto',\n",
    "              random_state=42, reg_alpha=0, reg_lambda=2, scale_pos_weight=1,\n",
    "              subsample=0.5, tree_method='exact', validate_parameters=1,\n",
    "              verbosity=None)\n",
    "model2=classi.fit(train_data_X, train_data_y)"
   ]
  },
  {
   "cell_type": "code",
   "execution_count": 85,
   "metadata": {},
   "outputs": [
    {
     "name": "stdout",
     "output_type": "stream",
     "text": [
      "              precision    recall  f1-score   support\n",
      "\n",
      "           0       0.95      0.92      0.94     24447\n",
      "           1       0.80      0.88      0.84      8875\n",
      "\n",
      "    accuracy                           0.91     33322\n",
      "   macro avg       0.88      0.90      0.89     33322\n",
      "weighted avg       0.91      0.91      0.91     33322\n",
      "\n"
     ]
    }
   ],
   "source": [
    "y_hats = model2.predict(x_test)#[:,1]\n",
    "from sklearn.metrics import classification_report\n",
    "print(classification_report(y_test, y_hats))"
   ]
  },
  {
   "cell_type": "code",
   "execution_count": 86,
   "metadata": {},
   "outputs": [],
   "source": [
    "skf = KFold(n_splits=4)\n",
    "from sklearn.model_selection import cross_val_score\n",
    "score=cross_val_score(classi,variables_consolidadas[train_data_X.columns],objetivo,cv=skf,n_jobs=5)"
   ]
  },
  {
   "cell_type": "code",
   "execution_count": 87,
   "metadata": {},
   "outputs": [
    {
     "data": {
      "text/plain": [
       "0.9088718878292753"
      ]
     },
     "execution_count": 87,
     "metadata": {},
     "output_type": "execute_result"
    }
   ],
   "source": [
    "np.mean(score)"
   ]
  },
  {
   "cell_type": "code",
   "execution_count": 88,
   "metadata": {},
   "outputs": [],
   "source": [
    "model2.save_model(\"D:\\Proyecto Movil\\Modelo 2\\model2_tun.json\")"
   ]
  },
  {
   "cell_type": "code",
   "execution_count": 89,
   "metadata": {},
   "outputs": [
    {
     "data": {
      "text/plain": [
       "'\\\\\\\\10.1.1.7\\\\01 Oficina Planeación y Control\\\\01 Analytics\\\\Stiven\\\\Cobranzas'"
      ]
     },
     "execution_count": 89,
     "metadata": {},
     "output_type": "execute_result"
    }
   ],
   "source": [
    "os.getcwd()"
   ]
  },
  {
   "cell_type": "code",
   "execution_count": 90,
   "metadata": {},
   "outputs": [],
   "source": [
    "os.chdir(r\"D:\\Proyecto Movil\\Modelo 2\")"
   ]
  },
  {
   "cell_type": "code",
   "execution_count": 91,
   "metadata": {},
   "outputs": [],
   "source": [
    "import pickle\n",
    "file_name = \"xgb_mod_v2.pkl\"\n",
    "\n",
    "# save\n",
    "pickle.dump(model2, open(file_name, \"wb\"))\n"
   ]
  },
  {
   "cell_type": "code",
   "execution_count": 92,
   "metadata": {},
   "outputs": [
    {
     "name": "stdout",
     "output_type": "stream",
     "text": [
      "[[22474  1973]\n",
      " [ 1095  7780]]\n"
     ]
    },
    {
     "data": {
      "image/png": "[encoded data removed]",
      "text/plain": [
       "<Figure size 432x288 with 1 Axes>"
      ]
     },
     "metadata": {
      "needs_background": "light"
     },
     "output_type": "display_data"
    }
   ],
   "source": [
    "cm = confusion_matrix(y_test, y_hats)\n",
    "print(cm)\n",
    "fig = plt.figure()\n",
    "ax = fig.add_subplot(111)\n",
    "cax = ax.matshow(cm)"
   ]
  },
  {
   "cell_type": "code",
   "execution_count": 93,
   "metadata": {},
   "outputs": [
    {
     "data": {
      "text/plain": [
       "<AxesSubplot:title={'center':'Feature importance'}, xlabel='F score', ylabel='Features'>"
      ]
     },
     "execution_count": 93,
     "metadata": {},
     "output_type": "execute_result"
    },
    {
     "data": {
      "image/png": "[encoded data removed]",
      "text/plain": [
       "<Figure size 432x288 with 1 Axes>"
      ]
     },
     "metadata": {
      "needs_background": "light"
     },
     "output_type": "display_data"
    }
   ],
   "source": [
    "from xgboost import plot_importance\n",
    "plot_importance(model2, max_num_features=20)"
   ]
  },
  {
   "cell_type": "code",
   "execution_count": 94,
   "metadata": {},
   "outputs": [],
   "source": [
    "from sklearn.metrics import roc_auc_score"
   ]
  },
  {
   "cell_type": "code",
   "execution_count": 95,
   "metadata": {},
   "outputs": [
    {
     "name": "stdout",
     "output_type": "stream",
     "text": [
      "AUC: 95.6153% \n"
     ]
    }
   ],
   "source": [
    "predictions = model2.predict_proba(x_test)[:,1]\n",
    "roc = roc_auc_score(y_test, predictions)\n",
    "print(\"AUC: %.4f%% \" % (roc * 100))   # prints AUC: 89.2% "
   ]
  },
  {
   "cell_type": "code",
   "execution_count": 96,
   "metadata": {},
   "outputs": [
    {
     "name": "stdout",
     "output_type": "stream",
     "text": [
      "[[22474  1973]\n",
      " [ 1095  7780]]\n"
     ]
    },
    {
     "data": {
      "image/png": "[encoded data removed]",
      "text/plain": [
       "<Figure size 432x288 with 2 Axes>"
      ]
     },
     "metadata": {
      "needs_background": "light"
     },
     "output_type": "display_data"
    }
   ],
   "source": [
    "cm = confusion_matrix(y_test, y_hats)\n",
    "print(cm)\n",
    "fig = plt.figure()\n",
    "ax = fig.add_subplot(111)\n",
    "cax = ax.matshow(cm)\n",
    "plt.title('Confusion matrix')\n",
    "fig.colorbar(cax)\n",
    "plt.xlabel('Predicted')\n",
    "plt.ylabel('True')\n",
    "plt.show()"
   ]
  },
  {
   "cell_type": "code",
   "execution_count": 97,
   "metadata": {},
   "outputs": [
    {
     "data": {
      "image/png": "[encoded data removed]",
      "text/plain": [
       "<Figure size 432x288 with 1 Axes>"
      ]
     },
     "metadata": {
      "needs_background": "light"
     },
     "output_type": "display_data"
    }
   ],
   "source": [
    "from sklearn.metrics import roc_curve, auc, accuracy_score\n",
    "#%matplotlib inline\n",
    "#Next we plot the ROC curve:\n",
    "roc_vs = roc_curve(y_test, y_hats)\n",
    "auc_vs = auc( roc_vs[0], roc_vs[1] )\n",
    "\n",
    "plt.figure()\n",
    "line_width = 2\n",
    "plt.plot(roc_vs[0], roc_vs[1], color='darkorange', lw=line_width,\n",
    "         label=f\"ROC based on training data (AUC = {auc_vs:0.2f})\")\n",
    "plt.plot([0, 1], [0, 1], color='navy', lw=line_width, linestyle='--', label='Random guess')\n",
    "plt.xlim([0.0, 1.0])\n",
    "plt.ylim([0.0, 1.05])\n",
    "plt.xlabel('False Positive Rate')\n",
    "plt.ylabel('True Positive Rate')\n",
    "plt.title('Classification of Defaulters')\n",
    "plt.legend(loc='lower right')\n",
    "plt.show()"
   ]
  },
  {
   "cell_type": "code",
   "execution_count": 98,
   "metadata": {},
   "outputs": [],
   "source": [
    "from matplotlib import pyplot"
   ]
  },
  {
   "cell_type": "code",
   "execution_count": 99,
   "metadata": {},
   "outputs": [
    {
     "name": "stderr",
     "output_type": "stream",
     "text": [
      "C:\\ProgramData\\Anaconda3\\lib\\site-packages\\xgboost\\sklearn.py:1224: UserWarning: The use of label encoder in XGBClassifier is deprecated and will be removed in a future release. To remove this warning, do the following: 1) Pass option use_label_encoder=False when constructing XGBClassifier object; and 2) Encode your labels (y) as integers starting with 0, i.e. 0, 1, 2, ..., [num_class - 1].\n",
      "  warnings.warn(label_encoder_deprecation_msg, UserWarning)\n"
     ]
    },
    {
     "name": "stdout",
     "output_type": "stream",
     "text": [
      "[0]\tvalidation_0-auc:0.92903\tvalidation_0-error:0.11304\tvalidation_0-logloss:0.68007\tvalidation_1-auc:0.91990\tvalidation_1-error:0.12979\tvalidation_1-logloss:0.68043\n",
      "[1]\tvalidation_0-auc:0.93829\tvalidation_0-error:0.10685\tvalidation_0-logloss:0.66910\tvalidation_1-auc:0.92648\tvalidation_1-error:0.11998\tvalidation_1-logloss:0.66980\n",
      "[2]\tvalidation_0-auc:0.95041\tvalidation_0-error:0.09346\tvalidation_0-logloss:0.65614\tvalidation_1-auc:0.93801\tvalidation_1-error:0.10840\tvalidation_1-logloss:0.65735\n",
      "[3]\tvalidation_0-auc:0.95167\tvalidation_0-error:0.09241\tvalidation_0-logloss:0.64441\tvalidation_1-auc:0.93965\tvalidation_1-error:0.10588\tvalidation_1-logloss:0.64593\n",
      "[4]\tvalidation_0-auc:0.95472\tvalidation_0-error:0.08882\tvalidation_0-logloss:0.63295\tvalidation_1-auc:0.94276\tvalidation_1-error:0.10329\tvalidation_1-logloss:0.63488\n",
      "[5]\tvalidation_0-auc:0.95502\tvalidation_0-error:0.08869\tvalidation_0-logloss:0.62189\tvalidation_1-auc:0.94337\tvalidation_1-error:0.10249\tvalidation_1-logloss:0.62409\n",
      "[6]\tvalidation_0-auc:0.95800\tvalidation_0-error:0.08750\tvalidation_0-logloss:0.61108\tvalidation_1-auc:0.94638\tvalidation_1-error:0.10128\tvalidation_1-logloss:0.61367\n",
      "[7]\tvalidation_0-auc:0.95875\tvalidation_0-error:0.08609\tvalidation_0-logloss:0.60086\tvalidation_1-auc:0.94693\tvalidation_1-error:0.10128\tvalidation_1-logloss:0.60388\n",
      "[8]\tvalidation_0-auc:0.96018\tvalidation_0-error:0.08529\tvalidation_0-logloss:0.59011\tvalidation_1-auc:0.94880\tvalidation_1-error:0.09885\tvalidation_1-logloss:0.59339\n",
      "[9]\tvalidation_0-auc:0.96098\tvalidation_0-error:0.08405\tvalidation_0-logloss:0.57966\tvalidation_1-auc:0.94990\tvalidation_1-error:0.09834\tvalidation_1-logloss:0.58320\n",
      "[10]\tvalidation_0-auc:0.96123\tvalidation_0-error:0.08405\tvalidation_0-logloss:0.56991\tvalidation_1-auc:0.95019\tvalidation_1-error:0.09807\tvalidation_1-logloss:0.57379\n",
      "[11]\tvalidation_0-auc:0.96194\tvalidation_0-error:0.08270\tvalidation_0-logloss:0.56063\tvalidation_1-auc:0.95095\tvalidation_1-error:0.09732\tvalidation_1-logloss:0.56488\n",
      "[12]\tvalidation_0-auc:0.96251\tvalidation_0-error:0.08216\tvalidation_0-logloss:0.55176\tvalidation_1-auc:0.95135\tvalidation_1-error:0.09654\tvalidation_1-logloss:0.55640\n",
      "[13]\tvalidation_0-auc:0.96262\tvalidation_0-error:0.08248\tvalidation_0-logloss:0.54436\tvalidation_1-auc:0.95156\tvalidation_1-error:0.09732\tvalidation_1-logloss:0.54927\n",
      "[14]\tvalidation_0-auc:0.96235\tvalidation_0-error:0.08232\tvalidation_0-logloss:0.53690\tvalidation_1-auc:0.95099\tvalidation_1-error:0.09699\tvalidation_1-logloss:0.54223\n",
      "[15]\tvalidation_0-auc:0.96244\tvalidation_0-error:0.08211\tvalidation_0-logloss:0.52870\tvalidation_1-auc:0.95107\tvalidation_1-error:0.09633\tvalidation_1-logloss:0.53432\n",
      "[16]\tvalidation_0-auc:0.96270\tvalidation_0-error:0.08200\tvalidation_0-logloss:0.52097\tvalidation_1-auc:0.95106\tvalidation_1-error:0.09678\tvalidation_1-logloss:0.52703\n",
      "[17]\tvalidation_0-auc:0.96300\tvalidation_0-error:0.08142\tvalidation_0-logloss:0.51333\tvalidation_1-auc:0.95133\tvalidation_1-error:0.09588\tvalidation_1-logloss:0.51971\n",
      "[18]\tvalidation_0-auc:0.96356\tvalidation_0-error:0.08129\tvalidation_0-logloss:0.50650\tvalidation_1-auc:0.95152\tvalidation_1-error:0.09615\tvalidation_1-logloss:0.51333\n",
      "[19]\tvalidation_0-auc:0.96391\tvalidation_0-error:0.08059\tvalidation_0-logloss:0.49857\tvalidation_1-auc:0.95200\tvalidation_1-error:0.09570\tvalidation_1-logloss:0.50568\n",
      "[20]\tvalidation_0-auc:0.96404\tvalidation_0-error:0.08035\tvalidation_0-logloss:0.49159\tvalidation_1-auc:0.95219\tvalidation_1-error:0.09537\tvalidation_1-logloss:0.49900\n",
      "[21]\tvalidation_0-auc:0.96423\tvalidation_0-error:0.08060\tvalidation_0-logloss:0.48488\tvalidation_1-auc:0.95230\tvalidation_1-error:0.09561\tvalidation_1-logloss:0.49264\n",
      "[22]\tvalidation_0-auc:0.96434\tvalidation_0-error:0.08043\tvalidation_0-logloss:0.47842\tvalidation_1-auc:0.95222\tvalidation_1-error:0.09597\tvalidation_1-logloss:0.48662\n",
      "[23]\tvalidation_0-auc:0.96439\tvalidation_0-error:0.08075\tvalidation_0-logloss:0.47360\tvalidation_1-auc:0.95210\tvalidation_1-error:0.09624\tvalidation_1-logloss:0.48212\n",
      "[24]\tvalidation_0-auc:0.96481\tvalidation_0-error:0.08010\tvalidation_0-logloss:0.46662\tvalidation_1-auc:0.95246\tvalidation_1-error:0.09528\tvalidation_1-logloss:0.47550\n",
      "[25]\tvalidation_0-auc:0.96505\tvalidation_0-error:0.07920\tvalidation_0-logloss:0.46011\tvalidation_1-auc:0.95268\tvalidation_1-error:0.09504\tvalidation_1-logloss:0.46933\n",
      "[26]\tvalidation_0-auc:0.96495\tvalidation_0-error:0.07959\tvalidation_0-logloss:0.45452\tvalidation_1-auc:0.95261\tvalidation_1-error:0.09492\tvalidation_1-logloss:0.46395\n",
      "[27]\tvalidation_0-auc:0.96492\tvalidation_0-error:0.07964\tvalidation_0-logloss:0.44952\tvalidation_1-auc:0.95260\tvalidation_1-error:0.09495\tvalidation_1-logloss:0.45919\n",
      "[28]\tvalidation_0-auc:0.96487\tvalidation_0-error:0.07951\tvalidation_0-logloss:0.44383\tvalidation_1-auc:0.95255\tvalidation_1-error:0.09486\tvalidation_1-logloss:0.45376\n",
      "[29]\tvalidation_0-auc:0.96473\tvalidation_0-error:0.07943\tvalidation_0-logloss:0.43889\tvalidation_1-auc:0.95230\tvalidation_1-error:0.09543\tvalidation_1-logloss:0.44910\n",
      "[30]\tvalidation_0-auc:0.96479\tvalidation_0-error:0.07943\tvalidation_0-logloss:0.43521\tvalidation_1-auc:0.95231\tvalidation_1-error:0.09555\tvalidation_1-logloss:0.44565\n",
      "[31]\tvalidation_0-auc:0.96504\tvalidation_0-error:0.07934\tvalidation_0-logloss:0.42955\tvalidation_1-auc:0.95249\tvalidation_1-error:0.09522\tvalidation_1-logloss:0.44031\n",
      "[32]\tvalidation_0-auc:0.96530\tvalidation_0-error:0.07907\tvalidation_0-logloss:0.42392\tvalidation_1-auc:0.95272\tvalidation_1-error:0.09498\tvalidation_1-logloss:0.43501\n",
      "[33]\tvalidation_0-auc:0.96538\tvalidation_0-error:0.07875\tvalidation_0-logloss:0.41882\tvalidation_1-auc:0.95275\tvalidation_1-error:0.09495\tvalidation_1-logloss:0.43023\n",
      "[34]\tvalidation_0-auc:0.96558\tvalidation_0-error:0.07886\tvalidation_0-logloss:0.41428\tvalidation_1-auc:0.95284\tvalidation_1-error:0.09495\tvalidation_1-logloss:0.42609\n",
      "[35]\tvalidation_0-auc:0.96565\tvalidation_0-error:0.07867\tvalidation_0-logloss:0.40983\tvalidation_1-auc:0.95280\tvalidation_1-error:0.09501\tvalidation_1-logloss:0.42198\n",
      "[36]\tvalidation_0-auc:0.96561\tvalidation_0-error:0.07881\tvalidation_0-logloss:0.40583\tvalidation_1-auc:0.95260\tvalidation_1-error:0.09495\tvalidation_1-logloss:0.41836\n",
      "[37]\tvalidation_0-auc:0.96583\tvalidation_0-error:0.07845\tvalidation_0-logloss:0.40073\tvalidation_1-auc:0.95284\tvalidation_1-error:0.09489\tvalidation_1-logloss:0.41352\n",
      "[38]\tvalidation_0-auc:0.96574\tvalidation_0-error:0.07845\tvalidation_0-logloss:0.39657\tvalidation_1-auc:0.95275\tvalidation_1-error:0.09507\tvalidation_1-logloss:0.40955\n",
      "[39]\tvalidation_0-auc:0.96566\tvalidation_0-error:0.07844\tvalidation_0-logloss:0.39274\tvalidation_1-auc:0.95261\tvalidation_1-error:0.09447\tvalidation_1-logloss:0.40600\n",
      "[40]\tvalidation_0-auc:0.96565\tvalidation_0-error:0.07851\tvalidation_0-logloss:0.38897\tvalidation_1-auc:0.95248\tvalidation_1-error:0.09432\tvalidation_1-logloss:0.40254\n",
      "[41]\tvalidation_0-auc:0.96593\tvalidation_0-error:0.07817\tvalidation_0-logloss:0.38428\tvalidation_1-auc:0.95277\tvalidation_1-error:0.09414\tvalidation_1-logloss:0.39812\n",
      "[42]\tvalidation_0-auc:0.96591\tvalidation_0-error:0.07810\tvalidation_0-logloss:0.38036\tvalidation_1-auc:0.95273\tvalidation_1-error:0.09408\tvalidation_1-logloss:0.39441\n",
      "[43]\tvalidation_0-auc:0.96584\tvalidation_0-error:0.07819\tvalidation_0-logloss:0.37687\tvalidation_1-auc:0.95269\tvalidation_1-error:0.09450\tvalidation_1-logloss:0.39110\n",
      "[44]\tvalidation_0-auc:0.96600\tvalidation_0-error:0.07822\tvalidation_0-logloss:0.37399\tvalidation_1-auc:0.95269\tvalidation_1-error:0.09480\tvalidation_1-logloss:0.38851\n",
      "[45]\tvalidation_0-auc:0.96617\tvalidation_0-error:0.07817\tvalidation_0-logloss:0.37019\tvalidation_1-auc:0.95278\tvalidation_1-error:0.09483\tvalidation_1-logloss:0.38505\n",
      "[46]\tvalidation_0-auc:0.96633\tvalidation_0-error:0.07816\tvalidation_0-logloss:0.36638\tvalidation_1-auc:0.95281\tvalidation_1-error:0.09465\tvalidation_1-logloss:0.38161\n",
      "[47]\tvalidation_0-auc:0.96628\tvalidation_0-error:0.07836\tvalidation_0-logloss:0.36362\tvalidation_1-auc:0.95264\tvalidation_1-error:0.09504\tvalidation_1-logloss:0.37914\n",
      "[48]\tvalidation_0-auc:0.96627\tvalidation_0-error:0.07826\tvalidation_0-logloss:0.36060\tvalidation_1-auc:0.95245\tvalidation_1-error:0.09531\tvalidation_1-logloss:0.37649\n",
      "[49]\tvalidation_0-auc:0.96655\tvalidation_0-error:0.07786\tvalidation_0-logloss:0.35662\tvalidation_1-auc:0.95276\tvalidation_1-error:0.09477\tvalidation_1-logloss:0.37273\n",
      "[50]\tvalidation_0-auc:0.96665\tvalidation_0-error:0.07783\tvalidation_0-logloss:0.35323\tvalidation_1-auc:0.95279\tvalidation_1-error:0.09468\tvalidation_1-logloss:0.36965\n",
      "[51]\tvalidation_0-auc:0.96675\tvalidation_0-error:0.07770\tvalidation_0-logloss:0.35078\tvalidation_1-auc:0.95276\tvalidation_1-error:0.09513\tvalidation_1-logloss:0.36751\n",
      "[52]\tvalidation_0-auc:0.96677\tvalidation_0-error:0.07759\tvalidation_0-logloss:0.34791\tvalidation_1-auc:0.95267\tvalidation_1-error:0.09543\tvalidation_1-logloss:0.36497\n",
      "[53]\tvalidation_0-auc:0.96699\tvalidation_0-error:0.07741\tvalidation_0-logloss:0.34449\tvalidation_1-auc:0.95287\tvalidation_1-error:0.09531\tvalidation_1-logloss:0.36187\n",
      "[54]\tvalidation_0-auc:0.96712\tvalidation_0-error:0.07734\tvalidation_0-logloss:0.34156\tvalidation_1-auc:0.95291\tvalidation_1-error:0.09507\tvalidation_1-logloss:0.35925\n",
      "[55]\tvalidation_0-auc:0.96734\tvalidation_0-error:0.07734\tvalidation_0-logloss:0.33884\tvalidation_1-auc:0.95295\tvalidation_1-error:0.09540\tvalidation_1-logloss:0.35696\n",
      "[56]\tvalidation_0-auc:0.96743\tvalidation_0-error:0.07733\tvalidation_0-logloss:0.33653\tvalidation_1-auc:0.95301\tvalidation_1-error:0.09558\tvalidation_1-logloss:0.35487\n",
      "[57]\tvalidation_0-auc:0.96757\tvalidation_0-error:0.07730\tvalidation_0-logloss:0.33358\tvalidation_1-auc:0.95305\tvalidation_1-error:0.09558\tvalidation_1-logloss:0.35226\n",
      "[58]\tvalidation_0-auc:0.96768\tvalidation_0-error:0.07711\tvalidation_0-logloss:0.33095\tvalidation_1-auc:0.95304\tvalidation_1-error:0.09579\tvalidation_1-logloss:0.34998\n",
      "[59]\tvalidation_0-auc:0.96767\tvalidation_0-error:0.07713\tvalidation_0-logloss:0.32855\tvalidation_1-auc:0.95295\tvalidation_1-error:0.09603\tvalidation_1-logloss:0.34786\n",
      "[60]\tvalidation_0-auc:0.96776\tvalidation_0-error:0.07713\tvalidation_0-logloss:0.32600\tvalidation_1-auc:0.95297\tvalidation_1-error:0.09549\tvalidation_1-logloss:0.34555\n",
      "[61]\tvalidation_0-auc:0.96787\tvalidation_0-error:0.07698\tvalidation_0-logloss:0.32366\tvalidation_1-auc:0.95300\tvalidation_1-error:0.09582\tvalidation_1-logloss:0.34352\n",
      "[62]\tvalidation_0-auc:0.96799\tvalidation_0-error:0.07672\tvalidation_0-logloss:0.32093\tvalidation_1-auc:0.95306\tvalidation_1-error:0.09546\tvalidation_1-logloss:0.34109\n",
      "[63]\tvalidation_0-auc:0.96821\tvalidation_0-error:0.07650\tvalidation_0-logloss:0.31822\tvalidation_1-auc:0.95324\tvalidation_1-error:0.09582\tvalidation_1-logloss:0.33866\n",
      "[64]\tvalidation_0-auc:0.96820\tvalidation_0-error:0.07655\tvalidation_0-logloss:0.31635\tvalidation_1-auc:0.95312\tvalidation_1-error:0.09564\tvalidation_1-logloss:0.33702\n",
      "[65]\tvalidation_0-auc:0.96836\tvalidation_0-error:0.07640\tvalidation_0-logloss:0.31352\tvalidation_1-auc:0.95324\tvalidation_1-error:0.09570\tvalidation_1-logloss:0.33450\n",
      "[66]\tvalidation_0-auc:0.96856\tvalidation_0-error:0.07631\tvalidation_0-logloss:0.31139\tvalidation_1-auc:0.95337\tvalidation_1-error:0.09549\tvalidation_1-logloss:0.33265\n",
      "[67]\tvalidation_0-auc:0.96869\tvalidation_0-error:0.07632\tvalidation_0-logloss:0.30895\tvalidation_1-auc:0.95340\tvalidation_1-error:0.09522\tvalidation_1-logloss:0.33055\n",
      "[68]\tvalidation_0-auc:0.96883\tvalidation_0-error:0.07606\tvalidation_0-logloss:0.30626\tvalidation_1-auc:0.95359\tvalidation_1-error:0.09495\tvalidation_1-logloss:0.32805\n",
      "[69]\tvalidation_0-auc:0.96892\tvalidation_0-error:0.07602\tvalidation_0-logloss:0.30391\tvalidation_1-auc:0.95360\tvalidation_1-error:0.09492\tvalidation_1-logloss:0.32599\n",
      "[70]\tvalidation_0-auc:0.96896\tvalidation_0-error:0.07604\tvalidation_0-logloss:0.30213\tvalidation_1-auc:0.95355\tvalidation_1-error:0.09486\tvalidation_1-logloss:0.32447\n",
      "[71]\tvalidation_0-auc:0.96911\tvalidation_0-error:0.07578\tvalidation_0-logloss:0.29985\tvalidation_1-auc:0.95361\tvalidation_1-error:0.09486\tvalidation_1-logloss:0.32254\n",
      "[72]\tvalidation_0-auc:0.96925\tvalidation_0-error:0.07557\tvalidation_0-logloss:0.29738\tvalidation_1-auc:0.95370\tvalidation_1-error:0.09465\tvalidation_1-logloss:0.32038\n",
      "[73]\tvalidation_0-auc:0.96927\tvalidation_0-error:0.07558\tvalidation_0-logloss:0.29543\tvalidation_1-auc:0.95374\tvalidation_1-error:0.09462\tvalidation_1-logloss:0.31856\n",
      "[74]\tvalidation_0-auc:0.96952\tvalidation_0-error:0.07540\tvalidation_0-logloss:0.29318\tvalidation_1-auc:0.95385\tvalidation_1-error:0.09474\tvalidation_1-logloss:0.31666\n",
      "[75]\tvalidation_0-auc:0.96966\tvalidation_0-error:0.07512\tvalidation_0-logloss:0.29124\tvalidation_1-auc:0.95393\tvalidation_1-error:0.09480\tvalidation_1-logloss:0.31501\n",
      "[76]\tvalidation_0-auc:0.96970\tvalidation_0-error:0.07528\tvalidation_0-logloss:0.28973\tvalidation_1-auc:0.95385\tvalidation_1-error:0.09477\tvalidation_1-logloss:0.31380\n",
      "[77]\tvalidation_0-auc:0.96982\tvalidation_0-error:0.07512\tvalidation_0-logloss:0.28819\tvalidation_1-auc:0.95387\tvalidation_1-error:0.09495\tvalidation_1-logloss:0.31262\n",
      "[78]\tvalidation_0-auc:0.96998\tvalidation_0-error:0.07504\tvalidation_0-logloss:0.28594\tvalidation_1-auc:0.95396\tvalidation_1-error:0.09516\tvalidation_1-logloss:0.31070\n",
      "[79]\tvalidation_0-auc:0.97005\tvalidation_0-error:0.07509\tvalidation_0-logloss:0.28417\tvalidation_1-auc:0.95400\tvalidation_1-error:0.09510\tvalidation_1-logloss:0.30921\n",
      "[80]\tvalidation_0-auc:0.97017\tvalidation_0-error:0.07491\tvalidation_0-logloss:0.28223\tvalidation_1-auc:0.95407\tvalidation_1-error:0.09468\tvalidation_1-logloss:0.30753\n",
      "[81]\tvalidation_0-auc:0.97022\tvalidation_0-error:0.07491\tvalidation_0-logloss:0.28062\tvalidation_1-auc:0.95406\tvalidation_1-error:0.09495\tvalidation_1-logloss:0.30616\n",
      "[82]\tvalidation_0-auc:0.97028\tvalidation_0-error:0.07462\tvalidation_0-logloss:0.27877\tvalidation_1-auc:0.95414\tvalidation_1-error:0.09441\tvalidation_1-logloss:0.30453\n",
      "[83]\tvalidation_0-auc:0.97038\tvalidation_0-error:0.07447\tvalidation_0-logloss:0.27696\tvalidation_1-auc:0.95421\tvalidation_1-error:0.09429\tvalidation_1-logloss:0.30296\n",
      "[84]\tvalidation_0-auc:0.97044\tvalidation_0-error:0.07456\tvalidation_0-logloss:0.27548\tvalidation_1-auc:0.95415\tvalidation_1-error:0.09441\tvalidation_1-logloss:0.30183\n",
      "[85]\tvalidation_0-auc:0.97045\tvalidation_0-error:0.07448\tvalidation_0-logloss:0.27440\tvalidation_1-auc:0.95408\tvalidation_1-error:0.09477\tvalidation_1-logloss:0.30098\n",
      "[86]\tvalidation_0-auc:0.97050\tvalidation_0-error:0.07443\tvalidation_0-logloss:0.27291\tvalidation_1-auc:0.95405\tvalidation_1-error:0.09495\tvalidation_1-logloss:0.29978\n",
      "[87]\tvalidation_0-auc:0.97058\tvalidation_0-error:0.07429\tvalidation_0-logloss:0.27157\tvalidation_1-auc:0.95397\tvalidation_1-error:0.09477\tvalidation_1-logloss:0.29880\n",
      "[88]\tvalidation_0-auc:0.97070\tvalidation_0-error:0.07408\tvalidation_0-logloss:0.26986\tvalidation_1-auc:0.95401\tvalidation_1-error:0.09483\tvalidation_1-logloss:0.29742\n",
      "[89]\tvalidation_0-auc:0.97076\tvalidation_0-error:0.07395\tvalidation_0-logloss:0.26850\tvalidation_1-auc:0.95398\tvalidation_1-error:0.09495\tvalidation_1-logloss:0.29636\n",
      "[90]\tvalidation_0-auc:0.97083\tvalidation_0-error:0.07386\tvalidation_0-logloss:0.26696\tvalidation_1-auc:0.95403\tvalidation_1-error:0.09489\tvalidation_1-logloss:0.29503\n",
      "[91]\tvalidation_0-auc:0.97099\tvalidation_0-error:0.07374\tvalidation_0-logloss:0.26521\tvalidation_1-auc:0.95416\tvalidation_1-error:0.09489\tvalidation_1-logloss:0.29355\n",
      "[92]\tvalidation_0-auc:0.97105\tvalidation_0-error:0.07372\tvalidation_0-logloss:0.26373\tvalidation_1-auc:0.95419\tvalidation_1-error:0.09465\tvalidation_1-logloss:0.29228\n",
      "[93]\tvalidation_0-auc:0.97107\tvalidation_0-error:0.07362\tvalidation_0-logloss:0.26240\tvalidation_1-auc:0.95420\tvalidation_1-error:0.09441\tvalidation_1-logloss:0.29110\n",
      "[94]\tvalidation_0-auc:0.97120\tvalidation_0-error:0.07349\tvalidation_0-logloss:0.26068\tvalidation_1-auc:0.95430\tvalidation_1-error:0.09399\tvalidation_1-logloss:0.28966\n",
      "[95]\tvalidation_0-auc:0.97128\tvalidation_0-error:0.07349\tvalidation_0-logloss:0.25959\tvalidation_1-auc:0.95427\tvalidation_1-error:0.09390\tvalidation_1-logloss:0.28888\n",
      "[96]\tvalidation_0-auc:0.97137\tvalidation_0-error:0.07318\tvalidation_0-logloss:0.25817\tvalidation_1-auc:0.95431\tvalidation_1-error:0.09402\tvalidation_1-logloss:0.28770\n",
      "[97]\tvalidation_0-auc:0.97151\tvalidation_0-error:0.07287\tvalidation_0-logloss:0.25651\tvalidation_1-auc:0.95442\tvalidation_1-error:0.09384\tvalidation_1-logloss:0.28629\n",
      "[98]\tvalidation_0-auc:0.97171\tvalidation_0-error:0.07263\tvalidation_0-logloss:0.25468\tvalidation_1-auc:0.95460\tvalidation_1-error:0.09366\tvalidation_1-logloss:0.28474\n",
      "[99]\tvalidation_0-auc:0.97180\tvalidation_0-error:0.07256\tvalidation_0-logloss:0.25316\tvalidation_1-auc:0.95470\tvalidation_1-error:0.09351\tvalidation_1-logloss:0.28339\n",
      "Accuracy: 0.906\n",
      "Accuracy: 0.906\n"
     ]
    },
    {
     "data": {
      "image/png": "[encoded data removed]",
      "text/plain": [
       "<Figure size 432x288 with 1 Axes>"
      ]
     },
     "metadata": {
      "needs_background": "light"
     },
     "output_type": "display_data"
    }
   ],
   "source": [
    "# define the datasets to evaluate each iteration\n",
    "evalset = [(x_train, y_train), (x_test,y_test)]\n",
    "# fit the model\n",
    "eval_metric = [\"auc\",\"error\",\"logloss\"]\n",
    "\n",
    "classi.fit(x_train, y_train, eval_metric=eval_metric, eval_set=evalset)\n",
    "# evaluate performance\n",
    "yhat = classi.predict(x_test)\n",
    "score = accuracy_score(y_test, yhat)\n",
    "print('Accuracy: %.3f' % score)\n",
    "print('Accuracy: %.3f' % score)\n",
    "\n",
    "# retrieve performance metrics\n",
    "results = classi.evals_result()\n",
    "# plot learning curves\n",
    "pyplot.plot(results['validation_0']['logloss'], label='train')\n",
    "pyplot.plot(results['validation_1']['logloss'], label='test')\n",
    "pyplot.plot(results['validation_0']['auc'], label='train')\n",
    "pyplot.plot(results['validation_1']['auc'], label='test')\n",
    "# show the legend\n",
    "pyplot.legend()\n",
    "# show the plot\n",
    "pyplot.show()"
   ]
  },
  {
   "cell_type": "code",
   "execution_count": 100,
   "metadata": {},
   "outputs": [
    {
     "name": "stdout",
     "output_type": "stream",
     "text": [
      "Training set score: 0.9274\n",
      "Test set score: 0.9065\n"
     ]
    }
   ],
   "source": [
    "## Validación overfitting\n",
    "# print the scores on training and test set\n",
    "\n",
    "print('Training set score: {:.4f}'.format(classi.score(x_train, y_train)))\n",
    "\n",
    "print('Test set score: {:.4f}'.format(classi.score(x_test, y_test)))"
   ]
  },
  {
   "cell_type": "code",
   "execution_count": 101,
   "metadata": {},
   "outputs": [],
   "source": [
    "import shap  # package used to calculate Shap values\n",
    "import matplotlib.pyplot as plt\n",
    "\n",
    "# Create object that can calculate shap values\n",
    "explainer = shap.TreeExplainer(classi)"
   ]
  },
  {
   "cell_type": "code",
   "execution_count": null,
   "metadata": {},
   "outputs": [
    {
     "name": "stderr",
     "output_type": "stream",
     "text": [
      "ntree_limit is deprecated, use `iteration_range` or model slicing instead.\n"
     ]
    }
   ],
   "source": [
    "shap_values = explainer.shap_values(x_test) "
   ]
  },
  {
   "cell_type": "code",
   "execution_count": null,
   "metadata": {},
   "outputs": [],
   "source": [
    "shap.summary_plot(shap_values, x_test)"
   ]
  },
  {
   "cell_type": "code",
   "execution_count": null,
   "metadata": {},
   "outputs": [],
   "source": [
    "variables_consolidadas.head(1)"
   ]
  },
  {
   "cell_type": "code",
   "execution_count": null,
   "metadata": {},
   "outputs": [],
   "source": []
  },
  {
   "cell_type": "code",
   "execution_count": null,
   "metadata": {},
   "outputs": [],
   "source": []
  },
  {
   "cell_type": "code",
   "execution_count": null,
   "metadata": {},
   "outputs": [],
   "source": []
  },
  {
   "cell_type": "code",
   "execution_count": null,
   "metadata": {},
   "outputs": [],
   "source": [
    "### SI A ELLOS LE PAGARON SI LA CARTERA QUE TUVO ESTUVO CON selrefin anotar por que ceñl le pagó\n",
    "## si a ellos les pagaron los bombardeo con asesor... los bombardeo \n",
    "\n",
    "### Seguimiento contra pagos d elas otras agencias....\n",
    "\n",
    "\n",
    "\n",
    "\n",
    "\n",
    "\n",
    "## Home y Móvil\n",
    "##\n",
    "### C que do con esa tarea...\n"
   ]
  }
 ],
 "metadata": {
  "interpreter": {
   "hash": "2d4f8d63f2389a0022cfb41e901b8c9989bdcffcbe1781a3faa97b2228513d41"
  },
  "kernelspec": {
   "display_name": "Python 3 (ipykernel)",
   "language": "python",
   "name": "python3"
  },
  "language_info": {
   "codemirror_mode": {
    "name": "ipython",
    "version": 3
   },
   "file_extension": ".py",
   "mimetype": "text/x-python",
   "name": "python",
   "nbconvert_exporter": "python",
   "pygments_lexer": "ipython3",
   "version": "3.9.7"
  }
 },
 "nbformat": 4,
 "nbformat_minor": 2
}
