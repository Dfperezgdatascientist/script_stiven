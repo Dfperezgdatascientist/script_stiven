{
 "cells": [
  {
   "cell_type": "code",
   "execution_count": 1,
   "id": "f2c61f05",
   "metadata": {},
   "outputs": [
    {
     "data": {
      "text/plain": [
       "'\\\\\\\\10.1.1.7\\\\01 Oficina Planeación y Control\\\\01 Analytics\\\\Stiven\\\\Cobranzas'"
      ]
     },
     "execution_count": 1,
     "metadata": {},
     "output_type": "execute_result"
    }
   ],
   "source": [
    "### Evaluacion de la ciclica de acuerdo a la fecha\n",
    "import numpy as np\n",
    "import matplotlib.pyplot as plt\n",
    "import re\n",
    "import datetime as dt\n",
    "import pandas as pd\n",
    "pd.options.display.max_columns = None\n",
    "from datetime import timedelta\n",
    "import glob as glob\n",
    "import warnings\n",
    "import os\n",
    "import sys\n",
    "warnings.filterwarnings(\"ignore\", category=FutureWarning)\n",
    "path=\"//10.1.1.7/01 Oficina Planeación y Control/01 Analytics/Stiven/Cobranzas/\"\n",
    "import zipfile\n",
    "import seaborn as sns\n",
    "now=dt.datetime.now().strftime('%Y%m%d')\n",
    "now2=dt.datetime.now().strftime('%Y-%m-%d')\n",
    "today = dt.date.today()\n",
    "hoy=now\n",
    "def condition():\n",
    "    if today.strftime(\"%A\")=='Monday':\n",
    "        return (today - dt.timedelta(days=2)).strftime('%Y%m%d')\n",
    "    else:\n",
    "        return (today - dt.timedelta(days=1)).strftime('%Y%m%d')\n",
    "yesterday=condition()\n",
    "from sklearn.preprocessing import LabelEncoder,StandardScaler,MinMaxScaler\n",
    "os.chdir(path)\n",
    "os.getcwd()"
   ]
  },
  {
   "cell_type": "code",
   "execution_count": 2,
   "id": "a6d65a58",
   "metadata": {},
   "outputs": [],
   "source": [
    "############################################ Funciones para cargue  ########################################################\n",
    "def open_files_hoy(paths):\n",
    "        data = []\n",
    "        for path1 in paths:\n",
    "            zf = zipfile.ZipFile(path1)#Función de apertura de .zip\n",
    "            data.append(pd.read_csv(#Función de lectura paralelizada\n",
    "                        zf.open(zf.filelist[0].filename),#Abre el primer archivo del .zip\n",
    "                        sep = \"|\", ## separación del archivo CSV\n",
    "                        encoding = \"utf-8\",\n",
    "                        dtype=str ## Leo todo en formato object,\n",
    "                        )\n",
    "                    )\n",
    "        print(path,\"Cargado!\")\n",
    "        return pd.concat(data,ignore_index = True)"
   ]
  },
  {
   "cell_type": "code",
   "execution_count": 3,
   "id": "d647528c",
   "metadata": {},
   "outputs": [],
   "source": [
    "path=\"Y:/Stiven/Movil/Cobranzas_movil_(Despliegue)/Download_folder_Adminfo/{}_IGC.zip\".format(now)"
   ]
  },
  {
   "cell_type": "code",
   "execution_count": 4,
   "id": "b4d0ba5a",
   "metadata": {},
   "outputs": [
    {
     "name": "stdout",
     "output_type": "stream",
     "text": [
      "Y:/Stiven/Movil/Cobranzas_movil_(Despliegue)/Download_folder_Adminfo/20211229_IGC.zip Cargado!\n"
     ]
    }
   ],
   "source": [
    "igc = open_files_hoy([path]) "
   ]
  },
  {
   "cell_type": "code",
   "execution_count": 5,
   "id": "a479eadc",
   "metadata": {},
   "outputs": [],
   "source": [
    "igc[\"ESTATUS1\"] =\\\n",
    "    np.where(igc[\"Número Traslado\"].str.contains(\"23213|23214|23619\",regex = True,na = False),\"B2B MOVIL\",\"B2C MOVIL\")\n",
    "igc['Fecha Asignación']=pd.to_datetime(igc['Fecha Asignación'],format='%Y-%m-%d',errors='coerce')\n",
    "igc['Fecha Ultima Gestión ']=pd.to_datetime(igc['Fecha Ultima Gestión '],format='%Y-%m-%d',errors='coerce')\n",
    "igc['DIAS SIN GESTION']=(dt.datetime.now()-igc['Fecha Ultima Gestión ']).dt.days\n",
    "\n",
    "# igc=igc[consolidado_ig.columns]\n",
    "igc['Fecha Asignación']=pd.to_datetime(igc['Fecha Asignación'],format='%Y-%m-%d')\n",
    "igc=igc.sort_values(['Identificación','Referencia Pago','Fecha Asignación'],ascending=True)\n",
    "igc['llave']=igc['Referencia Pago']+\"_\"+igc['Fecha Asignación'].astype(str)\n",
    "igc.drop_duplicates(['llave'],keep='last',inplace=True)\n",
    "igc['Fecha Churn']=igc['Fecha Churn'].astype(str)\n",
    "igc['Fecha Churn']=igc['Fecha Churn'].str.replace('(.*)\\s.*', '\\\\1').str.replace('-','')\n",
    "igc['Fecha Churn']=pd.to_datetime(igc['Fecha Churn'],format='%Y%m%d',errors='coerce')\n",
    "igc['Marca Portafolio']=igc['Marca Portafolio'].str.strip()\n",
    "igc['Antiguedad de Producto']=igc['Antiguedad de Producto'].str.replace('AntiguÃ³','Antigua').str.replace('En MaduraciÃ³n','En maduración')\n",
    "igc['Fecha Asignación']=igc['Fecha Asignación'].astype(str).str.replace('(.*)\\s.*', '\\\\1').str.replace('-','')\n",
    "igc['Fecha Asignación']=pd.to_datetime(igc['Fecha Asignación'],format='%Y-%m-%d',errors='coerce')\n",
    "igc['Fecha Asignación_año_mes']=(igc['Fecha Asignación'].dt.year).astype(str) +\"_\"+ (igc['Fecha Asignación'].dt.month).astype(str)\n",
    "igc['Fecha Ultima Gestión ']=pd.to_datetime(igc['Fecha Ultima Gestión '],format='%Y-%m-%d',errors='coerce')\n",
    "igc['Fecha Creación de Cuenta']=pd.to_datetime(igc['Fecha Creación de Cuenta'],format='%Y-%m-%d',errors='coerce')\n",
    "igc['meses_desde_creacion']=(igc['Fecha Ultima Gestión ']-igc['Fecha Creación de Cuenta']).dt.days/365\n",
    "igc['Fecha Actualizacion']=pd.to_datetime(igc['Fecha Actualizacion'],format='%Y-%m-%d',errors='coerce')\n",
    "igc['DIAS SIN GESTION_act']=(igc['Fecha Actualizacion']-igc['Fecha Ultima Gestión ']).dt.days\n",
    "igc['DIAS SIN GESTION_act']=np.where(igc['DIAS SIN GESTION_act'] > igc['DIAS SIN GESTION_act'].quantile(0.95),  igc['DIAS SIN GESTION_act'].quantile(0.95),igc['DIAS SIN GESTION_act'])\n",
    "# ig=igc[igc['Fecha Asignación']>='2021-03-01']\n",
    "igc=igc[~igc.duplicated()]\n",
    "igc['Valor a Cobrar']=igc['Valor a Cobrar'].astype(float)\n",
    "igc['Fecha Asignación']=pd.to_datetime(igc['Fecha Asignación'],format='%Y-%m-%d',errors='coerce')\n",
    "igc['Fecha Asignación_año_mes']=(igc['Fecha Asignación'].dt.year).astype(str) +\"_\"+ (igc['Fecha Asignación'].dt.month).astype(str)\n",
    "igc['Fecha Ultima Gestión ']=pd.to_datetime(igc['Fecha Ultima Gestión '],format='%Y-%m-%d',errors='coerce')\n",
    "igc['Fecha Creación de Cuenta']=pd.to_datetime(igc['Fecha Creación de Cuenta'],format='%Y-%m-%d',errors='coerce')\n",
    "igc['meses_desde_creacion']=(igc['Fecha Ultima Gestión ']-igc['Fecha Creación de Cuenta']).dt.days/365"
   ]
  },
  {
   "cell_type": "code",
   "execution_count": 6,
   "id": "919fcbc0",
   "metadata": {},
   "outputs": [
    {
     "name": "stderr",
     "output_type": "stream",
     "text": [
      "C:\\Users\\scadacat\\AppData\\Local\\Temp/ipykernel_11928/184246065.py:19: SettingWithCopyWarning: \n",
      "A value is trying to be set on a copy of a slice from a DataFrame\n",
      "\n",
      "See the caveats in the documentation: https://pandas.pydata.org/pandas-docs/stable/user_guide/indexing.html#returning-a-view-versus-a-copy\n",
      "  igc['No. Cuotas Pactadas'][igc['No. Cuotas Pactadas']==' '] =igc[\"No. Cuotas Facturadas\"].mode()[0]\n",
      "C:\\Users\\scadacat\\AppData\\Local\\Temp/ipykernel_11928/184246065.py:22: SettingWithCopyWarning: \n",
      "A value is trying to be set on a copy of a slice from a DataFrame\n",
      "\n",
      "See the caveats in the documentation: https://pandas.pydata.org/pandas-docs/stable/user_guide/indexing.html#returning-a-view-versus-a-copy\n",
      "  igc['Analisis Vector'][igc['Analisis Vector']==' ']='SIN VECTOR'\n",
      "C:\\Users\\scadacat\\AppData\\Local\\Temp/ipykernel_11928/184246065.py:25: SettingWithCopyWarning: \n",
      "A value is trying to be set on a copy of a slice from a DataFrame\n",
      "\n",
      "See the caveats in the documentation: https://pandas.pydata.org/pandas-docs/stable/user_guide/indexing.html#returning-a-view-versus-a-copy\n",
      "  igc['Descripcion Mejor Codigo Gestion'][igc['Descripcion Mejor Codigo Gestion']==' ']='SIN GESTION'\n",
      "C:\\Users\\scadacat\\AppData\\Local\\Temp/ipykernel_11928/184246065.py:33: SettingWithCopyWarning: \n",
      "A value is trying to be set on a copy of a slice from a DataFrame\n",
      "\n",
      "See the caveats in the documentation: https://pandas.pydata.org/pandas-docs/stable/user_guide/indexing.html#returning-a-view-versus-a-copy\n",
      "  igc['Calificacion Vector Servicio'][igc['Calificacion Vector Servicio']==' '] = igc['Calificacion Vector Servicio'].value_counts().index[1]\n"
     ]
    }
   ],
   "source": [
    "igc['Honorarios']=pd.to_numeric(igc['Honorarios'],errors='coerce')\n",
    "igc.drop(['Facturación Credivalores','Region','Codigo regional tigo','Desconciliada','Regional', 'Estado Plan',\n",
    "        'FLP','Grabador Gestión Masiva','Estado Adminfo','Observacion Adicional','Nombre Cliente','Consecutivo Obligación',\n",
    "        'Fecha Gestión Masiva','Valor Cuota','Gastos Cobranza Credivalores','Segmentacion B2B','Segmento Asesor Corporativo','Riesgo Habito de Pago',\n",
    "        'Cliente Convergente','Billing Status','Fecha Castigo','Estado Financiación','Plan','Gerencia Convergente','Corriente',\n",
    "        'Subsegmento B2B','Inmunidad B2B','Fecha de suspensión decreto','Segmento','Tarea Usuario',\n",
    "    'Código departamento','Ciudad','Pago Ajuste No Alocado','Nombre Campaña Especial','Mejor Codigo de Gestion','Actividad Cliente',\n",
    "    'Interes Mora Credivalores','Interes Corriente Credivalores','Responsable De Cobro','Movil','Grabador','REFPAGO','Agencia Asignacion',\n",
    "    'Iva Honorarios','Actividad Cliente','Compañia','Archivo Convergente','Identificación Asesor','Ejecutivo Comercial B2B','Sistema Origen'],\n",
    "        axis=1,inplace=True)\n",
    "igc.rename(columns={'Descripción Código Ult. Gestión':'Desc_codigo_ult_ges','Descripción Traslado':'des_traslado'},inplace=True)\n",
    "igc['Desc_codigo_ult_ges'].fillna('SIN GESTION',inplace=True)\n",
    "\n",
    "igc['Perfil Digital'].fillna('SIN PERFIL',inplace=True)\n",
    "igc['Fecha Churn']=igc['Fecha Churn'].astype(str)\n",
    "igc['Fecha Churn']=igc['Fecha Churn'].str.replace('(.*)\\s.*', '\\\\1').str.replace('-','')\n",
    "igc['Fecha Churn']=pd.to_datetime(igc['Fecha Churn'],format='%Y%m%d',errors='coerce')\n",
    "igc['No. Facturas Vencidas']=igc['No. Facturas Vencidas'].astype(int).fillna(0)\n",
    "igc['No. Cuotas Pactadas'][igc['No. Cuotas Pactadas']==' '] =igc[\"No. Cuotas Facturadas\"].mode()[0] \n",
    "igc['No. Cuotas Pactadas'].fillna('SIN DATO',inplace=True)\n",
    "igc['DIAS SIN GESTION']=igc['DIAS SIN GESTION'].astype(int)\n",
    "igc['Analisis Vector'][igc['Analisis Vector']==' ']='SIN VECTOR'\n",
    "igc['Analisis Vector'].fillna('SIN VECTOR',inplace=True)\n",
    "## por limpiar\n",
    "igc['Descripcion Mejor Codigo Gestion'][igc['Descripcion Mejor Codigo Gestion']==' ']='SIN GESTION'\n",
    "c=igc['Descripcion Mejor Codigo Gestion'].value_counts().iloc[:9].index.tolist()\n",
    "igc['Descripcion Mejor Codigo Gestion']=np.where(igc['Descripcion Mejor Codigo Gestion'].isin(c),igc['Descripcion Mejor Codigo Gestion'],\"OTRA GESTION\")\n",
    "# igc['Descripcion Mejor Codigo Gestion']=igc.apply(\n",
    "#     lambda row: row['Descripcion Mejor Codigo Gestion']  if (row['Descripcion Mejor Codigo Gestion'] in c)\n",
    "#     else 'OTRA GESTION',axis=1)\n",
    "# igc['Calificacion Vector Cliente'][igc['Calificacion Vector Cliente']==' '] = igc['Calificacion Vector Cliente'].value_counts().index[1]\n",
    "# igc['Calificacion Vector Cliente']=igc['Calificacion Vector Cliente'].astype(float)\n",
    "igc['Calificacion Vector Servicio'][igc['Calificacion Vector Servicio']==' '] = igc['Calificacion Vector Servicio'].value_counts().index[1]\n",
    "igc['Calificacion Vector Servicio']=igc['Calificacion Vector Servicio'].replace(' ','50')\n",
    "igc['Calificacion Vector Servicio']=igc['Calificacion Vector Servicio'].astype(float)"
   ]
  },
  {
   "cell_type": "code",
   "execution_count": 7,
   "id": "f5c7d3c5",
   "metadata": {},
   "outputs": [
    {
     "name": "stderr",
     "output_type": "stream",
     "text": [
      "C:\\Users\\scadacat\\AppData\\Local\\Temp/ipykernel_11928/3839950371.py:14: SettingWithCopyWarning: \n",
      "A value is trying to be set on a copy of a slice from a DataFrame\n",
      "\n",
      "See the caveats in the documentation: https://pandas.pydata.org/pandas-docs/stable/user_guide/indexing.html#returning-a-view-versus-a-copy\n",
      "  igc['Tipificacion Cliente'][igc['Tipificacion Cliente']==' ']='SIN REGISTRO'\n",
      "C:\\Users\\scadacat\\AppData\\Local\\Temp/ipykernel_11928/3839950371.py:15: SettingWithCopyWarning: \n",
      "A value is trying to be set on a copy of a slice from a DataFrame\n",
      "\n",
      "See the caveats in the documentation: https://pandas.pydata.org/pandas-docs/stable/user_guide/indexing.html#returning-a-view-versus-a-copy\n",
      "  igc['Vector Cualitativo Contrato'][igc['Vector Cualitativo Contrato']==' ']='SIN COMPORTAMIENTO'\n",
      "C:\\Users\\scadacat\\AppData\\Local\\Temp/ipykernel_11928/3839950371.py:16: SettingWithCopyWarning: \n",
      "A value is trying to be set on a copy of a slice from a DataFrame\n",
      "\n",
      "See the caveats in the documentation: https://pandas.pydata.org/pandas-docs/stable/user_guide/indexing.html#returning-a-view-versus-a-copy\n",
      "  igc['Canal B2B'][igc['Canal B2B']==' ']='SIN REGISTRO'\n",
      "C:\\Users\\scadacat\\AppData\\Local\\Temp/ipykernel_11928/3839950371.py:19: SettingWithCopyWarning: \n",
      "A value is trying to be set on a copy of a slice from a DataFrame\n",
      "\n",
      "See the caveats in the documentation: https://pandas.pydata.org/pandas-docs/stable/user_guide/indexing.html#returning-a-view-versus-a-copy\n",
      "  igc['Perfil Digital'][igc['Perfil Digital']==' ']='SIN PERFIL'\n",
      "C:\\Users\\scadacat\\AppData\\Local\\Temp/ipykernel_11928/3839950371.py:37: SettingWithCopyWarning: \n",
      "A value is trying to be set on a copy of a slice from a DataFrame\n",
      "\n",
      "See the caveats in the documentation: https://pandas.pydata.org/pandas-docs/stable/user_guide/indexing.html#returning-a-view-versus-a-copy\n",
      "  igc['Canal B2B'][igc['Canal B2B']==' ']='NO REGISTRA'\n",
      "C:\\Users\\scadacat\\AppData\\Local\\Temp/ipykernel_11928/3839950371.py:44: DeprecationWarning: `np.float` is a deprecated alias for the builtin `float`. To silence this warning, use `float` by itself. Doing this will not modify any behavior and is safe. If you specifically wanted the numpy scalar type, use `np.float64` here.\n",
      "Deprecated in NumPy 1.20; for more details and guidance: https://numpy.org/devdocs/release/1.20.0-notes.html#deprecations\n",
      "  igc['Valor a Cobrar']=igc['Valor a Cobrar'].astype(np.float)\n",
      "C:\\Users\\scadacat\\AppData\\Local\\Temp/ipykernel_11928/3839950371.py:51: DeprecationWarning: `np.float` is a deprecated alias for the builtin `float`. To silence this warning, use `float` by itself. Doing this will not modify any behavior and is safe. If you specifically wanted the numpy scalar type, use `np.float64` here.\n",
      "Deprecated in NumPy 1.20; for more details and guidance: https://numpy.org/devdocs/release/1.20.0-notes.html#deprecations\n",
      "  igc['Valor a Cobrar']=igc['Valor a Cobrar'].astype(np.float)\n"
     ]
    }
   ],
   "source": [
    "igc['Tipo Plan'].fillna('NO REGISTRA',inplace=True)\n",
    "igc['Departamento']=igc['Departamento'].str.upper().str.strip()\n",
    "dic={'NARIÃ±O':'NARIÑO','NARIÏ¿½O':'NARIÑO','ATLÃ¡NTICO':'ATLANTICO','ATLÏ¿½NTICO':'ATLANTICO','ATL NTICO':'ATLANTICO',\n",
    "    'ARCHIPIÃ©LAGO DE SAN ANDRÃ©S':'SAN ANDRES','ARCHIPIÏ¿½LAGO DE SAN ANDRÏ¿½S':'SAN ANDRES','NTE DE SANTANDER':'NORTE DE SANTANDER',\n",
    "    'ARCHIPI LAGO DE SAN ANDR S':'SAN ANDRES','ARCHIPI LAGO DE SAN ANDR S  PROVIDENCIA Y SANTA CATALINA':'SAN ANDRES',\n",
    "    'BOL VAR':'BOLIVAR','BOLÃ\\xadVAR':'BOLIVAR','BOYACÃ¡':'BOYACA','BOYAC':'BOYACA','CÃ³RDOBA':'CORDOBA','C/MARCA':'CUNDINAMARCA',\n",
    "    'VALL CAUCA':'VALLE DEL CAUCA','CHOCÃ³':'CHOCO','CHOC':'CHOCO','CÏ¿½RDOBA':'CORDOBA','NARI O':'NARIÑO','CAQUET':'CAQUETA',\n",
    "    'C RDOBA':'CORDOBA','VALLE DEL CAUCA\\\\T':'VALLE DEL CAUCA','BOLÏ¿½VAR':'BOLIVAR','CAQUETÃ¡':'CAQUETA','N S/TANDER':'NTE DE SANTANDER',\n",
    "    'BOYACÏ¿½':'BOYACA','GUAINÃ\\xadA':'GUAINIA','VAUPÃ©S':'VAUPES','GUAIN A':'GUAINIA','VAUP S':'VAUPES','BOGOT   D.C':'BOGOTA D.C',\n",
    "    'BOGOT   D.C.':'BOGOTA D.C','BOGOTA D,C':'BOGOTA D.C','BOGOTA':'BOGOTA D.C','BOGOTA DE':'BOGOTA D.C','BOGOTA D.E':'BOGOTA D.C'}\n",
    "igc['Departamento']=igc['Departamento'].replace(dic)\n",
    "igc['Departamento']=igc['Departamento'].str.replace('NTE DE SANTANDER','NORTE DE SANTANDER')\n",
    "# igc['Codigo de Gestion']=igc['Codigo de Gestion'].fillna('NO REGISTRA')\n",
    "igc['Tipificacion Cliente'][igc['Tipificacion Cliente']==' ']='SIN REGISTRO'\n",
    "igc['Vector Cualitativo Contrato'][igc['Vector Cualitativo Contrato']==' ']='SIN COMPORTAMIENTO'\n",
    "igc['Canal B2B'][igc['Canal B2B']==' ']='SIN REGISTRO'\n",
    "igc['Vector Cualitativo Contrato'].fillna('SIN COMPORTAMIENTO',inplace=True)\n",
    "igc['Analisis Vector']=igc['Analisis Vector'].str.strip()\n",
    "igc['Perfil Digital'][igc['Perfil Digital']==' ']='SIN PERFIL'\n",
    "igc['Perfil Digital'].fillna('SIN PERFIL',inplace=True)\n",
    "# igc['Estado Localización'].fillna('SIN REGISTRO',inplace=True)\n",
    "# igc['Estado Localización']=igc['Estado Localización'].str.strip()\n",
    "igc['Mora 150']=igc['Mora 150'].astype(float)\n",
    "igc['Mora 180']=igc['Mora 180'].astype(float)\n",
    "igc['Mora 30']=igc['Mora 30'].astype(float)\n",
    "igc['Mora 60']=igc['Mora 60'].astype(float)\n",
    "igc['Mora 90']=igc['Mora 90'].astype(float)\n",
    "igc['Mora 120']=igc['Mora 120'].astype(float)\n",
    "igc['Mora 210']=igc['Mora 210'].astype(float)\n",
    "# igc['Total'].fillna('0',inplace=True)\n",
    "# igc['Total']=igc['Total'].astype(float)\n",
    "# igc['Cantidad_recontactos_mes']=igc['Cantidad_recontactos_mes'].fillna('0').astype(float)\n",
    "igc['Dias Mora']=igc['Dias Mora'].astype(float)\n",
    "# igc['Valor De Compromiso'][igc['Valor De Compromiso']==' ']=0\n",
    "# igc['Valor De Compromiso']=igc['Valor De Compromiso'].astype('float')\n",
    "# igc['recon_mes']=igc['recon_mes'].fillna('0').astype('float')\n",
    "igc['Canal B2B'][igc['Canal B2B']==' ']='NO REGISTRA'\n",
    "# igc['Descripcion Causal Mora'].fillna('SIN CAUSAL',inplace=True)\n",
    "# igc['Descripcion Causal Mora'][igc['Descripcion Causal Mora']==' ']='SIN CAUSAL'\n",
    "igc.drop(igc.filter(like='echa').columns,axis=1,inplace=True)\n",
    "\n",
    "igc['Monto Financiado_dummy'] = np.where((igc['Monto Financiado']==\" \") | (igc['Monto Financiado']=='0.00'),\"0\",'1').astype(int)\n",
    "igc.drop(['Monto Financiado'],axis=1,inplace=True)\n",
    "igc['Valor a Cobrar']=igc['Valor a Cobrar'].astype(np.float)\n",
    "# igc[\"efectividad\"] = (igc[\"efectividad\"]==\"Pago\").astype(int)\n",
    "\n",
    "igc[\"Validación Recaudo\"] = (igc[\"Validación Recaudo\"]==\"S\").astype(int)\n",
    "igc['ESTATUS1']= (igc['ESTATUS1']==\"B2C MOVIL\").astype(int)\n",
    "# igc['Monto Financiado_dummy'] = np.where((igc['Monto Financiado']==\" \") | (igc['Monto Financiado']=='0.00'),\"0\",'1').astype(int)\n",
    "# igc.drop(['Monto Financiado'],axis=1,inplace=True)\n",
    "igc['Valor a Cobrar']=igc['Valor a Cobrar'].astype(np.float)\n",
    "# igc[\"efectividad\"] = (igc[\"efectividad\"]==\"Pago\").astype(int)\n",
    "igc[\"Estado Cuenta\"] = (igc[\"Estado Cuenta\"]==\"Activo\").astype(int)\n",
    "igc[\"Castigada\"] = (igc[\"Castigada\"]==\"NO\").astype(int)\n",
    "igc['Saldo Vencido']=igc['Saldo Vencido'].astype(float)\n",
    "igc['Saldo']=igc['Saldo'].astype(float)\n",
    "\n",
    "qs=igc['Saldo Vencido'].quantile(0.98)\n",
    "igc['Saldo Vencido']= np.where(igc[\"Saldo Vencido\"] > qs, qs ,igc[\"Saldo Vencido\"])\n",
    "qp=igc['Saldo'].quantile(0.98)\n",
    "igc['Saldo']= np.where(igc[\"Saldo\"] > qp, qp ,igc[\"Saldo\"])\n",
    "igc['saldo_ratio']=igc['Saldo']/igc['Saldo Vencido']\n",
    "igc.drop(['Saldo Vencido','Saldo'],axis=1,inplace=True)\n",
    "igc.drop(['Mora 90','Mora 150','Mora 180','Mora 210','Identificación', 'Identificación','No. Cuotas Pactadas','No. Facturas Vencidas','Referencia Pago'],axis=1,inplace=True)\n",
    "# igc.drop(elimiar,axis=1,inplace=True)\n",
    "igc['No. Cuotas Facturadas']=pd.to_numeric(igc['No. Cuotas Facturadas'],errors='coerce').fillna(igc['No. Cuotas Facturadas'].mode)"
   ]
  },
  {
   "cell_type": "code",
   "execution_count": 8,
   "id": "5245dcc0",
   "metadata": {},
   "outputs": [],
   "source": [
    "igc['Calificacion Vector Cliente']=pd.to_numeric(igc['Calificacion Vector Cliente'],errors='coerce')\n",
    "igc['Calificacion Vector Cliente'].fillna(igc['Calificacion Vector Cliente'].median(),inplace=True)\n",
    "igc['Calificacion Vector Servicio'].fillna(igc['Calificacion Vector Servicio'].median(),inplace=True)\n",
    "igc.drop(['Descripcion Mejor Codigo Gestion','Billing Progress','Mora 300',\n",
    "        'llave','Ciclo','Calificacion Vector Servicio','Departamento'],axis=1,inplace=True)"
   ]
  },
  {
   "cell_type": "code",
   "execution_count": 9,
   "id": "4ef55aa8",
   "metadata": {},
   "outputs": [
    {
     "data": {
      "text/plain": [
       "<AxesSubplot:>"
      ]
     },
     "execution_count": 9,
     "metadata": {},
     "output_type": "execute_result"
    },
    {
     "data": {
      "image/png": "[encoded data removed]",
      "text/plain": [
       "<Figure size 432x288 with 2 Axes>"
      ]
     },
     "metadata": {
      "needs_background": "light"
     },
     "output_type": "display_data"
    }
   ],
   "source": [
    "sns.heatmap(igc.corr())"
   ]
  },
  {
   "cell_type": "code",
   "execution_count": 10,
   "id": "ed191c5a",
   "metadata": {},
   "outputs": [],
   "source": [
    "cols=['Valor a Cobrar','Dias Mora',\n",
    "        'Calificacion Vector Cliente',\n",
    "        'DIAS SIN GESTION','No. Cuotas Facturadas']\n",
    "igc['No. Cuotas Facturadas']=pd.to_numeric(igc['No. Cuotas Facturadas'],errors='coerce').fillna(0)\n",
    "igc['No. Cuotas Facturadas']=igc['No. Cuotas Facturadas'].astype(float)\n",
    "igc[igc.filter(like='Mora ').columns]=igc[igc.filter(like='Mora ').columns].astype(float)"
   ]
  },
  {
   "cell_type": "code",
   "execution_count": 11,
   "id": "064c89d3",
   "metadata": {},
   "outputs": [
    {
     "name": "stderr",
     "output_type": "stream",
     "text": [
      "C:\\Users\\scadacat\\AppData\\Local\\Temp/ipykernel_11928/1113345845.py:6: SettingWithCopyWarning: \n",
      "A value is trying to be set on a copy of a slice from a DataFrame\n",
      "\n",
      "See the caveats in the documentation: https://pandas.pydata.org/pandas-docs/stable/user_guide/indexing.html#returning-a-view-versus-a-copy\n",
      "  igc['Autopago'][igc['Autopago']=='Convergente']=np.nan\n",
      "C:\\Users\\scadacat\\AppData\\Local\\Temp/ipykernel_11928/1113345845.py:7: SettingWithCopyWarning: \n",
      "A value is trying to be set on a copy of a slice from a DataFrame\n",
      "\n",
      "See the caveats in the documentation: https://pandas.pydata.org/pandas-docs/stable/user_guide/indexing.html#returning-a-view-versus-a-copy\n",
      "  igc['Autopago'][igc['Autopago']==' ']=np.nan\n",
      "C:\\Users\\scadacat\\AppData\\Local\\Temp/ipykernel_11928/1113345845.py:9: SettingWithCopyWarning: \n",
      "A value is trying to be set on a copy of a slice from a DataFrame\n",
      "\n",
      "See the caveats in the documentation: https://pandas.pydata.org/pandas-docs/stable/user_guide/indexing.html#returning-a-view-versus-a-copy\n",
      "  igc['Canal B2B'][igc['Canal B2B']=='nan']=np.nan\n",
      "C:\\Users\\scadacat\\AppData\\Local\\Temp/ipykernel_11928/1113345845.py:11: SettingWithCopyWarning: \n",
      "A value is trying to be set on a copy of a slice from a DataFrame\n",
      "\n",
      "See the caveats in the documentation: https://pandas.pydata.org/pandas-docs/stable/user_guide/indexing.html#returning-a-view-versus-a-copy\n",
      "  igc['Canal B2B'][igc['Canal B2B']=='nan']=np.nan\n",
      "C:\\Users\\scadacat\\AppData\\Local\\Temp/ipykernel_11928/1113345845.py:13: SettingWithCopyWarning: \n",
      "A value is trying to be set on a copy of a slice from a DataFrame\n",
      "\n",
      "See the caveats in the documentation: https://pandas.pydata.org/pandas-docs/stable/user_guide/indexing.html#returning-a-view-versus-a-copy\n",
      "  igc['Antiguedad de Producto'][igc['Antiguedad de Producto']=='nan']=np.nan\n",
      "C:\\Users\\scadacat\\AppData\\Local\\Temp/ipykernel_11928/1113345845.py:15: SettingWithCopyWarning: \n",
      "A value is trying to be set on a copy of a slice from a DataFrame\n",
      "\n",
      "See the caveats in the documentation: https://pandas.pydata.org/pandas-docs/stable/user_guide/indexing.html#returning-a-view-versus-a-copy\n",
      "  igc['Marca Portafolio'][igc['Marca Portafolio']=='nan']=np.nan\n",
      "C:\\Users\\scadacat\\AppData\\Local\\Temp/ipykernel_11928/1113345845.py:16: SettingWithCopyWarning: \n",
      "A value is trying to be set on a copy of a slice from a DataFrame\n",
      "\n",
      "See the caveats in the documentation: https://pandas.pydata.org/pandas-docs/stable/user_guide/indexing.html#returning-a-view-versus-a-copy\n",
      "  igc['Marca Portafolio'][igc['Marca Portafolio']=='']=np.nan\n",
      "C:\\Users\\scadacat\\AppData\\Local\\Temp/ipykernel_11928/1113345845.py:19: SettingWithCopyWarning: \n",
      "A value is trying to be set on a copy of a slice from a DataFrame\n",
      "\n",
      "See the caveats in the documentation: https://pandas.pydata.org/pandas-docs/stable/user_guide/indexing.html#returning-a-view-versus-a-copy\n",
      "  igc['Tipificacion Cliente'][igc['Tipificacion Cliente']=='nan']='SIN REGISTRO'\n"
     ]
    }
   ],
   "source": [
    "dic_ges={'COMPROMISO DE PAGO':'PROMESA DE PAGO',\n",
    "         'MENSAJE CON TERCEROS CASA':'SE DEJO MENSAJE CON TERCERO',\n",
    "        'PAGO REALIZADO':'YA PAGO','Ã±':'NA'}\n",
    "igc['Desc_codigo_ult_ges']=igc['Desc_codigo_ult_ges'].str.upper().replace(dic_ges).str.replace('Ã±','N').str.lstrip().str.replace('Ñ','N')\n",
    "igc['des_traslado']=igc['des_traslado'].str.upper().str.replace('(.*)\\_.*', '\\\\1').str.lstrip()\n",
    "igc['Autopago'][igc['Autopago']=='Convergente']=np.nan\n",
    "igc['Autopago'][igc['Autopago']==' ']=np.nan\n",
    "igc['Tipo Documento']=np.where(igc['Tipo Documento'].isin(['CC','NIT','CE']),igc['Tipo Documento'],\"CC\")\n",
    "igc['Canal B2B'][igc['Canal B2B']=='nan']=np.nan\n",
    "igc['Canal B2B'].fillna('SIN REGISTRO',inplace=True)\n",
    "igc['Canal B2B'][igc['Canal B2B']=='nan']=np.nan\n",
    "igc['Canal B2B'].fillna('SIN REGISTRO',inplace=True)\n",
    "igc['Antiguedad de Producto'][igc['Antiguedad de Producto']=='nan']=np.nan\n",
    "igc['Antiguedad de Producto'].fillna('SIN REGISTRO',inplace=True)\n",
    "igc['Marca Portafolio'][igc['Marca Portafolio']=='nan']=np.nan\n",
    "igc['Marca Portafolio'][igc['Marca Portafolio']=='']=np.nan\n",
    "igc['Marca Portafolio'].fillna('SIN REGISTRO',inplace=True)\n",
    "igc['Marca Portafolio']=igc['Marca Portafolio'].str.replace('_',' ')\n",
    "igc['Tipificacion Cliente'][igc['Tipificacion Cliente']=='nan']='SIN REGISTRO'\n",
    "igc['Autopago'] = (igc['Autopago']==\"TC\").astype(int)\n",
    "#Columna antes de concatenar\n",
    "antes_consoli=pd.read_csv(r'D:\\Proyecto Movil\\Modelo 2\\columnas_antes_consolidar.csv',sep=',')\n",
    "lista=antes_consoli['0'].to_list()\n",
    "lista.remove('Efectivo_data')\n",
    "igc=igc[lista]\n",
    "listaa=pd.read_csv(r'D:\\Proyecto Movil\\Modelo 2\\listas_isin_des_ult_ges.csv')\n",
    "listaa=listaa['0'].to_list()\n",
    "igc['Desc_codigo_ult_ges']=np.where(igc['Desc_codigo_ult_ges'].isin(listaa),igc['Desc_codigo_ult_ges'],\"OTRA GESTION\")\n",
    "listaa2=pd.read_csv(r'D:\\Proyecto Movil\\Modelo 2\\listas_isin_vector.csv')\n",
    "listaa2=listaa2['0'].to_list()\n",
    "igc['Analisis Vector']=np.where(igc['Analisis Vector'].isin(listaa2),igc['Analisis Vector'],\"OTRO VECTOR\")"
   ]
  },
  {
   "cell_type": "code",
   "execution_count": 12,
   "id": "49def4c5",
   "metadata": {},
   "outputs": [
    {
     "name": "stdout",
     "output_type": "stream",
     "text": [
      "Tipos de variables 0\n",
      "int32       7\n",
      "float64    15\n",
      "object     14\n",
      "dtype: int64\n",
      "Tipos de variables luego de reemplazo 0\n",
      "int32       7\n",
      "float64    15\n",
      "object     14\n",
      "dtype: int64\n"
     ]
    }
   ],
   "source": [
    "types = pd.DataFrame(igc.dtypes)\n",
    "print(\"Tipos de variables\", types.groupby(0).size())\n",
    "\n",
    "consolidado = igc.replace({False: 0, True: 1})\n",
    "types = pd.DataFrame(consolidado.dtypes)\n",
    "print(\"Tipos de variables luego de reemplazo\",types.groupby(0).size())"
   ]
  },
  {
   "cell_type": "code",
   "execution_count": 13,
   "id": "27fdfcd3",
   "metadata": {},
   "outputs": [
    {
     "name": "stdout",
     "output_type": "stream",
     "text": [
      "La variable Desc_codigo_ult_ges contiene: 12 distinct values\n",
      "La variable Perfil Digital contiene: 6 distinct values\n",
      "La variable Vector Cualitativo Contrato contiene: 5 distinct values\n",
      "La variable Analisis Vector contiene: 16 distinct values\n",
      "La variable Tipificacion Cliente contiene: 4 distinct values\n",
      "La variable Edad de Mora contiene: 5 distinct values\n",
      "La variable Tipo Plan contiene: 7 distinct values\n",
      "La variable Tipo Inventario contiene: 5 distinct values\n",
      "La variable Tipo Documento contiene: 3 distinct values\n",
      "La variable des_traslado contiene: 6 distinct values\n",
      "La variable Canal B2B contiene: 6 distinct values\n",
      "La variable Marca Portafolio contiene: 7 distinct values\n",
      "La variable Antiguedad de Producto contiene: 4 distinct values\n",
      "La variable Cod. Status Billing contiene: 2 distinct values\n"
     ]
    }
   ],
   "source": [
    "categoricas = types.index[types[0] == 'O'].values\n",
    "for line in categoricas:\n",
    " print(\"La variable \"+ line +\" contiene:\",str(len(consolidado[line].unique()))+\" distinct values\")"
   ]
  },
  {
   "cell_type": "code",
   "execution_count": 14,
   "id": "3531e668",
   "metadata": {},
   "outputs": [],
   "source": [
    "from sklearn.preprocessing import LabelEncoder, OneHotEncoder\n",
    "#Se define función que captura el dataframe y la columna para retornar un dataframe luego de OHE\n",
    "def crea_OneHotEncoding(df, columna):\n",
    "  le = LabelEncoder()\n",
    "  le_ajustado=le.fit_transform(df[columna]).reshape(-1,1)\n",
    "  encoder = OneHotEncoder(sparse=False)\n",
    "  column = [columna+ \"_\"+ str(i) for i in le.classes_]\n",
    "  data = encoder.fit_transform(le_ajustado)\n",
    "  return(pd.DataFrame(data,columns =column))"
   ]
  },
  {
   "cell_type": "code",
   "execution_count": 15,
   "id": "b71591a7",
   "metadata": {},
   "outputs": [
    {
     "name": "stdout",
     "output_type": "stream",
     "text": [
      "Columna  Desc_codigo_ult_ges  transformada!\n",
      "Columna  Perfil Digital  transformada!\n",
      "Columna  Vector Cualitativo Contrato  transformada!\n",
      "Columna  Analisis Vector  transformada!\n",
      "Columna  Tipificacion Cliente  transformada!\n",
      "Columna  Edad de Mora  transformada!\n",
      "Columna  Tipo Plan  transformada!\n",
      "Columna  Tipo Inventario  transformada!\n",
      "Columna  Tipo Documento  transformada!\n",
      "Columna  des_traslado  transformada!\n",
      "Columna  Canal B2B  transformada!\n",
      "Columna  Marca Portafolio  transformada!\n",
      "Columna  Antiguedad de Producto  transformada!\n",
      "Columna  Cod. Status Billing  transformada!\n",
      "Tamaño final del dataset transformado: (14417, 124)\n"
     ]
    }
   ],
   "source": [
    "numeric_columns = list(set(types.index[types[0] !=\"Object\"].values))\n",
    "variables_consolidadas = consolidado[numeric_columns]\n",
    "# objetivo = consolidado[\"Efectivo_data\"]\n",
    "\n",
    "categoricas = types.index[types[0] == 'O'].values\n",
    "for column in categoricas:\n",
    "  df = crea_OneHotEncoding(consolidado,column)\n",
    "  variables_consolidadas = pd.concat([variables_consolidadas,df],axis=1)\n",
    "  print(\"Columna \",column, \" transformada!\")\n",
    "\n",
    "print(\"Tamaño final del dataset transformado:\",variables_consolidadas.shape)"
   ]
  },
  {
   "cell_type": "code",
   "execution_count": 16,
   "id": "df5755db",
   "metadata": {},
   "outputs": [],
   "source": [
    "# columnas['0'].to_list().remove('Efectivo_data')\n",
    "# lista=columnas['0'].to_list().remove('Efectivo_data')\n",
    "# columnas['0'].to_list().remove('Efectivo_data')\n",
    "# variables_consolidadas[columnas['0'].to_list()]"
   ]
  },
  {
   "cell_type": "code",
   "execution_count": 17,
   "id": "c4c9d2bf",
   "metadata": {},
   "outputs": [],
   "source": [
    "### Importo igc \n",
    "### ------->> \n",
    "mobile=pd.read_parquet(r\"D:\\Proyecto Movil\\Modelo 2\\df_mobile.parquet.gzip\")"
   ]
  },
  {
   "cell_type": "code",
   "execution_count": 18,
   "id": "bd8541a8",
   "metadata": {},
   "outputs": [],
   "source": [
    "qc=mobile['Valor a Cobrar'].quantile(0.982)\n",
    "variables_consolidadas['Valor a Cobrar']= np.where(variables_consolidadas[\"Valor a Cobrar\"] > qc, qc ,variables_consolidadas[\"Valor a Cobrar\"])\n",
    "#\n",
    "pd=mobile['Dias Mora'].quantile(0.99)\n",
    "variables_consolidadas['Dias Mora']= np.where(variables_consolidadas['Dias Mora'] > pd, pd ,variables_consolidadas['Dias Mora'])\n",
    "# nv=variables_consolidadas['No. Facturas Vencidas'].quantile(0.99)\n",
    "# variables_consolidadas['No. Facturas Vencidas']= np.where(variables_consolidadas['No. Facturas Vencidas'] > nv, nv ,variables_consolidadas['No. Facturas Vencidas'])\n",
    "m14=mobile['DIAS SIN GESTION'].quantile(0.98)\n",
    "variables_consolidadas['DIAS SIN GESTION']= np.where(variables_consolidadas['DIAS SIN GESTION'] > m14, m14 ,variables_consolidadas['DIAS SIN GESTION'])\n",
    "m16=mobile['Mora 60'].quantile(0.90)\n",
    "variables_consolidadas['Mora 60']= np.where(variables_consolidadas['Mora 60'] > m16, m16 ,variables_consolidadas['Mora 60'])\n",
    "\n",
    "m17=mobile['Mora 120'].quantile(0.90)\n",
    "variables_consolidadas['Mora 120']= np.where(variables_consolidadas['Mora 120'] > m17, m17 ,variables_consolidadas['Mora 120'])\n",
    "\n",
    "m30=mobile['Mora 30'].quantile(0.90)\n",
    "variables_consolidadas['Mora 30']= np.where(variables_consolidadas['Mora 30'] > m30, m30 ,variables_consolidadas['Mora 30'])\n",
    "m30=mobile['saldo_ratio'].quantile(0.85)\n",
    "variables_consolidadas['saldo_ratio']= np.where(variables_consolidadas['saldo_ratio'] > m30, m30 ,variables_consolidadas['saldo_ratio'])"
   ]
  },
  {
   "cell_type": "code",
   "execution_count": 19,
   "id": "d40b9693",
   "metadata": {},
   "outputs": [],
   "source": [
    "variables_consolidadas['meses_desde_creacion'].fillna(variables_consolidadas['meses_desde_creacion'].median(),inplace=True)\n",
    "variables_consolidadas['saldo_ratio']=variables_consolidadas['saldo_ratio'].replace([np.inf, -np.inf], np.nan)\n",
    "variables_consolidadas['saldo_ratio'].fillna(variables_consolidadas['saldo_ratio'].median(),inplace=True)\n",
    "variables_consolidadas['saldo_ratio_log']=(variables_consolidadas['saldo_ratio']+1).transform(np.log).fillna((variables_consolidadas['saldo_ratio']+1).transform(np.log).median())\n",
    "variables_consolidadas['Dias Mora_log']=(variables_consolidadas['Dias Mora']-variables_consolidadas['Dias Mora'].min()+1).transform(np.log)"
   ]
  },
  {
   "cell_type": "code",
   "execution_count": 20,
   "id": "568baed1",
   "metadata": {},
   "outputs": [],
   "source": [
    "# pd.read_csv(\"D:\\Proyecto Movil\\Modelo 2\\columnas.csv\") ### ### \"D:\\Proyecto Movil\\Modelo 2\\columnas.csv\""
   ]
  },
  {
   "cell_type": "code",
   "execution_count": 21,
   "id": "532af2e4",
   "metadata": {},
   "outputs": [],
   "source": [
    "import pandas as pd\n",
    "columnas=pd.read_csv(r\"D:\\Proyecto Movil\\Modelo 2\\columnas.csv\",sep=';',encoding='utf-8',nrows=10)"
   ]
  },
  {
   "cell_type": "code",
   "execution_count": 22,
   "id": "16554487",
   "metadata": {},
   "outputs": [],
   "source": [
    "columnas2=pd.read_csv(r\"D:\\Proyecto Movil\\Modelo 2\\columnas.csv\")"
   ]
  },
  {
   "cell_type": "code",
   "execution_count": 23,
   "id": "7b63012a",
   "metadata": {},
   "outputs": [],
   "source": [
    "# lista=train_data_X.columns.to_list()\n",
    "lista=columnas2['0'].to_list()\n",
    "# lista.remove('Unnamed: 0')\n",
    "d=(set(lista)-set(variables_consolidadas.columns))\n",
    "# lista=train_data_X.columns.to_list()\n",
    "lista=columnas2['0'].to_list()\n",
    "# lista.remove('Unnamed: 0')\n",
    "d=(set(lista)-set(variables_consolidadas.columns))"
   ]
  },
  {
   "cell_type": "code",
   "execution_count": 24,
   "id": "e28257f9",
   "metadata": {},
   "outputs": [],
   "source": [
    "dictionary = dict.fromkeys(d, 0)\n",
    "pd.DataFrame(dictionary.items()).T#.reset_index()\n",
    "dictionary=pd.DataFrame(dictionary.items()).T\n",
    "dictionary  = dictionary[dictionary.index.isin([0])]\n",
    "dictionary=pd.DataFrame(dictionary,columns=list(d))\n",
    "dictionary.dropna(inplace=True)\n",
    "variables_consolidadas=pd.concat([variables_consolidadas,dictionary],axis=1)"
   ]
  },
  {
   "cell_type": "code",
   "execution_count": 25,
   "id": "7719dea7",
   "metadata": {},
   "outputs": [],
   "source": [
    "# variables_consolidadas.dropna(subset=['Marca Portafolio'],inplace=True)"
   ]
  },
  {
   "cell_type": "code",
   "execution_count": 26,
   "id": "ee4302e9",
   "metadata": {},
   "outputs": [],
   "source": [
    "variables_consolidadas[dictionary.columns]=variables_consolidadas[dictionary.columns].fillna(0)"
   ]
  },
  {
   "cell_type": "code",
   "execution_count": 27,
   "id": "968c0801",
   "metadata": {},
   "outputs": [],
   "source": [
    "scaler = StandardScaler()\n",
    "variables_consolidadas[['Calificacion Vector Cliente','DIAS SIN GESTION_act',\n",
    "    'DIAS SIN GESTION','Mora 60','Mora 120','Mora 30','saldo_ratio',\n",
    "    'Dias Mora','meses_desde_creacion','Valor a Cobrar']]=\\\n",
    "        scaler.fit_transform(\n",
    "            variables_consolidadas[['Calificacion Vector Cliente','DIAS SIN GESTION_act',\n",
    "    'DIAS SIN GESTION','Mora 60','Mora 120','Mora 30','saldo_ratio',\n",
    "    'Dias Mora','meses_desde_creacion',\n",
    "  'Valor a Cobrar']])"
   ]
  },
  {
   "cell_type": "code",
   "execution_count": 28,
   "id": "73aad044",
   "metadata": {},
   "outputs": [],
   "source": [
    "# variables_consolidadas.drop(['Canal B2B_SIN REGISTRO',\n",
    "#                             'Canal B2B_SIN REGISTRO','Tipo Inventario_Cliente B2B',\n",
    "#                             'Cod. Status Billing_10103','Desc_codigo_ult_ges_PROMESA DE PAGO','Antiguedad de Producto_Antigua',\n",
    "#                             'Tipo Documento_NIT','Analisis Vector_PAGO OPORTUNO','Cod. Status Billing_10102',\n",
    "#                             'des_traslado_Prejuridica 120','Tipificacion Cliente_SIN REGISTRO',\n",
    "#                             'Desc_codigo_ult_ges_RETIRO POR CUMPLIMIENTO DE CRITERIOS','Tipificacion Cliente_SERVICIO RETIRADO',\n",
    "#                             'Tipo Documento_NIT','Tipo Inventario_Tradicional',\n",
    "#                             'Mora 60','Mora 30','Tipo Documento_CC',\n",
    "#                             'Analisis Vector_SIN VECTOR','Edad de Mora_Mora > 360','Vector Cualitativo Contrato_SIN COMPORTAMIENTO',\n",
    "#                             'Canal B2B_MICRO/SMALL','Edad de Mora_Mora 120','Mora 270','Mora 240',\n",
    "#                             'Desc_codigo_ult_ges_RETIRO POR CUMPLIMIENTO DE CRITERIOS','Autopago_nan'],axis=1,inplace=True)\n",
    "# variables_consolidadas.drop(categoricas,axis=1,inplace=True)"
   ]
  },
  {
   "cell_type": "code",
   "execution_count": 29,
   "id": "59e0f451",
   "metadata": {},
   "outputs": [],
   "source": [
    "from xgboost import XGBClassifier\n",
    "from sklearn.ensemble import RandomForestClassifier\n",
    "from sklearn.metrics import confusion_matrix, precision_score, recall_score, f1_score,accuracy_score,make_scorer\n",
    "from sklearn.model_selection import train_test_split, cross_val_predict\n",
    "from sklearn.model_selection import StratifiedKFold,RandomizedSearchCV,train_test_split,cross_val_score,KFold,GridSearchCV\n",
    "import pickle\n",
    "os.chdir(r\"D:\\Proyecto Movil\\Modelo 2\")\n",
    "xgb_model_loaded = XGBClassifier(seed=10)\n",
    "\n",
    "file_name=\"xgb_mod_v2.pkl\"\n",
    "\n",
    "xgb_model_loaded = pickle.load(open(file_name, \"rb\"))"
   ]
  },
  {
   "cell_type": "code",
   "execution_count": 30,
   "id": "cc16db84",
   "metadata": {},
   "outputs": [],
   "source": [
    "variables_consolidadas.drop(list(set(columnas2['0'].to_list())-set(variables_consolidadas.columns)),axis=1,inplace=True)\n",
    "variables_consolidadas.drop(categoricas,axis=1,inplace=True)"
   ]
  },
  {
   "cell_type": "code",
   "execution_count": 31,
   "id": "29f02ddc",
   "metadata": {},
   "outputs": [],
   "source": [
    "# list(set(variables_consolidadas.columns)-set(columnas.columns))\n",
    "# variables_consolidadas.drop(list(set(variables_consolidadas.columns)-set(columnas.columns)),axis=1,inplace=True)\n",
    "# set(variables_consolidadas.columns)-set(columnas.columns)\n",
    "# xgb_model_loaded.predict_proba(variables_consolidadas)[:,1]\n",
    "# variables_consolidadas.drop([',0'],axis=1,inplace=True)"
   ]
  },
  {
   "cell_type": "code",
   "execution_count": 32,
   "id": "434696a3",
   "metadata": {},
   "outputs": [],
   "source": [
    "prediction=xgb_model_loaded.predict_proba(variables_consolidadas[lista])[:,1]"
   ]
  },
  {
   "cell_type": "code",
   "execution_count": 33,
   "id": "efe624ea",
   "metadata": {},
   "outputs": [
    {
     "data": {
      "text/plain": [
       "(14417, 137)"
      ]
     },
     "execution_count": 33,
     "metadata": {},
     "output_type": "execute_result"
    }
   ],
   "source": [
    "variables_consolidadas.shape"
   ]
  },
  {
   "cell_type": "code",
   "execution_count": 34,
   "id": "d7094e94",
   "metadata": {},
   "outputs": [],
   "source": [
    "variables_consolidadas['pred']=prediction"
   ]
  },
  {
   "cell_type": "code",
   "execution_count": 35,
   "id": "d321dc5f",
   "metadata": {},
   "outputs": [],
   "source": [
    "# variables_consolidadas[variables_consolidadas.filter(like='Desc_codigo').columns]"
   ]
  },
  {
   "cell_type": "code",
   "execution_count": 36,
   "id": "ff2e12ca",
   "metadata": {},
   "outputs": [
    {
     "data": {
      "text/plain": [
       "<AxesSubplot:>"
      ]
     },
     "execution_count": 36,
     "metadata": {},
     "output_type": "execute_result"
    },
    {
     "data": {
      "image/png": "[encoded data removed]",
      "text/plain": [
       "<Figure size 432x288 with 1 Axes>"
      ]
     },
     "metadata": {
      "needs_background": "light"
     },
     "output_type": "display_data"
    }
   ],
   "source": [
    "variables_consolidadas['pred'].hist()"
   ]
  },
  {
   "cell_type": "code",
   "execution_count": 37,
   "id": "8af3ea2d",
   "metadata": {},
   "outputs": [
    {
     "name": "stdout",
     "output_type": "stream",
     "text": [
      "Y:/Stiven/Movil/Cobranzas_movil_(Despliegue)/Download_folder_Adminfo/20211229_IGC.zip Cargado!\n"
     ]
    }
   ],
   "source": [
    "igc = open_files_hoy([path]) "
   ]
  },
  {
   "cell_type": "code",
   "execution_count": 38,
   "id": "d44f204a",
   "metadata": {},
   "outputs": [
    {
     "data": {
      "text/html": [
       "<div>\n",
       "<style scoped>\n",
       "    .dataframe tbody tr th:only-of-type {\n",
       "        vertical-align: middle;\n",
       "    }\n",
       "\n",
       "    .dataframe tbody tr th {\n",
       "        vertical-align: top;\n",
       "    }\n",
       "\n",
       "    .dataframe thead th {\n",
       "        text-align: right;\n",
       "    }\n",
       "</style>\n",
       "<table border=\"1\" class=\"dataframe\">\n",
       "  <thead>\n",
       "    <tr style=\"text-align: right;\">\n",
       "      <th></th>\n",
       "      <th>Referencia Pago</th>\n",
       "      <th>Movil</th>\n",
       "      <th>Identificación</th>\n",
       "      <th>Calificacion Vector Servicio</th>\n",
       "      <th>Analisis Vector</th>\n",
       "    </tr>\n",
       "  </thead>\n",
       "  <tbody>\n",
       "    <tr>\n",
       "      <th>0</th>\n",
       "      <td>8925747780</td>\n",
       "      <td>3005550305</td>\n",
       "      <td>71365056</td>\n",
       "      <td>42</td>\n",
       "      <td>3 SUSPENSION ULTIMOS 6 MESES</td>\n",
       "    </tr>\n",
       "  </tbody>\n",
       "</table>\n",
       "</div>"
      ],
      "text/plain": [
       "  Referencia Pago       Movil Identificación Calificacion Vector Servicio  \\\n",
       "0      8925747780  3005550305       71365056                           42   \n",
       "\n",
       "                Analisis Vector  \n",
       "0  3 SUSPENSION ULTIMOS 6 MESES  "
      ]
     },
     "execution_count": 38,
     "metadata": {},
     "output_type": "execute_result"
    }
   ],
   "source": [
    "igc[['Referencia Pago','Movil','Identificación','Calificacion Vector Servicio','Analisis Vector']].head(1)"
   ]
  },
  {
   "cell_type": "code",
   "execution_count": 40,
   "id": "3e485a14",
   "metadata": {},
   "outputs": [],
   "source": [
    "df=pd.concat([igc[['Referencia Pago','Movil','Identificación']],variables_consolidadas['pred']],axis=1)"
   ]
  },
  {
   "cell_type": "code",
   "execution_count": 42,
   "id": "8576ba78",
   "metadata": {},
   "outputs": [],
   "source": [
    "path=\"Y:\\Stiven\\Movil\\Cobranzas_movil_(Despliegue)\\Salidas\\Modelo_v1_mobile{}.csv\".format(now)"
   ]
  },
  {
   "cell_type": "code",
   "execution_count": 43,
   "id": "1357aaca",
   "metadata": {},
   "outputs": [],
   "source": [
    "df.to_csv(path,sep=';',encoding='utf-8')"
   ]
  }
 ],
 "metadata": {
  "interpreter": {
   "hash": "b3ba2566441a7c06988d0923437866b63cedc61552a5af99d1f4fb67d367b25f"
  },
  "kernelspec": {
   "display_name": "Python 3.7.9 64-bit ('procesos': conda)",
   "language": "python",
   "name": "python3"
  },
  "language_info": {
   "codemirror_mode": {
    "name": "ipython",
    "version": 3
   },
   "file_extension": ".py",
   "mimetype": "text/x-python",
   "name": "python",
   "nbconvert_exporter": "python",
   "pygments_lexer": "ipython3",
   "version": "3.9.7"
  }
 },
 "nbformat": 4,
 "nbformat_minor": 5
}
